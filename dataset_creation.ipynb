{
 "cells": [
  {
   "cell_type": "markdown",
   "metadata": {},
   "source": [
    "## Dataset Creation"
   ]
  },
  {
   "cell_type": "code",
   "execution_count": 2,
   "metadata": {},
   "outputs": [],
   "source": [
    "import numpy as np\n",
    "import matplotlib.pyplot as plt\n",
    "\n",
    "import librosa\n",
    "\n",
    "import tensorflow as tf\n",
    "import pandas as pd\n",
    "import keras\n",
    "\n",
    "import os\n",
    "import yaml\n",
    "\n",
    "import skimage.io\n",
    "from tqdm import tqdm\n"
   ]
  },
  {
   "cell_type": "code",
   "execution_count": 3,
   "metadata": {},
   "outputs": [],
   "source": [
    "# Example encoding of a label [1, 1, 0, 1, 0, 0]\n",
    "\n",
    "irmas_labels = [\"cel\", \"cla\", \"flu\", \"gac\", \"sax\", \"tru\", \"vio\"]\n",
    "\n",
    "# Define the labels \n",
    "# cello, clarinet, flute, acoustic guitar, electric guitar, organ, piano, saxophone, trumpet, violin, and human singing voice\n",
    "label_names = [\"cello\", \"clarinet\", \"flute\", \"guitar\", \"saxophone\", \"trumpet\", \"violin\"]\n",
    "n_classes = len(label_names)\n"
   ]
  },
  {
   "cell_type": "code",
   "execution_count": 7,
   "metadata": {},
   "outputs": [
    {
     "name": "stderr",
     "output_type": "stream",
     "text": [
      "Processing Dataset: 100%|██████████| 7/7 [01:08<00:00,  9.85s/it]\n"
     ]
    }
   ],
   "source": [
    "def scale_minmax(X, min=0.0, max=1.0):\n",
    "    X_std = (X - X.min()) / (X.max() - X.min())\n",
    "    X_scaled = X_std * (max - min) + min\n",
    "    return X_scaled\n",
    "\n",
    "def save_spectrogram_image(spectrogram, path):\n",
    "    # min-max scale to fit inside 8-bit range\n",
    "    img = scale_minmax(spectrogram, 0, 255).astype(np.uint8)\n",
    "    img = np.flip(img, axis=0) # put low frequencies at the bottom in image\n",
    "    img = 255-img # invert. make black==more energy\n",
    "    # save as PNG\n",
    "    skimage.io.imsave(path, img)\n",
    "\n",
    "\n",
    "from tqdm import tqdm\n",
    "\n",
    "def wavs_to_imgs(path):\n",
    "    new_path = f\"datasets/IRMAS-TrainingData-images\"\n",
    "\n",
    "    data = []\n",
    "    for label in tqdm(irmas_labels, desc=\"Processing Dataset\"):\n",
    "        label_path = f\"{path}/{label}\"\n",
    "        for filename in os.listdir(label_path):\n",
    "            if filename.endswith(\".wav\"):\n",
    "                file_path = f\"{label_path}/{filename}\"\n",
    "                audio, sr = librosa.load(file_path, sr=None)\n",
    "                D = librosa.amplitude_to_db(np.abs(librosa.stft(y = audio)), ref=np.max)\n",
    "                save_spectrogram_image(D, f\"{new_path}/{label}/{filename}.png\")\n",
    "                \n",
    "wavs_to_imgs(\"datasets/IRMAS-TrainingData\")"
   ]
  },
  {
   "cell_type": "code",
   "execution_count": 5,
   "metadata": {},
   "outputs": [
    {
     "name": "stderr",
     "output_type": "stream",
     "text": [
      "Processing Dataset: 100%|██████████| 7/7 [00:00<00:00, 15.50it/s]\n"
     ]
    }
   ],
   "source": [
    "def scale_minmax(X, min=0.0, max=1.0):\n",
    "    X_std = (X - X.min()) / (X.max() - X.min())\n",
    "    X_scaled = X_std * (max - min) + min\n",
    "    return X_scaled\n",
    "\n",
    "def save_spectrogram_image(spectrogram, path):\n",
    "    # min-max scale to fit inside 8-bit range\n",
    "    img = scale_minmax(spectrogram, 0, 255).astype(np.uint8)\n",
    "    img = np.flip(img, axis=0) # put low frequencies at the bottom in image\n",
    "    img = 255-img # invert. make black==more energy\n",
    "    # save as PNG\n",
    "    skimage.io.imsave(path, img)\n",
    "\n",
    "\n",
    "from tqdm import tqdm\n",
    "\n",
    "def wavs_to_imgs(path):\n",
    "    new_path = f\"datasets/handmade-images\"\n",
    "\n",
    "    data = []\n",
    "    for label in tqdm(irmas_labels, desc=\"Processing Dataset\"):\n",
    "        label_path = f\"{path}/{label}\"\n",
    "        for filename in os.listdir(label_path):\n",
    "            if filename.endswith(\".wav\") or filename.endswith(\".aiff\") or filename.endswith(\".mp3\"):\n",
    "                file_path = f\"{label_path}/{filename}\"\n",
    "                audio, sr = librosa.load(file_path, sr=None)\n",
    "                D = librosa.amplitude_to_db(np.abs(librosa.stft(y = audio[:sr*3])), ref=np.max)\n",
    "                save_spectrogram_image(D, f\"{new_path}/{label}/{filename}.png\")\n",
    "                \n",
    "wavs_to_imgs(\"datasets/handmade\")"
   ]
  },
  {
   "cell_type": "markdown",
   "metadata": {},
   "source": [
    "### Data preparation\n",
    "\n",
    "1. Define classes  \n",
    "2. Read matadata  \n",
    "3. Cut each track in 1s long excerpts \n",
    "4. Create labels for each 1s long excerpt \n",
    "    - For each stem cut in 1s excerpt\n",
    "    - check if RMS > threshold (0.05?) \n",
    "    - set label of that instrument to 1 "
   ]
  },
  {
   "cell_type": "code",
   "execution_count": 4,
   "metadata": {},
   "outputs": [],
   "source": [
    "# Example encoding of a label [1, 1, 0, 1, 0, 0]\n",
    "\n",
    "slakh_mapping_labels = {\n",
    "    \"Bass\": \"bass\",\n",
    "    \"Chromatic Percussion\": \"drums\",\n",
    "    \"Drums\": \"drums\",\n",
    "    \"Percussive\": \"drums\",\n",
    "    \"Guitar\": \"guitar\",\n",
    "    \"Piano\": \"piano\",\n",
    "    \"Organ\": \"other\",\n",
    "    \"Strings\": \"other\",\n",
    "    \"Strings (continued)\": \"other\",\n",
    "    \"Brass\": \"other\",\n",
    "    \"Reed\": \"other\",\n",
    "    \"Pipe\": \"other\",\n",
    "    \"Synth Lead\": \"other\",\n",
    "    \"Synth Pad\": \"other\",\n",
    "    \"Sound Effects\": \"other\",\n",
    "    \"Ethnic\": \"other\",\n",
    "    \"Sound effects\": \"other\",\n",
    "}\n",
    "\n",
    "def map_slakh_labels(label):\n",
    "    return slakh_mapping_labels[label]\n",
    "\n",
    "def label_to_index(label):\n",
    "    return label_names.index(label)\n",
    "\n",
    "label_names = [\"vocal\", \"guitar\", \"bass\", \"drums\", \"piano\",\"other\"]\n",
    "n_labels = len(label_names)\n"
   ]
  },
  {
   "cell_type": "code",
   "execution_count": 5,
   "metadata": {},
   "outputs": [],
   "source": [
    "def scale_minmax(X, min=0.0, max=1.0):\n",
    "    X_std = (X - X.min()) / (X.max() - X.min())\n",
    "    X_scaled = X_std * (max - min) + min\n",
    "    return X_scaled\n",
    "\n",
    "def save_spectrogram_image(spectrogram, path):\n",
    "    # min-max scale to fit inside 8-bit range\n",
    "    img = scale_minmax(spectrogram, 0, 255).astype(np.uint8)\n",
    "    img = np.flip(img, axis=0) # put low frequencies at the bottom in image\n",
    "    img = 255-img # invert. make black==more energy\n",
    "\n",
    "    # save as PNG\n",
    "    skimage.io.imsave(path, img)"
   ]
  },
  {
   "cell_type": "code",
   "execution_count": 6,
   "metadata": {},
   "outputs": [],
   "source": [
    "def read_metadata(metadata_path):\n",
    "    with open(metadata_path, 'r') as file:\n",
    "        return yaml.safe_load(file)\n",
    "    return null\n",
    "\n",
    "def is_present(signal):\n",
    "    energy_presence_threshold = 0.1\n",
    "    return np.any(np.abs(signal) > energy_presence_threshold)  # TODO: Find a better threshold\n",
    "\n",
    "def create_label(metadata, path, name, index, excerpt_length):\n",
    "    # print(f\"Creating labels for {name}\")\n",
    "    label = np.zeros(n_labels)\n",
    "    \n",
    "    for stem in metadata[\"stems\"]:\n",
    "        try:\n",
    "            stem_audio, _ = librosa.load(f\"{path}/stems/{stem}.wav\", sr=None)\n",
    "            stem_excerpt = stem_audio[index:index+excerpt_length]\n",
    "\n",
    "            instrument = metadata[\"stems\"][stem][\"inst_class\"]\n",
    "            \n",
    "            label_name = map_slakh_labels(instrument)\n",
    "            if is_present(stem_excerpt):\n",
    "                label[label_to_index(label_name)] = 1\n",
    "        except:\n",
    "            print(f\"Error reading {stem}\")\n",
    "            continue\n",
    "        \n",
    "    return label\n",
    "\n",
    "\n",
    "def create_spectogram(signal, sr, output_name):\n",
    "    # print(f\"Creating spectograms for {output_name}\")\n",
    "    spectogram_db = feature_extraction(signal, sr)\n",
    "    full_path =  f\"datasets/custom/{output_name}.png\"\n",
    "    save_spectrogram_image(spectogram_db, full_path)\n",
    "    return full_path\n",
    "    \n",
    "\n",
    "def process_mix(df, metadata, mix, sr, path, name, excerpt_length_sec = 5):\n",
    "    excerpt_length = sr * excerpt_length_sec\n",
    "    for index in range(0, len(mix), excerpt_length):\n",
    "        if index + excerpt_length > len(mix):\n",
    "            break\n",
    "\n",
    "        excerpt = mix[index:index+excerpt_length]\n",
    "        output_name = f\"{name}_{index//sr}\"\n",
    "\n",
    "        png_path = create_spectogram(excerpt, sr, output_name)\n",
    "        label = create_label(metadata, path, output_name, index, excerpt_length)\n",
    "\n",
    "        # add row to dataframe with png path and label\n",
    "        df = df._append({'png_path': png_path, 'label': label}, ignore_index=True)\n",
    "\n",
    "    return df\n",
    "    \n",
    "    # save dataframe to csv\n",
    "\n",
    "def feature_extraction(signal, sr):\n",
    "    S = librosa.feature.melspectrogram(y=signal, sr=sr)\n",
    "    S_dB = librosa.power_to_db(S, ref=np.max)\n",
    "    return S_dB"
   ]
  },
  {
   "cell_type": "code",
   "execution_count": 7,
   "metadata": {},
   "outputs": [
    {
     "name": "stdout",
     "output_type": "stream",
     "text": [
      "Processing: datasets/babyslakh_16k/Track00006\n",
      "Processing: datasets/babyslakh_16k/Track00001\n",
      "Error reading S06\n"
     ]
    },
    {
     "name": "stderr",
     "output_type": "stream",
     "text": [
      "/var/folders/9b/646lmqp56b53pz1fqqr9x5gw0000gn/T/ipykernel_85422/370983470.py:16: UserWarning: PySoundFile failed. Trying audioread instead.\n",
      "  stem_audio, _ = librosa.load(f\"{path}/stems/{stem}.wav\", sr=None)\n",
      "/Users/mariapolak/miniconda3/envs/mlme/lib/python3.11/site-packages/librosa/core/audio.py:184: FutureWarning: librosa.core.audio.__audioread_load\n",
      "\tDeprecated as of librosa version 0.10.0.\n",
      "\tIt will be removed in librosa version 1.0.\n",
      "  y, sr_native = __audioread_load(path, offset, duration, dtype)\n",
      "/var/folders/9b/646lmqp56b53pz1fqqr9x5gw0000gn/T/ipykernel_85422/370983470.py:16: UserWarning: PySoundFile failed. Trying audioread instead.\n",
      "  stem_audio, _ = librosa.load(f\"{path}/stems/{stem}.wav\", sr=None)\n",
      "/Users/mariapolak/miniconda3/envs/mlme/lib/python3.11/site-packages/librosa/core/audio.py:184: FutureWarning: librosa.core.audio.__audioread_load\n",
      "\tDeprecated as of librosa version 0.10.0.\n",
      "\tIt will be removed in librosa version 1.0.\n",
      "  y, sr_native = __audioread_load(path, offset, duration, dtype)\n",
      "/var/folders/9b/646lmqp56b53pz1fqqr9x5gw0000gn/T/ipykernel_85422/370983470.py:16: UserWarning: PySoundFile failed. Trying audioread instead.\n",
      "  stem_audio, _ = librosa.load(f\"{path}/stems/{stem}.wav\", sr=None)\n",
      "/Users/mariapolak/miniconda3/envs/mlme/lib/python3.11/site-packages/librosa/core/audio.py:184: FutureWarning: librosa.core.audio.__audioread_load\n",
      "\tDeprecated as of librosa version 0.10.0.\n",
      "\tIt will be removed in librosa version 1.0.\n",
      "  y, sr_native = __audioread_load(path, offset, duration, dtype)\n"
     ]
    },
    {
     "name": "stdout",
     "output_type": "stream",
     "text": [
      "Error reading S06\n",
      "Error reading S06\n"
     ]
    },
    {
     "name": "stderr",
     "output_type": "stream",
     "text": [
      "/var/folders/9b/646lmqp56b53pz1fqqr9x5gw0000gn/T/ipykernel_85422/370983470.py:16: UserWarning: PySoundFile failed. Trying audioread instead.\n",
      "  stem_audio, _ = librosa.load(f\"{path}/stems/{stem}.wav\", sr=None)\n",
      "/Users/mariapolak/miniconda3/envs/mlme/lib/python3.11/site-packages/librosa/core/audio.py:184: FutureWarning: librosa.core.audio.__audioread_load\n",
      "\tDeprecated as of librosa version 0.10.0.\n",
      "\tIt will be removed in librosa version 1.0.\n",
      "  y, sr_native = __audioread_load(path, offset, duration, dtype)\n",
      "/var/folders/9b/646lmqp56b53pz1fqqr9x5gw0000gn/T/ipykernel_85422/370983470.py:16: UserWarning: PySoundFile failed. Trying audioread instead.\n",
      "  stem_audio, _ = librosa.load(f\"{path}/stems/{stem}.wav\", sr=None)\n",
      "/Users/mariapolak/miniconda3/envs/mlme/lib/python3.11/site-packages/librosa/core/audio.py:184: FutureWarning: librosa.core.audio.__audioread_load\n",
      "\tDeprecated as of librosa version 0.10.0.\n",
      "\tIt will be removed in librosa version 1.0.\n",
      "  y, sr_native = __audioread_load(path, offset, duration, dtype)\n"
     ]
    },
    {
     "name": "stdout",
     "output_type": "stream",
     "text": [
      "Error reading S06\n",
      "Error reading S06\n"
     ]
    },
    {
     "name": "stderr",
     "output_type": "stream",
     "text": [
      "/var/folders/9b/646lmqp56b53pz1fqqr9x5gw0000gn/T/ipykernel_85422/370983470.py:16: UserWarning: PySoundFile failed. Trying audioread instead.\n",
      "  stem_audio, _ = librosa.load(f\"{path}/stems/{stem}.wav\", sr=None)\n",
      "/Users/mariapolak/miniconda3/envs/mlme/lib/python3.11/site-packages/librosa/core/audio.py:184: FutureWarning: librosa.core.audio.__audioread_load\n",
      "\tDeprecated as of librosa version 0.10.0.\n",
      "\tIt will be removed in librosa version 1.0.\n",
      "  y, sr_native = __audioread_load(path, offset, duration, dtype)\n",
      "/var/folders/9b/646lmqp56b53pz1fqqr9x5gw0000gn/T/ipykernel_85422/370983470.py:16: UserWarning: PySoundFile failed. Trying audioread instead.\n",
      "  stem_audio, _ = librosa.load(f\"{path}/stems/{stem}.wav\", sr=None)\n",
      "/Users/mariapolak/miniconda3/envs/mlme/lib/python3.11/site-packages/librosa/core/audio.py:184: FutureWarning: librosa.core.audio.__audioread_load\n",
      "\tDeprecated as of librosa version 0.10.0.\n",
      "\tIt will be removed in librosa version 1.0.\n",
      "  y, sr_native = __audioread_load(path, offset, duration, dtype)\n"
     ]
    },
    {
     "name": "stdout",
     "output_type": "stream",
     "text": [
      "Error reading S06\n",
      "Error reading S06\n"
     ]
    },
    {
     "name": "stderr",
     "output_type": "stream",
     "text": [
      "/var/folders/9b/646lmqp56b53pz1fqqr9x5gw0000gn/T/ipykernel_85422/370983470.py:16: UserWarning: PySoundFile failed. Trying audioread instead.\n",
      "  stem_audio, _ = librosa.load(f\"{path}/stems/{stem}.wav\", sr=None)\n",
      "/Users/mariapolak/miniconda3/envs/mlme/lib/python3.11/site-packages/librosa/core/audio.py:184: FutureWarning: librosa.core.audio.__audioread_load\n",
      "\tDeprecated as of librosa version 0.10.0.\n",
      "\tIt will be removed in librosa version 1.0.\n",
      "  y, sr_native = __audioread_load(path, offset, duration, dtype)\n",
      "/var/folders/9b/646lmqp56b53pz1fqqr9x5gw0000gn/T/ipykernel_85422/370983470.py:16: UserWarning: PySoundFile failed. Trying audioread instead.\n",
      "  stem_audio, _ = librosa.load(f\"{path}/stems/{stem}.wav\", sr=None)\n",
      "/Users/mariapolak/miniconda3/envs/mlme/lib/python3.11/site-packages/librosa/core/audio.py:184: FutureWarning: librosa.core.audio.__audioread_load\n",
      "\tDeprecated as of librosa version 0.10.0.\n",
      "\tIt will be removed in librosa version 1.0.\n",
      "  y, sr_native = __audioread_load(path, offset, duration, dtype)\n"
     ]
    },
    {
     "name": "stdout",
     "output_type": "stream",
     "text": [
      "Error reading S06\n",
      "Error reading S06\n"
     ]
    },
    {
     "name": "stderr",
     "output_type": "stream",
     "text": [
      "/var/folders/9b/646lmqp56b53pz1fqqr9x5gw0000gn/T/ipykernel_85422/370983470.py:16: UserWarning: PySoundFile failed. Trying audioread instead.\n",
      "  stem_audio, _ = librosa.load(f\"{path}/stems/{stem}.wav\", sr=None)\n",
      "/Users/mariapolak/miniconda3/envs/mlme/lib/python3.11/site-packages/librosa/core/audio.py:184: FutureWarning: librosa.core.audio.__audioread_load\n",
      "\tDeprecated as of librosa version 0.10.0.\n",
      "\tIt will be removed in librosa version 1.0.\n",
      "  y, sr_native = __audioread_load(path, offset, duration, dtype)\n",
      "/var/folders/9b/646lmqp56b53pz1fqqr9x5gw0000gn/T/ipykernel_85422/370983470.py:16: UserWarning: PySoundFile failed. Trying audioread instead.\n",
      "  stem_audio, _ = librosa.load(f\"{path}/stems/{stem}.wav\", sr=None)\n",
      "/Users/mariapolak/miniconda3/envs/mlme/lib/python3.11/site-packages/librosa/core/audio.py:184: FutureWarning: librosa.core.audio.__audioread_load\n",
      "\tDeprecated as of librosa version 0.10.0.\n",
      "\tIt will be removed in librosa version 1.0.\n",
      "  y, sr_native = __audioread_load(path, offset, duration, dtype)\n"
     ]
    },
    {
     "name": "stdout",
     "output_type": "stream",
     "text": [
      "Error reading S06\n",
      "Error reading S06\n"
     ]
    },
    {
     "name": "stderr",
     "output_type": "stream",
     "text": [
      "/var/folders/9b/646lmqp56b53pz1fqqr9x5gw0000gn/T/ipykernel_85422/370983470.py:16: UserWarning: PySoundFile failed. Trying audioread instead.\n",
      "  stem_audio, _ = librosa.load(f\"{path}/stems/{stem}.wav\", sr=None)\n",
      "/Users/mariapolak/miniconda3/envs/mlme/lib/python3.11/site-packages/librosa/core/audio.py:184: FutureWarning: librosa.core.audio.__audioread_load\n",
      "\tDeprecated as of librosa version 0.10.0.\n",
      "\tIt will be removed in librosa version 1.0.\n",
      "  y, sr_native = __audioread_load(path, offset, duration, dtype)\n",
      "/var/folders/9b/646lmqp56b53pz1fqqr9x5gw0000gn/T/ipykernel_85422/370983470.py:16: UserWarning: PySoundFile failed. Trying audioread instead.\n",
      "  stem_audio, _ = librosa.load(f\"{path}/stems/{stem}.wav\", sr=None)\n",
      "/Users/mariapolak/miniconda3/envs/mlme/lib/python3.11/site-packages/librosa/core/audio.py:184: FutureWarning: librosa.core.audio.__audioread_load\n",
      "\tDeprecated as of librosa version 0.10.0.\n",
      "\tIt will be removed in librosa version 1.0.\n",
      "  y, sr_native = __audioread_load(path, offset, duration, dtype)\n"
     ]
    },
    {
     "name": "stdout",
     "output_type": "stream",
     "text": [
      "Error reading S06\n",
      "Error reading S06\n"
     ]
    },
    {
     "name": "stderr",
     "output_type": "stream",
     "text": [
      "/var/folders/9b/646lmqp56b53pz1fqqr9x5gw0000gn/T/ipykernel_85422/370983470.py:16: UserWarning: PySoundFile failed. Trying audioread instead.\n",
      "  stem_audio, _ = librosa.load(f\"{path}/stems/{stem}.wav\", sr=None)\n",
      "/Users/mariapolak/miniconda3/envs/mlme/lib/python3.11/site-packages/librosa/core/audio.py:184: FutureWarning: librosa.core.audio.__audioread_load\n",
      "\tDeprecated as of librosa version 0.10.0.\n",
      "\tIt will be removed in librosa version 1.0.\n",
      "  y, sr_native = __audioread_load(path, offset, duration, dtype)\n",
      "/var/folders/9b/646lmqp56b53pz1fqqr9x5gw0000gn/T/ipykernel_85422/370983470.py:16: UserWarning: PySoundFile failed. Trying audioread instead.\n",
      "  stem_audio, _ = librosa.load(f\"{path}/stems/{stem}.wav\", sr=None)\n",
      "/Users/mariapolak/miniconda3/envs/mlme/lib/python3.11/site-packages/librosa/core/audio.py:184: FutureWarning: librosa.core.audio.__audioread_load\n",
      "\tDeprecated as of librosa version 0.10.0.\n",
      "\tIt will be removed in librosa version 1.0.\n",
      "  y, sr_native = __audioread_load(path, offset, duration, dtype)\n"
     ]
    },
    {
     "name": "stdout",
     "output_type": "stream",
     "text": [
      "Error reading S06\n",
      "Error reading S06\n"
     ]
    },
    {
     "name": "stderr",
     "output_type": "stream",
     "text": [
      "/var/folders/9b/646lmqp56b53pz1fqqr9x5gw0000gn/T/ipykernel_85422/370983470.py:16: UserWarning: PySoundFile failed. Trying audioread instead.\n",
      "  stem_audio, _ = librosa.load(f\"{path}/stems/{stem}.wav\", sr=None)\n",
      "/Users/mariapolak/miniconda3/envs/mlme/lib/python3.11/site-packages/librosa/core/audio.py:184: FutureWarning: librosa.core.audio.__audioread_load\n",
      "\tDeprecated as of librosa version 0.10.0.\n",
      "\tIt will be removed in librosa version 1.0.\n",
      "  y, sr_native = __audioread_load(path, offset, duration, dtype)\n",
      "/var/folders/9b/646lmqp56b53pz1fqqr9x5gw0000gn/T/ipykernel_85422/370983470.py:16: UserWarning: PySoundFile failed. Trying audioread instead.\n",
      "  stem_audio, _ = librosa.load(f\"{path}/stems/{stem}.wav\", sr=None)\n",
      "/Users/mariapolak/miniconda3/envs/mlme/lib/python3.11/site-packages/librosa/core/audio.py:184: FutureWarning: librosa.core.audio.__audioread_load\n",
      "\tDeprecated as of librosa version 0.10.0.\n",
      "\tIt will be removed in librosa version 1.0.\n",
      "  y, sr_native = __audioread_load(path, offset, duration, dtype)\n"
     ]
    },
    {
     "name": "stdout",
     "output_type": "stream",
     "text": [
      "Error reading S06\n",
      "Error reading S06\n"
     ]
    },
    {
     "name": "stderr",
     "output_type": "stream",
     "text": [
      "/var/folders/9b/646lmqp56b53pz1fqqr9x5gw0000gn/T/ipykernel_85422/370983470.py:16: UserWarning: PySoundFile failed. Trying audioread instead.\n",
      "  stem_audio, _ = librosa.load(f\"{path}/stems/{stem}.wav\", sr=None)\n",
      "/Users/mariapolak/miniconda3/envs/mlme/lib/python3.11/site-packages/librosa/core/audio.py:184: FutureWarning: librosa.core.audio.__audioread_load\n",
      "\tDeprecated as of librosa version 0.10.0.\n",
      "\tIt will be removed in librosa version 1.0.\n",
      "  y, sr_native = __audioread_load(path, offset, duration, dtype)\n",
      "/var/folders/9b/646lmqp56b53pz1fqqr9x5gw0000gn/T/ipykernel_85422/370983470.py:16: UserWarning: PySoundFile failed. Trying audioread instead.\n",
      "  stem_audio, _ = librosa.load(f\"{path}/stems/{stem}.wav\", sr=None)\n",
      "/Users/mariapolak/miniconda3/envs/mlme/lib/python3.11/site-packages/librosa/core/audio.py:184: FutureWarning: librosa.core.audio.__audioread_load\n",
      "\tDeprecated as of librosa version 0.10.0.\n",
      "\tIt will be removed in librosa version 1.0.\n",
      "  y, sr_native = __audioread_load(path, offset, duration, dtype)\n"
     ]
    },
    {
     "name": "stdout",
     "output_type": "stream",
     "text": [
      "Error reading S06\n",
      "Error reading S06\n"
     ]
    },
    {
     "name": "stderr",
     "output_type": "stream",
     "text": [
      "/var/folders/9b/646lmqp56b53pz1fqqr9x5gw0000gn/T/ipykernel_85422/370983470.py:16: UserWarning: PySoundFile failed. Trying audioread instead.\n",
      "  stem_audio, _ = librosa.load(f\"{path}/stems/{stem}.wav\", sr=None)\n",
      "/Users/mariapolak/miniconda3/envs/mlme/lib/python3.11/site-packages/librosa/core/audio.py:184: FutureWarning: librosa.core.audio.__audioread_load\n",
      "\tDeprecated as of librosa version 0.10.0.\n",
      "\tIt will be removed in librosa version 1.0.\n",
      "  y, sr_native = __audioread_load(path, offset, duration, dtype)\n",
      "/var/folders/9b/646lmqp56b53pz1fqqr9x5gw0000gn/T/ipykernel_85422/370983470.py:16: UserWarning: PySoundFile failed. Trying audioread instead.\n",
      "  stem_audio, _ = librosa.load(f\"{path}/stems/{stem}.wav\", sr=None)\n",
      "/Users/mariapolak/miniconda3/envs/mlme/lib/python3.11/site-packages/librosa/core/audio.py:184: FutureWarning: librosa.core.audio.__audioread_load\n",
      "\tDeprecated as of librosa version 0.10.0.\n",
      "\tIt will be removed in librosa version 1.0.\n",
      "  y, sr_native = __audioread_load(path, offset, duration, dtype)\n"
     ]
    },
    {
     "name": "stdout",
     "output_type": "stream",
     "text": [
      "Error reading S06\n",
      "Error reading S06\n"
     ]
    },
    {
     "name": "stderr",
     "output_type": "stream",
     "text": [
      "/var/folders/9b/646lmqp56b53pz1fqqr9x5gw0000gn/T/ipykernel_85422/370983470.py:16: UserWarning: PySoundFile failed. Trying audioread instead.\n",
      "  stem_audio, _ = librosa.load(f\"{path}/stems/{stem}.wav\", sr=None)\n",
      "/Users/mariapolak/miniconda3/envs/mlme/lib/python3.11/site-packages/librosa/core/audio.py:184: FutureWarning: librosa.core.audio.__audioread_load\n",
      "\tDeprecated as of librosa version 0.10.0.\n",
      "\tIt will be removed in librosa version 1.0.\n",
      "  y, sr_native = __audioread_load(path, offset, duration, dtype)\n",
      "/var/folders/9b/646lmqp56b53pz1fqqr9x5gw0000gn/T/ipykernel_85422/370983470.py:16: UserWarning: PySoundFile failed. Trying audioread instead.\n",
      "  stem_audio, _ = librosa.load(f\"{path}/stems/{stem}.wav\", sr=None)\n",
      "/Users/mariapolak/miniconda3/envs/mlme/lib/python3.11/site-packages/librosa/core/audio.py:184: FutureWarning: librosa.core.audio.__audioread_load\n",
      "\tDeprecated as of librosa version 0.10.0.\n",
      "\tIt will be removed in librosa version 1.0.\n",
      "  y, sr_native = __audioread_load(path, offset, duration, dtype)\n"
     ]
    },
    {
     "name": "stdout",
     "output_type": "stream",
     "text": [
      "Error reading S06\n",
      "Error reading S06\n"
     ]
    },
    {
     "name": "stderr",
     "output_type": "stream",
     "text": [
      "/var/folders/9b/646lmqp56b53pz1fqqr9x5gw0000gn/T/ipykernel_85422/370983470.py:16: UserWarning: PySoundFile failed. Trying audioread instead.\n",
      "  stem_audio, _ = librosa.load(f\"{path}/stems/{stem}.wav\", sr=None)\n",
      "/Users/mariapolak/miniconda3/envs/mlme/lib/python3.11/site-packages/librosa/core/audio.py:184: FutureWarning: librosa.core.audio.__audioread_load\n",
      "\tDeprecated as of librosa version 0.10.0.\n",
      "\tIt will be removed in librosa version 1.0.\n",
      "  y, sr_native = __audioread_load(path, offset, duration, dtype)\n",
      "/var/folders/9b/646lmqp56b53pz1fqqr9x5gw0000gn/T/ipykernel_85422/370983470.py:16: UserWarning: PySoundFile failed. Trying audioread instead.\n",
      "  stem_audio, _ = librosa.load(f\"{path}/stems/{stem}.wav\", sr=None)\n",
      "/Users/mariapolak/miniconda3/envs/mlme/lib/python3.11/site-packages/librosa/core/audio.py:184: FutureWarning: librosa.core.audio.__audioread_load\n",
      "\tDeprecated as of librosa version 0.10.0.\n",
      "\tIt will be removed in librosa version 1.0.\n",
      "  y, sr_native = __audioread_load(path, offset, duration, dtype)\n"
     ]
    },
    {
     "name": "stdout",
     "output_type": "stream",
     "text": [
      "Error reading S06\n",
      "Error reading S06\n"
     ]
    },
    {
     "name": "stderr",
     "output_type": "stream",
     "text": [
      "/var/folders/9b/646lmqp56b53pz1fqqr9x5gw0000gn/T/ipykernel_85422/370983470.py:16: UserWarning: PySoundFile failed. Trying audioread instead.\n",
      "  stem_audio, _ = librosa.load(f\"{path}/stems/{stem}.wav\", sr=None)\n",
      "/Users/mariapolak/miniconda3/envs/mlme/lib/python3.11/site-packages/librosa/core/audio.py:184: FutureWarning: librosa.core.audio.__audioread_load\n",
      "\tDeprecated as of librosa version 0.10.0.\n",
      "\tIt will be removed in librosa version 1.0.\n",
      "  y, sr_native = __audioread_load(path, offset, duration, dtype)\n",
      "/var/folders/9b/646lmqp56b53pz1fqqr9x5gw0000gn/T/ipykernel_85422/370983470.py:16: UserWarning: PySoundFile failed. Trying audioread instead.\n",
      "  stem_audio, _ = librosa.load(f\"{path}/stems/{stem}.wav\", sr=None)\n",
      "/Users/mariapolak/miniconda3/envs/mlme/lib/python3.11/site-packages/librosa/core/audio.py:184: FutureWarning: librosa.core.audio.__audioread_load\n",
      "\tDeprecated as of librosa version 0.10.0.\n",
      "\tIt will be removed in librosa version 1.0.\n",
      "  y, sr_native = __audioread_load(path, offset, duration, dtype)\n"
     ]
    },
    {
     "name": "stdout",
     "output_type": "stream",
     "text": [
      "Error reading S06\n",
      "Error reading S06\n"
     ]
    },
    {
     "name": "stderr",
     "output_type": "stream",
     "text": [
      "/var/folders/9b/646lmqp56b53pz1fqqr9x5gw0000gn/T/ipykernel_85422/370983470.py:16: UserWarning: PySoundFile failed. Trying audioread instead.\n",
      "  stem_audio, _ = librosa.load(f\"{path}/stems/{stem}.wav\", sr=None)\n",
      "/Users/mariapolak/miniconda3/envs/mlme/lib/python3.11/site-packages/librosa/core/audio.py:184: FutureWarning: librosa.core.audio.__audioread_load\n",
      "\tDeprecated as of librosa version 0.10.0.\n",
      "\tIt will be removed in librosa version 1.0.\n",
      "  y, sr_native = __audioread_load(path, offset, duration, dtype)\n",
      "/var/folders/9b/646lmqp56b53pz1fqqr9x5gw0000gn/T/ipykernel_85422/370983470.py:16: UserWarning: PySoundFile failed. Trying audioread instead.\n",
      "  stem_audio, _ = librosa.load(f\"{path}/stems/{stem}.wav\", sr=None)\n",
      "/Users/mariapolak/miniconda3/envs/mlme/lib/python3.11/site-packages/librosa/core/audio.py:184: FutureWarning: librosa.core.audio.__audioread_load\n",
      "\tDeprecated as of librosa version 0.10.0.\n",
      "\tIt will be removed in librosa version 1.0.\n",
      "  y, sr_native = __audioread_load(path, offset, duration, dtype)\n"
     ]
    },
    {
     "name": "stdout",
     "output_type": "stream",
     "text": [
      "Error reading S06\n",
      "Error reading S06\n"
     ]
    },
    {
     "name": "stderr",
     "output_type": "stream",
     "text": [
      "/var/folders/9b/646lmqp56b53pz1fqqr9x5gw0000gn/T/ipykernel_85422/370983470.py:16: UserWarning: PySoundFile failed. Trying audioread instead.\n",
      "  stem_audio, _ = librosa.load(f\"{path}/stems/{stem}.wav\", sr=None)\n",
      "/Users/mariapolak/miniconda3/envs/mlme/lib/python3.11/site-packages/librosa/core/audio.py:184: FutureWarning: librosa.core.audio.__audioread_load\n",
      "\tDeprecated as of librosa version 0.10.0.\n",
      "\tIt will be removed in librosa version 1.0.\n",
      "  y, sr_native = __audioread_load(path, offset, duration, dtype)\n",
      "/var/folders/9b/646lmqp56b53pz1fqqr9x5gw0000gn/T/ipykernel_85422/370983470.py:16: UserWarning: PySoundFile failed. Trying audioread instead.\n",
      "  stem_audio, _ = librosa.load(f\"{path}/stems/{stem}.wav\", sr=None)\n",
      "/Users/mariapolak/miniconda3/envs/mlme/lib/python3.11/site-packages/librosa/core/audio.py:184: FutureWarning: librosa.core.audio.__audioread_load\n",
      "\tDeprecated as of librosa version 0.10.0.\n",
      "\tIt will be removed in librosa version 1.0.\n",
      "  y, sr_native = __audioread_load(path, offset, duration, dtype)\n"
     ]
    },
    {
     "name": "stdout",
     "output_type": "stream",
     "text": [
      "Error reading S06\n",
      "Error reading S06\n"
     ]
    },
    {
     "name": "stderr",
     "output_type": "stream",
     "text": [
      "/var/folders/9b/646lmqp56b53pz1fqqr9x5gw0000gn/T/ipykernel_85422/370983470.py:16: UserWarning: PySoundFile failed. Trying audioread instead.\n",
      "  stem_audio, _ = librosa.load(f\"{path}/stems/{stem}.wav\", sr=None)\n",
      "/Users/mariapolak/miniconda3/envs/mlme/lib/python3.11/site-packages/librosa/core/audio.py:184: FutureWarning: librosa.core.audio.__audioread_load\n",
      "\tDeprecated as of librosa version 0.10.0.\n",
      "\tIt will be removed in librosa version 1.0.\n",
      "  y, sr_native = __audioread_load(path, offset, duration, dtype)\n",
      "/var/folders/9b/646lmqp56b53pz1fqqr9x5gw0000gn/T/ipykernel_85422/370983470.py:16: UserWarning: PySoundFile failed. Trying audioread instead.\n",
      "  stem_audio, _ = librosa.load(f\"{path}/stems/{stem}.wav\", sr=None)\n",
      "/Users/mariapolak/miniconda3/envs/mlme/lib/python3.11/site-packages/librosa/core/audio.py:184: FutureWarning: librosa.core.audio.__audioread_load\n",
      "\tDeprecated as of librosa version 0.10.0.\n",
      "\tIt will be removed in librosa version 1.0.\n",
      "  y, sr_native = __audioread_load(path, offset, duration, dtype)\n"
     ]
    },
    {
     "name": "stdout",
     "output_type": "stream",
     "text": [
      "Error reading S06\n",
      "Error reading S06\n"
     ]
    },
    {
     "name": "stderr",
     "output_type": "stream",
     "text": [
      "/var/folders/9b/646lmqp56b53pz1fqqr9x5gw0000gn/T/ipykernel_85422/370983470.py:16: UserWarning: PySoundFile failed. Trying audioread instead.\n",
      "  stem_audio, _ = librosa.load(f\"{path}/stems/{stem}.wav\", sr=None)\n",
      "/Users/mariapolak/miniconda3/envs/mlme/lib/python3.11/site-packages/librosa/core/audio.py:184: FutureWarning: librosa.core.audio.__audioread_load\n",
      "\tDeprecated as of librosa version 0.10.0.\n",
      "\tIt will be removed in librosa version 1.0.\n",
      "  y, sr_native = __audioread_load(path, offset, duration, dtype)\n",
      "/var/folders/9b/646lmqp56b53pz1fqqr9x5gw0000gn/T/ipykernel_85422/370983470.py:16: UserWarning: PySoundFile failed. Trying audioread instead.\n",
      "  stem_audio, _ = librosa.load(f\"{path}/stems/{stem}.wav\", sr=None)\n",
      "/Users/mariapolak/miniconda3/envs/mlme/lib/python3.11/site-packages/librosa/core/audio.py:184: FutureWarning: librosa.core.audio.__audioread_load\n",
      "\tDeprecated as of librosa version 0.10.0.\n",
      "\tIt will be removed in librosa version 1.0.\n",
      "  y, sr_native = __audioread_load(path, offset, duration, dtype)\n"
     ]
    },
    {
     "name": "stdout",
     "output_type": "stream",
     "text": [
      "Error reading S06\n",
      "Error reading S06\n"
     ]
    },
    {
     "name": "stderr",
     "output_type": "stream",
     "text": [
      "/var/folders/9b/646lmqp56b53pz1fqqr9x5gw0000gn/T/ipykernel_85422/370983470.py:16: UserWarning: PySoundFile failed. Trying audioread instead.\n",
      "  stem_audio, _ = librosa.load(f\"{path}/stems/{stem}.wav\", sr=None)\n",
      "/Users/mariapolak/miniconda3/envs/mlme/lib/python3.11/site-packages/librosa/core/audio.py:184: FutureWarning: librosa.core.audio.__audioread_load\n",
      "\tDeprecated as of librosa version 0.10.0.\n",
      "\tIt will be removed in librosa version 1.0.\n",
      "  y, sr_native = __audioread_load(path, offset, duration, dtype)\n",
      "/var/folders/9b/646lmqp56b53pz1fqqr9x5gw0000gn/T/ipykernel_85422/370983470.py:16: UserWarning: PySoundFile failed. Trying audioread instead.\n",
      "  stem_audio, _ = librosa.load(f\"{path}/stems/{stem}.wav\", sr=None)\n",
      "/Users/mariapolak/miniconda3/envs/mlme/lib/python3.11/site-packages/librosa/core/audio.py:184: FutureWarning: librosa.core.audio.__audioread_load\n",
      "\tDeprecated as of librosa version 0.10.0.\n",
      "\tIt will be removed in librosa version 1.0.\n",
      "  y, sr_native = __audioread_load(path, offset, duration, dtype)\n"
     ]
    },
    {
     "name": "stdout",
     "output_type": "stream",
     "text": [
      "Error reading S06\n",
      "Error reading S06\n"
     ]
    },
    {
     "name": "stderr",
     "output_type": "stream",
     "text": [
      "/var/folders/9b/646lmqp56b53pz1fqqr9x5gw0000gn/T/ipykernel_85422/370983470.py:16: UserWarning: PySoundFile failed. Trying audioread instead.\n",
      "  stem_audio, _ = librosa.load(f\"{path}/stems/{stem}.wav\", sr=None)\n",
      "/Users/mariapolak/miniconda3/envs/mlme/lib/python3.11/site-packages/librosa/core/audio.py:184: FutureWarning: librosa.core.audio.__audioread_load\n",
      "\tDeprecated as of librosa version 0.10.0.\n",
      "\tIt will be removed in librosa version 1.0.\n",
      "  y, sr_native = __audioread_load(path, offset, duration, dtype)\n",
      "/var/folders/9b/646lmqp56b53pz1fqqr9x5gw0000gn/T/ipykernel_85422/370983470.py:16: UserWarning: PySoundFile failed. Trying audioread instead.\n",
      "  stem_audio, _ = librosa.load(f\"{path}/stems/{stem}.wav\", sr=None)\n",
      "/Users/mariapolak/miniconda3/envs/mlme/lib/python3.11/site-packages/librosa/core/audio.py:184: FutureWarning: librosa.core.audio.__audioread_load\n",
      "\tDeprecated as of librosa version 0.10.0.\n",
      "\tIt will be removed in librosa version 1.0.\n",
      "  y, sr_native = __audioread_load(path, offset, duration, dtype)\n"
     ]
    },
    {
     "name": "stdout",
     "output_type": "stream",
     "text": [
      "Error reading S06\n",
      "Error reading S06\n"
     ]
    },
    {
     "name": "stderr",
     "output_type": "stream",
     "text": [
      "/var/folders/9b/646lmqp56b53pz1fqqr9x5gw0000gn/T/ipykernel_85422/370983470.py:16: UserWarning: PySoundFile failed. Trying audioread instead.\n",
      "  stem_audio, _ = librosa.load(f\"{path}/stems/{stem}.wav\", sr=None)\n",
      "/Users/mariapolak/miniconda3/envs/mlme/lib/python3.11/site-packages/librosa/core/audio.py:184: FutureWarning: librosa.core.audio.__audioread_load\n",
      "\tDeprecated as of librosa version 0.10.0.\n",
      "\tIt will be removed in librosa version 1.0.\n",
      "  y, sr_native = __audioread_load(path, offset, duration, dtype)\n",
      "/var/folders/9b/646lmqp56b53pz1fqqr9x5gw0000gn/T/ipykernel_85422/370983470.py:16: UserWarning: PySoundFile failed. Trying audioread instead.\n",
      "  stem_audio, _ = librosa.load(f\"{path}/stems/{stem}.wav\", sr=None)\n",
      "/Users/mariapolak/miniconda3/envs/mlme/lib/python3.11/site-packages/librosa/core/audio.py:184: FutureWarning: librosa.core.audio.__audioread_load\n",
      "\tDeprecated as of librosa version 0.10.0.\n",
      "\tIt will be removed in librosa version 1.0.\n",
      "  y, sr_native = __audioread_load(path, offset, duration, dtype)\n"
     ]
    },
    {
     "name": "stdout",
     "output_type": "stream",
     "text": [
      "Error reading S06\n",
      "Error reading S06\n"
     ]
    },
    {
     "name": "stderr",
     "output_type": "stream",
     "text": [
      "/var/folders/9b/646lmqp56b53pz1fqqr9x5gw0000gn/T/ipykernel_85422/370983470.py:16: UserWarning: PySoundFile failed. Trying audioread instead.\n",
      "  stem_audio, _ = librosa.load(f\"{path}/stems/{stem}.wav\", sr=None)\n",
      "/Users/mariapolak/miniconda3/envs/mlme/lib/python3.11/site-packages/librosa/core/audio.py:184: FutureWarning: librosa.core.audio.__audioread_load\n",
      "\tDeprecated as of librosa version 0.10.0.\n",
      "\tIt will be removed in librosa version 1.0.\n",
      "  y, sr_native = __audioread_load(path, offset, duration, dtype)\n",
      "/var/folders/9b/646lmqp56b53pz1fqqr9x5gw0000gn/T/ipykernel_85422/370983470.py:16: UserWarning: PySoundFile failed. Trying audioread instead.\n",
      "  stem_audio, _ = librosa.load(f\"{path}/stems/{stem}.wav\", sr=None)\n",
      "/Users/mariapolak/miniconda3/envs/mlme/lib/python3.11/site-packages/librosa/core/audio.py:184: FutureWarning: librosa.core.audio.__audioread_load\n",
      "\tDeprecated as of librosa version 0.10.0.\n",
      "\tIt will be removed in librosa version 1.0.\n",
      "  y, sr_native = __audioread_load(path, offset, duration, dtype)\n"
     ]
    },
    {
     "name": "stdout",
     "output_type": "stream",
     "text": [
      "Error reading S06\n",
      "Error reading S06\n"
     ]
    },
    {
     "name": "stderr",
     "output_type": "stream",
     "text": [
      "/var/folders/9b/646lmqp56b53pz1fqqr9x5gw0000gn/T/ipykernel_85422/370983470.py:16: UserWarning: PySoundFile failed. Trying audioread instead.\n",
      "  stem_audio, _ = librosa.load(f\"{path}/stems/{stem}.wav\", sr=None)\n",
      "/Users/mariapolak/miniconda3/envs/mlme/lib/python3.11/site-packages/librosa/core/audio.py:184: FutureWarning: librosa.core.audio.__audioread_load\n",
      "\tDeprecated as of librosa version 0.10.0.\n",
      "\tIt will be removed in librosa version 1.0.\n",
      "  y, sr_native = __audioread_load(path, offset, duration, dtype)\n",
      "/var/folders/9b/646lmqp56b53pz1fqqr9x5gw0000gn/T/ipykernel_85422/370983470.py:16: UserWarning: PySoundFile failed. Trying audioread instead.\n",
      "  stem_audio, _ = librosa.load(f\"{path}/stems/{stem}.wav\", sr=None)\n",
      "/Users/mariapolak/miniconda3/envs/mlme/lib/python3.11/site-packages/librosa/core/audio.py:184: FutureWarning: librosa.core.audio.__audioread_load\n",
      "\tDeprecated as of librosa version 0.10.0.\n",
      "\tIt will be removed in librosa version 1.0.\n",
      "  y, sr_native = __audioread_load(path, offset, duration, dtype)\n"
     ]
    },
    {
     "name": "stdout",
     "output_type": "stream",
     "text": [
      "Error reading S06\n",
      "Error reading S06\n"
     ]
    },
    {
     "name": "stderr",
     "output_type": "stream",
     "text": [
      "/var/folders/9b/646lmqp56b53pz1fqqr9x5gw0000gn/T/ipykernel_85422/370983470.py:16: UserWarning: PySoundFile failed. Trying audioread instead.\n",
      "  stem_audio, _ = librosa.load(f\"{path}/stems/{stem}.wav\", sr=None)\n",
      "/Users/mariapolak/miniconda3/envs/mlme/lib/python3.11/site-packages/librosa/core/audio.py:184: FutureWarning: librosa.core.audio.__audioread_load\n",
      "\tDeprecated as of librosa version 0.10.0.\n",
      "\tIt will be removed in librosa version 1.0.\n",
      "  y, sr_native = __audioread_load(path, offset, duration, dtype)\n",
      "/var/folders/9b/646lmqp56b53pz1fqqr9x5gw0000gn/T/ipykernel_85422/370983470.py:16: UserWarning: PySoundFile failed. Trying audioread instead.\n",
      "  stem_audio, _ = librosa.load(f\"{path}/stems/{stem}.wav\", sr=None)\n",
      "/Users/mariapolak/miniconda3/envs/mlme/lib/python3.11/site-packages/librosa/core/audio.py:184: FutureWarning: librosa.core.audio.__audioread_load\n",
      "\tDeprecated as of librosa version 0.10.0.\n",
      "\tIt will be removed in librosa version 1.0.\n",
      "  y, sr_native = __audioread_load(path, offset, duration, dtype)\n"
     ]
    },
    {
     "name": "stdout",
     "output_type": "stream",
     "text": [
      "Error reading S06\n",
      "Error reading S06\n"
     ]
    },
    {
     "name": "stderr",
     "output_type": "stream",
     "text": [
      "/var/folders/9b/646lmqp56b53pz1fqqr9x5gw0000gn/T/ipykernel_85422/370983470.py:16: UserWarning: PySoundFile failed. Trying audioread instead.\n",
      "  stem_audio, _ = librosa.load(f\"{path}/stems/{stem}.wav\", sr=None)\n",
      "/Users/mariapolak/miniconda3/envs/mlme/lib/python3.11/site-packages/librosa/core/audio.py:184: FutureWarning: librosa.core.audio.__audioread_load\n",
      "\tDeprecated as of librosa version 0.10.0.\n",
      "\tIt will be removed in librosa version 1.0.\n",
      "  y, sr_native = __audioread_load(path, offset, duration, dtype)\n"
     ]
    },
    {
     "name": "stdout",
     "output_type": "stream",
     "text": [
      "Error reading S06\n",
      "Processing: datasets/babyslakh_16k/Track00008\n",
      "Processing: datasets/babyslakh_16k/Track00009\n",
      "Error reading S08\n",
      "Error reading S09\n",
      "Error reading S08\n",
      "Error reading S09\n"
     ]
    },
    {
     "name": "stderr",
     "output_type": "stream",
     "text": [
      "/var/folders/9b/646lmqp56b53pz1fqqr9x5gw0000gn/T/ipykernel_85422/370983470.py:16: UserWarning: PySoundFile failed. Trying audioread instead.\n",
      "  stem_audio, _ = librosa.load(f\"{path}/stems/{stem}.wav\", sr=None)\n",
      "/Users/mariapolak/miniconda3/envs/mlme/lib/python3.11/site-packages/librosa/core/audio.py:184: FutureWarning: librosa.core.audio.__audioread_load\n",
      "\tDeprecated as of librosa version 0.10.0.\n",
      "\tIt will be removed in librosa version 1.0.\n",
      "  y, sr_native = __audioread_load(path, offset, duration, dtype)\n",
      "/var/folders/9b/646lmqp56b53pz1fqqr9x5gw0000gn/T/ipykernel_85422/370983470.py:16: UserWarning: PySoundFile failed. Trying audioread instead.\n",
      "  stem_audio, _ = librosa.load(f\"{path}/stems/{stem}.wav\", sr=None)\n",
      "/Users/mariapolak/miniconda3/envs/mlme/lib/python3.11/site-packages/librosa/core/audio.py:184: FutureWarning: librosa.core.audio.__audioread_load\n",
      "\tDeprecated as of librosa version 0.10.0.\n",
      "\tIt will be removed in librosa version 1.0.\n",
      "  y, sr_native = __audioread_load(path, offset, duration, dtype)\n",
      "/var/folders/9b/646lmqp56b53pz1fqqr9x5gw0000gn/T/ipykernel_85422/370983470.py:16: UserWarning: PySoundFile failed. Trying audioread instead.\n",
      "  stem_audio, _ = librosa.load(f\"{path}/stems/{stem}.wav\", sr=None)\n",
      "/Users/mariapolak/miniconda3/envs/mlme/lib/python3.11/site-packages/librosa/core/audio.py:184: FutureWarning: librosa.core.audio.__audioread_load\n",
      "\tDeprecated as of librosa version 0.10.0.\n",
      "\tIt will be removed in librosa version 1.0.\n",
      "  y, sr_native = __audioread_load(path, offset, duration, dtype)\n"
     ]
    },
    {
     "name": "stdout",
     "output_type": "stream",
     "text": [
      "Error reading S08\n",
      "Error reading S09\n",
      "Error reading S08\n",
      "Error reading S09\n",
      "Error reading S08\n",
      "Error reading S09\n"
     ]
    },
    {
     "name": "stderr",
     "output_type": "stream",
     "text": [
      "/var/folders/9b/646lmqp56b53pz1fqqr9x5gw0000gn/T/ipykernel_85422/370983470.py:16: UserWarning: PySoundFile failed. Trying audioread instead.\n",
      "  stem_audio, _ = librosa.load(f\"{path}/stems/{stem}.wav\", sr=None)\n",
      "/Users/mariapolak/miniconda3/envs/mlme/lib/python3.11/site-packages/librosa/core/audio.py:184: FutureWarning: librosa.core.audio.__audioread_load\n",
      "\tDeprecated as of librosa version 0.10.0.\n",
      "\tIt will be removed in librosa version 1.0.\n",
      "  y, sr_native = __audioread_load(path, offset, duration, dtype)\n",
      "/var/folders/9b/646lmqp56b53pz1fqqr9x5gw0000gn/T/ipykernel_85422/370983470.py:16: UserWarning: PySoundFile failed. Trying audioread instead.\n",
      "  stem_audio, _ = librosa.load(f\"{path}/stems/{stem}.wav\", sr=None)\n",
      "/Users/mariapolak/miniconda3/envs/mlme/lib/python3.11/site-packages/librosa/core/audio.py:184: FutureWarning: librosa.core.audio.__audioread_load\n",
      "\tDeprecated as of librosa version 0.10.0.\n",
      "\tIt will be removed in librosa version 1.0.\n",
      "  y, sr_native = __audioread_load(path, offset, duration, dtype)\n",
      "/var/folders/9b/646lmqp56b53pz1fqqr9x5gw0000gn/T/ipykernel_85422/370983470.py:16: UserWarning: PySoundFile failed. Trying audioread instead.\n",
      "  stem_audio, _ = librosa.load(f\"{path}/stems/{stem}.wav\", sr=None)\n",
      "/Users/mariapolak/miniconda3/envs/mlme/lib/python3.11/site-packages/librosa/core/audio.py:184: FutureWarning: librosa.core.audio.__audioread_load\n",
      "\tDeprecated as of librosa version 0.10.0.\n",
      "\tIt will be removed in librosa version 1.0.\n",
      "  y, sr_native = __audioread_load(path, offset, duration, dtype)\n",
      "/var/folders/9b/646lmqp56b53pz1fqqr9x5gw0000gn/T/ipykernel_85422/370983470.py:16: UserWarning: PySoundFile failed. Trying audioread instead.\n",
      "  stem_audio, _ = librosa.load(f\"{path}/stems/{stem}.wav\", sr=None)\n",
      "/Users/mariapolak/miniconda3/envs/mlme/lib/python3.11/site-packages/librosa/core/audio.py:184: FutureWarning: librosa.core.audio.__audioread_load\n",
      "\tDeprecated as of librosa version 0.10.0.\n",
      "\tIt will be removed in librosa version 1.0.\n",
      "  y, sr_native = __audioread_load(path, offset, duration, dtype)\n",
      "/var/folders/9b/646lmqp56b53pz1fqqr9x5gw0000gn/T/ipykernel_85422/370983470.py:16: UserWarning: PySoundFile failed. Trying audioread instead.\n",
      "  stem_audio, _ = librosa.load(f\"{path}/stems/{stem}.wav\", sr=None)\n",
      "/Users/mariapolak/miniconda3/envs/mlme/lib/python3.11/site-packages/librosa/core/audio.py:184: FutureWarning: librosa.core.audio.__audioread_load\n",
      "\tDeprecated as of librosa version 0.10.0.\n",
      "\tIt will be removed in librosa version 1.0.\n",
      "  y, sr_native = __audioread_load(path, offset, duration, dtype)\n"
     ]
    },
    {
     "name": "stdout",
     "output_type": "stream",
     "text": [
      "Error reading S08\n",
      "Error reading S09\n",
      "Error reading S08\n",
      "Error reading S09\n",
      "Error reading S08\n",
      "Error reading S09\n"
     ]
    },
    {
     "name": "stderr",
     "output_type": "stream",
     "text": [
      "/var/folders/9b/646lmqp56b53pz1fqqr9x5gw0000gn/T/ipykernel_85422/370983470.py:16: UserWarning: PySoundFile failed. Trying audioread instead.\n",
      "  stem_audio, _ = librosa.load(f\"{path}/stems/{stem}.wav\", sr=None)\n",
      "/Users/mariapolak/miniconda3/envs/mlme/lib/python3.11/site-packages/librosa/core/audio.py:184: FutureWarning: librosa.core.audio.__audioread_load\n",
      "\tDeprecated as of librosa version 0.10.0.\n",
      "\tIt will be removed in librosa version 1.0.\n",
      "  y, sr_native = __audioread_load(path, offset, duration, dtype)\n",
      "/var/folders/9b/646lmqp56b53pz1fqqr9x5gw0000gn/T/ipykernel_85422/370983470.py:16: UserWarning: PySoundFile failed. Trying audioread instead.\n",
      "  stem_audio, _ = librosa.load(f\"{path}/stems/{stem}.wav\", sr=None)\n",
      "/Users/mariapolak/miniconda3/envs/mlme/lib/python3.11/site-packages/librosa/core/audio.py:184: FutureWarning: librosa.core.audio.__audioread_load\n",
      "\tDeprecated as of librosa version 0.10.0.\n",
      "\tIt will be removed in librosa version 1.0.\n",
      "  y, sr_native = __audioread_load(path, offset, duration, dtype)\n",
      "/var/folders/9b/646lmqp56b53pz1fqqr9x5gw0000gn/T/ipykernel_85422/370983470.py:16: UserWarning: PySoundFile failed. Trying audioread instead.\n",
      "  stem_audio, _ = librosa.load(f\"{path}/stems/{stem}.wav\", sr=None)\n",
      "/Users/mariapolak/miniconda3/envs/mlme/lib/python3.11/site-packages/librosa/core/audio.py:184: FutureWarning: librosa.core.audio.__audioread_load\n",
      "\tDeprecated as of librosa version 0.10.0.\n",
      "\tIt will be removed in librosa version 1.0.\n",
      "  y, sr_native = __audioread_load(path, offset, duration, dtype)\n"
     ]
    },
    {
     "name": "stdout",
     "output_type": "stream",
     "text": [
      "Error reading S08\n",
      "Error reading S09\n",
      "Error reading S08\n",
      "Error reading S09\n",
      "Error reading S08\n",
      "Error reading S09\n"
     ]
    },
    {
     "name": "stderr",
     "output_type": "stream",
     "text": [
      "/var/folders/9b/646lmqp56b53pz1fqqr9x5gw0000gn/T/ipykernel_85422/370983470.py:16: UserWarning: PySoundFile failed. Trying audioread instead.\n",
      "  stem_audio, _ = librosa.load(f\"{path}/stems/{stem}.wav\", sr=None)\n",
      "/Users/mariapolak/miniconda3/envs/mlme/lib/python3.11/site-packages/librosa/core/audio.py:184: FutureWarning: librosa.core.audio.__audioread_load\n",
      "\tDeprecated as of librosa version 0.10.0.\n",
      "\tIt will be removed in librosa version 1.0.\n",
      "  y, sr_native = __audioread_load(path, offset, duration, dtype)\n",
      "/var/folders/9b/646lmqp56b53pz1fqqr9x5gw0000gn/T/ipykernel_85422/370983470.py:16: UserWarning: PySoundFile failed. Trying audioread instead.\n",
      "  stem_audio, _ = librosa.load(f\"{path}/stems/{stem}.wav\", sr=None)\n",
      "/Users/mariapolak/miniconda3/envs/mlme/lib/python3.11/site-packages/librosa/core/audio.py:184: FutureWarning: librosa.core.audio.__audioread_load\n",
      "\tDeprecated as of librosa version 0.10.0.\n",
      "\tIt will be removed in librosa version 1.0.\n",
      "  y, sr_native = __audioread_load(path, offset, duration, dtype)\n",
      "/var/folders/9b/646lmqp56b53pz1fqqr9x5gw0000gn/T/ipykernel_85422/370983470.py:16: UserWarning: PySoundFile failed. Trying audioread instead.\n",
      "  stem_audio, _ = librosa.load(f\"{path}/stems/{stem}.wav\", sr=None)\n",
      "/Users/mariapolak/miniconda3/envs/mlme/lib/python3.11/site-packages/librosa/core/audio.py:184: FutureWarning: librosa.core.audio.__audioread_load\n",
      "\tDeprecated as of librosa version 0.10.0.\n",
      "\tIt will be removed in librosa version 1.0.\n",
      "  y, sr_native = __audioread_load(path, offset, duration, dtype)\n"
     ]
    },
    {
     "name": "stdout",
     "output_type": "stream",
     "text": [
      "Error reading S08\n",
      "Error reading S09\n",
      "Error reading S08\n",
      "Error reading S09\n",
      "Error reading S08\n",
      "Error reading S09\n"
     ]
    },
    {
     "name": "stderr",
     "output_type": "stream",
     "text": [
      "/var/folders/9b/646lmqp56b53pz1fqqr9x5gw0000gn/T/ipykernel_85422/370983470.py:16: UserWarning: PySoundFile failed. Trying audioread instead.\n",
      "  stem_audio, _ = librosa.load(f\"{path}/stems/{stem}.wav\", sr=None)\n",
      "/Users/mariapolak/miniconda3/envs/mlme/lib/python3.11/site-packages/librosa/core/audio.py:184: FutureWarning: librosa.core.audio.__audioread_load\n",
      "\tDeprecated as of librosa version 0.10.0.\n",
      "\tIt will be removed in librosa version 1.0.\n",
      "  y, sr_native = __audioread_load(path, offset, duration, dtype)\n",
      "/var/folders/9b/646lmqp56b53pz1fqqr9x5gw0000gn/T/ipykernel_85422/370983470.py:16: UserWarning: PySoundFile failed. Trying audioread instead.\n",
      "  stem_audio, _ = librosa.load(f\"{path}/stems/{stem}.wav\", sr=None)\n",
      "/Users/mariapolak/miniconda3/envs/mlme/lib/python3.11/site-packages/librosa/core/audio.py:184: FutureWarning: librosa.core.audio.__audioread_load\n",
      "\tDeprecated as of librosa version 0.10.0.\n",
      "\tIt will be removed in librosa version 1.0.\n",
      "  y, sr_native = __audioread_load(path, offset, duration, dtype)\n"
     ]
    },
    {
     "name": "stdout",
     "output_type": "stream",
     "text": [
      "Error reading S08\n",
      "Error reading S09\n",
      "Error reading S08\n",
      "Error reading S09\n"
     ]
    },
    {
     "name": "stderr",
     "output_type": "stream",
     "text": [
      "/var/folders/9b/646lmqp56b53pz1fqqr9x5gw0000gn/T/ipykernel_85422/370983470.py:16: UserWarning: PySoundFile failed. Trying audioread instead.\n",
      "  stem_audio, _ = librosa.load(f\"{path}/stems/{stem}.wav\", sr=None)\n",
      "/Users/mariapolak/miniconda3/envs/mlme/lib/python3.11/site-packages/librosa/core/audio.py:184: FutureWarning: librosa.core.audio.__audioread_load\n",
      "\tDeprecated as of librosa version 0.10.0.\n",
      "\tIt will be removed in librosa version 1.0.\n",
      "  y, sr_native = __audioread_load(path, offset, duration, dtype)\n",
      "/var/folders/9b/646lmqp56b53pz1fqqr9x5gw0000gn/T/ipykernel_85422/370983470.py:16: UserWarning: PySoundFile failed. Trying audioread instead.\n",
      "  stem_audio, _ = librosa.load(f\"{path}/stems/{stem}.wav\", sr=None)\n",
      "/Users/mariapolak/miniconda3/envs/mlme/lib/python3.11/site-packages/librosa/core/audio.py:184: FutureWarning: librosa.core.audio.__audioread_load\n",
      "\tDeprecated as of librosa version 0.10.0.\n",
      "\tIt will be removed in librosa version 1.0.\n",
      "  y, sr_native = __audioread_load(path, offset, duration, dtype)\n"
     ]
    },
    {
     "name": "stdout",
     "output_type": "stream",
     "text": [
      "Error reading S08\n",
      "Error reading S09\n",
      "Error reading S08\n",
      "Error reading S09\n"
     ]
    },
    {
     "name": "stderr",
     "output_type": "stream",
     "text": [
      "/var/folders/9b/646lmqp56b53pz1fqqr9x5gw0000gn/T/ipykernel_85422/370983470.py:16: UserWarning: PySoundFile failed. Trying audioread instead.\n",
      "  stem_audio, _ = librosa.load(f\"{path}/stems/{stem}.wav\", sr=None)\n",
      "/Users/mariapolak/miniconda3/envs/mlme/lib/python3.11/site-packages/librosa/core/audio.py:184: FutureWarning: librosa.core.audio.__audioread_load\n",
      "\tDeprecated as of librosa version 0.10.0.\n",
      "\tIt will be removed in librosa version 1.0.\n",
      "  y, sr_native = __audioread_load(path, offset, duration, dtype)\n",
      "/var/folders/9b/646lmqp56b53pz1fqqr9x5gw0000gn/T/ipykernel_85422/370983470.py:16: UserWarning: PySoundFile failed. Trying audioread instead.\n",
      "  stem_audio, _ = librosa.load(f\"{path}/stems/{stem}.wav\", sr=None)\n",
      "/Users/mariapolak/miniconda3/envs/mlme/lib/python3.11/site-packages/librosa/core/audio.py:184: FutureWarning: librosa.core.audio.__audioread_load\n",
      "\tDeprecated as of librosa version 0.10.0.\n",
      "\tIt will be removed in librosa version 1.0.\n",
      "  y, sr_native = __audioread_load(path, offset, duration, dtype)\n",
      "/var/folders/9b/646lmqp56b53pz1fqqr9x5gw0000gn/T/ipykernel_85422/370983470.py:16: UserWarning: PySoundFile failed. Trying audioread instead.\n",
      "  stem_audio, _ = librosa.load(f\"{path}/stems/{stem}.wav\", sr=None)\n",
      "/Users/mariapolak/miniconda3/envs/mlme/lib/python3.11/site-packages/librosa/core/audio.py:184: FutureWarning: librosa.core.audio.__audioread_load\n",
      "\tDeprecated as of librosa version 0.10.0.\n",
      "\tIt will be removed in librosa version 1.0.\n",
      "  y, sr_native = __audioread_load(path, offset, duration, dtype)\n"
     ]
    },
    {
     "name": "stdout",
     "output_type": "stream",
     "text": [
      "Error reading S08\n",
      "Error reading S09\n",
      "Error reading S08\n",
      "Error reading S09\n",
      "Error reading S08\n",
      "Error reading S09\n"
     ]
    },
    {
     "name": "stderr",
     "output_type": "stream",
     "text": [
      "/var/folders/9b/646lmqp56b53pz1fqqr9x5gw0000gn/T/ipykernel_85422/370983470.py:16: UserWarning: PySoundFile failed. Trying audioread instead.\n",
      "  stem_audio, _ = librosa.load(f\"{path}/stems/{stem}.wav\", sr=None)\n",
      "/Users/mariapolak/miniconda3/envs/mlme/lib/python3.11/site-packages/librosa/core/audio.py:184: FutureWarning: librosa.core.audio.__audioread_load\n",
      "\tDeprecated as of librosa version 0.10.0.\n",
      "\tIt will be removed in librosa version 1.0.\n",
      "  y, sr_native = __audioread_load(path, offset, duration, dtype)\n",
      "/var/folders/9b/646lmqp56b53pz1fqqr9x5gw0000gn/T/ipykernel_85422/370983470.py:16: UserWarning: PySoundFile failed. Trying audioread instead.\n",
      "  stem_audio, _ = librosa.load(f\"{path}/stems/{stem}.wav\", sr=None)\n",
      "/Users/mariapolak/miniconda3/envs/mlme/lib/python3.11/site-packages/librosa/core/audio.py:184: FutureWarning: librosa.core.audio.__audioread_load\n",
      "\tDeprecated as of librosa version 0.10.0.\n",
      "\tIt will be removed in librosa version 1.0.\n",
      "  y, sr_native = __audioread_load(path, offset, duration, dtype)\n",
      "/var/folders/9b/646lmqp56b53pz1fqqr9x5gw0000gn/T/ipykernel_85422/370983470.py:16: UserWarning: PySoundFile failed. Trying audioread instead.\n",
      "  stem_audio, _ = librosa.load(f\"{path}/stems/{stem}.wav\", sr=None)\n",
      "/Users/mariapolak/miniconda3/envs/mlme/lib/python3.11/site-packages/librosa/core/audio.py:184: FutureWarning: librosa.core.audio.__audioread_load\n",
      "\tDeprecated as of librosa version 0.10.0.\n",
      "\tIt will be removed in librosa version 1.0.\n",
      "  y, sr_native = __audioread_load(path, offset, duration, dtype)\n"
     ]
    },
    {
     "name": "stdout",
     "output_type": "stream",
     "text": [
      "Error reading S08\n",
      "Error reading S09\n",
      "Error reading S08\n",
      "Error reading S09\n",
      "Error reading S08\n",
      "Error reading S09\n"
     ]
    },
    {
     "name": "stderr",
     "output_type": "stream",
     "text": [
      "/var/folders/9b/646lmqp56b53pz1fqqr9x5gw0000gn/T/ipykernel_85422/370983470.py:16: UserWarning: PySoundFile failed. Trying audioread instead.\n",
      "  stem_audio, _ = librosa.load(f\"{path}/stems/{stem}.wav\", sr=None)\n",
      "/Users/mariapolak/miniconda3/envs/mlme/lib/python3.11/site-packages/librosa/core/audio.py:184: FutureWarning: librosa.core.audio.__audioread_load\n",
      "\tDeprecated as of librosa version 0.10.0.\n",
      "\tIt will be removed in librosa version 1.0.\n",
      "  y, sr_native = __audioread_load(path, offset, duration, dtype)\n",
      "/var/folders/9b/646lmqp56b53pz1fqqr9x5gw0000gn/T/ipykernel_85422/370983470.py:16: UserWarning: PySoundFile failed. Trying audioread instead.\n",
      "  stem_audio, _ = librosa.load(f\"{path}/stems/{stem}.wav\", sr=None)\n",
      "/Users/mariapolak/miniconda3/envs/mlme/lib/python3.11/site-packages/librosa/core/audio.py:184: FutureWarning: librosa.core.audio.__audioread_load\n",
      "\tDeprecated as of librosa version 0.10.0.\n",
      "\tIt will be removed in librosa version 1.0.\n",
      "  y, sr_native = __audioread_load(path, offset, duration, dtype)\n",
      "/var/folders/9b/646lmqp56b53pz1fqqr9x5gw0000gn/T/ipykernel_85422/370983470.py:16: UserWarning: PySoundFile failed. Trying audioread instead.\n",
      "  stem_audio, _ = librosa.load(f\"{path}/stems/{stem}.wav\", sr=None)\n",
      "/Users/mariapolak/miniconda3/envs/mlme/lib/python3.11/site-packages/librosa/core/audio.py:184: FutureWarning: librosa.core.audio.__audioread_load\n",
      "\tDeprecated as of librosa version 0.10.0.\n",
      "\tIt will be removed in librosa version 1.0.\n",
      "  y, sr_native = __audioread_load(path, offset, duration, dtype)\n"
     ]
    },
    {
     "name": "stdout",
     "output_type": "stream",
     "text": [
      "Error reading S08\n",
      "Error reading S09\n",
      "Error reading S08\n",
      "Error reading S09\n",
      "Error reading S08\n",
      "Error reading S09\n"
     ]
    },
    {
     "name": "stderr",
     "output_type": "stream",
     "text": [
      "/var/folders/9b/646lmqp56b53pz1fqqr9x5gw0000gn/T/ipykernel_85422/370983470.py:16: UserWarning: PySoundFile failed. Trying audioread instead.\n",
      "  stem_audio, _ = librosa.load(f\"{path}/stems/{stem}.wav\", sr=None)\n",
      "/Users/mariapolak/miniconda3/envs/mlme/lib/python3.11/site-packages/librosa/core/audio.py:184: FutureWarning: librosa.core.audio.__audioread_load\n",
      "\tDeprecated as of librosa version 0.10.0.\n",
      "\tIt will be removed in librosa version 1.0.\n",
      "  y, sr_native = __audioread_load(path, offset, duration, dtype)\n",
      "/var/folders/9b/646lmqp56b53pz1fqqr9x5gw0000gn/T/ipykernel_85422/370983470.py:16: UserWarning: PySoundFile failed. Trying audioread instead.\n",
      "  stem_audio, _ = librosa.load(f\"{path}/stems/{stem}.wav\", sr=None)\n",
      "/Users/mariapolak/miniconda3/envs/mlme/lib/python3.11/site-packages/librosa/core/audio.py:184: FutureWarning: librosa.core.audio.__audioread_load\n",
      "\tDeprecated as of librosa version 0.10.0.\n",
      "\tIt will be removed in librosa version 1.0.\n",
      "  y, sr_native = __audioread_load(path, offset, duration, dtype)\n",
      "/var/folders/9b/646lmqp56b53pz1fqqr9x5gw0000gn/T/ipykernel_85422/370983470.py:16: UserWarning: PySoundFile failed. Trying audioread instead.\n",
      "  stem_audio, _ = librosa.load(f\"{path}/stems/{stem}.wav\", sr=None)\n",
      "/Users/mariapolak/miniconda3/envs/mlme/lib/python3.11/site-packages/librosa/core/audio.py:184: FutureWarning: librosa.core.audio.__audioread_load\n",
      "\tDeprecated as of librosa version 0.10.0.\n",
      "\tIt will be removed in librosa version 1.0.\n",
      "  y, sr_native = __audioread_load(path, offset, duration, dtype)\n"
     ]
    },
    {
     "name": "stdout",
     "output_type": "stream",
     "text": [
      "Error reading S08\n",
      "Error reading S09\n",
      "Error reading S08\n",
      "Error reading S09\n",
      "Error reading S08\n",
      "Error reading S09\n"
     ]
    },
    {
     "name": "stderr",
     "output_type": "stream",
     "text": [
      "/var/folders/9b/646lmqp56b53pz1fqqr9x5gw0000gn/T/ipykernel_85422/370983470.py:16: UserWarning: PySoundFile failed. Trying audioread instead.\n",
      "  stem_audio, _ = librosa.load(f\"{path}/stems/{stem}.wav\", sr=None)\n",
      "/Users/mariapolak/miniconda3/envs/mlme/lib/python3.11/site-packages/librosa/core/audio.py:184: FutureWarning: librosa.core.audio.__audioread_load\n",
      "\tDeprecated as of librosa version 0.10.0.\n",
      "\tIt will be removed in librosa version 1.0.\n",
      "  y, sr_native = __audioread_load(path, offset, duration, dtype)\n",
      "/var/folders/9b/646lmqp56b53pz1fqqr9x5gw0000gn/T/ipykernel_85422/370983470.py:16: UserWarning: PySoundFile failed. Trying audioread instead.\n",
      "  stem_audio, _ = librosa.load(f\"{path}/stems/{stem}.wav\", sr=None)\n",
      "/Users/mariapolak/miniconda3/envs/mlme/lib/python3.11/site-packages/librosa/core/audio.py:184: FutureWarning: librosa.core.audio.__audioread_load\n",
      "\tDeprecated as of librosa version 0.10.0.\n",
      "\tIt will be removed in librosa version 1.0.\n",
      "  y, sr_native = __audioread_load(path, offset, duration, dtype)\n"
     ]
    },
    {
     "name": "stdout",
     "output_type": "stream",
     "text": [
      "Error reading S08\n",
      "Error reading S09\n",
      "Error reading S08\n",
      "Error reading S09\n",
      "Processing: datasets/babyslakh_16k/Track00007\n",
      "Processing: datasets/babyslakh_16k/Track00014\n"
     ]
    },
    {
     "name": "stderr",
     "output_type": "stream",
     "text": [
      "/var/folders/9b/646lmqp56b53pz1fqqr9x5gw0000gn/T/ipykernel_85422/370983470.py:16: UserWarning: PySoundFile failed. Trying audioread instead.\n",
      "  stem_audio, _ = librosa.load(f\"{path}/stems/{stem}.wav\", sr=None)\n",
      "/Users/mariapolak/miniconda3/envs/mlme/lib/python3.11/site-packages/librosa/core/audio.py:184: FutureWarning: librosa.core.audio.__audioread_load\n",
      "\tDeprecated as of librosa version 0.10.0.\n",
      "\tIt will be removed in librosa version 1.0.\n",
      "  y, sr_native = __audioread_load(path, offset, duration, dtype)\n",
      "/var/folders/9b/646lmqp56b53pz1fqqr9x5gw0000gn/T/ipykernel_85422/370983470.py:16: UserWarning: PySoundFile failed. Trying audioread instead.\n",
      "  stem_audio, _ = librosa.load(f\"{path}/stems/{stem}.wav\", sr=None)\n",
      "/Users/mariapolak/miniconda3/envs/mlme/lib/python3.11/site-packages/librosa/core/audio.py:184: FutureWarning: librosa.core.audio.__audioread_load\n",
      "\tDeprecated as of librosa version 0.10.0.\n",
      "\tIt will be removed in librosa version 1.0.\n",
      "  y, sr_native = __audioread_load(path, offset, duration, dtype)\n"
     ]
    },
    {
     "name": "stdout",
     "output_type": "stream",
     "text": [
      "Error reading S11\n",
      "Error reading S11\n"
     ]
    },
    {
     "name": "stderr",
     "output_type": "stream",
     "text": [
      "/var/folders/9b/646lmqp56b53pz1fqqr9x5gw0000gn/T/ipykernel_85422/370983470.py:16: UserWarning: PySoundFile failed. Trying audioread instead.\n",
      "  stem_audio, _ = librosa.load(f\"{path}/stems/{stem}.wav\", sr=None)\n",
      "/Users/mariapolak/miniconda3/envs/mlme/lib/python3.11/site-packages/librosa/core/audio.py:184: FutureWarning: librosa.core.audio.__audioread_load\n",
      "\tDeprecated as of librosa version 0.10.0.\n",
      "\tIt will be removed in librosa version 1.0.\n",
      "  y, sr_native = __audioread_load(path, offset, duration, dtype)\n",
      "/var/folders/9b/646lmqp56b53pz1fqqr9x5gw0000gn/T/ipykernel_85422/370983470.py:16: UserWarning: PySoundFile failed. Trying audioread instead.\n",
      "  stem_audio, _ = librosa.load(f\"{path}/stems/{stem}.wav\", sr=None)\n",
      "/Users/mariapolak/miniconda3/envs/mlme/lib/python3.11/site-packages/librosa/core/audio.py:184: FutureWarning: librosa.core.audio.__audioread_load\n",
      "\tDeprecated as of librosa version 0.10.0.\n",
      "\tIt will be removed in librosa version 1.0.\n",
      "  y, sr_native = __audioread_load(path, offset, duration, dtype)\n"
     ]
    },
    {
     "name": "stdout",
     "output_type": "stream",
     "text": [
      "Error reading S11\n",
      "Error reading S11\n"
     ]
    },
    {
     "name": "stderr",
     "output_type": "stream",
     "text": [
      "/var/folders/9b/646lmqp56b53pz1fqqr9x5gw0000gn/T/ipykernel_85422/370983470.py:16: UserWarning: PySoundFile failed. Trying audioread instead.\n",
      "  stem_audio, _ = librosa.load(f\"{path}/stems/{stem}.wav\", sr=None)\n",
      "/Users/mariapolak/miniconda3/envs/mlme/lib/python3.11/site-packages/librosa/core/audio.py:184: FutureWarning: librosa.core.audio.__audioread_load\n",
      "\tDeprecated as of librosa version 0.10.0.\n",
      "\tIt will be removed in librosa version 1.0.\n",
      "  y, sr_native = __audioread_load(path, offset, duration, dtype)\n"
     ]
    },
    {
     "name": "stdout",
     "output_type": "stream",
     "text": [
      "Error reading S11\n"
     ]
    },
    {
     "name": "stderr",
     "output_type": "stream",
     "text": [
      "/var/folders/9b/646lmqp56b53pz1fqqr9x5gw0000gn/T/ipykernel_85422/370983470.py:16: UserWarning: PySoundFile failed. Trying audioread instead.\n",
      "  stem_audio, _ = librosa.load(f\"{path}/stems/{stem}.wav\", sr=None)\n",
      "/Users/mariapolak/miniconda3/envs/mlme/lib/python3.11/site-packages/librosa/core/audio.py:184: FutureWarning: librosa.core.audio.__audioread_load\n",
      "\tDeprecated as of librosa version 0.10.0.\n",
      "\tIt will be removed in librosa version 1.0.\n",
      "  y, sr_native = __audioread_load(path, offset, duration, dtype)\n",
      "/var/folders/9b/646lmqp56b53pz1fqqr9x5gw0000gn/T/ipykernel_85422/370983470.py:16: UserWarning: PySoundFile failed. Trying audioread instead.\n",
      "  stem_audio, _ = librosa.load(f\"{path}/stems/{stem}.wav\", sr=None)\n",
      "/Users/mariapolak/miniconda3/envs/mlme/lib/python3.11/site-packages/librosa/core/audio.py:184: FutureWarning: librosa.core.audio.__audioread_load\n",
      "\tDeprecated as of librosa version 0.10.0.\n",
      "\tIt will be removed in librosa version 1.0.\n",
      "  y, sr_native = __audioread_load(path, offset, duration, dtype)\n"
     ]
    },
    {
     "name": "stdout",
     "output_type": "stream",
     "text": [
      "Error reading S11\n",
      "Error reading S11\n"
     ]
    },
    {
     "name": "stderr",
     "output_type": "stream",
     "text": [
      "/var/folders/9b/646lmqp56b53pz1fqqr9x5gw0000gn/T/ipykernel_85422/370983470.py:16: UserWarning: PySoundFile failed. Trying audioread instead.\n",
      "  stem_audio, _ = librosa.load(f\"{path}/stems/{stem}.wav\", sr=None)\n",
      "/Users/mariapolak/miniconda3/envs/mlme/lib/python3.11/site-packages/librosa/core/audio.py:184: FutureWarning: librosa.core.audio.__audioread_load\n",
      "\tDeprecated as of librosa version 0.10.0.\n",
      "\tIt will be removed in librosa version 1.0.\n",
      "  y, sr_native = __audioread_load(path, offset, duration, dtype)\n",
      "/var/folders/9b/646lmqp56b53pz1fqqr9x5gw0000gn/T/ipykernel_85422/370983470.py:16: UserWarning: PySoundFile failed. Trying audioread instead.\n",
      "  stem_audio, _ = librosa.load(f\"{path}/stems/{stem}.wav\", sr=None)\n",
      "/Users/mariapolak/miniconda3/envs/mlme/lib/python3.11/site-packages/librosa/core/audio.py:184: FutureWarning: librosa.core.audio.__audioread_load\n",
      "\tDeprecated as of librosa version 0.10.0.\n",
      "\tIt will be removed in librosa version 1.0.\n",
      "  y, sr_native = __audioread_load(path, offset, duration, dtype)\n"
     ]
    },
    {
     "name": "stdout",
     "output_type": "stream",
     "text": [
      "Error reading S11\n",
      "Error reading S11\n"
     ]
    },
    {
     "name": "stderr",
     "output_type": "stream",
     "text": [
      "/var/folders/9b/646lmqp56b53pz1fqqr9x5gw0000gn/T/ipykernel_85422/370983470.py:16: UserWarning: PySoundFile failed. Trying audioread instead.\n",
      "  stem_audio, _ = librosa.load(f\"{path}/stems/{stem}.wav\", sr=None)\n",
      "/Users/mariapolak/miniconda3/envs/mlme/lib/python3.11/site-packages/librosa/core/audio.py:184: FutureWarning: librosa.core.audio.__audioread_load\n",
      "\tDeprecated as of librosa version 0.10.0.\n",
      "\tIt will be removed in librosa version 1.0.\n",
      "  y, sr_native = __audioread_load(path, offset, duration, dtype)\n",
      "/var/folders/9b/646lmqp56b53pz1fqqr9x5gw0000gn/T/ipykernel_85422/370983470.py:16: UserWarning: PySoundFile failed. Trying audioread instead.\n",
      "  stem_audio, _ = librosa.load(f\"{path}/stems/{stem}.wav\", sr=None)\n",
      "/Users/mariapolak/miniconda3/envs/mlme/lib/python3.11/site-packages/librosa/core/audio.py:184: FutureWarning: librosa.core.audio.__audioread_load\n",
      "\tDeprecated as of librosa version 0.10.0.\n",
      "\tIt will be removed in librosa version 1.0.\n",
      "  y, sr_native = __audioread_load(path, offset, duration, dtype)\n"
     ]
    },
    {
     "name": "stdout",
     "output_type": "stream",
     "text": [
      "Error reading S11\n",
      "Error reading S11\n"
     ]
    },
    {
     "name": "stderr",
     "output_type": "stream",
     "text": [
      "/var/folders/9b/646lmqp56b53pz1fqqr9x5gw0000gn/T/ipykernel_85422/370983470.py:16: UserWarning: PySoundFile failed. Trying audioread instead.\n",
      "  stem_audio, _ = librosa.load(f\"{path}/stems/{stem}.wav\", sr=None)\n",
      "/Users/mariapolak/miniconda3/envs/mlme/lib/python3.11/site-packages/librosa/core/audio.py:184: FutureWarning: librosa.core.audio.__audioread_load\n",
      "\tDeprecated as of librosa version 0.10.0.\n",
      "\tIt will be removed in librosa version 1.0.\n",
      "  y, sr_native = __audioread_load(path, offset, duration, dtype)\n",
      "/var/folders/9b/646lmqp56b53pz1fqqr9x5gw0000gn/T/ipykernel_85422/370983470.py:16: UserWarning: PySoundFile failed. Trying audioread instead.\n",
      "  stem_audio, _ = librosa.load(f\"{path}/stems/{stem}.wav\", sr=None)\n",
      "/Users/mariapolak/miniconda3/envs/mlme/lib/python3.11/site-packages/librosa/core/audio.py:184: FutureWarning: librosa.core.audio.__audioread_load\n",
      "\tDeprecated as of librosa version 0.10.0.\n",
      "\tIt will be removed in librosa version 1.0.\n",
      "  y, sr_native = __audioread_load(path, offset, duration, dtype)\n"
     ]
    },
    {
     "name": "stdout",
     "output_type": "stream",
     "text": [
      "Error reading S11\n",
      "Error reading S11\n"
     ]
    },
    {
     "name": "stderr",
     "output_type": "stream",
     "text": [
      "/var/folders/9b/646lmqp56b53pz1fqqr9x5gw0000gn/T/ipykernel_85422/370983470.py:16: UserWarning: PySoundFile failed. Trying audioread instead.\n",
      "  stem_audio, _ = librosa.load(f\"{path}/stems/{stem}.wav\", sr=None)\n",
      "/Users/mariapolak/miniconda3/envs/mlme/lib/python3.11/site-packages/librosa/core/audio.py:184: FutureWarning: librosa.core.audio.__audioread_load\n",
      "\tDeprecated as of librosa version 0.10.0.\n",
      "\tIt will be removed in librosa version 1.0.\n",
      "  y, sr_native = __audioread_load(path, offset, duration, dtype)\n"
     ]
    },
    {
     "name": "stdout",
     "output_type": "stream",
     "text": [
      "Error reading S11\n"
     ]
    },
    {
     "name": "stderr",
     "output_type": "stream",
     "text": [
      "/var/folders/9b/646lmqp56b53pz1fqqr9x5gw0000gn/T/ipykernel_85422/370983470.py:16: UserWarning: PySoundFile failed. Trying audioread instead.\n",
      "  stem_audio, _ = librosa.load(f\"{path}/stems/{stem}.wav\", sr=None)\n",
      "/Users/mariapolak/miniconda3/envs/mlme/lib/python3.11/site-packages/librosa/core/audio.py:184: FutureWarning: librosa.core.audio.__audioread_load\n",
      "\tDeprecated as of librosa version 0.10.0.\n",
      "\tIt will be removed in librosa version 1.0.\n",
      "  y, sr_native = __audioread_load(path, offset, duration, dtype)\n"
     ]
    },
    {
     "name": "stdout",
     "output_type": "stream",
     "text": [
      "Error reading S11\n"
     ]
    },
    {
     "name": "stderr",
     "output_type": "stream",
     "text": [
      "/var/folders/9b/646lmqp56b53pz1fqqr9x5gw0000gn/T/ipykernel_85422/370983470.py:16: UserWarning: PySoundFile failed. Trying audioread instead.\n",
      "  stem_audio, _ = librosa.load(f\"{path}/stems/{stem}.wav\", sr=None)\n",
      "/Users/mariapolak/miniconda3/envs/mlme/lib/python3.11/site-packages/librosa/core/audio.py:184: FutureWarning: librosa.core.audio.__audioread_load\n",
      "\tDeprecated as of librosa version 0.10.0.\n",
      "\tIt will be removed in librosa version 1.0.\n",
      "  y, sr_native = __audioread_load(path, offset, duration, dtype)\n",
      "/var/folders/9b/646lmqp56b53pz1fqqr9x5gw0000gn/T/ipykernel_85422/370983470.py:16: UserWarning: PySoundFile failed. Trying audioread instead.\n",
      "  stem_audio, _ = librosa.load(f\"{path}/stems/{stem}.wav\", sr=None)\n",
      "/Users/mariapolak/miniconda3/envs/mlme/lib/python3.11/site-packages/librosa/core/audio.py:184: FutureWarning: librosa.core.audio.__audioread_load\n",
      "\tDeprecated as of librosa version 0.10.0.\n",
      "\tIt will be removed in librosa version 1.0.\n",
      "  y, sr_native = __audioread_load(path, offset, duration, dtype)\n"
     ]
    },
    {
     "name": "stdout",
     "output_type": "stream",
     "text": [
      "Error reading S11\n",
      "Error reading S11\n"
     ]
    },
    {
     "name": "stderr",
     "output_type": "stream",
     "text": [
      "/var/folders/9b/646lmqp56b53pz1fqqr9x5gw0000gn/T/ipykernel_85422/370983470.py:16: UserWarning: PySoundFile failed. Trying audioread instead.\n",
      "  stem_audio, _ = librosa.load(f\"{path}/stems/{stem}.wav\", sr=None)\n",
      "/Users/mariapolak/miniconda3/envs/mlme/lib/python3.11/site-packages/librosa/core/audio.py:184: FutureWarning: librosa.core.audio.__audioread_load\n",
      "\tDeprecated as of librosa version 0.10.0.\n",
      "\tIt will be removed in librosa version 1.0.\n",
      "  y, sr_native = __audioread_load(path, offset, duration, dtype)\n",
      "/var/folders/9b/646lmqp56b53pz1fqqr9x5gw0000gn/T/ipykernel_85422/370983470.py:16: UserWarning: PySoundFile failed. Trying audioread instead.\n",
      "  stem_audio, _ = librosa.load(f\"{path}/stems/{stem}.wav\", sr=None)\n",
      "/Users/mariapolak/miniconda3/envs/mlme/lib/python3.11/site-packages/librosa/core/audio.py:184: FutureWarning: librosa.core.audio.__audioread_load\n",
      "\tDeprecated as of librosa version 0.10.0.\n",
      "\tIt will be removed in librosa version 1.0.\n",
      "  y, sr_native = __audioread_load(path, offset, duration, dtype)\n"
     ]
    },
    {
     "name": "stdout",
     "output_type": "stream",
     "text": [
      "Error reading S11\n",
      "Error reading S11\n"
     ]
    },
    {
     "name": "stderr",
     "output_type": "stream",
     "text": [
      "/var/folders/9b/646lmqp56b53pz1fqqr9x5gw0000gn/T/ipykernel_85422/370983470.py:16: UserWarning: PySoundFile failed. Trying audioread instead.\n",
      "  stem_audio, _ = librosa.load(f\"{path}/stems/{stem}.wav\", sr=None)\n",
      "/Users/mariapolak/miniconda3/envs/mlme/lib/python3.11/site-packages/librosa/core/audio.py:184: FutureWarning: librosa.core.audio.__audioread_load\n",
      "\tDeprecated as of librosa version 0.10.0.\n",
      "\tIt will be removed in librosa version 1.0.\n",
      "  y, sr_native = __audioread_load(path, offset, duration, dtype)\n",
      "/var/folders/9b/646lmqp56b53pz1fqqr9x5gw0000gn/T/ipykernel_85422/370983470.py:16: UserWarning: PySoundFile failed. Trying audioread instead.\n",
      "  stem_audio, _ = librosa.load(f\"{path}/stems/{stem}.wav\", sr=None)\n",
      "/Users/mariapolak/miniconda3/envs/mlme/lib/python3.11/site-packages/librosa/core/audio.py:184: FutureWarning: librosa.core.audio.__audioread_load\n",
      "\tDeprecated as of librosa version 0.10.0.\n",
      "\tIt will be removed in librosa version 1.0.\n",
      "  y, sr_native = __audioread_load(path, offset, duration, dtype)\n"
     ]
    },
    {
     "name": "stdout",
     "output_type": "stream",
     "text": [
      "Error reading S11\n",
      "Error reading S11\n"
     ]
    },
    {
     "name": "stderr",
     "output_type": "stream",
     "text": [
      "/var/folders/9b/646lmqp56b53pz1fqqr9x5gw0000gn/T/ipykernel_85422/370983470.py:16: UserWarning: PySoundFile failed. Trying audioread instead.\n",
      "  stem_audio, _ = librosa.load(f\"{path}/stems/{stem}.wav\", sr=None)\n",
      "/Users/mariapolak/miniconda3/envs/mlme/lib/python3.11/site-packages/librosa/core/audio.py:184: FutureWarning: librosa.core.audio.__audioread_load\n",
      "\tDeprecated as of librosa version 0.10.0.\n",
      "\tIt will be removed in librosa version 1.0.\n",
      "  y, sr_native = __audioread_load(path, offset, duration, dtype)\n",
      "/var/folders/9b/646lmqp56b53pz1fqqr9x5gw0000gn/T/ipykernel_85422/370983470.py:16: UserWarning: PySoundFile failed. Trying audioread instead.\n",
      "  stem_audio, _ = librosa.load(f\"{path}/stems/{stem}.wav\", sr=None)\n",
      "/Users/mariapolak/miniconda3/envs/mlme/lib/python3.11/site-packages/librosa/core/audio.py:184: FutureWarning: librosa.core.audio.__audioread_load\n",
      "\tDeprecated as of librosa version 0.10.0.\n",
      "\tIt will be removed in librosa version 1.0.\n",
      "  y, sr_native = __audioread_load(path, offset, duration, dtype)\n"
     ]
    },
    {
     "name": "stdout",
     "output_type": "stream",
     "text": [
      "Error reading S11\n",
      "Error reading S11\n"
     ]
    },
    {
     "name": "stderr",
     "output_type": "stream",
     "text": [
      "/var/folders/9b/646lmqp56b53pz1fqqr9x5gw0000gn/T/ipykernel_85422/370983470.py:16: UserWarning: PySoundFile failed. Trying audioread instead.\n",
      "  stem_audio, _ = librosa.load(f\"{path}/stems/{stem}.wav\", sr=None)\n",
      "/Users/mariapolak/miniconda3/envs/mlme/lib/python3.11/site-packages/librosa/core/audio.py:184: FutureWarning: librosa.core.audio.__audioread_load\n",
      "\tDeprecated as of librosa version 0.10.0.\n",
      "\tIt will be removed in librosa version 1.0.\n",
      "  y, sr_native = __audioread_load(path, offset, duration, dtype)\n",
      "/var/folders/9b/646lmqp56b53pz1fqqr9x5gw0000gn/T/ipykernel_85422/370983470.py:16: UserWarning: PySoundFile failed. Trying audioread instead.\n",
      "  stem_audio, _ = librosa.load(f\"{path}/stems/{stem}.wav\", sr=None)\n",
      "/Users/mariapolak/miniconda3/envs/mlme/lib/python3.11/site-packages/librosa/core/audio.py:184: FutureWarning: librosa.core.audio.__audioread_load\n",
      "\tDeprecated as of librosa version 0.10.0.\n",
      "\tIt will be removed in librosa version 1.0.\n",
      "  y, sr_native = __audioread_load(path, offset, duration, dtype)\n"
     ]
    },
    {
     "name": "stdout",
     "output_type": "stream",
     "text": [
      "Error reading S11\n",
      "Error reading S11\n"
     ]
    },
    {
     "name": "stderr",
     "output_type": "stream",
     "text": [
      "/var/folders/9b/646lmqp56b53pz1fqqr9x5gw0000gn/T/ipykernel_85422/370983470.py:16: UserWarning: PySoundFile failed. Trying audioread instead.\n",
      "  stem_audio, _ = librosa.load(f\"{path}/stems/{stem}.wav\", sr=None)\n",
      "/Users/mariapolak/miniconda3/envs/mlme/lib/python3.11/site-packages/librosa/core/audio.py:184: FutureWarning: librosa.core.audio.__audioread_load\n",
      "\tDeprecated as of librosa version 0.10.0.\n",
      "\tIt will be removed in librosa version 1.0.\n",
      "  y, sr_native = __audioread_load(path, offset, duration, dtype)\n",
      "/var/folders/9b/646lmqp56b53pz1fqqr9x5gw0000gn/T/ipykernel_85422/370983470.py:16: UserWarning: PySoundFile failed. Trying audioread instead.\n",
      "  stem_audio, _ = librosa.load(f\"{path}/stems/{stem}.wav\", sr=None)\n",
      "/Users/mariapolak/miniconda3/envs/mlme/lib/python3.11/site-packages/librosa/core/audio.py:184: FutureWarning: librosa.core.audio.__audioread_load\n",
      "\tDeprecated as of librosa version 0.10.0.\n",
      "\tIt will be removed in librosa version 1.0.\n",
      "  y, sr_native = __audioread_load(path, offset, duration, dtype)\n"
     ]
    },
    {
     "name": "stdout",
     "output_type": "stream",
     "text": [
      "Error reading S11\n",
      "Error reading S11\n"
     ]
    },
    {
     "name": "stderr",
     "output_type": "stream",
     "text": [
      "/var/folders/9b/646lmqp56b53pz1fqqr9x5gw0000gn/T/ipykernel_85422/370983470.py:16: UserWarning: PySoundFile failed. Trying audioread instead.\n",
      "  stem_audio, _ = librosa.load(f\"{path}/stems/{stem}.wav\", sr=None)\n",
      "/Users/mariapolak/miniconda3/envs/mlme/lib/python3.11/site-packages/librosa/core/audio.py:184: FutureWarning: librosa.core.audio.__audioread_load\n",
      "\tDeprecated as of librosa version 0.10.0.\n",
      "\tIt will be removed in librosa version 1.0.\n",
      "  y, sr_native = __audioread_load(path, offset, duration, dtype)\n",
      "/var/folders/9b/646lmqp56b53pz1fqqr9x5gw0000gn/T/ipykernel_85422/370983470.py:16: UserWarning: PySoundFile failed. Trying audioread instead.\n",
      "  stem_audio, _ = librosa.load(f\"{path}/stems/{stem}.wav\", sr=None)\n",
      "/Users/mariapolak/miniconda3/envs/mlme/lib/python3.11/site-packages/librosa/core/audio.py:184: FutureWarning: librosa.core.audio.__audioread_load\n",
      "\tDeprecated as of librosa version 0.10.0.\n",
      "\tIt will be removed in librosa version 1.0.\n",
      "  y, sr_native = __audioread_load(path, offset, duration, dtype)\n"
     ]
    },
    {
     "name": "stdout",
     "output_type": "stream",
     "text": [
      "Error reading S11\n",
      "Error reading S11\n"
     ]
    },
    {
     "name": "stderr",
     "output_type": "stream",
     "text": [
      "/var/folders/9b/646lmqp56b53pz1fqqr9x5gw0000gn/T/ipykernel_85422/370983470.py:16: UserWarning: PySoundFile failed. Trying audioread instead.\n",
      "  stem_audio, _ = librosa.load(f\"{path}/stems/{stem}.wav\", sr=None)\n",
      "/Users/mariapolak/miniconda3/envs/mlme/lib/python3.11/site-packages/librosa/core/audio.py:184: FutureWarning: librosa.core.audio.__audioread_load\n",
      "\tDeprecated as of librosa version 0.10.0.\n",
      "\tIt will be removed in librosa version 1.0.\n",
      "  y, sr_native = __audioread_load(path, offset, duration, dtype)\n",
      "/var/folders/9b/646lmqp56b53pz1fqqr9x5gw0000gn/T/ipykernel_85422/370983470.py:16: UserWarning: PySoundFile failed. Trying audioread instead.\n",
      "  stem_audio, _ = librosa.load(f\"{path}/stems/{stem}.wav\", sr=None)\n",
      "/Users/mariapolak/miniconda3/envs/mlme/lib/python3.11/site-packages/librosa/core/audio.py:184: FutureWarning: librosa.core.audio.__audioread_load\n",
      "\tDeprecated as of librosa version 0.10.0.\n",
      "\tIt will be removed in librosa version 1.0.\n",
      "  y, sr_native = __audioread_load(path, offset, duration, dtype)\n"
     ]
    },
    {
     "name": "stdout",
     "output_type": "stream",
     "text": [
      "Error reading S11\n",
      "Error reading S11\n"
     ]
    },
    {
     "name": "stderr",
     "output_type": "stream",
     "text": [
      "/var/folders/9b/646lmqp56b53pz1fqqr9x5gw0000gn/T/ipykernel_85422/370983470.py:16: UserWarning: PySoundFile failed. Trying audioread instead.\n",
      "  stem_audio, _ = librosa.load(f\"{path}/stems/{stem}.wav\", sr=None)\n",
      "/Users/mariapolak/miniconda3/envs/mlme/lib/python3.11/site-packages/librosa/core/audio.py:184: FutureWarning: librosa.core.audio.__audioread_load\n",
      "\tDeprecated as of librosa version 0.10.0.\n",
      "\tIt will be removed in librosa version 1.0.\n",
      "  y, sr_native = __audioread_load(path, offset, duration, dtype)\n",
      "/var/folders/9b/646lmqp56b53pz1fqqr9x5gw0000gn/T/ipykernel_85422/370983470.py:16: UserWarning: PySoundFile failed. Trying audioread instead.\n",
      "  stem_audio, _ = librosa.load(f\"{path}/stems/{stem}.wav\", sr=None)\n",
      "/Users/mariapolak/miniconda3/envs/mlme/lib/python3.11/site-packages/librosa/core/audio.py:184: FutureWarning: librosa.core.audio.__audioread_load\n",
      "\tDeprecated as of librosa version 0.10.0.\n",
      "\tIt will be removed in librosa version 1.0.\n",
      "  y, sr_native = __audioread_load(path, offset, duration, dtype)\n"
     ]
    },
    {
     "name": "stdout",
     "output_type": "stream",
     "text": [
      "Error reading S11\n",
      "Error reading S11\n"
     ]
    },
    {
     "name": "stderr",
     "output_type": "stream",
     "text": [
      "/var/folders/9b/646lmqp56b53pz1fqqr9x5gw0000gn/T/ipykernel_85422/370983470.py:16: UserWarning: PySoundFile failed. Trying audioread instead.\n",
      "  stem_audio, _ = librosa.load(f\"{path}/stems/{stem}.wav\", sr=None)\n",
      "/Users/mariapolak/miniconda3/envs/mlme/lib/python3.11/site-packages/librosa/core/audio.py:184: FutureWarning: librosa.core.audio.__audioread_load\n",
      "\tDeprecated as of librosa version 0.10.0.\n",
      "\tIt will be removed in librosa version 1.0.\n",
      "  y, sr_native = __audioread_load(path, offset, duration, dtype)\n",
      "/var/folders/9b/646lmqp56b53pz1fqqr9x5gw0000gn/T/ipykernel_85422/370983470.py:16: UserWarning: PySoundFile failed. Trying audioread instead.\n",
      "  stem_audio, _ = librosa.load(f\"{path}/stems/{stem}.wav\", sr=None)\n",
      "/Users/mariapolak/miniconda3/envs/mlme/lib/python3.11/site-packages/librosa/core/audio.py:184: FutureWarning: librosa.core.audio.__audioread_load\n",
      "\tDeprecated as of librosa version 0.10.0.\n",
      "\tIt will be removed in librosa version 1.0.\n",
      "  y, sr_native = __audioread_load(path, offset, duration, dtype)\n"
     ]
    },
    {
     "name": "stdout",
     "output_type": "stream",
     "text": [
      "Error reading S11\n",
      "Error reading S11\n"
     ]
    },
    {
     "name": "stderr",
     "output_type": "stream",
     "text": [
      "/var/folders/9b/646lmqp56b53pz1fqqr9x5gw0000gn/T/ipykernel_85422/370983470.py:16: UserWarning: PySoundFile failed. Trying audioread instead.\n",
      "  stem_audio, _ = librosa.load(f\"{path}/stems/{stem}.wav\", sr=None)\n",
      "/Users/mariapolak/miniconda3/envs/mlme/lib/python3.11/site-packages/librosa/core/audio.py:184: FutureWarning: librosa.core.audio.__audioread_load\n",
      "\tDeprecated as of librosa version 0.10.0.\n",
      "\tIt will be removed in librosa version 1.0.\n",
      "  y, sr_native = __audioread_load(path, offset, duration, dtype)\n",
      "/var/folders/9b/646lmqp56b53pz1fqqr9x5gw0000gn/T/ipykernel_85422/370983470.py:16: UserWarning: PySoundFile failed. Trying audioread instead.\n",
      "  stem_audio, _ = librosa.load(f\"{path}/stems/{stem}.wav\", sr=None)\n",
      "/Users/mariapolak/miniconda3/envs/mlme/lib/python3.11/site-packages/librosa/core/audio.py:184: FutureWarning: librosa.core.audio.__audioread_load\n",
      "\tDeprecated as of librosa version 0.10.0.\n",
      "\tIt will be removed in librosa version 1.0.\n",
      "  y, sr_native = __audioread_load(path, offset, duration, dtype)\n"
     ]
    },
    {
     "name": "stdout",
     "output_type": "stream",
     "text": [
      "Error reading S11\n",
      "Error reading S11\n"
     ]
    },
    {
     "name": "stderr",
     "output_type": "stream",
     "text": [
      "/var/folders/9b/646lmqp56b53pz1fqqr9x5gw0000gn/T/ipykernel_85422/370983470.py:16: UserWarning: PySoundFile failed. Trying audioread instead.\n",
      "  stem_audio, _ = librosa.load(f\"{path}/stems/{stem}.wav\", sr=None)\n",
      "/Users/mariapolak/miniconda3/envs/mlme/lib/python3.11/site-packages/librosa/core/audio.py:184: FutureWarning: librosa.core.audio.__audioread_load\n",
      "\tDeprecated as of librosa version 0.10.0.\n",
      "\tIt will be removed in librosa version 1.0.\n",
      "  y, sr_native = __audioread_load(path, offset, duration, dtype)\n"
     ]
    },
    {
     "name": "stdout",
     "output_type": "stream",
     "text": [
      "Error reading S11\n"
     ]
    },
    {
     "name": "stderr",
     "output_type": "stream",
     "text": [
      "/var/folders/9b/646lmqp56b53pz1fqqr9x5gw0000gn/T/ipykernel_85422/370983470.py:16: UserWarning: PySoundFile failed. Trying audioread instead.\n",
      "  stem_audio, _ = librosa.load(f\"{path}/stems/{stem}.wav\", sr=None)\n",
      "/Users/mariapolak/miniconda3/envs/mlme/lib/python3.11/site-packages/librosa/core/audio.py:184: FutureWarning: librosa.core.audio.__audioread_load\n",
      "\tDeprecated as of librosa version 0.10.0.\n",
      "\tIt will be removed in librosa version 1.0.\n",
      "  y, sr_native = __audioread_load(path, offset, duration, dtype)\n",
      "/var/folders/9b/646lmqp56b53pz1fqqr9x5gw0000gn/T/ipykernel_85422/370983470.py:16: UserWarning: PySoundFile failed. Trying audioread instead.\n",
      "  stem_audio, _ = librosa.load(f\"{path}/stems/{stem}.wav\", sr=None)\n",
      "/Users/mariapolak/miniconda3/envs/mlme/lib/python3.11/site-packages/librosa/core/audio.py:184: FutureWarning: librosa.core.audio.__audioread_load\n",
      "\tDeprecated as of librosa version 0.10.0.\n",
      "\tIt will be removed in librosa version 1.0.\n",
      "  y, sr_native = __audioread_load(path, offset, duration, dtype)\n"
     ]
    },
    {
     "name": "stdout",
     "output_type": "stream",
     "text": [
      "Error reading S11\n",
      "Error reading S11\n"
     ]
    },
    {
     "name": "stderr",
     "output_type": "stream",
     "text": [
      "/var/folders/9b/646lmqp56b53pz1fqqr9x5gw0000gn/T/ipykernel_85422/370983470.py:16: UserWarning: PySoundFile failed. Trying audioread instead.\n",
      "  stem_audio, _ = librosa.load(f\"{path}/stems/{stem}.wav\", sr=None)\n",
      "/Users/mariapolak/miniconda3/envs/mlme/lib/python3.11/site-packages/librosa/core/audio.py:184: FutureWarning: librosa.core.audio.__audioread_load\n",
      "\tDeprecated as of librosa version 0.10.0.\n",
      "\tIt will be removed in librosa version 1.0.\n",
      "  y, sr_native = __audioread_load(path, offset, duration, dtype)\n",
      "/var/folders/9b/646lmqp56b53pz1fqqr9x5gw0000gn/T/ipykernel_85422/370983470.py:16: UserWarning: PySoundFile failed. Trying audioread instead.\n",
      "  stem_audio, _ = librosa.load(f\"{path}/stems/{stem}.wav\", sr=None)\n",
      "/Users/mariapolak/miniconda3/envs/mlme/lib/python3.11/site-packages/librosa/core/audio.py:184: FutureWarning: librosa.core.audio.__audioread_load\n",
      "\tDeprecated as of librosa version 0.10.0.\n",
      "\tIt will be removed in librosa version 1.0.\n",
      "  y, sr_native = __audioread_load(path, offset, duration, dtype)\n"
     ]
    },
    {
     "name": "stdout",
     "output_type": "stream",
     "text": [
      "Error reading S11\n",
      "Error reading S11\n"
     ]
    },
    {
     "name": "stderr",
     "output_type": "stream",
     "text": [
      "/var/folders/9b/646lmqp56b53pz1fqqr9x5gw0000gn/T/ipykernel_85422/370983470.py:16: UserWarning: PySoundFile failed. Trying audioread instead.\n",
      "  stem_audio, _ = librosa.load(f\"{path}/stems/{stem}.wav\", sr=None)\n",
      "/Users/mariapolak/miniconda3/envs/mlme/lib/python3.11/site-packages/librosa/core/audio.py:184: FutureWarning: librosa.core.audio.__audioread_load\n",
      "\tDeprecated as of librosa version 0.10.0.\n",
      "\tIt will be removed in librosa version 1.0.\n",
      "  y, sr_native = __audioread_load(path, offset, duration, dtype)\n",
      "/var/folders/9b/646lmqp56b53pz1fqqr9x5gw0000gn/T/ipykernel_85422/370983470.py:16: UserWarning: PySoundFile failed. Trying audioread instead.\n",
      "  stem_audio, _ = librosa.load(f\"{path}/stems/{stem}.wav\", sr=None)\n",
      "/Users/mariapolak/miniconda3/envs/mlme/lib/python3.11/site-packages/librosa/core/audio.py:184: FutureWarning: librosa.core.audio.__audioread_load\n",
      "\tDeprecated as of librosa version 0.10.0.\n",
      "\tIt will be removed in librosa version 1.0.\n",
      "  y, sr_native = __audioread_load(path, offset, duration, dtype)\n"
     ]
    },
    {
     "name": "stdout",
     "output_type": "stream",
     "text": [
      "Error reading S11\n",
      "Error reading S11\n"
     ]
    },
    {
     "name": "stderr",
     "output_type": "stream",
     "text": [
      "/var/folders/9b/646lmqp56b53pz1fqqr9x5gw0000gn/T/ipykernel_85422/370983470.py:16: UserWarning: PySoundFile failed. Trying audioread instead.\n",
      "  stem_audio, _ = librosa.load(f\"{path}/stems/{stem}.wav\", sr=None)\n",
      "/Users/mariapolak/miniconda3/envs/mlme/lib/python3.11/site-packages/librosa/core/audio.py:184: FutureWarning: librosa.core.audio.__audioread_load\n",
      "\tDeprecated as of librosa version 0.10.0.\n",
      "\tIt will be removed in librosa version 1.0.\n",
      "  y, sr_native = __audioread_load(path, offset, duration, dtype)\n",
      "/var/folders/9b/646lmqp56b53pz1fqqr9x5gw0000gn/T/ipykernel_85422/370983470.py:16: UserWarning: PySoundFile failed. Trying audioread instead.\n",
      "  stem_audio, _ = librosa.load(f\"{path}/stems/{stem}.wav\", sr=None)\n",
      "/Users/mariapolak/miniconda3/envs/mlme/lib/python3.11/site-packages/librosa/core/audio.py:184: FutureWarning: librosa.core.audio.__audioread_load\n",
      "\tDeprecated as of librosa version 0.10.0.\n",
      "\tIt will be removed in librosa version 1.0.\n",
      "  y, sr_native = __audioread_load(path, offset, duration, dtype)\n"
     ]
    },
    {
     "name": "stdout",
     "output_type": "stream",
     "text": [
      "Error reading S11\n",
      "Error reading S11\n"
     ]
    },
    {
     "name": "stderr",
     "output_type": "stream",
     "text": [
      "/var/folders/9b/646lmqp56b53pz1fqqr9x5gw0000gn/T/ipykernel_85422/370983470.py:16: UserWarning: PySoundFile failed. Trying audioread instead.\n",
      "  stem_audio, _ = librosa.load(f\"{path}/stems/{stem}.wav\", sr=None)\n",
      "/Users/mariapolak/miniconda3/envs/mlme/lib/python3.11/site-packages/librosa/core/audio.py:184: FutureWarning: librosa.core.audio.__audioread_load\n",
      "\tDeprecated as of librosa version 0.10.0.\n",
      "\tIt will be removed in librosa version 1.0.\n",
      "  y, sr_native = __audioread_load(path, offset, duration, dtype)\n",
      "/var/folders/9b/646lmqp56b53pz1fqqr9x5gw0000gn/T/ipykernel_85422/370983470.py:16: UserWarning: PySoundFile failed. Trying audioread instead.\n",
      "  stem_audio, _ = librosa.load(f\"{path}/stems/{stem}.wav\", sr=None)\n",
      "/Users/mariapolak/miniconda3/envs/mlme/lib/python3.11/site-packages/librosa/core/audio.py:184: FutureWarning: librosa.core.audio.__audioread_load\n",
      "\tDeprecated as of librosa version 0.10.0.\n",
      "\tIt will be removed in librosa version 1.0.\n",
      "  y, sr_native = __audioread_load(path, offset, duration, dtype)\n"
     ]
    },
    {
     "name": "stdout",
     "output_type": "stream",
     "text": [
      "Error reading S11\n",
      "Error reading S11\n"
     ]
    },
    {
     "name": "stderr",
     "output_type": "stream",
     "text": [
      "/var/folders/9b/646lmqp56b53pz1fqqr9x5gw0000gn/T/ipykernel_85422/370983470.py:16: UserWarning: PySoundFile failed. Trying audioread instead.\n",
      "  stem_audio, _ = librosa.load(f\"{path}/stems/{stem}.wav\", sr=None)\n",
      "/Users/mariapolak/miniconda3/envs/mlme/lib/python3.11/site-packages/librosa/core/audio.py:184: FutureWarning: librosa.core.audio.__audioread_load\n",
      "\tDeprecated as of librosa version 0.10.0.\n",
      "\tIt will be removed in librosa version 1.0.\n",
      "  y, sr_native = __audioread_load(path, offset, duration, dtype)\n",
      "/var/folders/9b/646lmqp56b53pz1fqqr9x5gw0000gn/T/ipykernel_85422/370983470.py:16: UserWarning: PySoundFile failed. Trying audioread instead.\n",
      "  stem_audio, _ = librosa.load(f\"{path}/stems/{stem}.wav\", sr=None)\n",
      "/Users/mariapolak/miniconda3/envs/mlme/lib/python3.11/site-packages/librosa/core/audio.py:184: FutureWarning: librosa.core.audio.__audioread_load\n",
      "\tDeprecated as of librosa version 0.10.0.\n",
      "\tIt will be removed in librosa version 1.0.\n",
      "  y, sr_native = __audioread_load(path, offset, duration, dtype)\n"
     ]
    },
    {
     "name": "stdout",
     "output_type": "stream",
     "text": [
      "Error reading S11\n",
      "Error reading S11\n"
     ]
    },
    {
     "name": "stderr",
     "output_type": "stream",
     "text": [
      "/var/folders/9b/646lmqp56b53pz1fqqr9x5gw0000gn/T/ipykernel_85422/370983470.py:16: UserWarning: PySoundFile failed. Trying audioread instead.\n",
      "  stem_audio, _ = librosa.load(f\"{path}/stems/{stem}.wav\", sr=None)\n",
      "/Users/mariapolak/miniconda3/envs/mlme/lib/python3.11/site-packages/librosa/core/audio.py:184: FutureWarning: librosa.core.audio.__audioread_load\n",
      "\tDeprecated as of librosa version 0.10.0.\n",
      "\tIt will be removed in librosa version 1.0.\n",
      "  y, sr_native = __audioread_load(path, offset, duration, dtype)\n",
      "/var/folders/9b/646lmqp56b53pz1fqqr9x5gw0000gn/T/ipykernel_85422/370983470.py:16: UserWarning: PySoundFile failed. Trying audioread instead.\n",
      "  stem_audio, _ = librosa.load(f\"{path}/stems/{stem}.wav\", sr=None)\n",
      "/Users/mariapolak/miniconda3/envs/mlme/lib/python3.11/site-packages/librosa/core/audio.py:184: FutureWarning: librosa.core.audio.__audioread_load\n",
      "\tDeprecated as of librosa version 0.10.0.\n",
      "\tIt will be removed in librosa version 1.0.\n",
      "  y, sr_native = __audioread_load(path, offset, duration, dtype)\n"
     ]
    },
    {
     "name": "stdout",
     "output_type": "stream",
     "text": [
      "Error reading S11\n",
      "Error reading S11\n"
     ]
    },
    {
     "name": "stderr",
     "output_type": "stream",
     "text": [
      "/var/folders/9b/646lmqp56b53pz1fqqr9x5gw0000gn/T/ipykernel_85422/370983470.py:16: UserWarning: PySoundFile failed. Trying audioread instead.\n",
      "  stem_audio, _ = librosa.load(f\"{path}/stems/{stem}.wav\", sr=None)\n",
      "/Users/mariapolak/miniconda3/envs/mlme/lib/python3.11/site-packages/librosa/core/audio.py:184: FutureWarning: librosa.core.audio.__audioread_load\n",
      "\tDeprecated as of librosa version 0.10.0.\n",
      "\tIt will be removed in librosa version 1.0.\n",
      "  y, sr_native = __audioread_load(path, offset, duration, dtype)\n"
     ]
    },
    {
     "name": "stdout",
     "output_type": "stream",
     "text": [
      "Error reading S11\n"
     ]
    },
    {
     "name": "stderr",
     "output_type": "stream",
     "text": [
      "/var/folders/9b/646lmqp56b53pz1fqqr9x5gw0000gn/T/ipykernel_85422/370983470.py:16: UserWarning: PySoundFile failed. Trying audioread instead.\n",
      "  stem_audio, _ = librosa.load(f\"{path}/stems/{stem}.wav\", sr=None)\n",
      "/Users/mariapolak/miniconda3/envs/mlme/lib/python3.11/site-packages/librosa/core/audio.py:184: FutureWarning: librosa.core.audio.__audioread_load\n",
      "\tDeprecated as of librosa version 0.10.0.\n",
      "\tIt will be removed in librosa version 1.0.\n",
      "  y, sr_native = __audioread_load(path, offset, duration, dtype)\n",
      "/var/folders/9b/646lmqp56b53pz1fqqr9x5gw0000gn/T/ipykernel_85422/370983470.py:16: UserWarning: PySoundFile failed. Trying audioread instead.\n",
      "  stem_audio, _ = librosa.load(f\"{path}/stems/{stem}.wav\", sr=None)\n",
      "/Users/mariapolak/miniconda3/envs/mlme/lib/python3.11/site-packages/librosa/core/audio.py:184: FutureWarning: librosa.core.audio.__audioread_load\n",
      "\tDeprecated as of librosa version 0.10.0.\n",
      "\tIt will be removed in librosa version 1.0.\n",
      "  y, sr_native = __audioread_load(path, offset, duration, dtype)\n"
     ]
    },
    {
     "name": "stdout",
     "output_type": "stream",
     "text": [
      "Error reading S11\n",
      "Processing: datasets/babyslakh_16k/Track00013\n",
      "Error reading S02\n"
     ]
    },
    {
     "name": "stderr",
     "output_type": "stream",
     "text": [
      "/var/folders/9b/646lmqp56b53pz1fqqr9x5gw0000gn/T/ipykernel_85422/370983470.py:16: UserWarning: PySoundFile failed. Trying audioread instead.\n",
      "  stem_audio, _ = librosa.load(f\"{path}/stems/{stem}.wav\", sr=None)\n",
      "/Users/mariapolak/miniconda3/envs/mlme/lib/python3.11/site-packages/librosa/core/audio.py:184: FutureWarning: librosa.core.audio.__audioread_load\n",
      "\tDeprecated as of librosa version 0.10.0.\n",
      "\tIt will be removed in librosa version 1.0.\n",
      "  y, sr_native = __audioread_load(path, offset, duration, dtype)\n",
      "/var/folders/9b/646lmqp56b53pz1fqqr9x5gw0000gn/T/ipykernel_85422/370983470.py:16: UserWarning: PySoundFile failed. Trying audioread instead.\n",
      "  stem_audio, _ = librosa.load(f\"{path}/stems/{stem}.wav\", sr=None)\n",
      "/Users/mariapolak/miniconda3/envs/mlme/lib/python3.11/site-packages/librosa/core/audio.py:184: FutureWarning: librosa.core.audio.__audioread_load\n",
      "\tDeprecated as of librosa version 0.10.0.\n",
      "\tIt will be removed in librosa version 1.0.\n",
      "  y, sr_native = __audioread_load(path, offset, duration, dtype)\n"
     ]
    },
    {
     "name": "stdout",
     "output_type": "stream",
     "text": [
      "Error reading S02\n",
      "Error reading S02\n"
     ]
    },
    {
     "name": "stderr",
     "output_type": "stream",
     "text": [
      "/var/folders/9b/646lmqp56b53pz1fqqr9x5gw0000gn/T/ipykernel_85422/370983470.py:16: UserWarning: PySoundFile failed. Trying audioread instead.\n",
      "  stem_audio, _ = librosa.load(f\"{path}/stems/{stem}.wav\", sr=None)\n",
      "/Users/mariapolak/miniconda3/envs/mlme/lib/python3.11/site-packages/librosa/core/audio.py:184: FutureWarning: librosa.core.audio.__audioread_load\n",
      "\tDeprecated as of librosa version 0.10.0.\n",
      "\tIt will be removed in librosa version 1.0.\n",
      "  y, sr_native = __audioread_load(path, offset, duration, dtype)\n",
      "/var/folders/9b/646lmqp56b53pz1fqqr9x5gw0000gn/T/ipykernel_85422/370983470.py:16: UserWarning: PySoundFile failed. Trying audioread instead.\n",
      "  stem_audio, _ = librosa.load(f\"{path}/stems/{stem}.wav\", sr=None)\n",
      "/Users/mariapolak/miniconda3/envs/mlme/lib/python3.11/site-packages/librosa/core/audio.py:184: FutureWarning: librosa.core.audio.__audioread_load\n",
      "\tDeprecated as of librosa version 0.10.0.\n",
      "\tIt will be removed in librosa version 1.0.\n",
      "  y, sr_native = __audioread_load(path, offset, duration, dtype)\n"
     ]
    },
    {
     "name": "stdout",
     "output_type": "stream",
     "text": [
      "Error reading S02\n",
      "Error reading S02\n"
     ]
    },
    {
     "name": "stderr",
     "output_type": "stream",
     "text": [
      "/var/folders/9b/646lmqp56b53pz1fqqr9x5gw0000gn/T/ipykernel_85422/370983470.py:16: UserWarning: PySoundFile failed. Trying audioread instead.\n",
      "  stem_audio, _ = librosa.load(f\"{path}/stems/{stem}.wav\", sr=None)\n",
      "/Users/mariapolak/miniconda3/envs/mlme/lib/python3.11/site-packages/librosa/core/audio.py:184: FutureWarning: librosa.core.audio.__audioread_load\n",
      "\tDeprecated as of librosa version 0.10.0.\n",
      "\tIt will be removed in librosa version 1.0.\n",
      "  y, sr_native = __audioread_load(path, offset, duration, dtype)\n",
      "/var/folders/9b/646lmqp56b53pz1fqqr9x5gw0000gn/T/ipykernel_85422/370983470.py:16: UserWarning: PySoundFile failed. Trying audioread instead.\n",
      "  stem_audio, _ = librosa.load(f\"{path}/stems/{stem}.wav\", sr=None)\n",
      "/Users/mariapolak/miniconda3/envs/mlme/lib/python3.11/site-packages/librosa/core/audio.py:184: FutureWarning: librosa.core.audio.__audioread_load\n",
      "\tDeprecated as of librosa version 0.10.0.\n",
      "\tIt will be removed in librosa version 1.0.\n",
      "  y, sr_native = __audioread_load(path, offset, duration, dtype)\n"
     ]
    },
    {
     "name": "stdout",
     "output_type": "stream",
     "text": [
      "Error reading S02\n",
      "Error reading S02\n"
     ]
    },
    {
     "name": "stderr",
     "output_type": "stream",
     "text": [
      "/var/folders/9b/646lmqp56b53pz1fqqr9x5gw0000gn/T/ipykernel_85422/370983470.py:16: UserWarning: PySoundFile failed. Trying audioread instead.\n",
      "  stem_audio, _ = librosa.load(f\"{path}/stems/{stem}.wav\", sr=None)\n",
      "/Users/mariapolak/miniconda3/envs/mlme/lib/python3.11/site-packages/librosa/core/audio.py:184: FutureWarning: librosa.core.audio.__audioread_load\n",
      "\tDeprecated as of librosa version 0.10.0.\n",
      "\tIt will be removed in librosa version 1.0.\n",
      "  y, sr_native = __audioread_load(path, offset, duration, dtype)\n",
      "/var/folders/9b/646lmqp56b53pz1fqqr9x5gw0000gn/T/ipykernel_85422/370983470.py:16: UserWarning: PySoundFile failed. Trying audioread instead.\n",
      "  stem_audio, _ = librosa.load(f\"{path}/stems/{stem}.wav\", sr=None)\n",
      "/Users/mariapolak/miniconda3/envs/mlme/lib/python3.11/site-packages/librosa/core/audio.py:184: FutureWarning: librosa.core.audio.__audioread_load\n",
      "\tDeprecated as of librosa version 0.10.0.\n",
      "\tIt will be removed in librosa version 1.0.\n",
      "  y, sr_native = __audioread_load(path, offset, duration, dtype)\n"
     ]
    },
    {
     "name": "stdout",
     "output_type": "stream",
     "text": [
      "Error reading S02\n",
      "Error reading S02\n"
     ]
    },
    {
     "name": "stderr",
     "output_type": "stream",
     "text": [
      "/var/folders/9b/646lmqp56b53pz1fqqr9x5gw0000gn/T/ipykernel_85422/370983470.py:16: UserWarning: PySoundFile failed. Trying audioread instead.\n",
      "  stem_audio, _ = librosa.load(f\"{path}/stems/{stem}.wav\", sr=None)\n",
      "/Users/mariapolak/miniconda3/envs/mlme/lib/python3.11/site-packages/librosa/core/audio.py:184: FutureWarning: librosa.core.audio.__audioread_load\n",
      "\tDeprecated as of librosa version 0.10.0.\n",
      "\tIt will be removed in librosa version 1.0.\n",
      "  y, sr_native = __audioread_load(path, offset, duration, dtype)\n",
      "/var/folders/9b/646lmqp56b53pz1fqqr9x5gw0000gn/T/ipykernel_85422/370983470.py:16: UserWarning: PySoundFile failed. Trying audioread instead.\n",
      "  stem_audio, _ = librosa.load(f\"{path}/stems/{stem}.wav\", sr=None)\n",
      "/Users/mariapolak/miniconda3/envs/mlme/lib/python3.11/site-packages/librosa/core/audio.py:184: FutureWarning: librosa.core.audio.__audioread_load\n",
      "\tDeprecated as of librosa version 0.10.0.\n",
      "\tIt will be removed in librosa version 1.0.\n",
      "  y, sr_native = __audioread_load(path, offset, duration, dtype)\n"
     ]
    },
    {
     "name": "stdout",
     "output_type": "stream",
     "text": [
      "Error reading S02\n",
      "Error reading S02\n"
     ]
    },
    {
     "name": "stderr",
     "output_type": "stream",
     "text": [
      "/var/folders/9b/646lmqp56b53pz1fqqr9x5gw0000gn/T/ipykernel_85422/370983470.py:16: UserWarning: PySoundFile failed. Trying audioread instead.\n",
      "  stem_audio, _ = librosa.load(f\"{path}/stems/{stem}.wav\", sr=None)\n",
      "/Users/mariapolak/miniconda3/envs/mlme/lib/python3.11/site-packages/librosa/core/audio.py:184: FutureWarning: librosa.core.audio.__audioread_load\n",
      "\tDeprecated as of librosa version 0.10.0.\n",
      "\tIt will be removed in librosa version 1.0.\n",
      "  y, sr_native = __audioread_load(path, offset, duration, dtype)\n",
      "/var/folders/9b/646lmqp56b53pz1fqqr9x5gw0000gn/T/ipykernel_85422/370983470.py:16: UserWarning: PySoundFile failed. Trying audioread instead.\n",
      "  stem_audio, _ = librosa.load(f\"{path}/stems/{stem}.wav\", sr=None)\n",
      "/Users/mariapolak/miniconda3/envs/mlme/lib/python3.11/site-packages/librosa/core/audio.py:184: FutureWarning: librosa.core.audio.__audioread_load\n",
      "\tDeprecated as of librosa version 0.10.0.\n",
      "\tIt will be removed in librosa version 1.0.\n",
      "  y, sr_native = __audioread_load(path, offset, duration, dtype)\n"
     ]
    },
    {
     "name": "stdout",
     "output_type": "stream",
     "text": [
      "Error reading S02\n",
      "Error reading S02\n"
     ]
    },
    {
     "name": "stderr",
     "output_type": "stream",
     "text": [
      "/var/folders/9b/646lmqp56b53pz1fqqr9x5gw0000gn/T/ipykernel_85422/370983470.py:16: UserWarning: PySoundFile failed. Trying audioread instead.\n",
      "  stem_audio, _ = librosa.load(f\"{path}/stems/{stem}.wav\", sr=None)\n",
      "/Users/mariapolak/miniconda3/envs/mlme/lib/python3.11/site-packages/librosa/core/audio.py:184: FutureWarning: librosa.core.audio.__audioread_load\n",
      "\tDeprecated as of librosa version 0.10.0.\n",
      "\tIt will be removed in librosa version 1.0.\n",
      "  y, sr_native = __audioread_load(path, offset, duration, dtype)\n",
      "/var/folders/9b/646lmqp56b53pz1fqqr9x5gw0000gn/T/ipykernel_85422/370983470.py:16: UserWarning: PySoundFile failed. Trying audioread instead.\n",
      "  stem_audio, _ = librosa.load(f\"{path}/stems/{stem}.wav\", sr=None)\n",
      "/Users/mariapolak/miniconda3/envs/mlme/lib/python3.11/site-packages/librosa/core/audio.py:184: FutureWarning: librosa.core.audio.__audioread_load\n",
      "\tDeprecated as of librosa version 0.10.0.\n",
      "\tIt will be removed in librosa version 1.0.\n",
      "  y, sr_native = __audioread_load(path, offset, duration, dtype)\n"
     ]
    },
    {
     "name": "stdout",
     "output_type": "stream",
     "text": [
      "Error reading S02\n",
      "Error reading S02\n"
     ]
    },
    {
     "name": "stderr",
     "output_type": "stream",
     "text": [
      "/var/folders/9b/646lmqp56b53pz1fqqr9x5gw0000gn/T/ipykernel_85422/370983470.py:16: UserWarning: PySoundFile failed. Trying audioread instead.\n",
      "  stem_audio, _ = librosa.load(f\"{path}/stems/{stem}.wav\", sr=None)\n",
      "/Users/mariapolak/miniconda3/envs/mlme/lib/python3.11/site-packages/librosa/core/audio.py:184: FutureWarning: librosa.core.audio.__audioread_load\n",
      "\tDeprecated as of librosa version 0.10.0.\n",
      "\tIt will be removed in librosa version 1.0.\n",
      "  y, sr_native = __audioread_load(path, offset, duration, dtype)\n",
      "/var/folders/9b/646lmqp56b53pz1fqqr9x5gw0000gn/T/ipykernel_85422/370983470.py:16: UserWarning: PySoundFile failed. Trying audioread instead.\n",
      "  stem_audio, _ = librosa.load(f\"{path}/stems/{stem}.wav\", sr=None)\n",
      "/Users/mariapolak/miniconda3/envs/mlme/lib/python3.11/site-packages/librosa/core/audio.py:184: FutureWarning: librosa.core.audio.__audioread_load\n",
      "\tDeprecated as of librosa version 0.10.0.\n",
      "\tIt will be removed in librosa version 1.0.\n",
      "  y, sr_native = __audioread_load(path, offset, duration, dtype)\n"
     ]
    },
    {
     "name": "stdout",
     "output_type": "stream",
     "text": [
      "Error reading S02\n",
      "Error reading S02\n"
     ]
    },
    {
     "name": "stderr",
     "output_type": "stream",
     "text": [
      "/var/folders/9b/646lmqp56b53pz1fqqr9x5gw0000gn/T/ipykernel_85422/370983470.py:16: UserWarning: PySoundFile failed. Trying audioread instead.\n",
      "  stem_audio, _ = librosa.load(f\"{path}/stems/{stem}.wav\", sr=None)\n",
      "/Users/mariapolak/miniconda3/envs/mlme/lib/python3.11/site-packages/librosa/core/audio.py:184: FutureWarning: librosa.core.audio.__audioread_load\n",
      "\tDeprecated as of librosa version 0.10.0.\n",
      "\tIt will be removed in librosa version 1.0.\n",
      "  y, sr_native = __audioread_load(path, offset, duration, dtype)\n",
      "/var/folders/9b/646lmqp56b53pz1fqqr9x5gw0000gn/T/ipykernel_85422/370983470.py:16: UserWarning: PySoundFile failed. Trying audioread instead.\n",
      "  stem_audio, _ = librosa.load(f\"{path}/stems/{stem}.wav\", sr=None)\n",
      "/Users/mariapolak/miniconda3/envs/mlme/lib/python3.11/site-packages/librosa/core/audio.py:184: FutureWarning: librosa.core.audio.__audioread_load\n",
      "\tDeprecated as of librosa version 0.10.0.\n",
      "\tIt will be removed in librosa version 1.0.\n",
      "  y, sr_native = __audioread_load(path, offset, duration, dtype)\n",
      "/var/folders/9b/646lmqp56b53pz1fqqr9x5gw0000gn/T/ipykernel_85422/370983470.py:16: UserWarning: PySoundFile failed. Trying audioread instead.\n",
      "  stem_audio, _ = librosa.load(f\"{path}/stems/{stem}.wav\", sr=None)\n",
      "/Users/mariapolak/miniconda3/envs/mlme/lib/python3.11/site-packages/librosa/core/audio.py:184: FutureWarning: librosa.core.audio.__audioread_load\n",
      "\tDeprecated as of librosa version 0.10.0.\n",
      "\tIt will be removed in librosa version 1.0.\n",
      "  y, sr_native = __audioread_load(path, offset, duration, dtype)\n"
     ]
    },
    {
     "name": "stdout",
     "output_type": "stream",
     "text": [
      "Error reading S02\n",
      "Error reading S02\n",
      "Error reading S02\n"
     ]
    },
    {
     "name": "stderr",
     "output_type": "stream",
     "text": [
      "/var/folders/9b/646lmqp56b53pz1fqqr9x5gw0000gn/T/ipykernel_85422/370983470.py:16: UserWarning: PySoundFile failed. Trying audioread instead.\n",
      "  stem_audio, _ = librosa.load(f\"{path}/stems/{stem}.wav\", sr=None)\n",
      "/Users/mariapolak/miniconda3/envs/mlme/lib/python3.11/site-packages/librosa/core/audio.py:184: FutureWarning: librosa.core.audio.__audioread_load\n",
      "\tDeprecated as of librosa version 0.10.0.\n",
      "\tIt will be removed in librosa version 1.0.\n",
      "  y, sr_native = __audioread_load(path, offset, duration, dtype)\n",
      "/var/folders/9b/646lmqp56b53pz1fqqr9x5gw0000gn/T/ipykernel_85422/370983470.py:16: UserWarning: PySoundFile failed. Trying audioread instead.\n",
      "  stem_audio, _ = librosa.load(f\"{path}/stems/{stem}.wav\", sr=None)\n",
      "/Users/mariapolak/miniconda3/envs/mlme/lib/python3.11/site-packages/librosa/core/audio.py:184: FutureWarning: librosa.core.audio.__audioread_load\n",
      "\tDeprecated as of librosa version 0.10.0.\n",
      "\tIt will be removed in librosa version 1.0.\n",
      "  y, sr_native = __audioread_load(path, offset, duration, dtype)\n"
     ]
    },
    {
     "name": "stdout",
     "output_type": "stream",
     "text": [
      "Error reading S02\n",
      "Error reading S02\n"
     ]
    },
    {
     "name": "stderr",
     "output_type": "stream",
     "text": [
      "/var/folders/9b/646lmqp56b53pz1fqqr9x5gw0000gn/T/ipykernel_85422/370983470.py:16: UserWarning: PySoundFile failed. Trying audioread instead.\n",
      "  stem_audio, _ = librosa.load(f\"{path}/stems/{stem}.wav\", sr=None)\n",
      "/Users/mariapolak/miniconda3/envs/mlme/lib/python3.11/site-packages/librosa/core/audio.py:184: FutureWarning: librosa.core.audio.__audioread_load\n",
      "\tDeprecated as of librosa version 0.10.0.\n",
      "\tIt will be removed in librosa version 1.0.\n",
      "  y, sr_native = __audioread_load(path, offset, duration, dtype)\n",
      "/var/folders/9b/646lmqp56b53pz1fqqr9x5gw0000gn/T/ipykernel_85422/370983470.py:16: UserWarning: PySoundFile failed. Trying audioread instead.\n",
      "  stem_audio, _ = librosa.load(f\"{path}/stems/{stem}.wav\", sr=None)\n",
      "/Users/mariapolak/miniconda3/envs/mlme/lib/python3.11/site-packages/librosa/core/audio.py:184: FutureWarning: librosa.core.audio.__audioread_load\n",
      "\tDeprecated as of librosa version 0.10.0.\n",
      "\tIt will be removed in librosa version 1.0.\n",
      "  y, sr_native = __audioread_load(path, offset, duration, dtype)\n"
     ]
    },
    {
     "name": "stdout",
     "output_type": "stream",
     "text": [
      "Error reading S02\n",
      "Error reading S02\n"
     ]
    },
    {
     "name": "stderr",
     "output_type": "stream",
     "text": [
      "/var/folders/9b/646lmqp56b53pz1fqqr9x5gw0000gn/T/ipykernel_85422/370983470.py:16: UserWarning: PySoundFile failed. Trying audioread instead.\n",
      "  stem_audio, _ = librosa.load(f\"{path}/stems/{stem}.wav\", sr=None)\n",
      "/Users/mariapolak/miniconda3/envs/mlme/lib/python3.11/site-packages/librosa/core/audio.py:184: FutureWarning: librosa.core.audio.__audioread_load\n",
      "\tDeprecated as of librosa version 0.10.0.\n",
      "\tIt will be removed in librosa version 1.0.\n",
      "  y, sr_native = __audioread_load(path, offset, duration, dtype)\n",
      "/var/folders/9b/646lmqp56b53pz1fqqr9x5gw0000gn/T/ipykernel_85422/370983470.py:16: UserWarning: PySoundFile failed. Trying audioread instead.\n",
      "  stem_audio, _ = librosa.load(f\"{path}/stems/{stem}.wav\", sr=None)\n",
      "/Users/mariapolak/miniconda3/envs/mlme/lib/python3.11/site-packages/librosa/core/audio.py:184: FutureWarning: librosa.core.audio.__audioread_load\n",
      "\tDeprecated as of librosa version 0.10.0.\n",
      "\tIt will be removed in librosa version 1.0.\n",
      "  y, sr_native = __audioread_load(path, offset, duration, dtype)\n",
      "/var/folders/9b/646lmqp56b53pz1fqqr9x5gw0000gn/T/ipykernel_85422/370983470.py:16: UserWarning: PySoundFile failed. Trying audioread instead.\n",
      "  stem_audio, _ = librosa.load(f\"{path}/stems/{stem}.wav\", sr=None)\n",
      "/Users/mariapolak/miniconda3/envs/mlme/lib/python3.11/site-packages/librosa/core/audio.py:184: FutureWarning: librosa.core.audio.__audioread_load\n",
      "\tDeprecated as of librosa version 0.10.0.\n",
      "\tIt will be removed in librosa version 1.0.\n",
      "  y, sr_native = __audioread_load(path, offset, duration, dtype)\n"
     ]
    },
    {
     "name": "stdout",
     "output_type": "stream",
     "text": [
      "Error reading S02\n",
      "Error reading S02\n",
      "Error reading S02\n"
     ]
    },
    {
     "name": "stderr",
     "output_type": "stream",
     "text": [
      "/var/folders/9b/646lmqp56b53pz1fqqr9x5gw0000gn/T/ipykernel_85422/370983470.py:16: UserWarning: PySoundFile failed. Trying audioread instead.\n",
      "  stem_audio, _ = librosa.load(f\"{path}/stems/{stem}.wav\", sr=None)\n",
      "/Users/mariapolak/miniconda3/envs/mlme/lib/python3.11/site-packages/librosa/core/audio.py:184: FutureWarning: librosa.core.audio.__audioread_load\n",
      "\tDeprecated as of librosa version 0.10.0.\n",
      "\tIt will be removed in librosa version 1.0.\n",
      "  y, sr_native = __audioread_load(path, offset, duration, dtype)\n",
      "/var/folders/9b/646lmqp56b53pz1fqqr9x5gw0000gn/T/ipykernel_85422/370983470.py:16: UserWarning: PySoundFile failed. Trying audioread instead.\n",
      "  stem_audio, _ = librosa.load(f\"{path}/stems/{stem}.wav\", sr=None)\n",
      "/Users/mariapolak/miniconda3/envs/mlme/lib/python3.11/site-packages/librosa/core/audio.py:184: FutureWarning: librosa.core.audio.__audioread_load\n",
      "\tDeprecated as of librosa version 0.10.0.\n",
      "\tIt will be removed in librosa version 1.0.\n",
      "  y, sr_native = __audioread_load(path, offset, duration, dtype)\n",
      "/var/folders/9b/646lmqp56b53pz1fqqr9x5gw0000gn/T/ipykernel_85422/370983470.py:16: UserWarning: PySoundFile failed. Trying audioread instead.\n",
      "  stem_audio, _ = librosa.load(f\"{path}/stems/{stem}.wav\", sr=None)\n",
      "/Users/mariapolak/miniconda3/envs/mlme/lib/python3.11/site-packages/librosa/core/audio.py:184: FutureWarning: librosa.core.audio.__audioread_load\n",
      "\tDeprecated as of librosa version 0.10.0.\n",
      "\tIt will be removed in librosa version 1.0.\n",
      "  y, sr_native = __audioread_load(path, offset, duration, dtype)\n"
     ]
    },
    {
     "name": "stdout",
     "output_type": "stream",
     "text": [
      "Error reading S02\n",
      "Error reading S02\n",
      "Error reading S02\n"
     ]
    },
    {
     "name": "stderr",
     "output_type": "stream",
     "text": [
      "/var/folders/9b/646lmqp56b53pz1fqqr9x5gw0000gn/T/ipykernel_85422/370983470.py:16: UserWarning: PySoundFile failed. Trying audioread instead.\n",
      "  stem_audio, _ = librosa.load(f\"{path}/stems/{stem}.wav\", sr=None)\n",
      "/Users/mariapolak/miniconda3/envs/mlme/lib/python3.11/site-packages/librosa/core/audio.py:184: FutureWarning: librosa.core.audio.__audioread_load\n",
      "\tDeprecated as of librosa version 0.10.0.\n",
      "\tIt will be removed in librosa version 1.0.\n",
      "  y, sr_native = __audioread_load(path, offset, duration, dtype)\n",
      "/var/folders/9b/646lmqp56b53pz1fqqr9x5gw0000gn/T/ipykernel_85422/370983470.py:16: UserWarning: PySoundFile failed. Trying audioread instead.\n",
      "  stem_audio, _ = librosa.load(f\"{path}/stems/{stem}.wav\", sr=None)\n",
      "/Users/mariapolak/miniconda3/envs/mlme/lib/python3.11/site-packages/librosa/core/audio.py:184: FutureWarning: librosa.core.audio.__audioread_load\n",
      "\tDeprecated as of librosa version 0.10.0.\n",
      "\tIt will be removed in librosa version 1.0.\n",
      "  y, sr_native = __audioread_load(path, offset, duration, dtype)\n",
      "/var/folders/9b/646lmqp56b53pz1fqqr9x5gw0000gn/T/ipykernel_85422/370983470.py:16: UserWarning: PySoundFile failed. Trying audioread instead.\n",
      "  stem_audio, _ = librosa.load(f\"{path}/stems/{stem}.wav\", sr=None)\n",
      "/Users/mariapolak/miniconda3/envs/mlme/lib/python3.11/site-packages/librosa/core/audio.py:184: FutureWarning: librosa.core.audio.__audioread_load\n",
      "\tDeprecated as of librosa version 0.10.0.\n",
      "\tIt will be removed in librosa version 1.0.\n",
      "  y, sr_native = __audioread_load(path, offset, duration, dtype)\n"
     ]
    },
    {
     "name": "stdout",
     "output_type": "stream",
     "text": [
      "Error reading S02\n",
      "Error reading S02\n",
      "Error reading S02\n"
     ]
    },
    {
     "name": "stderr",
     "output_type": "stream",
     "text": [
      "/var/folders/9b/646lmqp56b53pz1fqqr9x5gw0000gn/T/ipykernel_85422/370983470.py:16: UserWarning: PySoundFile failed. Trying audioread instead.\n",
      "  stem_audio, _ = librosa.load(f\"{path}/stems/{stem}.wav\", sr=None)\n",
      "/Users/mariapolak/miniconda3/envs/mlme/lib/python3.11/site-packages/librosa/core/audio.py:184: FutureWarning: librosa.core.audio.__audioread_load\n",
      "\tDeprecated as of librosa version 0.10.0.\n",
      "\tIt will be removed in librosa version 1.0.\n",
      "  y, sr_native = __audioread_load(path, offset, duration, dtype)\n",
      "/var/folders/9b/646lmqp56b53pz1fqqr9x5gw0000gn/T/ipykernel_85422/370983470.py:16: UserWarning: PySoundFile failed. Trying audioread instead.\n",
      "  stem_audio, _ = librosa.load(f\"{path}/stems/{stem}.wav\", sr=None)\n",
      "/Users/mariapolak/miniconda3/envs/mlme/lib/python3.11/site-packages/librosa/core/audio.py:184: FutureWarning: librosa.core.audio.__audioread_load\n",
      "\tDeprecated as of librosa version 0.10.0.\n",
      "\tIt will be removed in librosa version 1.0.\n",
      "  y, sr_native = __audioread_load(path, offset, duration, dtype)\n",
      "/var/folders/9b/646lmqp56b53pz1fqqr9x5gw0000gn/T/ipykernel_85422/370983470.py:16: UserWarning: PySoundFile failed. Trying audioread instead.\n",
      "  stem_audio, _ = librosa.load(f\"{path}/stems/{stem}.wav\", sr=None)\n",
      "/Users/mariapolak/miniconda3/envs/mlme/lib/python3.11/site-packages/librosa/core/audio.py:184: FutureWarning: librosa.core.audio.__audioread_load\n",
      "\tDeprecated as of librosa version 0.10.0.\n",
      "\tIt will be removed in librosa version 1.0.\n",
      "  y, sr_native = __audioread_load(path, offset, duration, dtype)\n"
     ]
    },
    {
     "name": "stdout",
     "output_type": "stream",
     "text": [
      "Error reading S02\n",
      "Error reading S02\n",
      "Error reading S02\n"
     ]
    },
    {
     "name": "stderr",
     "output_type": "stream",
     "text": [
      "/var/folders/9b/646lmqp56b53pz1fqqr9x5gw0000gn/T/ipykernel_85422/370983470.py:16: UserWarning: PySoundFile failed. Trying audioread instead.\n",
      "  stem_audio, _ = librosa.load(f\"{path}/stems/{stem}.wav\", sr=None)\n",
      "/Users/mariapolak/miniconda3/envs/mlme/lib/python3.11/site-packages/librosa/core/audio.py:184: FutureWarning: librosa.core.audio.__audioread_load\n",
      "\tDeprecated as of librosa version 0.10.0.\n",
      "\tIt will be removed in librosa version 1.0.\n",
      "  y, sr_native = __audioread_load(path, offset, duration, dtype)\n",
      "/var/folders/9b/646lmqp56b53pz1fqqr9x5gw0000gn/T/ipykernel_85422/370983470.py:16: UserWarning: PySoundFile failed. Trying audioread instead.\n",
      "  stem_audio, _ = librosa.load(f\"{path}/stems/{stem}.wav\", sr=None)\n",
      "/Users/mariapolak/miniconda3/envs/mlme/lib/python3.11/site-packages/librosa/core/audio.py:184: FutureWarning: librosa.core.audio.__audioread_load\n",
      "\tDeprecated as of librosa version 0.10.0.\n",
      "\tIt will be removed in librosa version 1.0.\n",
      "  y, sr_native = __audioread_load(path, offset, duration, dtype)\n",
      "/var/folders/9b/646lmqp56b53pz1fqqr9x5gw0000gn/T/ipykernel_85422/370983470.py:16: UserWarning: PySoundFile failed. Trying audioread instead.\n",
      "  stem_audio, _ = librosa.load(f\"{path}/stems/{stem}.wav\", sr=None)\n",
      "/Users/mariapolak/miniconda3/envs/mlme/lib/python3.11/site-packages/librosa/core/audio.py:184: FutureWarning: librosa.core.audio.__audioread_load\n",
      "\tDeprecated as of librosa version 0.10.0.\n",
      "\tIt will be removed in librosa version 1.0.\n",
      "  y, sr_native = __audioread_load(path, offset, duration, dtype)\n"
     ]
    },
    {
     "name": "stdout",
     "output_type": "stream",
     "text": [
      "Error reading S02\n",
      "Error reading S02\n",
      "Error reading S02\n"
     ]
    },
    {
     "name": "stderr",
     "output_type": "stream",
     "text": [
      "/var/folders/9b/646lmqp56b53pz1fqqr9x5gw0000gn/T/ipykernel_85422/370983470.py:16: UserWarning: PySoundFile failed. Trying audioread instead.\n",
      "  stem_audio, _ = librosa.load(f\"{path}/stems/{stem}.wav\", sr=None)\n",
      "/Users/mariapolak/miniconda3/envs/mlme/lib/python3.11/site-packages/librosa/core/audio.py:184: FutureWarning: librosa.core.audio.__audioread_load\n",
      "\tDeprecated as of librosa version 0.10.0.\n",
      "\tIt will be removed in librosa version 1.0.\n",
      "  y, sr_native = __audioread_load(path, offset, duration, dtype)\n",
      "/var/folders/9b/646lmqp56b53pz1fqqr9x5gw0000gn/T/ipykernel_85422/370983470.py:16: UserWarning: PySoundFile failed. Trying audioread instead.\n",
      "  stem_audio, _ = librosa.load(f\"{path}/stems/{stem}.wav\", sr=None)\n",
      "/Users/mariapolak/miniconda3/envs/mlme/lib/python3.11/site-packages/librosa/core/audio.py:184: FutureWarning: librosa.core.audio.__audioread_load\n",
      "\tDeprecated as of librosa version 0.10.0.\n",
      "\tIt will be removed in librosa version 1.0.\n",
      "  y, sr_native = __audioread_load(path, offset, duration, dtype)\n"
     ]
    },
    {
     "name": "stdout",
     "output_type": "stream",
     "text": [
      "Error reading S02\n",
      "Error reading S02\n"
     ]
    },
    {
     "name": "stderr",
     "output_type": "stream",
     "text": [
      "/var/folders/9b/646lmqp56b53pz1fqqr9x5gw0000gn/T/ipykernel_85422/370983470.py:16: UserWarning: PySoundFile failed. Trying audioread instead.\n",
      "  stem_audio, _ = librosa.load(f\"{path}/stems/{stem}.wav\", sr=None)\n",
      "/Users/mariapolak/miniconda3/envs/mlme/lib/python3.11/site-packages/librosa/core/audio.py:184: FutureWarning: librosa.core.audio.__audioread_load\n",
      "\tDeprecated as of librosa version 0.10.0.\n",
      "\tIt will be removed in librosa version 1.0.\n",
      "  y, sr_native = __audioread_load(path, offset, duration, dtype)\n",
      "/var/folders/9b/646lmqp56b53pz1fqqr9x5gw0000gn/T/ipykernel_85422/370983470.py:16: UserWarning: PySoundFile failed. Trying audioread instead.\n",
      "  stem_audio, _ = librosa.load(f\"{path}/stems/{stem}.wav\", sr=None)\n",
      "/Users/mariapolak/miniconda3/envs/mlme/lib/python3.11/site-packages/librosa/core/audio.py:184: FutureWarning: librosa.core.audio.__audioread_load\n",
      "\tDeprecated as of librosa version 0.10.0.\n",
      "\tIt will be removed in librosa version 1.0.\n",
      "  y, sr_native = __audioread_load(path, offset, duration, dtype)\n",
      "/var/folders/9b/646lmqp56b53pz1fqqr9x5gw0000gn/T/ipykernel_85422/370983470.py:16: UserWarning: PySoundFile failed. Trying audioread instead.\n",
      "  stem_audio, _ = librosa.load(f\"{path}/stems/{stem}.wav\", sr=None)\n",
      "/Users/mariapolak/miniconda3/envs/mlme/lib/python3.11/site-packages/librosa/core/audio.py:184: FutureWarning: librosa.core.audio.__audioread_load\n",
      "\tDeprecated as of librosa version 0.10.0.\n",
      "\tIt will be removed in librosa version 1.0.\n",
      "  y, sr_native = __audioread_load(path, offset, duration, dtype)\n"
     ]
    },
    {
     "name": "stdout",
     "output_type": "stream",
     "text": [
      "Error reading S02\n",
      "Error reading S02\n",
      "Error reading S02\n",
      "Processing: datasets/babyslakh_16k/Track00012\n",
      "Processing: datasets/babyslakh_16k/Track00015\n",
      "Error reading S06\n"
     ]
    },
    {
     "name": "stderr",
     "output_type": "stream",
     "text": [
      "/var/folders/9b/646lmqp56b53pz1fqqr9x5gw0000gn/T/ipykernel_85422/370983470.py:16: UserWarning: PySoundFile failed. Trying audioread instead.\n",
      "  stem_audio, _ = librosa.load(f\"{path}/stems/{stem}.wav\", sr=None)\n",
      "/Users/mariapolak/miniconda3/envs/mlme/lib/python3.11/site-packages/librosa/core/audio.py:184: FutureWarning: librosa.core.audio.__audioread_load\n",
      "\tDeprecated as of librosa version 0.10.0.\n",
      "\tIt will be removed in librosa version 1.0.\n",
      "  y, sr_native = __audioread_load(path, offset, duration, dtype)\n",
      "/var/folders/9b/646lmqp56b53pz1fqqr9x5gw0000gn/T/ipykernel_85422/370983470.py:16: UserWarning: PySoundFile failed. Trying audioread instead.\n",
      "  stem_audio, _ = librosa.load(f\"{path}/stems/{stem}.wav\", sr=None)\n",
      "/Users/mariapolak/miniconda3/envs/mlme/lib/python3.11/site-packages/librosa/core/audio.py:184: FutureWarning: librosa.core.audio.__audioread_load\n",
      "\tDeprecated as of librosa version 0.10.0.\n",
      "\tIt will be removed in librosa version 1.0.\n",
      "  y, sr_native = __audioread_load(path, offset, duration, dtype)\n"
     ]
    },
    {
     "name": "stdout",
     "output_type": "stream",
     "text": [
      "Error reading S06\n",
      "Error reading S06\n"
     ]
    },
    {
     "name": "stderr",
     "output_type": "stream",
     "text": [
      "/var/folders/9b/646lmqp56b53pz1fqqr9x5gw0000gn/T/ipykernel_85422/370983470.py:16: UserWarning: PySoundFile failed. Trying audioread instead.\n",
      "  stem_audio, _ = librosa.load(f\"{path}/stems/{stem}.wav\", sr=None)\n",
      "/Users/mariapolak/miniconda3/envs/mlme/lib/python3.11/site-packages/librosa/core/audio.py:184: FutureWarning: librosa.core.audio.__audioread_load\n",
      "\tDeprecated as of librosa version 0.10.0.\n",
      "\tIt will be removed in librosa version 1.0.\n",
      "  y, sr_native = __audioread_load(path, offset, duration, dtype)\n",
      "/var/folders/9b/646lmqp56b53pz1fqqr9x5gw0000gn/T/ipykernel_85422/370983470.py:16: UserWarning: PySoundFile failed. Trying audioread instead.\n",
      "  stem_audio, _ = librosa.load(f\"{path}/stems/{stem}.wav\", sr=None)\n",
      "/Users/mariapolak/miniconda3/envs/mlme/lib/python3.11/site-packages/librosa/core/audio.py:184: FutureWarning: librosa.core.audio.__audioread_load\n",
      "\tDeprecated as of librosa version 0.10.0.\n",
      "\tIt will be removed in librosa version 1.0.\n",
      "  y, sr_native = __audioread_load(path, offset, duration, dtype)\n",
      "/var/folders/9b/646lmqp56b53pz1fqqr9x5gw0000gn/T/ipykernel_85422/370983470.py:16: UserWarning: PySoundFile failed. Trying audioread instead.\n",
      "  stem_audio, _ = librosa.load(f\"{path}/stems/{stem}.wav\", sr=None)\n",
      "/Users/mariapolak/miniconda3/envs/mlme/lib/python3.11/site-packages/librosa/core/audio.py:184: FutureWarning: librosa.core.audio.__audioread_load\n",
      "\tDeprecated as of librosa version 0.10.0.\n",
      "\tIt will be removed in librosa version 1.0.\n",
      "  y, sr_native = __audioread_load(path, offset, duration, dtype)\n"
     ]
    },
    {
     "name": "stdout",
     "output_type": "stream",
     "text": [
      "Error reading S06\n",
      "Error reading S06\n",
      "Error reading S06\n"
     ]
    },
    {
     "name": "stderr",
     "output_type": "stream",
     "text": [
      "/var/folders/9b/646lmqp56b53pz1fqqr9x5gw0000gn/T/ipykernel_85422/370983470.py:16: UserWarning: PySoundFile failed. Trying audioread instead.\n",
      "  stem_audio, _ = librosa.load(f\"{path}/stems/{stem}.wav\", sr=None)\n",
      "/Users/mariapolak/miniconda3/envs/mlme/lib/python3.11/site-packages/librosa/core/audio.py:184: FutureWarning: librosa.core.audio.__audioread_load\n",
      "\tDeprecated as of librosa version 0.10.0.\n",
      "\tIt will be removed in librosa version 1.0.\n",
      "  y, sr_native = __audioread_load(path, offset, duration, dtype)\n",
      "/var/folders/9b/646lmqp56b53pz1fqqr9x5gw0000gn/T/ipykernel_85422/370983470.py:16: UserWarning: PySoundFile failed. Trying audioread instead.\n",
      "  stem_audio, _ = librosa.load(f\"{path}/stems/{stem}.wav\", sr=None)\n",
      "/Users/mariapolak/miniconda3/envs/mlme/lib/python3.11/site-packages/librosa/core/audio.py:184: FutureWarning: librosa.core.audio.__audioread_load\n",
      "\tDeprecated as of librosa version 0.10.0.\n",
      "\tIt will be removed in librosa version 1.0.\n",
      "  y, sr_native = __audioread_load(path, offset, duration, dtype)\n",
      "/var/folders/9b/646lmqp56b53pz1fqqr9x5gw0000gn/T/ipykernel_85422/370983470.py:16: UserWarning: PySoundFile failed. Trying audioread instead.\n",
      "  stem_audio, _ = librosa.load(f\"{path}/stems/{stem}.wav\", sr=None)\n",
      "/Users/mariapolak/miniconda3/envs/mlme/lib/python3.11/site-packages/librosa/core/audio.py:184: FutureWarning: librosa.core.audio.__audioread_load\n",
      "\tDeprecated as of librosa version 0.10.0.\n",
      "\tIt will be removed in librosa version 1.0.\n",
      "  y, sr_native = __audioread_load(path, offset, duration, dtype)\n"
     ]
    },
    {
     "name": "stdout",
     "output_type": "stream",
     "text": [
      "Error reading S06\n",
      "Error reading S06\n",
      "Error reading S06\n"
     ]
    },
    {
     "name": "stderr",
     "output_type": "stream",
     "text": [
      "/var/folders/9b/646lmqp56b53pz1fqqr9x5gw0000gn/T/ipykernel_85422/370983470.py:16: UserWarning: PySoundFile failed. Trying audioread instead.\n",
      "  stem_audio, _ = librosa.load(f\"{path}/stems/{stem}.wav\", sr=None)\n",
      "/Users/mariapolak/miniconda3/envs/mlme/lib/python3.11/site-packages/librosa/core/audio.py:184: FutureWarning: librosa.core.audio.__audioread_load\n",
      "\tDeprecated as of librosa version 0.10.0.\n",
      "\tIt will be removed in librosa version 1.0.\n",
      "  y, sr_native = __audioread_load(path, offset, duration, dtype)\n",
      "/var/folders/9b/646lmqp56b53pz1fqqr9x5gw0000gn/T/ipykernel_85422/370983470.py:16: UserWarning: PySoundFile failed. Trying audioread instead.\n",
      "  stem_audio, _ = librosa.load(f\"{path}/stems/{stem}.wav\", sr=None)\n",
      "/Users/mariapolak/miniconda3/envs/mlme/lib/python3.11/site-packages/librosa/core/audio.py:184: FutureWarning: librosa.core.audio.__audioread_load\n",
      "\tDeprecated as of librosa version 0.10.0.\n",
      "\tIt will be removed in librosa version 1.0.\n",
      "  y, sr_native = __audioread_load(path, offset, duration, dtype)\n",
      "/var/folders/9b/646lmqp56b53pz1fqqr9x5gw0000gn/T/ipykernel_85422/370983470.py:16: UserWarning: PySoundFile failed. Trying audioread instead.\n",
      "  stem_audio, _ = librosa.load(f\"{path}/stems/{stem}.wav\", sr=None)\n",
      "/Users/mariapolak/miniconda3/envs/mlme/lib/python3.11/site-packages/librosa/core/audio.py:184: FutureWarning: librosa.core.audio.__audioread_load\n",
      "\tDeprecated as of librosa version 0.10.0.\n",
      "\tIt will be removed in librosa version 1.0.\n",
      "  y, sr_native = __audioread_load(path, offset, duration, dtype)\n"
     ]
    },
    {
     "name": "stdout",
     "output_type": "stream",
     "text": [
      "Error reading S06\n",
      "Error reading S06\n",
      "Error reading S06\n"
     ]
    },
    {
     "name": "stderr",
     "output_type": "stream",
     "text": [
      "/var/folders/9b/646lmqp56b53pz1fqqr9x5gw0000gn/T/ipykernel_85422/370983470.py:16: UserWarning: PySoundFile failed. Trying audioread instead.\n",
      "  stem_audio, _ = librosa.load(f\"{path}/stems/{stem}.wav\", sr=None)\n",
      "/Users/mariapolak/miniconda3/envs/mlme/lib/python3.11/site-packages/librosa/core/audio.py:184: FutureWarning: librosa.core.audio.__audioread_load\n",
      "\tDeprecated as of librosa version 0.10.0.\n",
      "\tIt will be removed in librosa version 1.0.\n",
      "  y, sr_native = __audioread_load(path, offset, duration, dtype)\n",
      "/var/folders/9b/646lmqp56b53pz1fqqr9x5gw0000gn/T/ipykernel_85422/370983470.py:16: UserWarning: PySoundFile failed. Trying audioread instead.\n",
      "  stem_audio, _ = librosa.load(f\"{path}/stems/{stem}.wav\", sr=None)\n",
      "/Users/mariapolak/miniconda3/envs/mlme/lib/python3.11/site-packages/librosa/core/audio.py:184: FutureWarning: librosa.core.audio.__audioread_load\n",
      "\tDeprecated as of librosa version 0.10.0.\n",
      "\tIt will be removed in librosa version 1.0.\n",
      "  y, sr_native = __audioread_load(path, offset, duration, dtype)\n",
      "/var/folders/9b/646lmqp56b53pz1fqqr9x5gw0000gn/T/ipykernel_85422/370983470.py:16: UserWarning: PySoundFile failed. Trying audioread instead.\n",
      "  stem_audio, _ = librosa.load(f\"{path}/stems/{stem}.wav\", sr=None)\n",
      "/Users/mariapolak/miniconda3/envs/mlme/lib/python3.11/site-packages/librosa/core/audio.py:184: FutureWarning: librosa.core.audio.__audioread_load\n",
      "\tDeprecated as of librosa version 0.10.0.\n",
      "\tIt will be removed in librosa version 1.0.\n",
      "  y, sr_native = __audioread_load(path, offset, duration, dtype)\n"
     ]
    },
    {
     "name": "stdout",
     "output_type": "stream",
     "text": [
      "Error reading S06\n",
      "Error reading S06\n"
     ]
    },
    {
     "name": "stderr",
     "output_type": "stream",
     "text": [
      "/var/folders/9b/646lmqp56b53pz1fqqr9x5gw0000gn/T/ipykernel_85422/370983470.py:16: UserWarning: PySoundFile failed. Trying audioread instead.\n",
      "  stem_audio, _ = librosa.load(f\"{path}/stems/{stem}.wav\", sr=None)\n",
      "/Users/mariapolak/miniconda3/envs/mlme/lib/python3.11/site-packages/librosa/core/audio.py:184: FutureWarning: librosa.core.audio.__audioread_load\n",
      "\tDeprecated as of librosa version 0.10.0.\n",
      "\tIt will be removed in librosa version 1.0.\n",
      "  y, sr_native = __audioread_load(path, offset, duration, dtype)\n",
      "/var/folders/9b/646lmqp56b53pz1fqqr9x5gw0000gn/T/ipykernel_85422/370983470.py:16: UserWarning: PySoundFile failed. Trying audioread instead.\n",
      "  stem_audio, _ = librosa.load(f\"{path}/stems/{stem}.wav\", sr=None)\n",
      "/Users/mariapolak/miniconda3/envs/mlme/lib/python3.11/site-packages/librosa/core/audio.py:184: FutureWarning: librosa.core.audio.__audioread_load\n",
      "\tDeprecated as of librosa version 0.10.0.\n",
      "\tIt will be removed in librosa version 1.0.\n",
      "  y, sr_native = __audioread_load(path, offset, duration, dtype)\n",
      "/var/folders/9b/646lmqp56b53pz1fqqr9x5gw0000gn/T/ipykernel_85422/370983470.py:16: UserWarning: PySoundFile failed. Trying audioread instead.\n",
      "  stem_audio, _ = librosa.load(f\"{path}/stems/{stem}.wav\", sr=None)\n",
      "/Users/mariapolak/miniconda3/envs/mlme/lib/python3.11/site-packages/librosa/core/audio.py:184: FutureWarning: librosa.core.audio.__audioread_load\n",
      "\tDeprecated as of librosa version 0.10.0.\n",
      "\tIt will be removed in librosa version 1.0.\n",
      "  y, sr_native = __audioread_load(path, offset, duration, dtype)\n"
     ]
    },
    {
     "name": "stdout",
     "output_type": "stream",
     "text": [
      "Error reading S06\n",
      "Error reading S06\n",
      "Error reading S06\n"
     ]
    },
    {
     "name": "stderr",
     "output_type": "stream",
     "text": [
      "/var/folders/9b/646lmqp56b53pz1fqqr9x5gw0000gn/T/ipykernel_85422/370983470.py:16: UserWarning: PySoundFile failed. Trying audioread instead.\n",
      "  stem_audio, _ = librosa.load(f\"{path}/stems/{stem}.wav\", sr=None)\n",
      "/Users/mariapolak/miniconda3/envs/mlme/lib/python3.11/site-packages/librosa/core/audio.py:184: FutureWarning: librosa.core.audio.__audioread_load\n",
      "\tDeprecated as of librosa version 0.10.0.\n",
      "\tIt will be removed in librosa version 1.0.\n",
      "  y, sr_native = __audioread_load(path, offset, duration, dtype)\n",
      "/var/folders/9b/646lmqp56b53pz1fqqr9x5gw0000gn/T/ipykernel_85422/370983470.py:16: UserWarning: PySoundFile failed. Trying audioread instead.\n",
      "  stem_audio, _ = librosa.load(f\"{path}/stems/{stem}.wav\", sr=None)\n",
      "/Users/mariapolak/miniconda3/envs/mlme/lib/python3.11/site-packages/librosa/core/audio.py:184: FutureWarning: librosa.core.audio.__audioread_load\n",
      "\tDeprecated as of librosa version 0.10.0.\n",
      "\tIt will be removed in librosa version 1.0.\n",
      "  y, sr_native = __audioread_load(path, offset, duration, dtype)\n",
      "/var/folders/9b/646lmqp56b53pz1fqqr9x5gw0000gn/T/ipykernel_85422/370983470.py:16: UserWarning: PySoundFile failed. Trying audioread instead.\n",
      "  stem_audio, _ = librosa.load(f\"{path}/stems/{stem}.wav\", sr=None)\n",
      "/Users/mariapolak/miniconda3/envs/mlme/lib/python3.11/site-packages/librosa/core/audio.py:184: FutureWarning: librosa.core.audio.__audioread_load\n",
      "\tDeprecated as of librosa version 0.10.0.\n",
      "\tIt will be removed in librosa version 1.0.\n",
      "  y, sr_native = __audioread_load(path, offset, duration, dtype)\n"
     ]
    },
    {
     "name": "stdout",
     "output_type": "stream",
     "text": [
      "Error reading S06\n",
      "Error reading S06\n",
      "Error reading S06\n"
     ]
    },
    {
     "name": "stderr",
     "output_type": "stream",
     "text": [
      "/var/folders/9b/646lmqp56b53pz1fqqr9x5gw0000gn/T/ipykernel_85422/370983470.py:16: UserWarning: PySoundFile failed. Trying audioread instead.\n",
      "  stem_audio, _ = librosa.load(f\"{path}/stems/{stem}.wav\", sr=None)\n",
      "/Users/mariapolak/miniconda3/envs/mlme/lib/python3.11/site-packages/librosa/core/audio.py:184: FutureWarning: librosa.core.audio.__audioread_load\n",
      "\tDeprecated as of librosa version 0.10.0.\n",
      "\tIt will be removed in librosa version 1.0.\n",
      "  y, sr_native = __audioread_load(path, offset, duration, dtype)\n",
      "/var/folders/9b/646lmqp56b53pz1fqqr9x5gw0000gn/T/ipykernel_85422/370983470.py:16: UserWarning: PySoundFile failed. Trying audioread instead.\n",
      "  stem_audio, _ = librosa.load(f\"{path}/stems/{stem}.wav\", sr=None)\n",
      "/Users/mariapolak/miniconda3/envs/mlme/lib/python3.11/site-packages/librosa/core/audio.py:184: FutureWarning: librosa.core.audio.__audioread_load\n",
      "\tDeprecated as of librosa version 0.10.0.\n",
      "\tIt will be removed in librosa version 1.0.\n",
      "  y, sr_native = __audioread_load(path, offset, duration, dtype)\n",
      "/var/folders/9b/646lmqp56b53pz1fqqr9x5gw0000gn/T/ipykernel_85422/370983470.py:16: UserWarning: PySoundFile failed. Trying audioread instead.\n",
      "  stem_audio, _ = librosa.load(f\"{path}/stems/{stem}.wav\", sr=None)\n",
      "/Users/mariapolak/miniconda3/envs/mlme/lib/python3.11/site-packages/librosa/core/audio.py:184: FutureWarning: librosa.core.audio.__audioread_load\n",
      "\tDeprecated as of librosa version 0.10.0.\n",
      "\tIt will be removed in librosa version 1.0.\n",
      "  y, sr_native = __audioread_load(path, offset, duration, dtype)\n"
     ]
    },
    {
     "name": "stdout",
     "output_type": "stream",
     "text": [
      "Error reading S06\n",
      "Error reading S06\n",
      "Error reading S06\n"
     ]
    },
    {
     "name": "stderr",
     "output_type": "stream",
     "text": [
      "/var/folders/9b/646lmqp56b53pz1fqqr9x5gw0000gn/T/ipykernel_85422/370983470.py:16: UserWarning: PySoundFile failed. Trying audioread instead.\n",
      "  stem_audio, _ = librosa.load(f\"{path}/stems/{stem}.wav\", sr=None)\n",
      "/Users/mariapolak/miniconda3/envs/mlme/lib/python3.11/site-packages/librosa/core/audio.py:184: FutureWarning: librosa.core.audio.__audioread_load\n",
      "\tDeprecated as of librosa version 0.10.0.\n",
      "\tIt will be removed in librosa version 1.0.\n",
      "  y, sr_native = __audioread_load(path, offset, duration, dtype)\n",
      "/var/folders/9b/646lmqp56b53pz1fqqr9x5gw0000gn/T/ipykernel_85422/370983470.py:16: UserWarning: PySoundFile failed. Trying audioread instead.\n",
      "  stem_audio, _ = librosa.load(f\"{path}/stems/{stem}.wav\", sr=None)\n",
      "/Users/mariapolak/miniconda3/envs/mlme/lib/python3.11/site-packages/librosa/core/audio.py:184: FutureWarning: librosa.core.audio.__audioread_load\n",
      "\tDeprecated as of librosa version 0.10.0.\n",
      "\tIt will be removed in librosa version 1.0.\n",
      "  y, sr_native = __audioread_load(path, offset, duration, dtype)\n",
      "/var/folders/9b/646lmqp56b53pz1fqqr9x5gw0000gn/T/ipykernel_85422/370983470.py:16: UserWarning: PySoundFile failed. Trying audioread instead.\n",
      "  stem_audio, _ = librosa.load(f\"{path}/stems/{stem}.wav\", sr=None)\n",
      "/Users/mariapolak/miniconda3/envs/mlme/lib/python3.11/site-packages/librosa/core/audio.py:184: FutureWarning: librosa.core.audio.__audioread_load\n",
      "\tDeprecated as of librosa version 0.10.0.\n",
      "\tIt will be removed in librosa version 1.0.\n",
      "  y, sr_native = __audioread_load(path, offset, duration, dtype)\n"
     ]
    },
    {
     "name": "stdout",
     "output_type": "stream",
     "text": [
      "Error reading S06\n",
      "Error reading S06\n",
      "Error reading S06\n"
     ]
    },
    {
     "name": "stderr",
     "output_type": "stream",
     "text": [
      "/var/folders/9b/646lmqp56b53pz1fqqr9x5gw0000gn/T/ipykernel_85422/370983470.py:16: UserWarning: PySoundFile failed. Trying audioread instead.\n",
      "  stem_audio, _ = librosa.load(f\"{path}/stems/{stem}.wav\", sr=None)\n",
      "/Users/mariapolak/miniconda3/envs/mlme/lib/python3.11/site-packages/librosa/core/audio.py:184: FutureWarning: librosa.core.audio.__audioread_load\n",
      "\tDeprecated as of librosa version 0.10.0.\n",
      "\tIt will be removed in librosa version 1.0.\n",
      "  y, sr_native = __audioread_load(path, offset, duration, dtype)\n",
      "/var/folders/9b/646lmqp56b53pz1fqqr9x5gw0000gn/T/ipykernel_85422/370983470.py:16: UserWarning: PySoundFile failed. Trying audioread instead.\n",
      "  stem_audio, _ = librosa.load(f\"{path}/stems/{stem}.wav\", sr=None)\n",
      "/Users/mariapolak/miniconda3/envs/mlme/lib/python3.11/site-packages/librosa/core/audio.py:184: FutureWarning: librosa.core.audio.__audioread_load\n",
      "\tDeprecated as of librosa version 0.10.0.\n",
      "\tIt will be removed in librosa version 1.0.\n",
      "  y, sr_native = __audioread_load(path, offset, duration, dtype)\n",
      "/var/folders/9b/646lmqp56b53pz1fqqr9x5gw0000gn/T/ipykernel_85422/370983470.py:16: UserWarning: PySoundFile failed. Trying audioread instead.\n",
      "  stem_audio, _ = librosa.load(f\"{path}/stems/{stem}.wav\", sr=None)\n",
      "/Users/mariapolak/miniconda3/envs/mlme/lib/python3.11/site-packages/librosa/core/audio.py:184: FutureWarning: librosa.core.audio.__audioread_load\n",
      "\tDeprecated as of librosa version 0.10.0.\n",
      "\tIt will be removed in librosa version 1.0.\n",
      "  y, sr_native = __audioread_load(path, offset, duration, dtype)\n"
     ]
    },
    {
     "name": "stdout",
     "output_type": "stream",
     "text": [
      "Error reading S06\n",
      "Error reading S06\n",
      "Error reading S06\n"
     ]
    },
    {
     "name": "stderr",
     "output_type": "stream",
     "text": [
      "/var/folders/9b/646lmqp56b53pz1fqqr9x5gw0000gn/T/ipykernel_85422/370983470.py:16: UserWarning: PySoundFile failed. Trying audioread instead.\n",
      "  stem_audio, _ = librosa.load(f\"{path}/stems/{stem}.wav\", sr=None)\n",
      "/Users/mariapolak/miniconda3/envs/mlme/lib/python3.11/site-packages/librosa/core/audio.py:184: FutureWarning: librosa.core.audio.__audioread_load\n",
      "\tDeprecated as of librosa version 0.10.0.\n",
      "\tIt will be removed in librosa version 1.0.\n",
      "  y, sr_native = __audioread_load(path, offset, duration, dtype)\n",
      "/var/folders/9b/646lmqp56b53pz1fqqr9x5gw0000gn/T/ipykernel_85422/370983470.py:16: UserWarning: PySoundFile failed. Trying audioread instead.\n",
      "  stem_audio, _ = librosa.load(f\"{path}/stems/{stem}.wav\", sr=None)\n",
      "/Users/mariapolak/miniconda3/envs/mlme/lib/python3.11/site-packages/librosa/core/audio.py:184: FutureWarning: librosa.core.audio.__audioread_load\n",
      "\tDeprecated as of librosa version 0.10.0.\n",
      "\tIt will be removed in librosa version 1.0.\n",
      "  y, sr_native = __audioread_load(path, offset, duration, dtype)\n"
     ]
    },
    {
     "name": "stdout",
     "output_type": "stream",
     "text": [
      "Error reading S06\n",
      "Error reading S06\n"
     ]
    },
    {
     "name": "stderr",
     "output_type": "stream",
     "text": [
      "/var/folders/9b/646lmqp56b53pz1fqqr9x5gw0000gn/T/ipykernel_85422/370983470.py:16: UserWarning: PySoundFile failed. Trying audioread instead.\n",
      "  stem_audio, _ = librosa.load(f\"{path}/stems/{stem}.wav\", sr=None)\n",
      "/Users/mariapolak/miniconda3/envs/mlme/lib/python3.11/site-packages/librosa/core/audio.py:184: FutureWarning: librosa.core.audio.__audioread_load\n",
      "\tDeprecated as of librosa version 0.10.0.\n",
      "\tIt will be removed in librosa version 1.0.\n",
      "  y, sr_native = __audioread_load(path, offset, duration, dtype)\n",
      "/var/folders/9b/646lmqp56b53pz1fqqr9x5gw0000gn/T/ipykernel_85422/370983470.py:16: UserWarning: PySoundFile failed. Trying audioread instead.\n",
      "  stem_audio, _ = librosa.load(f\"{path}/stems/{stem}.wav\", sr=None)\n",
      "/Users/mariapolak/miniconda3/envs/mlme/lib/python3.11/site-packages/librosa/core/audio.py:184: FutureWarning: librosa.core.audio.__audioread_load\n",
      "\tDeprecated as of librosa version 0.10.0.\n",
      "\tIt will be removed in librosa version 1.0.\n",
      "  y, sr_native = __audioread_load(path, offset, duration, dtype)\n",
      "/var/folders/9b/646lmqp56b53pz1fqqr9x5gw0000gn/T/ipykernel_85422/370983470.py:16: UserWarning: PySoundFile failed. Trying audioread instead.\n",
      "  stem_audio, _ = librosa.load(f\"{path}/stems/{stem}.wav\", sr=None)\n",
      "/Users/mariapolak/miniconda3/envs/mlme/lib/python3.11/site-packages/librosa/core/audio.py:184: FutureWarning: librosa.core.audio.__audioread_load\n",
      "\tDeprecated as of librosa version 0.10.0.\n",
      "\tIt will be removed in librosa version 1.0.\n",
      "  y, sr_native = __audioread_load(path, offset, duration, dtype)\n"
     ]
    },
    {
     "name": "stdout",
     "output_type": "stream",
     "text": [
      "Error reading S06\n",
      "Error reading S06\n",
      "Error reading S06\n"
     ]
    },
    {
     "name": "stderr",
     "output_type": "stream",
     "text": [
      "/var/folders/9b/646lmqp56b53pz1fqqr9x5gw0000gn/T/ipykernel_85422/370983470.py:16: UserWarning: PySoundFile failed. Trying audioread instead.\n",
      "  stem_audio, _ = librosa.load(f\"{path}/stems/{stem}.wav\", sr=None)\n",
      "/Users/mariapolak/miniconda3/envs/mlme/lib/python3.11/site-packages/librosa/core/audio.py:184: FutureWarning: librosa.core.audio.__audioread_load\n",
      "\tDeprecated as of librosa version 0.10.0.\n",
      "\tIt will be removed in librosa version 1.0.\n",
      "  y, sr_native = __audioread_load(path, offset, duration, dtype)\n",
      "/var/folders/9b/646lmqp56b53pz1fqqr9x5gw0000gn/T/ipykernel_85422/370983470.py:16: UserWarning: PySoundFile failed. Trying audioread instead.\n",
      "  stem_audio, _ = librosa.load(f\"{path}/stems/{stem}.wav\", sr=None)\n",
      "/Users/mariapolak/miniconda3/envs/mlme/lib/python3.11/site-packages/librosa/core/audio.py:184: FutureWarning: librosa.core.audio.__audioread_load\n",
      "\tDeprecated as of librosa version 0.10.0.\n",
      "\tIt will be removed in librosa version 1.0.\n",
      "  y, sr_native = __audioread_load(path, offset, duration, dtype)\n",
      "/var/folders/9b/646lmqp56b53pz1fqqr9x5gw0000gn/T/ipykernel_85422/370983470.py:16: UserWarning: PySoundFile failed. Trying audioread instead.\n",
      "  stem_audio, _ = librosa.load(f\"{path}/stems/{stem}.wav\", sr=None)\n",
      "/Users/mariapolak/miniconda3/envs/mlme/lib/python3.11/site-packages/librosa/core/audio.py:184: FutureWarning: librosa.core.audio.__audioread_load\n",
      "\tDeprecated as of librosa version 0.10.0.\n",
      "\tIt will be removed in librosa version 1.0.\n",
      "  y, sr_native = __audioread_load(path, offset, duration, dtype)\n"
     ]
    },
    {
     "name": "stdout",
     "output_type": "stream",
     "text": [
      "Error reading S06\n",
      "Error reading S06\n",
      "Error reading S06\n"
     ]
    },
    {
     "name": "stderr",
     "output_type": "stream",
     "text": [
      "/var/folders/9b/646lmqp56b53pz1fqqr9x5gw0000gn/T/ipykernel_85422/370983470.py:16: UserWarning: PySoundFile failed. Trying audioread instead.\n",
      "  stem_audio, _ = librosa.load(f\"{path}/stems/{stem}.wav\", sr=None)\n",
      "/Users/mariapolak/miniconda3/envs/mlme/lib/python3.11/site-packages/librosa/core/audio.py:184: FutureWarning: librosa.core.audio.__audioread_load\n",
      "\tDeprecated as of librosa version 0.10.0.\n",
      "\tIt will be removed in librosa version 1.0.\n",
      "  y, sr_native = __audioread_load(path, offset, duration, dtype)\n",
      "/var/folders/9b/646lmqp56b53pz1fqqr9x5gw0000gn/T/ipykernel_85422/370983470.py:16: UserWarning: PySoundFile failed. Trying audioread instead.\n",
      "  stem_audio, _ = librosa.load(f\"{path}/stems/{stem}.wav\", sr=None)\n",
      "/Users/mariapolak/miniconda3/envs/mlme/lib/python3.11/site-packages/librosa/core/audio.py:184: FutureWarning: librosa.core.audio.__audioread_load\n",
      "\tDeprecated as of librosa version 0.10.0.\n",
      "\tIt will be removed in librosa version 1.0.\n",
      "  y, sr_native = __audioread_load(path, offset, duration, dtype)\n",
      "/var/folders/9b/646lmqp56b53pz1fqqr9x5gw0000gn/T/ipykernel_85422/370983470.py:16: UserWarning: PySoundFile failed. Trying audioread instead.\n",
      "  stem_audio, _ = librosa.load(f\"{path}/stems/{stem}.wav\", sr=None)\n",
      "/Users/mariapolak/miniconda3/envs/mlme/lib/python3.11/site-packages/librosa/core/audio.py:184: FutureWarning: librosa.core.audio.__audioread_load\n",
      "\tDeprecated as of librosa version 0.10.0.\n",
      "\tIt will be removed in librosa version 1.0.\n",
      "  y, sr_native = __audioread_load(path, offset, duration, dtype)\n"
     ]
    },
    {
     "name": "stdout",
     "output_type": "stream",
     "text": [
      "Error reading S06\n",
      "Error reading S06\n",
      "Error reading S06\n"
     ]
    },
    {
     "name": "stderr",
     "output_type": "stream",
     "text": [
      "/var/folders/9b/646lmqp56b53pz1fqqr9x5gw0000gn/T/ipykernel_85422/370983470.py:16: UserWarning: PySoundFile failed. Trying audioread instead.\n",
      "  stem_audio, _ = librosa.load(f\"{path}/stems/{stem}.wav\", sr=None)\n",
      "/Users/mariapolak/miniconda3/envs/mlme/lib/python3.11/site-packages/librosa/core/audio.py:184: FutureWarning: librosa.core.audio.__audioread_load\n",
      "\tDeprecated as of librosa version 0.10.0.\n",
      "\tIt will be removed in librosa version 1.0.\n",
      "  y, sr_native = __audioread_load(path, offset, duration, dtype)\n",
      "/var/folders/9b/646lmqp56b53pz1fqqr9x5gw0000gn/T/ipykernel_85422/370983470.py:16: UserWarning: PySoundFile failed. Trying audioread instead.\n",
      "  stem_audio, _ = librosa.load(f\"{path}/stems/{stem}.wav\", sr=None)\n",
      "/Users/mariapolak/miniconda3/envs/mlme/lib/python3.11/site-packages/librosa/core/audio.py:184: FutureWarning: librosa.core.audio.__audioread_load\n",
      "\tDeprecated as of librosa version 0.10.0.\n",
      "\tIt will be removed in librosa version 1.0.\n",
      "  y, sr_native = __audioread_load(path, offset, duration, dtype)\n",
      "/var/folders/9b/646lmqp56b53pz1fqqr9x5gw0000gn/T/ipykernel_85422/370983470.py:16: UserWarning: PySoundFile failed. Trying audioread instead.\n",
      "  stem_audio, _ = librosa.load(f\"{path}/stems/{stem}.wav\", sr=None)\n",
      "/Users/mariapolak/miniconda3/envs/mlme/lib/python3.11/site-packages/librosa/core/audio.py:184: FutureWarning: librosa.core.audio.__audioread_load\n",
      "\tDeprecated as of librosa version 0.10.0.\n",
      "\tIt will be removed in librosa version 1.0.\n",
      "  y, sr_native = __audioread_load(path, offset, duration, dtype)\n"
     ]
    },
    {
     "name": "stdout",
     "output_type": "stream",
     "text": [
      "Error reading S06\n",
      "Error reading S06\n",
      "Error reading S06\n"
     ]
    },
    {
     "name": "stderr",
     "output_type": "stream",
     "text": [
      "/var/folders/9b/646lmqp56b53pz1fqqr9x5gw0000gn/T/ipykernel_85422/370983470.py:16: UserWarning: PySoundFile failed. Trying audioread instead.\n",
      "  stem_audio, _ = librosa.load(f\"{path}/stems/{stem}.wav\", sr=None)\n",
      "/Users/mariapolak/miniconda3/envs/mlme/lib/python3.11/site-packages/librosa/core/audio.py:184: FutureWarning: librosa.core.audio.__audioread_load\n",
      "\tDeprecated as of librosa version 0.10.0.\n",
      "\tIt will be removed in librosa version 1.0.\n",
      "  y, sr_native = __audioread_load(path, offset, duration, dtype)\n",
      "/var/folders/9b/646lmqp56b53pz1fqqr9x5gw0000gn/T/ipykernel_85422/370983470.py:16: UserWarning: PySoundFile failed. Trying audioread instead.\n",
      "  stem_audio, _ = librosa.load(f\"{path}/stems/{stem}.wav\", sr=None)\n",
      "/Users/mariapolak/miniconda3/envs/mlme/lib/python3.11/site-packages/librosa/core/audio.py:184: FutureWarning: librosa.core.audio.__audioread_load\n",
      "\tDeprecated as of librosa version 0.10.0.\n",
      "\tIt will be removed in librosa version 1.0.\n",
      "  y, sr_native = __audioread_load(path, offset, duration, dtype)\n",
      "/var/folders/9b/646lmqp56b53pz1fqqr9x5gw0000gn/T/ipykernel_85422/370983470.py:16: UserWarning: PySoundFile failed. Trying audioread instead.\n",
      "  stem_audio, _ = librosa.load(f\"{path}/stems/{stem}.wav\", sr=None)\n",
      "/Users/mariapolak/miniconda3/envs/mlme/lib/python3.11/site-packages/librosa/core/audio.py:184: FutureWarning: librosa.core.audio.__audioread_load\n",
      "\tDeprecated as of librosa version 0.10.0.\n",
      "\tIt will be removed in librosa version 1.0.\n",
      "  y, sr_native = __audioread_load(path, offset, duration, dtype)\n"
     ]
    },
    {
     "name": "stdout",
     "output_type": "stream",
     "text": [
      "Error reading S06\n",
      "Error reading S06\n",
      "Error reading S06\n"
     ]
    },
    {
     "name": "stderr",
     "output_type": "stream",
     "text": [
      "/var/folders/9b/646lmqp56b53pz1fqqr9x5gw0000gn/T/ipykernel_85422/370983470.py:16: UserWarning: PySoundFile failed. Trying audioread instead.\n",
      "  stem_audio, _ = librosa.load(f\"{path}/stems/{stem}.wav\", sr=None)\n",
      "/Users/mariapolak/miniconda3/envs/mlme/lib/python3.11/site-packages/librosa/core/audio.py:184: FutureWarning: librosa.core.audio.__audioread_load\n",
      "\tDeprecated as of librosa version 0.10.0.\n",
      "\tIt will be removed in librosa version 1.0.\n",
      "  y, sr_native = __audioread_load(path, offset, duration, dtype)\n",
      "/var/folders/9b/646lmqp56b53pz1fqqr9x5gw0000gn/T/ipykernel_85422/370983470.py:16: UserWarning: PySoundFile failed. Trying audioread instead.\n",
      "  stem_audio, _ = librosa.load(f\"{path}/stems/{stem}.wav\", sr=None)\n",
      "/Users/mariapolak/miniconda3/envs/mlme/lib/python3.11/site-packages/librosa/core/audio.py:184: FutureWarning: librosa.core.audio.__audioread_load\n",
      "\tDeprecated as of librosa version 0.10.0.\n",
      "\tIt will be removed in librosa version 1.0.\n",
      "  y, sr_native = __audioread_load(path, offset, duration, dtype)\n",
      "/var/folders/9b/646lmqp56b53pz1fqqr9x5gw0000gn/T/ipykernel_85422/370983470.py:16: UserWarning: PySoundFile failed. Trying audioread instead.\n",
      "  stem_audio, _ = librosa.load(f\"{path}/stems/{stem}.wav\", sr=None)\n",
      "/Users/mariapolak/miniconda3/envs/mlme/lib/python3.11/site-packages/librosa/core/audio.py:184: FutureWarning: librosa.core.audio.__audioread_load\n",
      "\tDeprecated as of librosa version 0.10.0.\n",
      "\tIt will be removed in librosa version 1.0.\n",
      "  y, sr_native = __audioread_load(path, offset, duration, dtype)\n"
     ]
    },
    {
     "name": "stdout",
     "output_type": "stream",
     "text": [
      "Error reading S06\n",
      "Error reading S06\n",
      "Error reading S06\n",
      "Processing: datasets/babyslakh_16k/Track00002\n"
     ]
    },
    {
     "name": "stderr",
     "output_type": "stream",
     "text": [
      "/var/folders/9b/646lmqp56b53pz1fqqr9x5gw0000gn/T/ipykernel_85422/370983470.py:16: UserWarning: PySoundFile failed. Trying audioread instead.\n",
      "  stem_audio, _ = librosa.load(f\"{path}/stems/{stem}.wav\", sr=None)\n",
      "/Users/mariapolak/miniconda3/envs/mlme/lib/python3.11/site-packages/librosa/core/audio.py:184: FutureWarning: librosa.core.audio.__audioread_load\n",
      "\tDeprecated as of librosa version 0.10.0.\n",
      "\tIt will be removed in librosa version 1.0.\n",
      "  y, sr_native = __audioread_load(path, offset, duration, dtype)\n",
      "/var/folders/9b/646lmqp56b53pz1fqqr9x5gw0000gn/T/ipykernel_85422/370983470.py:16: UserWarning: PySoundFile failed. Trying audioread instead.\n",
      "  stem_audio, _ = librosa.load(f\"{path}/stems/{stem}.wav\", sr=None)\n",
      "/Users/mariapolak/miniconda3/envs/mlme/lib/python3.11/site-packages/librosa/core/audio.py:184: FutureWarning: librosa.core.audio.__audioread_load\n",
      "\tDeprecated as of librosa version 0.10.0.\n",
      "\tIt will be removed in librosa version 1.0.\n",
      "  y, sr_native = __audioread_load(path, offset, duration, dtype)\n",
      "/var/folders/9b/646lmqp56b53pz1fqqr9x5gw0000gn/T/ipykernel_85422/370983470.py:16: UserWarning: PySoundFile failed. Trying audioread instead.\n",
      "  stem_audio, _ = librosa.load(f\"{path}/stems/{stem}.wav\", sr=None)\n",
      "/Users/mariapolak/miniconda3/envs/mlme/lib/python3.11/site-packages/librosa/core/audio.py:184: FutureWarning: librosa.core.audio.__audioread_load\n",
      "\tDeprecated as of librosa version 0.10.0.\n",
      "\tIt will be removed in librosa version 1.0.\n",
      "  y, sr_native = __audioread_load(path, offset, duration, dtype)\n"
     ]
    },
    {
     "name": "stdout",
     "output_type": "stream",
     "text": [
      "Error reading S10\n",
      "Error reading S11\n",
      "Error reading S10\n",
      "Error reading S11\n",
      "Error reading S10\n",
      "Error reading S11\n"
     ]
    },
    {
     "name": "stderr",
     "output_type": "stream",
     "text": [
      "/var/folders/9b/646lmqp56b53pz1fqqr9x5gw0000gn/T/ipykernel_85422/370983470.py:16: UserWarning: PySoundFile failed. Trying audioread instead.\n",
      "  stem_audio, _ = librosa.load(f\"{path}/stems/{stem}.wav\", sr=None)\n",
      "/Users/mariapolak/miniconda3/envs/mlme/lib/python3.11/site-packages/librosa/core/audio.py:184: FutureWarning: librosa.core.audio.__audioread_load\n",
      "\tDeprecated as of librosa version 0.10.0.\n",
      "\tIt will be removed in librosa version 1.0.\n",
      "  y, sr_native = __audioread_load(path, offset, duration, dtype)\n",
      "/var/folders/9b/646lmqp56b53pz1fqqr9x5gw0000gn/T/ipykernel_85422/370983470.py:16: UserWarning: PySoundFile failed. Trying audioread instead.\n",
      "  stem_audio, _ = librosa.load(f\"{path}/stems/{stem}.wav\", sr=None)\n",
      "/Users/mariapolak/miniconda3/envs/mlme/lib/python3.11/site-packages/librosa/core/audio.py:184: FutureWarning: librosa.core.audio.__audioread_load\n",
      "\tDeprecated as of librosa version 0.10.0.\n",
      "\tIt will be removed in librosa version 1.0.\n",
      "  y, sr_native = __audioread_load(path, offset, duration, dtype)\n"
     ]
    },
    {
     "name": "stdout",
     "output_type": "stream",
     "text": [
      "Error reading S10\n",
      "Error reading S11\n",
      "Error reading S10\n",
      "Error reading S11\n"
     ]
    },
    {
     "name": "stderr",
     "output_type": "stream",
     "text": [
      "/var/folders/9b/646lmqp56b53pz1fqqr9x5gw0000gn/T/ipykernel_85422/370983470.py:16: UserWarning: PySoundFile failed. Trying audioread instead.\n",
      "  stem_audio, _ = librosa.load(f\"{path}/stems/{stem}.wav\", sr=None)\n",
      "/Users/mariapolak/miniconda3/envs/mlme/lib/python3.11/site-packages/librosa/core/audio.py:184: FutureWarning: librosa.core.audio.__audioread_load\n",
      "\tDeprecated as of librosa version 0.10.0.\n",
      "\tIt will be removed in librosa version 1.0.\n",
      "  y, sr_native = __audioread_load(path, offset, duration, dtype)\n",
      "/var/folders/9b/646lmqp56b53pz1fqqr9x5gw0000gn/T/ipykernel_85422/370983470.py:16: UserWarning: PySoundFile failed. Trying audioread instead.\n",
      "  stem_audio, _ = librosa.load(f\"{path}/stems/{stem}.wav\", sr=None)\n",
      "/Users/mariapolak/miniconda3/envs/mlme/lib/python3.11/site-packages/librosa/core/audio.py:184: FutureWarning: librosa.core.audio.__audioread_load\n",
      "\tDeprecated as of librosa version 0.10.0.\n",
      "\tIt will be removed in librosa version 1.0.\n",
      "  y, sr_native = __audioread_load(path, offset, duration, dtype)\n"
     ]
    },
    {
     "name": "stdout",
     "output_type": "stream",
     "text": [
      "Error reading S10\n",
      "Error reading S11\n",
      "Error reading S10\n",
      "Error reading S11\n"
     ]
    },
    {
     "name": "stderr",
     "output_type": "stream",
     "text": [
      "/var/folders/9b/646lmqp56b53pz1fqqr9x5gw0000gn/T/ipykernel_85422/370983470.py:16: UserWarning: PySoundFile failed. Trying audioread instead.\n",
      "  stem_audio, _ = librosa.load(f\"{path}/stems/{stem}.wav\", sr=None)\n",
      "/Users/mariapolak/miniconda3/envs/mlme/lib/python3.11/site-packages/librosa/core/audio.py:184: FutureWarning: librosa.core.audio.__audioread_load\n",
      "\tDeprecated as of librosa version 0.10.0.\n",
      "\tIt will be removed in librosa version 1.0.\n",
      "  y, sr_native = __audioread_load(path, offset, duration, dtype)\n",
      "/var/folders/9b/646lmqp56b53pz1fqqr9x5gw0000gn/T/ipykernel_85422/370983470.py:16: UserWarning: PySoundFile failed. Trying audioread instead.\n",
      "  stem_audio, _ = librosa.load(f\"{path}/stems/{stem}.wav\", sr=None)\n",
      "/Users/mariapolak/miniconda3/envs/mlme/lib/python3.11/site-packages/librosa/core/audio.py:184: FutureWarning: librosa.core.audio.__audioread_load\n",
      "\tDeprecated as of librosa version 0.10.0.\n",
      "\tIt will be removed in librosa version 1.0.\n",
      "  y, sr_native = __audioread_load(path, offset, duration, dtype)\n",
      "/var/folders/9b/646lmqp56b53pz1fqqr9x5gw0000gn/T/ipykernel_85422/370983470.py:16: UserWarning: PySoundFile failed. Trying audioread instead.\n",
      "  stem_audio, _ = librosa.load(f\"{path}/stems/{stem}.wav\", sr=None)\n",
      "/Users/mariapolak/miniconda3/envs/mlme/lib/python3.11/site-packages/librosa/core/audio.py:184: FutureWarning: librosa.core.audio.__audioread_load\n",
      "\tDeprecated as of librosa version 0.10.0.\n",
      "\tIt will be removed in librosa version 1.0.\n",
      "  y, sr_native = __audioread_load(path, offset, duration, dtype)\n"
     ]
    },
    {
     "name": "stdout",
     "output_type": "stream",
     "text": [
      "Error reading S10\n",
      "Error reading S11\n",
      "Error reading S10\n",
      "Error reading S11\n",
      "Error reading S10\n",
      "Error reading S11\n"
     ]
    },
    {
     "name": "stderr",
     "output_type": "stream",
     "text": [
      "/var/folders/9b/646lmqp56b53pz1fqqr9x5gw0000gn/T/ipykernel_85422/370983470.py:16: UserWarning: PySoundFile failed. Trying audioread instead.\n",
      "  stem_audio, _ = librosa.load(f\"{path}/stems/{stem}.wav\", sr=None)\n",
      "/Users/mariapolak/miniconda3/envs/mlme/lib/python3.11/site-packages/librosa/core/audio.py:184: FutureWarning: librosa.core.audio.__audioread_load\n",
      "\tDeprecated as of librosa version 0.10.0.\n",
      "\tIt will be removed in librosa version 1.0.\n",
      "  y, sr_native = __audioread_load(path, offset, duration, dtype)\n",
      "/var/folders/9b/646lmqp56b53pz1fqqr9x5gw0000gn/T/ipykernel_85422/370983470.py:16: UserWarning: PySoundFile failed. Trying audioread instead.\n",
      "  stem_audio, _ = librosa.load(f\"{path}/stems/{stem}.wav\", sr=None)\n",
      "/Users/mariapolak/miniconda3/envs/mlme/lib/python3.11/site-packages/librosa/core/audio.py:184: FutureWarning: librosa.core.audio.__audioread_load\n",
      "\tDeprecated as of librosa version 0.10.0.\n",
      "\tIt will be removed in librosa version 1.0.\n",
      "  y, sr_native = __audioread_load(path, offset, duration, dtype)\n",
      "/var/folders/9b/646lmqp56b53pz1fqqr9x5gw0000gn/T/ipykernel_85422/370983470.py:16: UserWarning: PySoundFile failed. Trying audioread instead.\n",
      "  stem_audio, _ = librosa.load(f\"{path}/stems/{stem}.wav\", sr=None)\n",
      "/Users/mariapolak/miniconda3/envs/mlme/lib/python3.11/site-packages/librosa/core/audio.py:184: FutureWarning: librosa.core.audio.__audioread_load\n",
      "\tDeprecated as of librosa version 0.10.0.\n",
      "\tIt will be removed in librosa version 1.0.\n",
      "  y, sr_native = __audioread_load(path, offset, duration, dtype)\n"
     ]
    },
    {
     "name": "stdout",
     "output_type": "stream",
     "text": [
      "Error reading S10\n",
      "Error reading S11\n",
      "Error reading S10\n",
      "Error reading S11\n",
      "Error reading S10\n",
      "Error reading S11\n"
     ]
    },
    {
     "name": "stderr",
     "output_type": "stream",
     "text": [
      "/var/folders/9b/646lmqp56b53pz1fqqr9x5gw0000gn/T/ipykernel_85422/370983470.py:16: UserWarning: PySoundFile failed. Trying audioread instead.\n",
      "  stem_audio, _ = librosa.load(f\"{path}/stems/{stem}.wav\", sr=None)\n",
      "/Users/mariapolak/miniconda3/envs/mlme/lib/python3.11/site-packages/librosa/core/audio.py:184: FutureWarning: librosa.core.audio.__audioread_load\n",
      "\tDeprecated as of librosa version 0.10.0.\n",
      "\tIt will be removed in librosa version 1.0.\n",
      "  y, sr_native = __audioread_load(path, offset, duration, dtype)\n",
      "/var/folders/9b/646lmqp56b53pz1fqqr9x5gw0000gn/T/ipykernel_85422/370983470.py:16: UserWarning: PySoundFile failed. Trying audioread instead.\n",
      "  stem_audio, _ = librosa.load(f\"{path}/stems/{stem}.wav\", sr=None)\n",
      "/Users/mariapolak/miniconda3/envs/mlme/lib/python3.11/site-packages/librosa/core/audio.py:184: FutureWarning: librosa.core.audio.__audioread_load\n",
      "\tDeprecated as of librosa version 0.10.0.\n",
      "\tIt will be removed in librosa version 1.0.\n",
      "  y, sr_native = __audioread_load(path, offset, duration, dtype)\n"
     ]
    },
    {
     "name": "stdout",
     "output_type": "stream",
     "text": [
      "Error reading S10\n",
      "Error reading S11\n",
      "Error reading S10\n",
      "Error reading S11\n"
     ]
    },
    {
     "name": "stderr",
     "output_type": "stream",
     "text": [
      "/var/folders/9b/646lmqp56b53pz1fqqr9x5gw0000gn/T/ipykernel_85422/370983470.py:16: UserWarning: PySoundFile failed. Trying audioread instead.\n",
      "  stem_audio, _ = librosa.load(f\"{path}/stems/{stem}.wav\", sr=None)\n",
      "/Users/mariapolak/miniconda3/envs/mlme/lib/python3.11/site-packages/librosa/core/audio.py:184: FutureWarning: librosa.core.audio.__audioread_load\n",
      "\tDeprecated as of librosa version 0.10.0.\n",
      "\tIt will be removed in librosa version 1.0.\n",
      "  y, sr_native = __audioread_load(path, offset, duration, dtype)\n",
      "/var/folders/9b/646lmqp56b53pz1fqqr9x5gw0000gn/T/ipykernel_85422/370983470.py:16: UserWarning: PySoundFile failed. Trying audioread instead.\n",
      "  stem_audio, _ = librosa.load(f\"{path}/stems/{stem}.wav\", sr=None)\n",
      "/Users/mariapolak/miniconda3/envs/mlme/lib/python3.11/site-packages/librosa/core/audio.py:184: FutureWarning: librosa.core.audio.__audioread_load\n",
      "\tDeprecated as of librosa version 0.10.0.\n",
      "\tIt will be removed in librosa version 1.0.\n",
      "  y, sr_native = __audioread_load(path, offset, duration, dtype)\n",
      "/var/folders/9b/646lmqp56b53pz1fqqr9x5gw0000gn/T/ipykernel_85422/370983470.py:16: UserWarning: PySoundFile failed. Trying audioread instead.\n",
      "  stem_audio, _ = librosa.load(f\"{path}/stems/{stem}.wav\", sr=None)\n",
      "/Users/mariapolak/miniconda3/envs/mlme/lib/python3.11/site-packages/librosa/core/audio.py:184: FutureWarning: librosa.core.audio.__audioread_load\n",
      "\tDeprecated as of librosa version 0.10.0.\n",
      "\tIt will be removed in librosa version 1.0.\n",
      "  y, sr_native = __audioread_load(path, offset, duration, dtype)\n"
     ]
    },
    {
     "name": "stdout",
     "output_type": "stream",
     "text": [
      "Error reading S10\n",
      "Error reading S11\n",
      "Error reading S10\n",
      "Error reading S11\n",
      "Error reading S10\n",
      "Error reading S11\n"
     ]
    },
    {
     "name": "stderr",
     "output_type": "stream",
     "text": [
      "/var/folders/9b/646lmqp56b53pz1fqqr9x5gw0000gn/T/ipykernel_85422/370983470.py:16: UserWarning: PySoundFile failed. Trying audioread instead.\n",
      "  stem_audio, _ = librosa.load(f\"{path}/stems/{stem}.wav\", sr=None)\n",
      "/Users/mariapolak/miniconda3/envs/mlme/lib/python3.11/site-packages/librosa/core/audio.py:184: FutureWarning: librosa.core.audio.__audioread_load\n",
      "\tDeprecated as of librosa version 0.10.0.\n",
      "\tIt will be removed in librosa version 1.0.\n",
      "  y, sr_native = __audioread_load(path, offset, duration, dtype)\n",
      "/var/folders/9b/646lmqp56b53pz1fqqr9x5gw0000gn/T/ipykernel_85422/370983470.py:16: UserWarning: PySoundFile failed. Trying audioread instead.\n",
      "  stem_audio, _ = librosa.load(f\"{path}/stems/{stem}.wav\", sr=None)\n",
      "/Users/mariapolak/miniconda3/envs/mlme/lib/python3.11/site-packages/librosa/core/audio.py:184: FutureWarning: librosa.core.audio.__audioread_load\n",
      "\tDeprecated as of librosa version 0.10.0.\n",
      "\tIt will be removed in librosa version 1.0.\n",
      "  y, sr_native = __audioread_load(path, offset, duration, dtype)\n"
     ]
    },
    {
     "name": "stdout",
     "output_type": "stream",
     "text": [
      "Error reading S10\n",
      "Error reading S11\n",
      "Error reading S10\n",
      "Error reading S11\n"
     ]
    },
    {
     "name": "stderr",
     "output_type": "stream",
     "text": [
      "/var/folders/9b/646lmqp56b53pz1fqqr9x5gw0000gn/T/ipykernel_85422/370983470.py:16: UserWarning: PySoundFile failed. Trying audioread instead.\n",
      "  stem_audio, _ = librosa.load(f\"{path}/stems/{stem}.wav\", sr=None)\n",
      "/Users/mariapolak/miniconda3/envs/mlme/lib/python3.11/site-packages/librosa/core/audio.py:184: FutureWarning: librosa.core.audio.__audioread_load\n",
      "\tDeprecated as of librosa version 0.10.0.\n",
      "\tIt will be removed in librosa version 1.0.\n",
      "  y, sr_native = __audioread_load(path, offset, duration, dtype)\n"
     ]
    },
    {
     "name": "stdout",
     "output_type": "stream",
     "text": [
      "Error reading S10\n",
      "Error reading S11\n"
     ]
    },
    {
     "name": "stderr",
     "output_type": "stream",
     "text": [
      "/var/folders/9b/646lmqp56b53pz1fqqr9x5gw0000gn/T/ipykernel_85422/370983470.py:16: UserWarning: PySoundFile failed. Trying audioread instead.\n",
      "  stem_audio, _ = librosa.load(f\"{path}/stems/{stem}.wav\", sr=None)\n",
      "/Users/mariapolak/miniconda3/envs/mlme/lib/python3.11/site-packages/librosa/core/audio.py:184: FutureWarning: librosa.core.audio.__audioread_load\n",
      "\tDeprecated as of librosa version 0.10.0.\n",
      "\tIt will be removed in librosa version 1.0.\n",
      "  y, sr_native = __audioread_load(path, offset, duration, dtype)\n",
      "/var/folders/9b/646lmqp56b53pz1fqqr9x5gw0000gn/T/ipykernel_85422/370983470.py:16: UserWarning: PySoundFile failed. Trying audioread instead.\n",
      "  stem_audio, _ = librosa.load(f\"{path}/stems/{stem}.wav\", sr=None)\n",
      "/Users/mariapolak/miniconda3/envs/mlme/lib/python3.11/site-packages/librosa/core/audio.py:184: FutureWarning: librosa.core.audio.__audioread_load\n",
      "\tDeprecated as of librosa version 0.10.0.\n",
      "\tIt will be removed in librosa version 1.0.\n",
      "  y, sr_native = __audioread_load(path, offset, duration, dtype)\n"
     ]
    },
    {
     "name": "stdout",
     "output_type": "stream",
     "text": [
      "Error reading S10\n",
      "Error reading S11\n",
      "Error reading S10\n",
      "Error reading S11\n"
     ]
    },
    {
     "name": "stderr",
     "output_type": "stream",
     "text": [
      "/var/folders/9b/646lmqp56b53pz1fqqr9x5gw0000gn/T/ipykernel_85422/370983470.py:16: UserWarning: PySoundFile failed. Trying audioread instead.\n",
      "  stem_audio, _ = librosa.load(f\"{path}/stems/{stem}.wav\", sr=None)\n",
      "/Users/mariapolak/miniconda3/envs/mlme/lib/python3.11/site-packages/librosa/core/audio.py:184: FutureWarning: librosa.core.audio.__audioread_load\n",
      "\tDeprecated as of librosa version 0.10.0.\n",
      "\tIt will be removed in librosa version 1.0.\n",
      "  y, sr_native = __audioread_load(path, offset, duration, dtype)\n",
      "/var/folders/9b/646lmqp56b53pz1fqqr9x5gw0000gn/T/ipykernel_85422/370983470.py:16: UserWarning: PySoundFile failed. Trying audioread instead.\n",
      "  stem_audio, _ = librosa.load(f\"{path}/stems/{stem}.wav\", sr=None)\n",
      "/Users/mariapolak/miniconda3/envs/mlme/lib/python3.11/site-packages/librosa/core/audio.py:184: FutureWarning: librosa.core.audio.__audioread_load\n",
      "\tDeprecated as of librosa version 0.10.0.\n",
      "\tIt will be removed in librosa version 1.0.\n",
      "  y, sr_native = __audioread_load(path, offset, duration, dtype)\n",
      "/var/folders/9b/646lmqp56b53pz1fqqr9x5gw0000gn/T/ipykernel_85422/370983470.py:16: UserWarning: PySoundFile failed. Trying audioread instead.\n",
      "  stem_audio, _ = librosa.load(f\"{path}/stems/{stem}.wav\", sr=None)\n",
      "/Users/mariapolak/miniconda3/envs/mlme/lib/python3.11/site-packages/librosa/core/audio.py:184: FutureWarning: librosa.core.audio.__audioread_load\n",
      "\tDeprecated as of librosa version 0.10.0.\n",
      "\tIt will be removed in librosa version 1.0.\n",
      "  y, sr_native = __audioread_load(path, offset, duration, dtype)\n"
     ]
    },
    {
     "name": "stdout",
     "output_type": "stream",
     "text": [
      "Error reading S10\n",
      "Error reading S11\n",
      "Error reading S10\n",
      "Error reading S11\n",
      "Error reading S10\n",
      "Error reading S11\n"
     ]
    },
    {
     "name": "stderr",
     "output_type": "stream",
     "text": [
      "/var/folders/9b/646lmqp56b53pz1fqqr9x5gw0000gn/T/ipykernel_85422/370983470.py:16: UserWarning: PySoundFile failed. Trying audioread instead.\n",
      "  stem_audio, _ = librosa.load(f\"{path}/stems/{stem}.wav\", sr=None)\n",
      "/Users/mariapolak/miniconda3/envs/mlme/lib/python3.11/site-packages/librosa/core/audio.py:184: FutureWarning: librosa.core.audio.__audioread_load\n",
      "\tDeprecated as of librosa version 0.10.0.\n",
      "\tIt will be removed in librosa version 1.0.\n",
      "  y, sr_native = __audioread_load(path, offset, duration, dtype)\n",
      "/var/folders/9b/646lmqp56b53pz1fqqr9x5gw0000gn/T/ipykernel_85422/370983470.py:16: UserWarning: PySoundFile failed. Trying audioread instead.\n",
      "  stem_audio, _ = librosa.load(f\"{path}/stems/{stem}.wav\", sr=None)\n",
      "/Users/mariapolak/miniconda3/envs/mlme/lib/python3.11/site-packages/librosa/core/audio.py:184: FutureWarning: librosa.core.audio.__audioread_load\n",
      "\tDeprecated as of librosa version 0.10.0.\n",
      "\tIt will be removed in librosa version 1.0.\n",
      "  y, sr_native = __audioread_load(path, offset, duration, dtype)\n"
     ]
    },
    {
     "name": "stdout",
     "output_type": "stream",
     "text": [
      "Error reading S10\n",
      "Error reading S11\n",
      "Error reading S10\n",
      "Error reading S11\n"
     ]
    },
    {
     "name": "stderr",
     "output_type": "stream",
     "text": [
      "/var/folders/9b/646lmqp56b53pz1fqqr9x5gw0000gn/T/ipykernel_85422/370983470.py:16: UserWarning: PySoundFile failed. Trying audioread instead.\n",
      "  stem_audio, _ = librosa.load(f\"{path}/stems/{stem}.wav\", sr=None)\n",
      "/Users/mariapolak/miniconda3/envs/mlme/lib/python3.11/site-packages/librosa/core/audio.py:184: FutureWarning: librosa.core.audio.__audioread_load\n",
      "\tDeprecated as of librosa version 0.10.0.\n",
      "\tIt will be removed in librosa version 1.0.\n",
      "  y, sr_native = __audioread_load(path, offset, duration, dtype)\n",
      "/var/folders/9b/646lmqp56b53pz1fqqr9x5gw0000gn/T/ipykernel_85422/370983470.py:16: UserWarning: PySoundFile failed. Trying audioread instead.\n",
      "  stem_audio, _ = librosa.load(f\"{path}/stems/{stem}.wav\", sr=None)\n",
      "/Users/mariapolak/miniconda3/envs/mlme/lib/python3.11/site-packages/librosa/core/audio.py:184: FutureWarning: librosa.core.audio.__audioread_load\n",
      "\tDeprecated as of librosa version 0.10.0.\n",
      "\tIt will be removed in librosa version 1.0.\n",
      "  y, sr_native = __audioread_load(path, offset, duration, dtype)\n"
     ]
    },
    {
     "name": "stdout",
     "output_type": "stream",
     "text": [
      "Error reading S10\n",
      "Error reading S11\n",
      "Error reading S10\n",
      "Error reading S11\n"
     ]
    },
    {
     "name": "stderr",
     "output_type": "stream",
     "text": [
      "/var/folders/9b/646lmqp56b53pz1fqqr9x5gw0000gn/T/ipykernel_85422/370983470.py:16: UserWarning: PySoundFile failed. Trying audioread instead.\n",
      "  stem_audio, _ = librosa.load(f\"{path}/stems/{stem}.wav\", sr=None)\n",
      "/Users/mariapolak/miniconda3/envs/mlme/lib/python3.11/site-packages/librosa/core/audio.py:184: FutureWarning: librosa.core.audio.__audioread_load\n",
      "\tDeprecated as of librosa version 0.10.0.\n",
      "\tIt will be removed in librosa version 1.0.\n",
      "  y, sr_native = __audioread_load(path, offset, duration, dtype)\n",
      "/var/folders/9b/646lmqp56b53pz1fqqr9x5gw0000gn/T/ipykernel_85422/370983470.py:16: UserWarning: PySoundFile failed. Trying audioread instead.\n",
      "  stem_audio, _ = librosa.load(f\"{path}/stems/{stem}.wav\", sr=None)\n",
      "/Users/mariapolak/miniconda3/envs/mlme/lib/python3.11/site-packages/librosa/core/audio.py:184: FutureWarning: librosa.core.audio.__audioread_load\n",
      "\tDeprecated as of librosa version 0.10.0.\n",
      "\tIt will be removed in librosa version 1.0.\n",
      "  y, sr_native = __audioread_load(path, offset, duration, dtype)\n"
     ]
    },
    {
     "name": "stdout",
     "output_type": "stream",
     "text": [
      "Error reading S10\n",
      "Error reading S11\n",
      "Error reading S10\n",
      "Error reading S11\n"
     ]
    },
    {
     "name": "stderr",
     "output_type": "stream",
     "text": [
      "/var/folders/9b/646lmqp56b53pz1fqqr9x5gw0000gn/T/ipykernel_85422/370983470.py:16: UserWarning: PySoundFile failed. Trying audioread instead.\n",
      "  stem_audio, _ = librosa.load(f\"{path}/stems/{stem}.wav\", sr=None)\n",
      "/Users/mariapolak/miniconda3/envs/mlme/lib/python3.11/site-packages/librosa/core/audio.py:184: FutureWarning: librosa.core.audio.__audioread_load\n",
      "\tDeprecated as of librosa version 0.10.0.\n",
      "\tIt will be removed in librosa version 1.0.\n",
      "  y, sr_native = __audioread_load(path, offset, duration, dtype)\n",
      "/var/folders/9b/646lmqp56b53pz1fqqr9x5gw0000gn/T/ipykernel_85422/370983470.py:16: UserWarning: PySoundFile failed. Trying audioread instead.\n",
      "  stem_audio, _ = librosa.load(f\"{path}/stems/{stem}.wav\", sr=None)\n",
      "/Users/mariapolak/miniconda3/envs/mlme/lib/python3.11/site-packages/librosa/core/audio.py:184: FutureWarning: librosa.core.audio.__audioread_load\n",
      "\tDeprecated as of librosa version 0.10.0.\n",
      "\tIt will be removed in librosa version 1.0.\n",
      "  y, sr_native = __audioread_load(path, offset, duration, dtype)\n"
     ]
    },
    {
     "name": "stdout",
     "output_type": "stream",
     "text": [
      "Error reading S10\n",
      "Error reading S11\n",
      "Error reading S10\n",
      "Error reading S11\n"
     ]
    },
    {
     "name": "stderr",
     "output_type": "stream",
     "text": [
      "/var/folders/9b/646lmqp56b53pz1fqqr9x5gw0000gn/T/ipykernel_85422/370983470.py:16: UserWarning: PySoundFile failed. Trying audioread instead.\n",
      "  stem_audio, _ = librosa.load(f\"{path}/stems/{stem}.wav\", sr=None)\n",
      "/Users/mariapolak/miniconda3/envs/mlme/lib/python3.11/site-packages/librosa/core/audio.py:184: FutureWarning: librosa.core.audio.__audioread_load\n",
      "\tDeprecated as of librosa version 0.10.0.\n",
      "\tIt will be removed in librosa version 1.0.\n",
      "  y, sr_native = __audioread_load(path, offset, duration, dtype)\n"
     ]
    },
    {
     "name": "stdout",
     "output_type": "stream",
     "text": [
      "Error reading S10\n",
      "Error reading S11\n"
     ]
    },
    {
     "name": "stderr",
     "output_type": "stream",
     "text": [
      "/var/folders/9b/646lmqp56b53pz1fqqr9x5gw0000gn/T/ipykernel_85422/370983470.py:16: UserWarning: PySoundFile failed. Trying audioread instead.\n",
      "  stem_audio, _ = librosa.load(f\"{path}/stems/{stem}.wav\", sr=None)\n",
      "/Users/mariapolak/miniconda3/envs/mlme/lib/python3.11/site-packages/librosa/core/audio.py:184: FutureWarning: librosa.core.audio.__audioread_load\n",
      "\tDeprecated as of librosa version 0.10.0.\n",
      "\tIt will be removed in librosa version 1.0.\n",
      "  y, sr_native = __audioread_load(path, offset, duration, dtype)\n",
      "/var/folders/9b/646lmqp56b53pz1fqqr9x5gw0000gn/T/ipykernel_85422/370983470.py:16: UserWarning: PySoundFile failed. Trying audioread instead.\n",
      "  stem_audio, _ = librosa.load(f\"{path}/stems/{stem}.wav\", sr=None)\n",
      "/Users/mariapolak/miniconda3/envs/mlme/lib/python3.11/site-packages/librosa/core/audio.py:184: FutureWarning: librosa.core.audio.__audioread_load\n",
      "\tDeprecated as of librosa version 0.10.0.\n",
      "\tIt will be removed in librosa version 1.0.\n",
      "  y, sr_native = __audioread_load(path, offset, duration, dtype)\n"
     ]
    },
    {
     "name": "stdout",
     "output_type": "stream",
     "text": [
      "Error reading S10\n",
      "Error reading S11\n",
      "Error reading S10\n",
      "Error reading S11\n"
     ]
    },
    {
     "name": "stderr",
     "output_type": "stream",
     "text": [
      "/var/folders/9b/646lmqp56b53pz1fqqr9x5gw0000gn/T/ipykernel_85422/370983470.py:16: UserWarning: PySoundFile failed. Trying audioread instead.\n",
      "  stem_audio, _ = librosa.load(f\"{path}/stems/{stem}.wav\", sr=None)\n",
      "/Users/mariapolak/miniconda3/envs/mlme/lib/python3.11/site-packages/librosa/core/audio.py:184: FutureWarning: librosa.core.audio.__audioread_load\n",
      "\tDeprecated as of librosa version 0.10.0.\n",
      "\tIt will be removed in librosa version 1.0.\n",
      "  y, sr_native = __audioread_load(path, offset, duration, dtype)\n"
     ]
    },
    {
     "name": "stdout",
     "output_type": "stream",
     "text": [
      "Error reading S10\n",
      "Error reading S11\n",
      "Processing: datasets/babyslakh_16k/Track00005\n"
     ]
    },
    {
     "name": "stderr",
     "output_type": "stream",
     "text": [
      "/var/folders/9b/646lmqp56b53pz1fqqr9x5gw0000gn/T/ipykernel_85422/370983470.py:16: UserWarning: PySoundFile failed. Trying audioread instead.\n",
      "  stem_audio, _ = librosa.load(f\"{path}/stems/{stem}.wav\", sr=None)\n",
      "/Users/mariapolak/miniconda3/envs/mlme/lib/python3.11/site-packages/librosa/core/audio.py:184: FutureWarning: librosa.core.audio.__audioread_load\n",
      "\tDeprecated as of librosa version 0.10.0.\n",
      "\tIt will be removed in librosa version 1.0.\n",
      "  y, sr_native = __audioread_load(path, offset, duration, dtype)\n",
      "/var/folders/9b/646lmqp56b53pz1fqqr9x5gw0000gn/T/ipykernel_85422/370983470.py:16: UserWarning: PySoundFile failed. Trying audioread instead.\n",
      "  stem_audio, _ = librosa.load(f\"{path}/stems/{stem}.wav\", sr=None)\n",
      "/Users/mariapolak/miniconda3/envs/mlme/lib/python3.11/site-packages/librosa/core/audio.py:184: FutureWarning: librosa.core.audio.__audioread_load\n",
      "\tDeprecated as of librosa version 0.10.0.\n",
      "\tIt will be removed in librosa version 1.0.\n",
      "  y, sr_native = __audioread_load(path, offset, duration, dtype)\n"
     ]
    },
    {
     "name": "stdout",
     "output_type": "stream",
     "text": [
      "Error reading S09\n",
      "Error reading S09\n"
     ]
    },
    {
     "name": "stderr",
     "output_type": "stream",
     "text": [
      "/var/folders/9b/646lmqp56b53pz1fqqr9x5gw0000gn/T/ipykernel_85422/370983470.py:16: UserWarning: PySoundFile failed. Trying audioread instead.\n",
      "  stem_audio, _ = librosa.load(f\"{path}/stems/{stem}.wav\", sr=None)\n",
      "/Users/mariapolak/miniconda3/envs/mlme/lib/python3.11/site-packages/librosa/core/audio.py:184: FutureWarning: librosa.core.audio.__audioread_load\n",
      "\tDeprecated as of librosa version 0.10.0.\n",
      "\tIt will be removed in librosa version 1.0.\n",
      "  y, sr_native = __audioread_load(path, offset, duration, dtype)\n",
      "/var/folders/9b/646lmqp56b53pz1fqqr9x5gw0000gn/T/ipykernel_85422/370983470.py:16: UserWarning: PySoundFile failed. Trying audioread instead.\n",
      "  stem_audio, _ = librosa.load(f\"{path}/stems/{stem}.wav\", sr=None)\n",
      "/Users/mariapolak/miniconda3/envs/mlme/lib/python3.11/site-packages/librosa/core/audio.py:184: FutureWarning: librosa.core.audio.__audioread_load\n",
      "\tDeprecated as of librosa version 0.10.0.\n",
      "\tIt will be removed in librosa version 1.0.\n",
      "  y, sr_native = __audioread_load(path, offset, duration, dtype)\n"
     ]
    },
    {
     "name": "stdout",
     "output_type": "stream",
     "text": [
      "Error reading S09\n",
      "Error reading S09\n"
     ]
    },
    {
     "name": "stderr",
     "output_type": "stream",
     "text": [
      "/var/folders/9b/646lmqp56b53pz1fqqr9x5gw0000gn/T/ipykernel_85422/370983470.py:16: UserWarning: PySoundFile failed. Trying audioread instead.\n",
      "  stem_audio, _ = librosa.load(f\"{path}/stems/{stem}.wav\", sr=None)\n",
      "/Users/mariapolak/miniconda3/envs/mlme/lib/python3.11/site-packages/librosa/core/audio.py:184: FutureWarning: librosa.core.audio.__audioread_load\n",
      "\tDeprecated as of librosa version 0.10.0.\n",
      "\tIt will be removed in librosa version 1.0.\n",
      "  y, sr_native = __audioread_load(path, offset, duration, dtype)\n",
      "/var/folders/9b/646lmqp56b53pz1fqqr9x5gw0000gn/T/ipykernel_85422/370983470.py:16: UserWarning: PySoundFile failed. Trying audioread instead.\n",
      "  stem_audio, _ = librosa.load(f\"{path}/stems/{stem}.wav\", sr=None)\n",
      "/Users/mariapolak/miniconda3/envs/mlme/lib/python3.11/site-packages/librosa/core/audio.py:184: FutureWarning: librosa.core.audio.__audioread_load\n",
      "\tDeprecated as of librosa version 0.10.0.\n",
      "\tIt will be removed in librosa version 1.0.\n",
      "  y, sr_native = __audioread_load(path, offset, duration, dtype)\n"
     ]
    },
    {
     "name": "stdout",
     "output_type": "stream",
     "text": [
      "Error reading S09\n",
      "Error reading S09\n"
     ]
    },
    {
     "name": "stderr",
     "output_type": "stream",
     "text": [
      "/var/folders/9b/646lmqp56b53pz1fqqr9x5gw0000gn/T/ipykernel_85422/370983470.py:16: UserWarning: PySoundFile failed. Trying audioread instead.\n",
      "  stem_audio, _ = librosa.load(f\"{path}/stems/{stem}.wav\", sr=None)\n",
      "/Users/mariapolak/miniconda3/envs/mlme/lib/python3.11/site-packages/librosa/core/audio.py:184: FutureWarning: librosa.core.audio.__audioread_load\n",
      "\tDeprecated as of librosa version 0.10.0.\n",
      "\tIt will be removed in librosa version 1.0.\n",
      "  y, sr_native = __audioread_load(path, offset, duration, dtype)\n",
      "/var/folders/9b/646lmqp56b53pz1fqqr9x5gw0000gn/T/ipykernel_85422/370983470.py:16: UserWarning: PySoundFile failed. Trying audioread instead.\n",
      "  stem_audio, _ = librosa.load(f\"{path}/stems/{stem}.wav\", sr=None)\n",
      "/Users/mariapolak/miniconda3/envs/mlme/lib/python3.11/site-packages/librosa/core/audio.py:184: FutureWarning: librosa.core.audio.__audioread_load\n",
      "\tDeprecated as of librosa version 0.10.0.\n",
      "\tIt will be removed in librosa version 1.0.\n",
      "  y, sr_native = __audioread_load(path, offset, duration, dtype)\n"
     ]
    },
    {
     "name": "stdout",
     "output_type": "stream",
     "text": [
      "Error reading S09\n",
      "Error reading S09\n"
     ]
    },
    {
     "name": "stderr",
     "output_type": "stream",
     "text": [
      "/var/folders/9b/646lmqp56b53pz1fqqr9x5gw0000gn/T/ipykernel_85422/370983470.py:16: UserWarning: PySoundFile failed. Trying audioread instead.\n",
      "  stem_audio, _ = librosa.load(f\"{path}/stems/{stem}.wav\", sr=None)\n",
      "/Users/mariapolak/miniconda3/envs/mlme/lib/python3.11/site-packages/librosa/core/audio.py:184: FutureWarning: librosa.core.audio.__audioread_load\n",
      "\tDeprecated as of librosa version 0.10.0.\n",
      "\tIt will be removed in librosa version 1.0.\n",
      "  y, sr_native = __audioread_load(path, offset, duration, dtype)\n"
     ]
    },
    {
     "name": "stdout",
     "output_type": "stream",
     "text": [
      "Error reading S09\n"
     ]
    },
    {
     "name": "stderr",
     "output_type": "stream",
     "text": [
      "/var/folders/9b/646lmqp56b53pz1fqqr9x5gw0000gn/T/ipykernel_85422/370983470.py:16: UserWarning: PySoundFile failed. Trying audioread instead.\n",
      "  stem_audio, _ = librosa.load(f\"{path}/stems/{stem}.wav\", sr=None)\n",
      "/Users/mariapolak/miniconda3/envs/mlme/lib/python3.11/site-packages/librosa/core/audio.py:184: FutureWarning: librosa.core.audio.__audioread_load\n",
      "\tDeprecated as of librosa version 0.10.0.\n",
      "\tIt will be removed in librosa version 1.0.\n",
      "  y, sr_native = __audioread_load(path, offset, duration, dtype)\n",
      "/var/folders/9b/646lmqp56b53pz1fqqr9x5gw0000gn/T/ipykernel_85422/370983470.py:16: UserWarning: PySoundFile failed. Trying audioread instead.\n",
      "  stem_audio, _ = librosa.load(f\"{path}/stems/{stem}.wav\", sr=None)\n",
      "/Users/mariapolak/miniconda3/envs/mlme/lib/python3.11/site-packages/librosa/core/audio.py:184: FutureWarning: librosa.core.audio.__audioread_load\n",
      "\tDeprecated as of librosa version 0.10.0.\n",
      "\tIt will be removed in librosa version 1.0.\n",
      "  y, sr_native = __audioread_load(path, offset, duration, dtype)\n"
     ]
    },
    {
     "name": "stdout",
     "output_type": "stream",
     "text": [
      "Error reading S09\n",
      "Error reading S09\n"
     ]
    },
    {
     "name": "stderr",
     "output_type": "stream",
     "text": [
      "/var/folders/9b/646lmqp56b53pz1fqqr9x5gw0000gn/T/ipykernel_85422/370983470.py:16: UserWarning: PySoundFile failed. Trying audioread instead.\n",
      "  stem_audio, _ = librosa.load(f\"{path}/stems/{stem}.wav\", sr=None)\n",
      "/Users/mariapolak/miniconda3/envs/mlme/lib/python3.11/site-packages/librosa/core/audio.py:184: FutureWarning: librosa.core.audio.__audioread_load\n",
      "\tDeprecated as of librosa version 0.10.0.\n",
      "\tIt will be removed in librosa version 1.0.\n",
      "  y, sr_native = __audioread_load(path, offset, duration, dtype)\n",
      "/var/folders/9b/646lmqp56b53pz1fqqr9x5gw0000gn/T/ipykernel_85422/370983470.py:16: UserWarning: PySoundFile failed. Trying audioread instead.\n",
      "  stem_audio, _ = librosa.load(f\"{path}/stems/{stem}.wav\", sr=None)\n",
      "/Users/mariapolak/miniconda3/envs/mlme/lib/python3.11/site-packages/librosa/core/audio.py:184: FutureWarning: librosa.core.audio.__audioread_load\n",
      "\tDeprecated as of librosa version 0.10.0.\n",
      "\tIt will be removed in librosa version 1.0.\n",
      "  y, sr_native = __audioread_load(path, offset, duration, dtype)\n"
     ]
    },
    {
     "name": "stdout",
     "output_type": "stream",
     "text": [
      "Error reading S09\n",
      "Error reading S09\n"
     ]
    },
    {
     "name": "stderr",
     "output_type": "stream",
     "text": [
      "/var/folders/9b/646lmqp56b53pz1fqqr9x5gw0000gn/T/ipykernel_85422/370983470.py:16: UserWarning: PySoundFile failed. Trying audioread instead.\n",
      "  stem_audio, _ = librosa.load(f\"{path}/stems/{stem}.wav\", sr=None)\n",
      "/Users/mariapolak/miniconda3/envs/mlme/lib/python3.11/site-packages/librosa/core/audio.py:184: FutureWarning: librosa.core.audio.__audioread_load\n",
      "\tDeprecated as of librosa version 0.10.0.\n",
      "\tIt will be removed in librosa version 1.0.\n",
      "  y, sr_native = __audioread_load(path, offset, duration, dtype)\n",
      "/var/folders/9b/646lmqp56b53pz1fqqr9x5gw0000gn/T/ipykernel_85422/370983470.py:16: UserWarning: PySoundFile failed. Trying audioread instead.\n",
      "  stem_audio, _ = librosa.load(f\"{path}/stems/{stem}.wav\", sr=None)\n",
      "/Users/mariapolak/miniconda3/envs/mlme/lib/python3.11/site-packages/librosa/core/audio.py:184: FutureWarning: librosa.core.audio.__audioread_load\n",
      "\tDeprecated as of librosa version 0.10.0.\n",
      "\tIt will be removed in librosa version 1.0.\n",
      "  y, sr_native = __audioread_load(path, offset, duration, dtype)\n"
     ]
    },
    {
     "name": "stdout",
     "output_type": "stream",
     "text": [
      "Error reading S09\n",
      "Error reading S09\n"
     ]
    },
    {
     "name": "stderr",
     "output_type": "stream",
     "text": [
      "/var/folders/9b/646lmqp56b53pz1fqqr9x5gw0000gn/T/ipykernel_85422/370983470.py:16: UserWarning: PySoundFile failed. Trying audioread instead.\n",
      "  stem_audio, _ = librosa.load(f\"{path}/stems/{stem}.wav\", sr=None)\n",
      "/Users/mariapolak/miniconda3/envs/mlme/lib/python3.11/site-packages/librosa/core/audio.py:184: FutureWarning: librosa.core.audio.__audioread_load\n",
      "\tDeprecated as of librosa version 0.10.0.\n",
      "\tIt will be removed in librosa version 1.0.\n",
      "  y, sr_native = __audioread_load(path, offset, duration, dtype)\n",
      "/var/folders/9b/646lmqp56b53pz1fqqr9x5gw0000gn/T/ipykernel_85422/370983470.py:16: UserWarning: PySoundFile failed. Trying audioread instead.\n",
      "  stem_audio, _ = librosa.load(f\"{path}/stems/{stem}.wav\", sr=None)\n",
      "/Users/mariapolak/miniconda3/envs/mlme/lib/python3.11/site-packages/librosa/core/audio.py:184: FutureWarning: librosa.core.audio.__audioread_load\n",
      "\tDeprecated as of librosa version 0.10.0.\n",
      "\tIt will be removed in librosa version 1.0.\n",
      "  y, sr_native = __audioread_load(path, offset, duration, dtype)\n"
     ]
    },
    {
     "name": "stdout",
     "output_type": "stream",
     "text": [
      "Error reading S09\n",
      "Error reading S09\n"
     ]
    },
    {
     "name": "stderr",
     "output_type": "stream",
     "text": [
      "/var/folders/9b/646lmqp56b53pz1fqqr9x5gw0000gn/T/ipykernel_85422/370983470.py:16: UserWarning: PySoundFile failed. Trying audioread instead.\n",
      "  stem_audio, _ = librosa.load(f\"{path}/stems/{stem}.wav\", sr=None)\n",
      "/Users/mariapolak/miniconda3/envs/mlme/lib/python3.11/site-packages/librosa/core/audio.py:184: FutureWarning: librosa.core.audio.__audioread_load\n",
      "\tDeprecated as of librosa version 0.10.0.\n",
      "\tIt will be removed in librosa version 1.0.\n",
      "  y, sr_native = __audioread_load(path, offset, duration, dtype)\n"
     ]
    },
    {
     "name": "stdout",
     "output_type": "stream",
     "text": [
      "Error reading S09\n"
     ]
    },
    {
     "name": "stderr",
     "output_type": "stream",
     "text": [
      "/var/folders/9b/646lmqp56b53pz1fqqr9x5gw0000gn/T/ipykernel_85422/370983470.py:16: UserWarning: PySoundFile failed. Trying audioread instead.\n",
      "  stem_audio, _ = librosa.load(f\"{path}/stems/{stem}.wav\", sr=None)\n",
      "/Users/mariapolak/miniconda3/envs/mlme/lib/python3.11/site-packages/librosa/core/audio.py:184: FutureWarning: librosa.core.audio.__audioread_load\n",
      "\tDeprecated as of librosa version 0.10.0.\n",
      "\tIt will be removed in librosa version 1.0.\n",
      "  y, sr_native = __audioread_load(path, offset, duration, dtype)\n"
     ]
    },
    {
     "name": "stdout",
     "output_type": "stream",
     "text": [
      "Error reading S09\n"
     ]
    },
    {
     "name": "stderr",
     "output_type": "stream",
     "text": [
      "/var/folders/9b/646lmqp56b53pz1fqqr9x5gw0000gn/T/ipykernel_85422/370983470.py:16: UserWarning: PySoundFile failed. Trying audioread instead.\n",
      "  stem_audio, _ = librosa.load(f\"{path}/stems/{stem}.wav\", sr=None)\n",
      "/Users/mariapolak/miniconda3/envs/mlme/lib/python3.11/site-packages/librosa/core/audio.py:184: FutureWarning: librosa.core.audio.__audioread_load\n",
      "\tDeprecated as of librosa version 0.10.0.\n",
      "\tIt will be removed in librosa version 1.0.\n",
      "  y, sr_native = __audioread_load(path, offset, duration, dtype)\n",
      "/var/folders/9b/646lmqp56b53pz1fqqr9x5gw0000gn/T/ipykernel_85422/370983470.py:16: UserWarning: PySoundFile failed. Trying audioread instead.\n",
      "  stem_audio, _ = librosa.load(f\"{path}/stems/{stem}.wav\", sr=None)\n",
      "/Users/mariapolak/miniconda3/envs/mlme/lib/python3.11/site-packages/librosa/core/audio.py:184: FutureWarning: librosa.core.audio.__audioread_load\n",
      "\tDeprecated as of librosa version 0.10.0.\n",
      "\tIt will be removed in librosa version 1.0.\n",
      "  y, sr_native = __audioread_load(path, offset, duration, dtype)\n"
     ]
    },
    {
     "name": "stdout",
     "output_type": "stream",
     "text": [
      "Error reading S09\n",
      "Error reading S09\n"
     ]
    },
    {
     "name": "stderr",
     "output_type": "stream",
     "text": [
      "/var/folders/9b/646lmqp56b53pz1fqqr9x5gw0000gn/T/ipykernel_85422/370983470.py:16: UserWarning: PySoundFile failed. Trying audioread instead.\n",
      "  stem_audio, _ = librosa.load(f\"{path}/stems/{stem}.wav\", sr=None)\n",
      "/Users/mariapolak/miniconda3/envs/mlme/lib/python3.11/site-packages/librosa/core/audio.py:184: FutureWarning: librosa.core.audio.__audioread_load\n",
      "\tDeprecated as of librosa version 0.10.0.\n",
      "\tIt will be removed in librosa version 1.0.\n",
      "  y, sr_native = __audioread_load(path, offset, duration, dtype)\n",
      "/var/folders/9b/646lmqp56b53pz1fqqr9x5gw0000gn/T/ipykernel_85422/370983470.py:16: UserWarning: PySoundFile failed. Trying audioread instead.\n",
      "  stem_audio, _ = librosa.load(f\"{path}/stems/{stem}.wav\", sr=None)\n",
      "/Users/mariapolak/miniconda3/envs/mlme/lib/python3.11/site-packages/librosa/core/audio.py:184: FutureWarning: librosa.core.audio.__audioread_load\n",
      "\tDeprecated as of librosa version 0.10.0.\n",
      "\tIt will be removed in librosa version 1.0.\n",
      "  y, sr_native = __audioread_load(path, offset, duration, dtype)\n"
     ]
    },
    {
     "name": "stdout",
     "output_type": "stream",
     "text": [
      "Error reading S09\n",
      "Error reading S09\n"
     ]
    },
    {
     "name": "stderr",
     "output_type": "stream",
     "text": [
      "/var/folders/9b/646lmqp56b53pz1fqqr9x5gw0000gn/T/ipykernel_85422/370983470.py:16: UserWarning: PySoundFile failed. Trying audioread instead.\n",
      "  stem_audio, _ = librosa.load(f\"{path}/stems/{stem}.wav\", sr=None)\n",
      "/Users/mariapolak/miniconda3/envs/mlme/lib/python3.11/site-packages/librosa/core/audio.py:184: FutureWarning: librosa.core.audio.__audioread_load\n",
      "\tDeprecated as of librosa version 0.10.0.\n",
      "\tIt will be removed in librosa version 1.0.\n",
      "  y, sr_native = __audioread_load(path, offset, duration, dtype)\n"
     ]
    },
    {
     "name": "stdout",
     "output_type": "stream",
     "text": [
      "Error reading S09\n"
     ]
    },
    {
     "name": "stderr",
     "output_type": "stream",
     "text": [
      "/var/folders/9b/646lmqp56b53pz1fqqr9x5gw0000gn/T/ipykernel_85422/370983470.py:16: UserWarning: PySoundFile failed. Trying audioread instead.\n",
      "  stem_audio, _ = librosa.load(f\"{path}/stems/{stem}.wav\", sr=None)\n",
      "/Users/mariapolak/miniconda3/envs/mlme/lib/python3.11/site-packages/librosa/core/audio.py:184: FutureWarning: librosa.core.audio.__audioread_load\n",
      "\tDeprecated as of librosa version 0.10.0.\n",
      "\tIt will be removed in librosa version 1.0.\n",
      "  y, sr_native = __audioread_load(path, offset, duration, dtype)\n"
     ]
    },
    {
     "name": "stdout",
     "output_type": "stream",
     "text": [
      "Error reading S09\n"
     ]
    },
    {
     "name": "stderr",
     "output_type": "stream",
     "text": [
      "/var/folders/9b/646lmqp56b53pz1fqqr9x5gw0000gn/T/ipykernel_85422/370983470.py:16: UserWarning: PySoundFile failed. Trying audioread instead.\n",
      "  stem_audio, _ = librosa.load(f\"{path}/stems/{stem}.wav\", sr=None)\n",
      "/Users/mariapolak/miniconda3/envs/mlme/lib/python3.11/site-packages/librosa/core/audio.py:184: FutureWarning: librosa.core.audio.__audioread_load\n",
      "\tDeprecated as of librosa version 0.10.0.\n",
      "\tIt will be removed in librosa version 1.0.\n",
      "  y, sr_native = __audioread_load(path, offset, duration, dtype)\n"
     ]
    },
    {
     "name": "stdout",
     "output_type": "stream",
     "text": [
      "Error reading S09\n"
     ]
    },
    {
     "name": "stderr",
     "output_type": "stream",
     "text": [
      "/var/folders/9b/646lmqp56b53pz1fqqr9x5gw0000gn/T/ipykernel_85422/370983470.py:16: UserWarning: PySoundFile failed. Trying audioread instead.\n",
      "  stem_audio, _ = librosa.load(f\"{path}/stems/{stem}.wav\", sr=None)\n",
      "/Users/mariapolak/miniconda3/envs/mlme/lib/python3.11/site-packages/librosa/core/audio.py:184: FutureWarning: librosa.core.audio.__audioread_load\n",
      "\tDeprecated as of librosa version 0.10.0.\n",
      "\tIt will be removed in librosa version 1.0.\n",
      "  y, sr_native = __audioread_load(path, offset, duration, dtype)\n"
     ]
    },
    {
     "name": "stdout",
     "output_type": "stream",
     "text": [
      "Error reading S09\n"
     ]
    },
    {
     "name": "stderr",
     "output_type": "stream",
     "text": [
      "/var/folders/9b/646lmqp56b53pz1fqqr9x5gw0000gn/T/ipykernel_85422/370983470.py:16: UserWarning: PySoundFile failed. Trying audioread instead.\n",
      "  stem_audio, _ = librosa.load(f\"{path}/stems/{stem}.wav\", sr=None)\n",
      "/Users/mariapolak/miniconda3/envs/mlme/lib/python3.11/site-packages/librosa/core/audio.py:184: FutureWarning: librosa.core.audio.__audioread_load\n",
      "\tDeprecated as of librosa version 0.10.0.\n",
      "\tIt will be removed in librosa version 1.0.\n",
      "  y, sr_native = __audioread_load(path, offset, duration, dtype)\n"
     ]
    },
    {
     "name": "stdout",
     "output_type": "stream",
     "text": [
      "Error reading S09\n"
     ]
    },
    {
     "name": "stderr",
     "output_type": "stream",
     "text": [
      "/var/folders/9b/646lmqp56b53pz1fqqr9x5gw0000gn/T/ipykernel_85422/370983470.py:16: UserWarning: PySoundFile failed. Trying audioread instead.\n",
      "  stem_audio, _ = librosa.load(f\"{path}/stems/{stem}.wav\", sr=None)\n",
      "/Users/mariapolak/miniconda3/envs/mlme/lib/python3.11/site-packages/librosa/core/audio.py:184: FutureWarning: librosa.core.audio.__audioread_load\n",
      "\tDeprecated as of librosa version 0.10.0.\n",
      "\tIt will be removed in librosa version 1.0.\n",
      "  y, sr_native = __audioread_load(path, offset, duration, dtype)\n"
     ]
    },
    {
     "name": "stdout",
     "output_type": "stream",
     "text": [
      "Error reading S09\n"
     ]
    },
    {
     "name": "stderr",
     "output_type": "stream",
     "text": [
      "/var/folders/9b/646lmqp56b53pz1fqqr9x5gw0000gn/T/ipykernel_85422/370983470.py:16: UserWarning: PySoundFile failed. Trying audioread instead.\n",
      "  stem_audio, _ = librosa.load(f\"{path}/stems/{stem}.wav\", sr=None)\n",
      "/Users/mariapolak/miniconda3/envs/mlme/lib/python3.11/site-packages/librosa/core/audio.py:184: FutureWarning: librosa.core.audio.__audioread_load\n",
      "\tDeprecated as of librosa version 0.10.0.\n",
      "\tIt will be removed in librosa version 1.0.\n",
      "  y, sr_native = __audioread_load(path, offset, duration, dtype)\n",
      "/var/folders/9b/646lmqp56b53pz1fqqr9x5gw0000gn/T/ipykernel_85422/370983470.py:16: UserWarning: PySoundFile failed. Trying audioread instead.\n",
      "  stem_audio, _ = librosa.load(f\"{path}/stems/{stem}.wav\", sr=None)\n",
      "/Users/mariapolak/miniconda3/envs/mlme/lib/python3.11/site-packages/librosa/core/audio.py:184: FutureWarning: librosa.core.audio.__audioread_load\n",
      "\tDeprecated as of librosa version 0.10.0.\n",
      "\tIt will be removed in librosa version 1.0.\n",
      "  y, sr_native = __audioread_load(path, offset, duration, dtype)\n"
     ]
    },
    {
     "name": "stdout",
     "output_type": "stream",
     "text": [
      "Error reading S09\n",
      "Error reading S09\n"
     ]
    },
    {
     "name": "stderr",
     "output_type": "stream",
     "text": [
      "/var/folders/9b/646lmqp56b53pz1fqqr9x5gw0000gn/T/ipykernel_85422/370983470.py:16: UserWarning: PySoundFile failed. Trying audioread instead.\n",
      "  stem_audio, _ = librosa.load(f\"{path}/stems/{stem}.wav\", sr=None)\n",
      "/Users/mariapolak/miniconda3/envs/mlme/lib/python3.11/site-packages/librosa/core/audio.py:184: FutureWarning: librosa.core.audio.__audioread_load\n",
      "\tDeprecated as of librosa version 0.10.0.\n",
      "\tIt will be removed in librosa version 1.0.\n",
      "  y, sr_native = __audioread_load(path, offset, duration, dtype)\n"
     ]
    },
    {
     "name": "stdout",
     "output_type": "stream",
     "text": [
      "Error reading S09\n"
     ]
    },
    {
     "name": "stderr",
     "output_type": "stream",
     "text": [
      "/var/folders/9b/646lmqp56b53pz1fqqr9x5gw0000gn/T/ipykernel_85422/370983470.py:16: UserWarning: PySoundFile failed. Trying audioread instead.\n",
      "  stem_audio, _ = librosa.load(f\"{path}/stems/{stem}.wav\", sr=None)\n",
      "/Users/mariapolak/miniconda3/envs/mlme/lib/python3.11/site-packages/librosa/core/audio.py:184: FutureWarning: librosa.core.audio.__audioread_load\n",
      "\tDeprecated as of librosa version 0.10.0.\n",
      "\tIt will be removed in librosa version 1.0.\n",
      "  y, sr_native = __audioread_load(path, offset, duration, dtype)\n",
      "/var/folders/9b/646lmqp56b53pz1fqqr9x5gw0000gn/T/ipykernel_85422/370983470.py:16: UserWarning: PySoundFile failed. Trying audioread instead.\n",
      "  stem_audio, _ = librosa.load(f\"{path}/stems/{stem}.wav\", sr=None)\n",
      "/Users/mariapolak/miniconda3/envs/mlme/lib/python3.11/site-packages/librosa/core/audio.py:184: FutureWarning: librosa.core.audio.__audioread_load\n",
      "\tDeprecated as of librosa version 0.10.0.\n",
      "\tIt will be removed in librosa version 1.0.\n",
      "  y, sr_native = __audioread_load(path, offset, duration, dtype)\n"
     ]
    },
    {
     "name": "stdout",
     "output_type": "stream",
     "text": [
      "Error reading S09\n",
      "Error reading S09\n"
     ]
    },
    {
     "name": "stderr",
     "output_type": "stream",
     "text": [
      "/var/folders/9b/646lmqp56b53pz1fqqr9x5gw0000gn/T/ipykernel_85422/370983470.py:16: UserWarning: PySoundFile failed. Trying audioread instead.\n",
      "  stem_audio, _ = librosa.load(f\"{path}/stems/{stem}.wav\", sr=None)\n",
      "/Users/mariapolak/miniconda3/envs/mlme/lib/python3.11/site-packages/librosa/core/audio.py:184: FutureWarning: librosa.core.audio.__audioread_load\n",
      "\tDeprecated as of librosa version 0.10.0.\n",
      "\tIt will be removed in librosa version 1.0.\n",
      "  y, sr_native = __audioread_load(path, offset, duration, dtype)\n",
      "/var/folders/9b/646lmqp56b53pz1fqqr9x5gw0000gn/T/ipykernel_85422/370983470.py:16: UserWarning: PySoundFile failed. Trying audioread instead.\n",
      "  stem_audio, _ = librosa.load(f\"{path}/stems/{stem}.wav\", sr=None)\n",
      "/Users/mariapolak/miniconda3/envs/mlme/lib/python3.11/site-packages/librosa/core/audio.py:184: FutureWarning: librosa.core.audio.__audioread_load\n",
      "\tDeprecated as of librosa version 0.10.0.\n",
      "\tIt will be removed in librosa version 1.0.\n",
      "  y, sr_native = __audioread_load(path, offset, duration, dtype)\n"
     ]
    },
    {
     "name": "stdout",
     "output_type": "stream",
     "text": [
      "Error reading S09\n",
      "Error reading S09\n"
     ]
    },
    {
     "name": "stderr",
     "output_type": "stream",
     "text": [
      "/var/folders/9b/646lmqp56b53pz1fqqr9x5gw0000gn/T/ipykernel_85422/370983470.py:16: UserWarning: PySoundFile failed. Trying audioread instead.\n",
      "  stem_audio, _ = librosa.load(f\"{path}/stems/{stem}.wav\", sr=None)\n",
      "/Users/mariapolak/miniconda3/envs/mlme/lib/python3.11/site-packages/librosa/core/audio.py:184: FutureWarning: librosa.core.audio.__audioread_load\n",
      "\tDeprecated as of librosa version 0.10.0.\n",
      "\tIt will be removed in librosa version 1.0.\n",
      "  y, sr_native = __audioread_load(path, offset, duration, dtype)\n",
      "/var/folders/9b/646lmqp56b53pz1fqqr9x5gw0000gn/T/ipykernel_85422/370983470.py:16: UserWarning: PySoundFile failed. Trying audioread instead.\n",
      "  stem_audio, _ = librosa.load(f\"{path}/stems/{stem}.wav\", sr=None)\n",
      "/Users/mariapolak/miniconda3/envs/mlme/lib/python3.11/site-packages/librosa/core/audio.py:184: FutureWarning: librosa.core.audio.__audioread_load\n",
      "\tDeprecated as of librosa version 0.10.0.\n",
      "\tIt will be removed in librosa version 1.0.\n",
      "  y, sr_native = __audioread_load(path, offset, duration, dtype)\n"
     ]
    },
    {
     "name": "stdout",
     "output_type": "stream",
     "text": [
      "Error reading S09\n",
      "Error reading S09\n"
     ]
    },
    {
     "name": "stderr",
     "output_type": "stream",
     "text": [
      "/var/folders/9b/646lmqp56b53pz1fqqr9x5gw0000gn/T/ipykernel_85422/370983470.py:16: UserWarning: PySoundFile failed. Trying audioread instead.\n",
      "  stem_audio, _ = librosa.load(f\"{path}/stems/{stem}.wav\", sr=None)\n",
      "/Users/mariapolak/miniconda3/envs/mlme/lib/python3.11/site-packages/librosa/core/audio.py:184: FutureWarning: librosa.core.audio.__audioread_load\n",
      "\tDeprecated as of librosa version 0.10.0.\n",
      "\tIt will be removed in librosa version 1.0.\n",
      "  y, sr_native = __audioread_load(path, offset, duration, dtype)\n",
      "/var/folders/9b/646lmqp56b53pz1fqqr9x5gw0000gn/T/ipykernel_85422/370983470.py:16: UserWarning: PySoundFile failed. Trying audioread instead.\n",
      "  stem_audio, _ = librosa.load(f\"{path}/stems/{stem}.wav\", sr=None)\n",
      "/Users/mariapolak/miniconda3/envs/mlme/lib/python3.11/site-packages/librosa/core/audio.py:184: FutureWarning: librosa.core.audio.__audioread_load\n",
      "\tDeprecated as of librosa version 0.10.0.\n",
      "\tIt will be removed in librosa version 1.0.\n",
      "  y, sr_native = __audioread_load(path, offset, duration, dtype)\n"
     ]
    },
    {
     "name": "stdout",
     "output_type": "stream",
     "text": [
      "Error reading S09\n",
      "Error reading S09\n"
     ]
    },
    {
     "name": "stderr",
     "output_type": "stream",
     "text": [
      "/var/folders/9b/646lmqp56b53pz1fqqr9x5gw0000gn/T/ipykernel_85422/370983470.py:16: UserWarning: PySoundFile failed. Trying audioread instead.\n",
      "  stem_audio, _ = librosa.load(f\"{path}/stems/{stem}.wav\", sr=None)\n",
      "/Users/mariapolak/miniconda3/envs/mlme/lib/python3.11/site-packages/librosa/core/audio.py:184: FutureWarning: librosa.core.audio.__audioread_load\n",
      "\tDeprecated as of librosa version 0.10.0.\n",
      "\tIt will be removed in librosa version 1.0.\n",
      "  y, sr_native = __audioread_load(path, offset, duration, dtype)\n",
      "/var/folders/9b/646lmqp56b53pz1fqqr9x5gw0000gn/T/ipykernel_85422/370983470.py:16: UserWarning: PySoundFile failed. Trying audioread instead.\n",
      "  stem_audio, _ = librosa.load(f\"{path}/stems/{stem}.wav\", sr=None)\n",
      "/Users/mariapolak/miniconda3/envs/mlme/lib/python3.11/site-packages/librosa/core/audio.py:184: FutureWarning: librosa.core.audio.__audioread_load\n",
      "\tDeprecated as of librosa version 0.10.0.\n",
      "\tIt will be removed in librosa version 1.0.\n",
      "  y, sr_native = __audioread_load(path, offset, duration, dtype)\n"
     ]
    },
    {
     "name": "stdout",
     "output_type": "stream",
     "text": [
      "Error reading S09\n",
      "Error reading S09\n"
     ]
    },
    {
     "name": "stderr",
     "output_type": "stream",
     "text": [
      "/var/folders/9b/646lmqp56b53pz1fqqr9x5gw0000gn/T/ipykernel_85422/370983470.py:16: UserWarning: PySoundFile failed. Trying audioread instead.\n",
      "  stem_audio, _ = librosa.load(f\"{path}/stems/{stem}.wav\", sr=None)\n",
      "/Users/mariapolak/miniconda3/envs/mlme/lib/python3.11/site-packages/librosa/core/audio.py:184: FutureWarning: librosa.core.audio.__audioread_load\n",
      "\tDeprecated as of librosa version 0.10.0.\n",
      "\tIt will be removed in librosa version 1.0.\n",
      "  y, sr_native = __audioread_load(path, offset, duration, dtype)\n",
      "/var/folders/9b/646lmqp56b53pz1fqqr9x5gw0000gn/T/ipykernel_85422/370983470.py:16: UserWarning: PySoundFile failed. Trying audioread instead.\n",
      "  stem_audio, _ = librosa.load(f\"{path}/stems/{stem}.wav\", sr=None)\n",
      "/Users/mariapolak/miniconda3/envs/mlme/lib/python3.11/site-packages/librosa/core/audio.py:184: FutureWarning: librosa.core.audio.__audioread_load\n",
      "\tDeprecated as of librosa version 0.10.0.\n",
      "\tIt will be removed in librosa version 1.0.\n",
      "  y, sr_native = __audioread_load(path, offset, duration, dtype)\n"
     ]
    },
    {
     "name": "stdout",
     "output_type": "stream",
     "text": [
      "Error reading S09\n",
      "Error reading S09\n"
     ]
    },
    {
     "name": "stderr",
     "output_type": "stream",
     "text": [
      "/var/folders/9b/646lmqp56b53pz1fqqr9x5gw0000gn/T/ipykernel_85422/370983470.py:16: UserWarning: PySoundFile failed. Trying audioread instead.\n",
      "  stem_audio, _ = librosa.load(f\"{path}/stems/{stem}.wav\", sr=None)\n",
      "/Users/mariapolak/miniconda3/envs/mlme/lib/python3.11/site-packages/librosa/core/audio.py:184: FutureWarning: librosa.core.audio.__audioread_load\n",
      "\tDeprecated as of librosa version 0.10.0.\n",
      "\tIt will be removed in librosa version 1.0.\n",
      "  y, sr_native = __audioread_load(path, offset, duration, dtype)\n",
      "/var/folders/9b/646lmqp56b53pz1fqqr9x5gw0000gn/T/ipykernel_85422/370983470.py:16: UserWarning: PySoundFile failed. Trying audioread instead.\n",
      "  stem_audio, _ = librosa.load(f\"{path}/stems/{stem}.wav\", sr=None)\n",
      "/Users/mariapolak/miniconda3/envs/mlme/lib/python3.11/site-packages/librosa/core/audio.py:184: FutureWarning: librosa.core.audio.__audioread_load\n",
      "\tDeprecated as of librosa version 0.10.0.\n",
      "\tIt will be removed in librosa version 1.0.\n",
      "  y, sr_native = __audioread_load(path, offset, duration, dtype)\n"
     ]
    },
    {
     "name": "stdout",
     "output_type": "stream",
     "text": [
      "Error reading S09\n",
      "Error reading S09\n"
     ]
    },
    {
     "name": "stderr",
     "output_type": "stream",
     "text": [
      "/var/folders/9b/646lmqp56b53pz1fqqr9x5gw0000gn/T/ipykernel_85422/370983470.py:16: UserWarning: PySoundFile failed. Trying audioread instead.\n",
      "  stem_audio, _ = librosa.load(f\"{path}/stems/{stem}.wav\", sr=None)\n",
      "/Users/mariapolak/miniconda3/envs/mlme/lib/python3.11/site-packages/librosa/core/audio.py:184: FutureWarning: librosa.core.audio.__audioread_load\n",
      "\tDeprecated as of librosa version 0.10.0.\n",
      "\tIt will be removed in librosa version 1.0.\n",
      "  y, sr_native = __audioread_load(path, offset, duration, dtype)\n"
     ]
    },
    {
     "name": "stdout",
     "output_type": "stream",
     "text": [
      "Error reading S09\n"
     ]
    },
    {
     "name": "stderr",
     "output_type": "stream",
     "text": [
      "/var/folders/9b/646lmqp56b53pz1fqqr9x5gw0000gn/T/ipykernel_85422/370983470.py:16: UserWarning: PySoundFile failed. Trying audioread instead.\n",
      "  stem_audio, _ = librosa.load(f\"{path}/stems/{stem}.wav\", sr=None)\n",
      "/Users/mariapolak/miniconda3/envs/mlme/lib/python3.11/site-packages/librosa/core/audio.py:184: FutureWarning: librosa.core.audio.__audioread_load\n",
      "\tDeprecated as of librosa version 0.10.0.\n",
      "\tIt will be removed in librosa version 1.0.\n",
      "  y, sr_native = __audioread_load(path, offset, duration, dtype)\n",
      "/var/folders/9b/646lmqp56b53pz1fqqr9x5gw0000gn/T/ipykernel_85422/370983470.py:16: UserWarning: PySoundFile failed. Trying audioread instead.\n",
      "  stem_audio, _ = librosa.load(f\"{path}/stems/{stem}.wav\", sr=None)\n",
      "/Users/mariapolak/miniconda3/envs/mlme/lib/python3.11/site-packages/librosa/core/audio.py:184: FutureWarning: librosa.core.audio.__audioread_load\n",
      "\tDeprecated as of librosa version 0.10.0.\n",
      "\tIt will be removed in librosa version 1.0.\n",
      "  y, sr_native = __audioread_load(path, offset, duration, dtype)\n"
     ]
    },
    {
     "name": "stdout",
     "output_type": "stream",
     "text": [
      "Error reading S09\n",
      "Error reading S09\n",
      "Processing: datasets/babyslakh_16k/Track00004\n",
      "Processing: datasets/babyslakh_16k/Track00003\n",
      "Error reading S05\n"
     ]
    },
    {
     "name": "stderr",
     "output_type": "stream",
     "text": [
      "/var/folders/9b/646lmqp56b53pz1fqqr9x5gw0000gn/T/ipykernel_85422/370983470.py:16: UserWarning: PySoundFile failed. Trying audioread instead.\n",
      "  stem_audio, _ = librosa.load(f\"{path}/stems/{stem}.wav\", sr=None)\n",
      "/Users/mariapolak/miniconda3/envs/mlme/lib/python3.11/site-packages/librosa/core/audio.py:184: FutureWarning: librosa.core.audio.__audioread_load\n",
      "\tDeprecated as of librosa version 0.10.0.\n",
      "\tIt will be removed in librosa version 1.0.\n",
      "  y, sr_native = __audioread_load(path, offset, duration, dtype)\n",
      "/var/folders/9b/646lmqp56b53pz1fqqr9x5gw0000gn/T/ipykernel_85422/370983470.py:16: UserWarning: PySoundFile failed. Trying audioread instead.\n",
      "  stem_audio, _ = librosa.load(f\"{path}/stems/{stem}.wav\", sr=None)\n",
      "/Users/mariapolak/miniconda3/envs/mlme/lib/python3.11/site-packages/librosa/core/audio.py:184: FutureWarning: librosa.core.audio.__audioread_load\n",
      "\tDeprecated as of librosa version 0.10.0.\n",
      "\tIt will be removed in librosa version 1.0.\n",
      "  y, sr_native = __audioread_load(path, offset, duration, dtype)\n"
     ]
    },
    {
     "name": "stdout",
     "output_type": "stream",
     "text": [
      "Error reading S05\n",
      "Error reading S05\n"
     ]
    },
    {
     "name": "stderr",
     "output_type": "stream",
     "text": [
      "/var/folders/9b/646lmqp56b53pz1fqqr9x5gw0000gn/T/ipykernel_85422/370983470.py:16: UserWarning: PySoundFile failed. Trying audioread instead.\n",
      "  stem_audio, _ = librosa.load(f\"{path}/stems/{stem}.wav\", sr=None)\n",
      "/Users/mariapolak/miniconda3/envs/mlme/lib/python3.11/site-packages/librosa/core/audio.py:184: FutureWarning: librosa.core.audio.__audioread_load\n",
      "\tDeprecated as of librosa version 0.10.0.\n",
      "\tIt will be removed in librosa version 1.0.\n",
      "  y, sr_native = __audioread_load(path, offset, duration, dtype)\n",
      "/var/folders/9b/646lmqp56b53pz1fqqr9x5gw0000gn/T/ipykernel_85422/370983470.py:16: UserWarning: PySoundFile failed. Trying audioread instead.\n",
      "  stem_audio, _ = librosa.load(f\"{path}/stems/{stem}.wav\", sr=None)\n",
      "/Users/mariapolak/miniconda3/envs/mlme/lib/python3.11/site-packages/librosa/core/audio.py:184: FutureWarning: librosa.core.audio.__audioread_load\n",
      "\tDeprecated as of librosa version 0.10.0.\n",
      "\tIt will be removed in librosa version 1.0.\n",
      "  y, sr_native = __audioread_load(path, offset, duration, dtype)\n"
     ]
    },
    {
     "name": "stdout",
     "output_type": "stream",
     "text": [
      "Error reading S05\n",
      "Error reading S05\n"
     ]
    },
    {
     "name": "stderr",
     "output_type": "stream",
     "text": [
      "/var/folders/9b/646lmqp56b53pz1fqqr9x5gw0000gn/T/ipykernel_85422/370983470.py:16: UserWarning: PySoundFile failed. Trying audioread instead.\n",
      "  stem_audio, _ = librosa.load(f\"{path}/stems/{stem}.wav\", sr=None)\n",
      "/Users/mariapolak/miniconda3/envs/mlme/lib/python3.11/site-packages/librosa/core/audio.py:184: FutureWarning: librosa.core.audio.__audioread_load\n",
      "\tDeprecated as of librosa version 0.10.0.\n",
      "\tIt will be removed in librosa version 1.0.\n",
      "  y, sr_native = __audioread_load(path, offset, duration, dtype)\n",
      "/var/folders/9b/646lmqp56b53pz1fqqr9x5gw0000gn/T/ipykernel_85422/370983470.py:16: UserWarning: PySoundFile failed. Trying audioread instead.\n",
      "  stem_audio, _ = librosa.load(f\"{path}/stems/{stem}.wav\", sr=None)\n",
      "/Users/mariapolak/miniconda3/envs/mlme/lib/python3.11/site-packages/librosa/core/audio.py:184: FutureWarning: librosa.core.audio.__audioread_load\n",
      "\tDeprecated as of librosa version 0.10.0.\n",
      "\tIt will be removed in librosa version 1.0.\n",
      "  y, sr_native = __audioread_load(path, offset, duration, dtype)\n",
      "/var/folders/9b/646lmqp56b53pz1fqqr9x5gw0000gn/T/ipykernel_85422/370983470.py:16: UserWarning: PySoundFile failed. Trying audioread instead.\n",
      "  stem_audio, _ = librosa.load(f\"{path}/stems/{stem}.wav\", sr=None)\n",
      "/Users/mariapolak/miniconda3/envs/mlme/lib/python3.11/site-packages/librosa/core/audio.py:184: FutureWarning: librosa.core.audio.__audioread_load\n",
      "\tDeprecated as of librosa version 0.10.0.\n",
      "\tIt will be removed in librosa version 1.0.\n",
      "  y, sr_native = __audioread_load(path, offset, duration, dtype)\n"
     ]
    },
    {
     "name": "stdout",
     "output_type": "stream",
     "text": [
      "Error reading S05\n",
      "Error reading S05\n",
      "Error reading S05\n"
     ]
    },
    {
     "name": "stderr",
     "output_type": "stream",
     "text": [
      "/var/folders/9b/646lmqp56b53pz1fqqr9x5gw0000gn/T/ipykernel_85422/370983470.py:16: UserWarning: PySoundFile failed. Trying audioread instead.\n",
      "  stem_audio, _ = librosa.load(f\"{path}/stems/{stem}.wav\", sr=None)\n",
      "/Users/mariapolak/miniconda3/envs/mlme/lib/python3.11/site-packages/librosa/core/audio.py:184: FutureWarning: librosa.core.audio.__audioread_load\n",
      "\tDeprecated as of librosa version 0.10.0.\n",
      "\tIt will be removed in librosa version 1.0.\n",
      "  y, sr_native = __audioread_load(path, offset, duration, dtype)\n",
      "/var/folders/9b/646lmqp56b53pz1fqqr9x5gw0000gn/T/ipykernel_85422/370983470.py:16: UserWarning: PySoundFile failed. Trying audioread instead.\n",
      "  stem_audio, _ = librosa.load(f\"{path}/stems/{stem}.wav\", sr=None)\n",
      "/Users/mariapolak/miniconda3/envs/mlme/lib/python3.11/site-packages/librosa/core/audio.py:184: FutureWarning: librosa.core.audio.__audioread_load\n",
      "\tDeprecated as of librosa version 0.10.0.\n",
      "\tIt will be removed in librosa version 1.0.\n",
      "  y, sr_native = __audioread_load(path, offset, duration, dtype)\n"
     ]
    },
    {
     "name": "stdout",
     "output_type": "stream",
     "text": [
      "Error reading S05\n",
      "Error reading S05\n"
     ]
    },
    {
     "name": "stderr",
     "output_type": "stream",
     "text": [
      "/var/folders/9b/646lmqp56b53pz1fqqr9x5gw0000gn/T/ipykernel_85422/370983470.py:16: UserWarning: PySoundFile failed. Trying audioread instead.\n",
      "  stem_audio, _ = librosa.load(f\"{path}/stems/{stem}.wav\", sr=None)\n",
      "/Users/mariapolak/miniconda3/envs/mlme/lib/python3.11/site-packages/librosa/core/audio.py:184: FutureWarning: librosa.core.audio.__audioread_load\n",
      "\tDeprecated as of librosa version 0.10.0.\n",
      "\tIt will be removed in librosa version 1.0.\n",
      "  y, sr_native = __audioread_load(path, offset, duration, dtype)\n",
      "/var/folders/9b/646lmqp56b53pz1fqqr9x5gw0000gn/T/ipykernel_85422/370983470.py:16: UserWarning: PySoundFile failed. Trying audioread instead.\n",
      "  stem_audio, _ = librosa.load(f\"{path}/stems/{stem}.wav\", sr=None)\n",
      "/Users/mariapolak/miniconda3/envs/mlme/lib/python3.11/site-packages/librosa/core/audio.py:184: FutureWarning: librosa.core.audio.__audioread_load\n",
      "\tDeprecated as of librosa version 0.10.0.\n",
      "\tIt will be removed in librosa version 1.0.\n",
      "  y, sr_native = __audioread_load(path, offset, duration, dtype)\n"
     ]
    },
    {
     "name": "stdout",
     "output_type": "stream",
     "text": [
      "Error reading S05\n",
      "Error reading S05\n"
     ]
    },
    {
     "name": "stderr",
     "output_type": "stream",
     "text": [
      "/var/folders/9b/646lmqp56b53pz1fqqr9x5gw0000gn/T/ipykernel_85422/370983470.py:16: UserWarning: PySoundFile failed. Trying audioread instead.\n",
      "  stem_audio, _ = librosa.load(f\"{path}/stems/{stem}.wav\", sr=None)\n",
      "/Users/mariapolak/miniconda3/envs/mlme/lib/python3.11/site-packages/librosa/core/audio.py:184: FutureWarning: librosa.core.audio.__audioread_load\n",
      "\tDeprecated as of librosa version 0.10.0.\n",
      "\tIt will be removed in librosa version 1.0.\n",
      "  y, sr_native = __audioread_load(path, offset, duration, dtype)\n",
      "/var/folders/9b/646lmqp56b53pz1fqqr9x5gw0000gn/T/ipykernel_85422/370983470.py:16: UserWarning: PySoundFile failed. Trying audioread instead.\n",
      "  stem_audio, _ = librosa.load(f\"{path}/stems/{stem}.wav\", sr=None)\n",
      "/Users/mariapolak/miniconda3/envs/mlme/lib/python3.11/site-packages/librosa/core/audio.py:184: FutureWarning: librosa.core.audio.__audioread_load\n",
      "\tDeprecated as of librosa version 0.10.0.\n",
      "\tIt will be removed in librosa version 1.0.\n",
      "  y, sr_native = __audioread_load(path, offset, duration, dtype)\n"
     ]
    },
    {
     "name": "stdout",
     "output_type": "stream",
     "text": [
      "Error reading S05\n",
      "Error reading S05\n"
     ]
    },
    {
     "name": "stderr",
     "output_type": "stream",
     "text": [
      "/var/folders/9b/646lmqp56b53pz1fqqr9x5gw0000gn/T/ipykernel_85422/370983470.py:16: UserWarning: PySoundFile failed. Trying audioread instead.\n",
      "  stem_audio, _ = librosa.load(f\"{path}/stems/{stem}.wav\", sr=None)\n",
      "/Users/mariapolak/miniconda3/envs/mlme/lib/python3.11/site-packages/librosa/core/audio.py:184: FutureWarning: librosa.core.audio.__audioread_load\n",
      "\tDeprecated as of librosa version 0.10.0.\n",
      "\tIt will be removed in librosa version 1.0.\n",
      "  y, sr_native = __audioread_load(path, offset, duration, dtype)\n",
      "/var/folders/9b/646lmqp56b53pz1fqqr9x5gw0000gn/T/ipykernel_85422/370983470.py:16: UserWarning: PySoundFile failed. Trying audioread instead.\n",
      "  stem_audio, _ = librosa.load(f\"{path}/stems/{stem}.wav\", sr=None)\n",
      "/Users/mariapolak/miniconda3/envs/mlme/lib/python3.11/site-packages/librosa/core/audio.py:184: FutureWarning: librosa.core.audio.__audioread_load\n",
      "\tDeprecated as of librosa version 0.10.0.\n",
      "\tIt will be removed in librosa version 1.0.\n",
      "  y, sr_native = __audioread_load(path, offset, duration, dtype)\n"
     ]
    },
    {
     "name": "stdout",
     "output_type": "stream",
     "text": [
      "Error reading S05\n",
      "Error reading S05\n"
     ]
    },
    {
     "name": "stderr",
     "output_type": "stream",
     "text": [
      "/var/folders/9b/646lmqp56b53pz1fqqr9x5gw0000gn/T/ipykernel_85422/370983470.py:16: UserWarning: PySoundFile failed. Trying audioread instead.\n",
      "  stem_audio, _ = librosa.load(f\"{path}/stems/{stem}.wav\", sr=None)\n",
      "/Users/mariapolak/miniconda3/envs/mlme/lib/python3.11/site-packages/librosa/core/audio.py:184: FutureWarning: librosa.core.audio.__audioread_load\n",
      "\tDeprecated as of librosa version 0.10.0.\n",
      "\tIt will be removed in librosa version 1.0.\n",
      "  y, sr_native = __audioread_load(path, offset, duration, dtype)\n",
      "/var/folders/9b/646lmqp56b53pz1fqqr9x5gw0000gn/T/ipykernel_85422/370983470.py:16: UserWarning: PySoundFile failed. Trying audioread instead.\n",
      "  stem_audio, _ = librosa.load(f\"{path}/stems/{stem}.wav\", sr=None)\n",
      "/Users/mariapolak/miniconda3/envs/mlme/lib/python3.11/site-packages/librosa/core/audio.py:184: FutureWarning: librosa.core.audio.__audioread_load\n",
      "\tDeprecated as of librosa version 0.10.0.\n",
      "\tIt will be removed in librosa version 1.0.\n",
      "  y, sr_native = __audioread_load(path, offset, duration, dtype)\n"
     ]
    },
    {
     "name": "stdout",
     "output_type": "stream",
     "text": [
      "Error reading S05\n",
      "Error reading S05\n"
     ]
    },
    {
     "name": "stderr",
     "output_type": "stream",
     "text": [
      "/var/folders/9b/646lmqp56b53pz1fqqr9x5gw0000gn/T/ipykernel_85422/370983470.py:16: UserWarning: PySoundFile failed. Trying audioread instead.\n",
      "  stem_audio, _ = librosa.load(f\"{path}/stems/{stem}.wav\", sr=None)\n",
      "/Users/mariapolak/miniconda3/envs/mlme/lib/python3.11/site-packages/librosa/core/audio.py:184: FutureWarning: librosa.core.audio.__audioread_load\n",
      "\tDeprecated as of librosa version 0.10.0.\n",
      "\tIt will be removed in librosa version 1.0.\n",
      "  y, sr_native = __audioread_load(path, offset, duration, dtype)\n",
      "/var/folders/9b/646lmqp56b53pz1fqqr9x5gw0000gn/T/ipykernel_85422/370983470.py:16: UserWarning: PySoundFile failed. Trying audioread instead.\n",
      "  stem_audio, _ = librosa.load(f\"{path}/stems/{stem}.wav\", sr=None)\n",
      "/Users/mariapolak/miniconda3/envs/mlme/lib/python3.11/site-packages/librosa/core/audio.py:184: FutureWarning: librosa.core.audio.__audioread_load\n",
      "\tDeprecated as of librosa version 0.10.0.\n",
      "\tIt will be removed in librosa version 1.0.\n",
      "  y, sr_native = __audioread_load(path, offset, duration, dtype)\n"
     ]
    },
    {
     "name": "stdout",
     "output_type": "stream",
     "text": [
      "Error reading S05\n"
     ]
    },
    {
     "name": "stderr",
     "output_type": "stream",
     "text": [
      "/var/folders/9b/646lmqp56b53pz1fqqr9x5gw0000gn/T/ipykernel_85422/370983470.py:16: UserWarning: PySoundFile failed. Trying audioread instead.\n",
      "  stem_audio, _ = librosa.load(f\"{path}/stems/{stem}.wav\", sr=None)\n",
      "/Users/mariapolak/miniconda3/envs/mlme/lib/python3.11/site-packages/librosa/core/audio.py:184: FutureWarning: librosa.core.audio.__audioread_load\n",
      "\tDeprecated as of librosa version 0.10.0.\n",
      "\tIt will be removed in librosa version 1.0.\n",
      "  y, sr_native = __audioread_load(path, offset, duration, dtype)\n",
      "/var/folders/9b/646lmqp56b53pz1fqqr9x5gw0000gn/T/ipykernel_85422/370983470.py:16: UserWarning: PySoundFile failed. Trying audioread instead.\n",
      "  stem_audio, _ = librosa.load(f\"{path}/stems/{stem}.wav\", sr=None)\n",
      "/Users/mariapolak/miniconda3/envs/mlme/lib/python3.11/site-packages/librosa/core/audio.py:184: FutureWarning: librosa.core.audio.__audioread_load\n",
      "\tDeprecated as of librosa version 0.10.0.\n",
      "\tIt will be removed in librosa version 1.0.\n",
      "  y, sr_native = __audioread_load(path, offset, duration, dtype)\n",
      "/var/folders/9b/646lmqp56b53pz1fqqr9x5gw0000gn/T/ipykernel_85422/370983470.py:16: UserWarning: PySoundFile failed. Trying audioread instead.\n",
      "  stem_audio, _ = librosa.load(f\"{path}/stems/{stem}.wav\", sr=None)\n",
      "/Users/mariapolak/miniconda3/envs/mlme/lib/python3.11/site-packages/librosa/core/audio.py:184: FutureWarning: librosa.core.audio.__audioread_load\n",
      "\tDeprecated as of librosa version 0.10.0.\n",
      "\tIt will be removed in librosa version 1.0.\n",
      "  y, sr_native = __audioread_load(path, offset, duration, dtype)\n"
     ]
    },
    {
     "name": "stdout",
     "output_type": "stream",
     "text": [
      "Error reading S05\n",
      "Error reading S05\n",
      "Error reading S05\n"
     ]
    },
    {
     "name": "stderr",
     "output_type": "stream",
     "text": [
      "/var/folders/9b/646lmqp56b53pz1fqqr9x5gw0000gn/T/ipykernel_85422/370983470.py:16: UserWarning: PySoundFile failed. Trying audioread instead.\n",
      "  stem_audio, _ = librosa.load(f\"{path}/stems/{stem}.wav\", sr=None)\n",
      "/Users/mariapolak/miniconda3/envs/mlme/lib/python3.11/site-packages/librosa/core/audio.py:184: FutureWarning: librosa.core.audio.__audioread_load\n",
      "\tDeprecated as of librosa version 0.10.0.\n",
      "\tIt will be removed in librosa version 1.0.\n",
      "  y, sr_native = __audioread_load(path, offset, duration, dtype)\n",
      "/var/folders/9b/646lmqp56b53pz1fqqr9x5gw0000gn/T/ipykernel_85422/370983470.py:16: UserWarning: PySoundFile failed. Trying audioread instead.\n",
      "  stem_audio, _ = librosa.load(f\"{path}/stems/{stem}.wav\", sr=None)\n",
      "/Users/mariapolak/miniconda3/envs/mlme/lib/python3.11/site-packages/librosa/core/audio.py:184: FutureWarning: librosa.core.audio.__audioread_load\n",
      "\tDeprecated as of librosa version 0.10.0.\n",
      "\tIt will be removed in librosa version 1.0.\n",
      "  y, sr_native = __audioread_load(path, offset, duration, dtype)\n"
     ]
    },
    {
     "name": "stdout",
     "output_type": "stream",
     "text": [
      "Error reading S05\n",
      "Error reading S05\n"
     ]
    },
    {
     "name": "stderr",
     "output_type": "stream",
     "text": [
      "/var/folders/9b/646lmqp56b53pz1fqqr9x5gw0000gn/T/ipykernel_85422/370983470.py:16: UserWarning: PySoundFile failed. Trying audioread instead.\n",
      "  stem_audio, _ = librosa.load(f\"{path}/stems/{stem}.wav\", sr=None)\n",
      "/Users/mariapolak/miniconda3/envs/mlme/lib/python3.11/site-packages/librosa/core/audio.py:184: FutureWarning: librosa.core.audio.__audioread_load\n",
      "\tDeprecated as of librosa version 0.10.0.\n",
      "\tIt will be removed in librosa version 1.0.\n",
      "  y, sr_native = __audioread_load(path, offset, duration, dtype)\n",
      "/var/folders/9b/646lmqp56b53pz1fqqr9x5gw0000gn/T/ipykernel_85422/370983470.py:16: UserWarning: PySoundFile failed. Trying audioread instead.\n",
      "  stem_audio, _ = librosa.load(f\"{path}/stems/{stem}.wav\", sr=None)\n",
      "/Users/mariapolak/miniconda3/envs/mlme/lib/python3.11/site-packages/librosa/core/audio.py:184: FutureWarning: librosa.core.audio.__audioread_load\n",
      "\tDeprecated as of librosa version 0.10.0.\n",
      "\tIt will be removed in librosa version 1.0.\n",
      "  y, sr_native = __audioread_load(path, offset, duration, dtype)\n"
     ]
    },
    {
     "name": "stdout",
     "output_type": "stream",
     "text": [
      "Error reading S05\n",
      "Error reading S05\n"
     ]
    },
    {
     "name": "stderr",
     "output_type": "stream",
     "text": [
      "/var/folders/9b/646lmqp56b53pz1fqqr9x5gw0000gn/T/ipykernel_85422/370983470.py:16: UserWarning: PySoundFile failed. Trying audioread instead.\n",
      "  stem_audio, _ = librosa.load(f\"{path}/stems/{stem}.wav\", sr=None)\n",
      "/Users/mariapolak/miniconda3/envs/mlme/lib/python3.11/site-packages/librosa/core/audio.py:184: FutureWarning: librosa.core.audio.__audioread_load\n",
      "\tDeprecated as of librosa version 0.10.0.\n",
      "\tIt will be removed in librosa version 1.0.\n",
      "  y, sr_native = __audioread_load(path, offset, duration, dtype)\n",
      "/var/folders/9b/646lmqp56b53pz1fqqr9x5gw0000gn/T/ipykernel_85422/370983470.py:16: UserWarning: PySoundFile failed. Trying audioread instead.\n",
      "  stem_audio, _ = librosa.load(f\"{path}/stems/{stem}.wav\", sr=None)\n",
      "/Users/mariapolak/miniconda3/envs/mlme/lib/python3.11/site-packages/librosa/core/audio.py:184: FutureWarning: librosa.core.audio.__audioread_load\n",
      "\tDeprecated as of librosa version 0.10.0.\n",
      "\tIt will be removed in librosa version 1.0.\n",
      "  y, sr_native = __audioread_load(path, offset, duration, dtype)\n"
     ]
    },
    {
     "name": "stdout",
     "output_type": "stream",
     "text": [
      "Error reading S05\n",
      "Error reading S05\n"
     ]
    },
    {
     "name": "stderr",
     "output_type": "stream",
     "text": [
      "/var/folders/9b/646lmqp56b53pz1fqqr9x5gw0000gn/T/ipykernel_85422/370983470.py:16: UserWarning: PySoundFile failed. Trying audioread instead.\n",
      "  stem_audio, _ = librosa.load(f\"{path}/stems/{stem}.wav\", sr=None)\n",
      "/Users/mariapolak/miniconda3/envs/mlme/lib/python3.11/site-packages/librosa/core/audio.py:184: FutureWarning: librosa.core.audio.__audioread_load\n",
      "\tDeprecated as of librosa version 0.10.0.\n",
      "\tIt will be removed in librosa version 1.0.\n",
      "  y, sr_native = __audioread_load(path, offset, duration, dtype)\n",
      "/var/folders/9b/646lmqp56b53pz1fqqr9x5gw0000gn/T/ipykernel_85422/370983470.py:16: UserWarning: PySoundFile failed. Trying audioread instead.\n",
      "  stem_audio, _ = librosa.load(f\"{path}/stems/{stem}.wav\", sr=None)\n",
      "/Users/mariapolak/miniconda3/envs/mlme/lib/python3.11/site-packages/librosa/core/audio.py:184: FutureWarning: librosa.core.audio.__audioread_load\n",
      "\tDeprecated as of librosa version 0.10.0.\n",
      "\tIt will be removed in librosa version 1.0.\n",
      "  y, sr_native = __audioread_load(path, offset, duration, dtype)\n"
     ]
    },
    {
     "name": "stdout",
     "output_type": "stream",
     "text": [
      "Error reading S05\n",
      "Error reading S05\n"
     ]
    },
    {
     "name": "stderr",
     "output_type": "stream",
     "text": [
      "/var/folders/9b/646lmqp56b53pz1fqqr9x5gw0000gn/T/ipykernel_85422/370983470.py:16: UserWarning: PySoundFile failed. Trying audioread instead.\n",
      "  stem_audio, _ = librosa.load(f\"{path}/stems/{stem}.wav\", sr=None)\n",
      "/Users/mariapolak/miniconda3/envs/mlme/lib/python3.11/site-packages/librosa/core/audio.py:184: FutureWarning: librosa.core.audio.__audioread_load\n",
      "\tDeprecated as of librosa version 0.10.0.\n",
      "\tIt will be removed in librosa version 1.0.\n",
      "  y, sr_native = __audioread_load(path, offset, duration, dtype)\n",
      "/var/folders/9b/646lmqp56b53pz1fqqr9x5gw0000gn/T/ipykernel_85422/370983470.py:16: UserWarning: PySoundFile failed. Trying audioread instead.\n",
      "  stem_audio, _ = librosa.load(f\"{path}/stems/{stem}.wav\", sr=None)\n",
      "/Users/mariapolak/miniconda3/envs/mlme/lib/python3.11/site-packages/librosa/core/audio.py:184: FutureWarning: librosa.core.audio.__audioread_load\n",
      "\tDeprecated as of librosa version 0.10.0.\n",
      "\tIt will be removed in librosa version 1.0.\n",
      "  y, sr_native = __audioread_load(path, offset, duration, dtype)\n"
     ]
    },
    {
     "name": "stdout",
     "output_type": "stream",
     "text": [
      "Error reading S05\n",
      "Error reading S05\n"
     ]
    },
    {
     "name": "stderr",
     "output_type": "stream",
     "text": [
      "/var/folders/9b/646lmqp56b53pz1fqqr9x5gw0000gn/T/ipykernel_85422/370983470.py:16: UserWarning: PySoundFile failed. Trying audioread instead.\n",
      "  stem_audio, _ = librosa.load(f\"{path}/stems/{stem}.wav\", sr=None)\n",
      "/Users/mariapolak/miniconda3/envs/mlme/lib/python3.11/site-packages/librosa/core/audio.py:184: FutureWarning: librosa.core.audio.__audioread_load\n",
      "\tDeprecated as of librosa version 0.10.0.\n",
      "\tIt will be removed in librosa version 1.0.\n",
      "  y, sr_native = __audioread_load(path, offset, duration, dtype)\n",
      "/var/folders/9b/646lmqp56b53pz1fqqr9x5gw0000gn/T/ipykernel_85422/370983470.py:16: UserWarning: PySoundFile failed. Trying audioread instead.\n",
      "  stem_audio, _ = librosa.load(f\"{path}/stems/{stem}.wav\", sr=None)\n",
      "/Users/mariapolak/miniconda3/envs/mlme/lib/python3.11/site-packages/librosa/core/audio.py:184: FutureWarning: librosa.core.audio.__audioread_load\n",
      "\tDeprecated as of librosa version 0.10.0.\n",
      "\tIt will be removed in librosa version 1.0.\n",
      "  y, sr_native = __audioread_load(path, offset, duration, dtype)\n"
     ]
    },
    {
     "name": "stdout",
     "output_type": "stream",
     "text": [
      "Error reading S05\n",
      "Error reading S05\n"
     ]
    },
    {
     "name": "stderr",
     "output_type": "stream",
     "text": [
      "/var/folders/9b/646lmqp56b53pz1fqqr9x5gw0000gn/T/ipykernel_85422/370983470.py:16: UserWarning: PySoundFile failed. Trying audioread instead.\n",
      "  stem_audio, _ = librosa.load(f\"{path}/stems/{stem}.wav\", sr=None)\n",
      "/Users/mariapolak/miniconda3/envs/mlme/lib/python3.11/site-packages/librosa/core/audio.py:184: FutureWarning: librosa.core.audio.__audioread_load\n",
      "\tDeprecated as of librosa version 0.10.0.\n",
      "\tIt will be removed in librosa version 1.0.\n",
      "  y, sr_native = __audioread_load(path, offset, duration, dtype)\n",
      "/var/folders/9b/646lmqp56b53pz1fqqr9x5gw0000gn/T/ipykernel_85422/370983470.py:16: UserWarning: PySoundFile failed. Trying audioread instead.\n",
      "  stem_audio, _ = librosa.load(f\"{path}/stems/{stem}.wav\", sr=None)\n",
      "/Users/mariapolak/miniconda3/envs/mlme/lib/python3.11/site-packages/librosa/core/audio.py:184: FutureWarning: librosa.core.audio.__audioread_load\n",
      "\tDeprecated as of librosa version 0.10.0.\n",
      "\tIt will be removed in librosa version 1.0.\n",
      "  y, sr_native = __audioread_load(path, offset, duration, dtype)\n",
      "/var/folders/9b/646lmqp56b53pz1fqqr9x5gw0000gn/T/ipykernel_85422/370983470.py:16: UserWarning: PySoundFile failed. Trying audioread instead.\n",
      "  stem_audio, _ = librosa.load(f\"{path}/stems/{stem}.wav\", sr=None)\n",
      "/Users/mariapolak/miniconda3/envs/mlme/lib/python3.11/site-packages/librosa/core/audio.py:184: FutureWarning: librosa.core.audio.__audioread_load\n",
      "\tDeprecated as of librosa version 0.10.0.\n",
      "\tIt will be removed in librosa version 1.0.\n",
      "  y, sr_native = __audioread_load(path, offset, duration, dtype)\n"
     ]
    },
    {
     "name": "stdout",
     "output_type": "stream",
     "text": [
      "Error reading S05\n",
      "Error reading S05\n",
      "Error reading S05\n"
     ]
    },
    {
     "name": "stderr",
     "output_type": "stream",
     "text": [
      "/var/folders/9b/646lmqp56b53pz1fqqr9x5gw0000gn/T/ipykernel_85422/370983470.py:16: UserWarning: PySoundFile failed. Trying audioread instead.\n",
      "  stem_audio, _ = librosa.load(f\"{path}/stems/{stem}.wav\", sr=None)\n",
      "/Users/mariapolak/miniconda3/envs/mlme/lib/python3.11/site-packages/librosa/core/audio.py:184: FutureWarning: librosa.core.audio.__audioread_load\n",
      "\tDeprecated as of librosa version 0.10.0.\n",
      "\tIt will be removed in librosa version 1.0.\n",
      "  y, sr_native = __audioread_load(path, offset, duration, dtype)\n",
      "/var/folders/9b/646lmqp56b53pz1fqqr9x5gw0000gn/T/ipykernel_85422/370983470.py:16: UserWarning: PySoundFile failed. Trying audioread instead.\n",
      "  stem_audio, _ = librosa.load(f\"{path}/stems/{stem}.wav\", sr=None)\n",
      "/Users/mariapolak/miniconda3/envs/mlme/lib/python3.11/site-packages/librosa/core/audio.py:184: FutureWarning: librosa.core.audio.__audioread_load\n",
      "\tDeprecated as of librosa version 0.10.0.\n",
      "\tIt will be removed in librosa version 1.0.\n",
      "  y, sr_native = __audioread_load(path, offset, duration, dtype)\n",
      "/var/folders/9b/646lmqp56b53pz1fqqr9x5gw0000gn/T/ipykernel_85422/370983470.py:16: UserWarning: PySoundFile failed. Trying audioread instead.\n",
      "  stem_audio, _ = librosa.load(f\"{path}/stems/{stem}.wav\", sr=None)\n",
      "/Users/mariapolak/miniconda3/envs/mlme/lib/python3.11/site-packages/librosa/core/audio.py:184: FutureWarning: librosa.core.audio.__audioread_load\n",
      "\tDeprecated as of librosa version 0.10.0.\n",
      "\tIt will be removed in librosa version 1.0.\n",
      "  y, sr_native = __audioread_load(path, offset, duration, dtype)\n"
     ]
    },
    {
     "name": "stdout",
     "output_type": "stream",
     "text": [
      "Error reading S05\n",
      "Error reading S05\n",
      "Error reading S05\n"
     ]
    },
    {
     "name": "stderr",
     "output_type": "stream",
     "text": [
      "/var/folders/9b/646lmqp56b53pz1fqqr9x5gw0000gn/T/ipykernel_85422/370983470.py:16: UserWarning: PySoundFile failed. Trying audioread instead.\n",
      "  stem_audio, _ = librosa.load(f\"{path}/stems/{stem}.wav\", sr=None)\n",
      "/Users/mariapolak/miniconda3/envs/mlme/lib/python3.11/site-packages/librosa/core/audio.py:184: FutureWarning: librosa.core.audio.__audioread_load\n",
      "\tDeprecated as of librosa version 0.10.0.\n",
      "\tIt will be removed in librosa version 1.0.\n",
      "  y, sr_native = __audioread_load(path, offset, duration, dtype)\n",
      "/var/folders/9b/646lmqp56b53pz1fqqr9x5gw0000gn/T/ipykernel_85422/370983470.py:16: UserWarning: PySoundFile failed. Trying audioread instead.\n",
      "  stem_audio, _ = librosa.load(f\"{path}/stems/{stem}.wav\", sr=None)\n",
      "/Users/mariapolak/miniconda3/envs/mlme/lib/python3.11/site-packages/librosa/core/audio.py:184: FutureWarning: librosa.core.audio.__audioread_load\n",
      "\tDeprecated as of librosa version 0.10.0.\n",
      "\tIt will be removed in librosa version 1.0.\n",
      "  y, sr_native = __audioread_load(path, offset, duration, dtype)\n"
     ]
    },
    {
     "name": "stdout",
     "output_type": "stream",
     "text": [
      "Error reading S05\n",
      "Error reading S05\n"
     ]
    },
    {
     "name": "stderr",
     "output_type": "stream",
     "text": [
      "/var/folders/9b/646lmqp56b53pz1fqqr9x5gw0000gn/T/ipykernel_85422/370983470.py:16: UserWarning: PySoundFile failed. Trying audioread instead.\n",
      "  stem_audio, _ = librosa.load(f\"{path}/stems/{stem}.wav\", sr=None)\n",
      "/Users/mariapolak/miniconda3/envs/mlme/lib/python3.11/site-packages/librosa/core/audio.py:184: FutureWarning: librosa.core.audio.__audioread_load\n",
      "\tDeprecated as of librosa version 0.10.0.\n",
      "\tIt will be removed in librosa version 1.0.\n",
      "  y, sr_native = __audioread_load(path, offset, duration, dtype)\n",
      "/var/folders/9b/646lmqp56b53pz1fqqr9x5gw0000gn/T/ipykernel_85422/370983470.py:16: UserWarning: PySoundFile failed. Trying audioread instead.\n",
      "  stem_audio, _ = librosa.load(f\"{path}/stems/{stem}.wav\", sr=None)\n",
      "/Users/mariapolak/miniconda3/envs/mlme/lib/python3.11/site-packages/librosa/core/audio.py:184: FutureWarning: librosa.core.audio.__audioread_load\n",
      "\tDeprecated as of librosa version 0.10.0.\n",
      "\tIt will be removed in librosa version 1.0.\n",
      "  y, sr_native = __audioread_load(path, offset, duration, dtype)\n"
     ]
    },
    {
     "name": "stdout",
     "output_type": "stream",
     "text": [
      "Error reading S05\n",
      "Processing: datasets/babyslakh_16k/Track00019\n",
      "Error reading S05\n"
     ]
    },
    {
     "name": "stderr",
     "output_type": "stream",
     "text": [
      "/var/folders/9b/646lmqp56b53pz1fqqr9x5gw0000gn/T/ipykernel_85422/370983470.py:16: UserWarning: PySoundFile failed. Trying audioread instead.\n",
      "  stem_audio, _ = librosa.load(f\"{path}/stems/{stem}.wav\", sr=None)\n",
      "/Users/mariapolak/miniconda3/envs/mlme/lib/python3.11/site-packages/librosa/core/audio.py:184: FutureWarning: librosa.core.audio.__audioread_load\n",
      "\tDeprecated as of librosa version 0.10.0.\n",
      "\tIt will be removed in librosa version 1.0.\n",
      "  y, sr_native = __audioread_load(path, offset, duration, dtype)\n",
      "/var/folders/9b/646lmqp56b53pz1fqqr9x5gw0000gn/T/ipykernel_85422/370983470.py:16: UserWarning: PySoundFile failed. Trying audioread instead.\n",
      "  stem_audio, _ = librosa.load(f\"{path}/stems/{stem}.wav\", sr=None)\n",
      "/Users/mariapolak/miniconda3/envs/mlme/lib/python3.11/site-packages/librosa/core/audio.py:184: FutureWarning: librosa.core.audio.__audioread_load\n",
      "\tDeprecated as of librosa version 0.10.0.\n",
      "\tIt will be removed in librosa version 1.0.\n",
      "  y, sr_native = __audioread_load(path, offset, duration, dtype)\n"
     ]
    },
    {
     "name": "stdout",
     "output_type": "stream",
     "text": [
      "Error reading S05\n",
      "Error reading S05\n"
     ]
    },
    {
     "name": "stderr",
     "output_type": "stream",
     "text": [
      "/var/folders/9b/646lmqp56b53pz1fqqr9x5gw0000gn/T/ipykernel_85422/370983470.py:16: UserWarning: PySoundFile failed. Trying audioread instead.\n",
      "  stem_audio, _ = librosa.load(f\"{path}/stems/{stem}.wav\", sr=None)\n",
      "/Users/mariapolak/miniconda3/envs/mlme/lib/python3.11/site-packages/librosa/core/audio.py:184: FutureWarning: librosa.core.audio.__audioread_load\n",
      "\tDeprecated as of librosa version 0.10.0.\n",
      "\tIt will be removed in librosa version 1.0.\n",
      "  y, sr_native = __audioread_load(path, offset, duration, dtype)\n",
      "/var/folders/9b/646lmqp56b53pz1fqqr9x5gw0000gn/T/ipykernel_85422/370983470.py:16: UserWarning: PySoundFile failed. Trying audioread instead.\n",
      "  stem_audio, _ = librosa.load(f\"{path}/stems/{stem}.wav\", sr=None)\n",
      "/Users/mariapolak/miniconda3/envs/mlme/lib/python3.11/site-packages/librosa/core/audio.py:184: FutureWarning: librosa.core.audio.__audioread_load\n",
      "\tDeprecated as of librosa version 0.10.0.\n",
      "\tIt will be removed in librosa version 1.0.\n",
      "  y, sr_native = __audioread_load(path, offset, duration, dtype)\n"
     ]
    },
    {
     "name": "stdout",
     "output_type": "stream",
     "text": [
      "Error reading S05\n",
      "Error reading S05\n"
     ]
    },
    {
     "name": "stderr",
     "output_type": "stream",
     "text": [
      "/var/folders/9b/646lmqp56b53pz1fqqr9x5gw0000gn/T/ipykernel_85422/370983470.py:16: UserWarning: PySoundFile failed. Trying audioread instead.\n",
      "  stem_audio, _ = librosa.load(f\"{path}/stems/{stem}.wav\", sr=None)\n",
      "/Users/mariapolak/miniconda3/envs/mlme/lib/python3.11/site-packages/librosa/core/audio.py:184: FutureWarning: librosa.core.audio.__audioread_load\n",
      "\tDeprecated as of librosa version 0.10.0.\n",
      "\tIt will be removed in librosa version 1.0.\n",
      "  y, sr_native = __audioread_load(path, offset, duration, dtype)\n",
      "/var/folders/9b/646lmqp56b53pz1fqqr9x5gw0000gn/T/ipykernel_85422/370983470.py:16: UserWarning: PySoundFile failed. Trying audioread instead.\n",
      "  stem_audio, _ = librosa.load(f\"{path}/stems/{stem}.wav\", sr=None)\n",
      "/Users/mariapolak/miniconda3/envs/mlme/lib/python3.11/site-packages/librosa/core/audio.py:184: FutureWarning: librosa.core.audio.__audioread_load\n",
      "\tDeprecated as of librosa version 0.10.0.\n",
      "\tIt will be removed in librosa version 1.0.\n",
      "  y, sr_native = __audioread_load(path, offset, duration, dtype)\n"
     ]
    },
    {
     "name": "stdout",
     "output_type": "stream",
     "text": [
      "Error reading S05\n",
      "Error reading S05\n"
     ]
    },
    {
     "name": "stderr",
     "output_type": "stream",
     "text": [
      "/var/folders/9b/646lmqp56b53pz1fqqr9x5gw0000gn/T/ipykernel_85422/370983470.py:16: UserWarning: PySoundFile failed. Trying audioread instead.\n",
      "  stem_audio, _ = librosa.load(f\"{path}/stems/{stem}.wav\", sr=None)\n",
      "/Users/mariapolak/miniconda3/envs/mlme/lib/python3.11/site-packages/librosa/core/audio.py:184: FutureWarning: librosa.core.audio.__audioread_load\n",
      "\tDeprecated as of librosa version 0.10.0.\n",
      "\tIt will be removed in librosa version 1.0.\n",
      "  y, sr_native = __audioread_load(path, offset, duration, dtype)\n",
      "/var/folders/9b/646lmqp56b53pz1fqqr9x5gw0000gn/T/ipykernel_85422/370983470.py:16: UserWarning: PySoundFile failed. Trying audioread instead.\n",
      "  stem_audio, _ = librosa.load(f\"{path}/stems/{stem}.wav\", sr=None)\n",
      "/Users/mariapolak/miniconda3/envs/mlme/lib/python3.11/site-packages/librosa/core/audio.py:184: FutureWarning: librosa.core.audio.__audioread_load\n",
      "\tDeprecated as of librosa version 0.10.0.\n",
      "\tIt will be removed in librosa version 1.0.\n",
      "  y, sr_native = __audioread_load(path, offset, duration, dtype)\n"
     ]
    },
    {
     "name": "stdout",
     "output_type": "stream",
     "text": [
      "Error reading S05\n",
      "Error reading S05\n"
     ]
    },
    {
     "name": "stderr",
     "output_type": "stream",
     "text": [
      "/var/folders/9b/646lmqp56b53pz1fqqr9x5gw0000gn/T/ipykernel_85422/370983470.py:16: UserWarning: PySoundFile failed. Trying audioread instead.\n",
      "  stem_audio, _ = librosa.load(f\"{path}/stems/{stem}.wav\", sr=None)\n",
      "/Users/mariapolak/miniconda3/envs/mlme/lib/python3.11/site-packages/librosa/core/audio.py:184: FutureWarning: librosa.core.audio.__audioread_load\n",
      "\tDeprecated as of librosa version 0.10.0.\n",
      "\tIt will be removed in librosa version 1.0.\n",
      "  y, sr_native = __audioread_load(path, offset, duration, dtype)\n",
      "/var/folders/9b/646lmqp56b53pz1fqqr9x5gw0000gn/T/ipykernel_85422/370983470.py:16: UserWarning: PySoundFile failed. Trying audioread instead.\n",
      "  stem_audio, _ = librosa.load(f\"{path}/stems/{stem}.wav\", sr=None)\n",
      "/Users/mariapolak/miniconda3/envs/mlme/lib/python3.11/site-packages/librosa/core/audio.py:184: FutureWarning: librosa.core.audio.__audioread_load\n",
      "\tDeprecated as of librosa version 0.10.0.\n",
      "\tIt will be removed in librosa version 1.0.\n",
      "  y, sr_native = __audioread_load(path, offset, duration, dtype)\n"
     ]
    },
    {
     "name": "stdout",
     "output_type": "stream",
     "text": [
      "Error reading S05\n",
      "Error reading S05\n"
     ]
    },
    {
     "name": "stderr",
     "output_type": "stream",
     "text": [
      "/var/folders/9b/646lmqp56b53pz1fqqr9x5gw0000gn/T/ipykernel_85422/370983470.py:16: UserWarning: PySoundFile failed. Trying audioread instead.\n",
      "  stem_audio, _ = librosa.load(f\"{path}/stems/{stem}.wav\", sr=None)\n",
      "/Users/mariapolak/miniconda3/envs/mlme/lib/python3.11/site-packages/librosa/core/audio.py:184: FutureWarning: librosa.core.audio.__audioread_load\n",
      "\tDeprecated as of librosa version 0.10.0.\n",
      "\tIt will be removed in librosa version 1.0.\n",
      "  y, sr_native = __audioread_load(path, offset, duration, dtype)\n",
      "/var/folders/9b/646lmqp56b53pz1fqqr9x5gw0000gn/T/ipykernel_85422/370983470.py:16: UserWarning: PySoundFile failed. Trying audioread instead.\n",
      "  stem_audio, _ = librosa.load(f\"{path}/stems/{stem}.wav\", sr=None)\n",
      "/Users/mariapolak/miniconda3/envs/mlme/lib/python3.11/site-packages/librosa/core/audio.py:184: FutureWarning: librosa.core.audio.__audioread_load\n",
      "\tDeprecated as of librosa version 0.10.0.\n",
      "\tIt will be removed in librosa version 1.0.\n",
      "  y, sr_native = __audioread_load(path, offset, duration, dtype)\n"
     ]
    },
    {
     "name": "stdout",
     "output_type": "stream",
     "text": [
      "Error reading S05\n",
      "Error reading S05\n"
     ]
    },
    {
     "name": "stderr",
     "output_type": "stream",
     "text": [
      "/var/folders/9b/646lmqp56b53pz1fqqr9x5gw0000gn/T/ipykernel_85422/370983470.py:16: UserWarning: PySoundFile failed. Trying audioread instead.\n",
      "  stem_audio, _ = librosa.load(f\"{path}/stems/{stem}.wav\", sr=None)\n",
      "/Users/mariapolak/miniconda3/envs/mlme/lib/python3.11/site-packages/librosa/core/audio.py:184: FutureWarning: librosa.core.audio.__audioread_load\n",
      "\tDeprecated as of librosa version 0.10.0.\n",
      "\tIt will be removed in librosa version 1.0.\n",
      "  y, sr_native = __audioread_load(path, offset, duration, dtype)\n",
      "/var/folders/9b/646lmqp56b53pz1fqqr9x5gw0000gn/T/ipykernel_85422/370983470.py:16: UserWarning: PySoundFile failed. Trying audioread instead.\n",
      "  stem_audio, _ = librosa.load(f\"{path}/stems/{stem}.wav\", sr=None)\n",
      "/Users/mariapolak/miniconda3/envs/mlme/lib/python3.11/site-packages/librosa/core/audio.py:184: FutureWarning: librosa.core.audio.__audioread_load\n",
      "\tDeprecated as of librosa version 0.10.0.\n",
      "\tIt will be removed in librosa version 1.0.\n",
      "  y, sr_native = __audioread_load(path, offset, duration, dtype)\n"
     ]
    },
    {
     "name": "stdout",
     "output_type": "stream",
     "text": [
      "Error reading S05\n",
      "Error reading S05\n"
     ]
    },
    {
     "name": "stderr",
     "output_type": "stream",
     "text": [
      "/var/folders/9b/646lmqp56b53pz1fqqr9x5gw0000gn/T/ipykernel_85422/370983470.py:16: UserWarning: PySoundFile failed. Trying audioread instead.\n",
      "  stem_audio, _ = librosa.load(f\"{path}/stems/{stem}.wav\", sr=None)\n",
      "/Users/mariapolak/miniconda3/envs/mlme/lib/python3.11/site-packages/librosa/core/audio.py:184: FutureWarning: librosa.core.audio.__audioread_load\n",
      "\tDeprecated as of librosa version 0.10.0.\n",
      "\tIt will be removed in librosa version 1.0.\n",
      "  y, sr_native = __audioread_load(path, offset, duration, dtype)\n"
     ]
    },
    {
     "name": "stdout",
     "output_type": "stream",
     "text": [
      "Error reading S05\n"
     ]
    },
    {
     "name": "stderr",
     "output_type": "stream",
     "text": [
      "/var/folders/9b/646lmqp56b53pz1fqqr9x5gw0000gn/T/ipykernel_85422/370983470.py:16: UserWarning: PySoundFile failed. Trying audioread instead.\n",
      "  stem_audio, _ = librosa.load(f\"{path}/stems/{stem}.wav\", sr=None)\n",
      "/Users/mariapolak/miniconda3/envs/mlme/lib/python3.11/site-packages/librosa/core/audio.py:184: FutureWarning: librosa.core.audio.__audioread_load\n",
      "\tDeprecated as of librosa version 0.10.0.\n",
      "\tIt will be removed in librosa version 1.0.\n",
      "  y, sr_native = __audioread_load(path, offset, duration, dtype)\n",
      "/var/folders/9b/646lmqp56b53pz1fqqr9x5gw0000gn/T/ipykernel_85422/370983470.py:16: UserWarning: PySoundFile failed. Trying audioread instead.\n",
      "  stem_audio, _ = librosa.load(f\"{path}/stems/{stem}.wav\", sr=None)\n",
      "/Users/mariapolak/miniconda3/envs/mlme/lib/python3.11/site-packages/librosa/core/audio.py:184: FutureWarning: librosa.core.audio.__audioread_load\n",
      "\tDeprecated as of librosa version 0.10.0.\n",
      "\tIt will be removed in librosa version 1.0.\n",
      "  y, sr_native = __audioread_load(path, offset, duration, dtype)\n"
     ]
    },
    {
     "name": "stdout",
     "output_type": "stream",
     "text": [
      "Error reading S05\n",
      "Error reading S05\n"
     ]
    },
    {
     "name": "stderr",
     "output_type": "stream",
     "text": [
      "/var/folders/9b/646lmqp56b53pz1fqqr9x5gw0000gn/T/ipykernel_85422/370983470.py:16: UserWarning: PySoundFile failed. Trying audioread instead.\n",
      "  stem_audio, _ = librosa.load(f\"{path}/stems/{stem}.wav\", sr=None)\n",
      "/Users/mariapolak/miniconda3/envs/mlme/lib/python3.11/site-packages/librosa/core/audio.py:184: FutureWarning: librosa.core.audio.__audioread_load\n",
      "\tDeprecated as of librosa version 0.10.0.\n",
      "\tIt will be removed in librosa version 1.0.\n",
      "  y, sr_native = __audioread_load(path, offset, duration, dtype)\n",
      "/var/folders/9b/646lmqp56b53pz1fqqr9x5gw0000gn/T/ipykernel_85422/370983470.py:16: UserWarning: PySoundFile failed. Trying audioread instead.\n",
      "  stem_audio, _ = librosa.load(f\"{path}/stems/{stem}.wav\", sr=None)\n",
      "/Users/mariapolak/miniconda3/envs/mlme/lib/python3.11/site-packages/librosa/core/audio.py:184: FutureWarning: librosa.core.audio.__audioread_load\n",
      "\tDeprecated as of librosa version 0.10.0.\n",
      "\tIt will be removed in librosa version 1.0.\n",
      "  y, sr_native = __audioread_load(path, offset, duration, dtype)\n"
     ]
    },
    {
     "name": "stdout",
     "output_type": "stream",
     "text": [
      "Error reading S05\n",
      "Error reading S05\n"
     ]
    },
    {
     "name": "stderr",
     "output_type": "stream",
     "text": [
      "/var/folders/9b/646lmqp56b53pz1fqqr9x5gw0000gn/T/ipykernel_85422/370983470.py:16: UserWarning: PySoundFile failed. Trying audioread instead.\n",
      "  stem_audio, _ = librosa.load(f\"{path}/stems/{stem}.wav\", sr=None)\n",
      "/Users/mariapolak/miniconda3/envs/mlme/lib/python3.11/site-packages/librosa/core/audio.py:184: FutureWarning: librosa.core.audio.__audioread_load\n",
      "\tDeprecated as of librosa version 0.10.0.\n",
      "\tIt will be removed in librosa version 1.0.\n",
      "  y, sr_native = __audioread_load(path, offset, duration, dtype)\n",
      "/var/folders/9b/646lmqp56b53pz1fqqr9x5gw0000gn/T/ipykernel_85422/370983470.py:16: UserWarning: PySoundFile failed. Trying audioread instead.\n",
      "  stem_audio, _ = librosa.load(f\"{path}/stems/{stem}.wav\", sr=None)\n",
      "/Users/mariapolak/miniconda3/envs/mlme/lib/python3.11/site-packages/librosa/core/audio.py:184: FutureWarning: librosa.core.audio.__audioread_load\n",
      "\tDeprecated as of librosa version 0.10.0.\n",
      "\tIt will be removed in librosa version 1.0.\n",
      "  y, sr_native = __audioread_load(path, offset, duration, dtype)\n"
     ]
    },
    {
     "name": "stdout",
     "output_type": "stream",
     "text": [
      "Error reading S05\n",
      "Error reading S05\n"
     ]
    },
    {
     "name": "stderr",
     "output_type": "stream",
     "text": [
      "/var/folders/9b/646lmqp56b53pz1fqqr9x5gw0000gn/T/ipykernel_85422/370983470.py:16: UserWarning: PySoundFile failed. Trying audioread instead.\n",
      "  stem_audio, _ = librosa.load(f\"{path}/stems/{stem}.wav\", sr=None)\n",
      "/Users/mariapolak/miniconda3/envs/mlme/lib/python3.11/site-packages/librosa/core/audio.py:184: FutureWarning: librosa.core.audio.__audioread_load\n",
      "\tDeprecated as of librosa version 0.10.0.\n",
      "\tIt will be removed in librosa version 1.0.\n",
      "  y, sr_native = __audioread_load(path, offset, duration, dtype)\n",
      "/var/folders/9b/646lmqp56b53pz1fqqr9x5gw0000gn/T/ipykernel_85422/370983470.py:16: UserWarning: PySoundFile failed. Trying audioread instead.\n",
      "  stem_audio, _ = librosa.load(f\"{path}/stems/{stem}.wav\", sr=None)\n",
      "/Users/mariapolak/miniconda3/envs/mlme/lib/python3.11/site-packages/librosa/core/audio.py:184: FutureWarning: librosa.core.audio.__audioread_load\n",
      "\tDeprecated as of librosa version 0.10.0.\n",
      "\tIt will be removed in librosa version 1.0.\n",
      "  y, sr_native = __audioread_load(path, offset, duration, dtype)\n"
     ]
    },
    {
     "name": "stdout",
     "output_type": "stream",
     "text": [
      "Error reading S05\n",
      "Error reading S05\n"
     ]
    },
    {
     "name": "stderr",
     "output_type": "stream",
     "text": [
      "/var/folders/9b/646lmqp56b53pz1fqqr9x5gw0000gn/T/ipykernel_85422/370983470.py:16: UserWarning: PySoundFile failed. Trying audioread instead.\n",
      "  stem_audio, _ = librosa.load(f\"{path}/stems/{stem}.wav\", sr=None)\n",
      "/Users/mariapolak/miniconda3/envs/mlme/lib/python3.11/site-packages/librosa/core/audio.py:184: FutureWarning: librosa.core.audio.__audioread_load\n",
      "\tDeprecated as of librosa version 0.10.0.\n",
      "\tIt will be removed in librosa version 1.0.\n",
      "  y, sr_native = __audioread_load(path, offset, duration, dtype)\n",
      "/var/folders/9b/646lmqp56b53pz1fqqr9x5gw0000gn/T/ipykernel_85422/370983470.py:16: UserWarning: PySoundFile failed. Trying audioread instead.\n",
      "  stem_audio, _ = librosa.load(f\"{path}/stems/{stem}.wav\", sr=None)\n",
      "/Users/mariapolak/miniconda3/envs/mlme/lib/python3.11/site-packages/librosa/core/audio.py:184: FutureWarning: librosa.core.audio.__audioread_load\n",
      "\tDeprecated as of librosa version 0.10.0.\n",
      "\tIt will be removed in librosa version 1.0.\n",
      "  y, sr_native = __audioread_load(path, offset, duration, dtype)\n"
     ]
    },
    {
     "name": "stdout",
     "output_type": "stream",
     "text": [
      "Error reading S05\n",
      "Error reading S05\n"
     ]
    },
    {
     "name": "stderr",
     "output_type": "stream",
     "text": [
      "/var/folders/9b/646lmqp56b53pz1fqqr9x5gw0000gn/T/ipykernel_85422/370983470.py:16: UserWarning: PySoundFile failed. Trying audioread instead.\n",
      "  stem_audio, _ = librosa.load(f\"{path}/stems/{stem}.wav\", sr=None)\n",
      "/Users/mariapolak/miniconda3/envs/mlme/lib/python3.11/site-packages/librosa/core/audio.py:184: FutureWarning: librosa.core.audio.__audioread_load\n",
      "\tDeprecated as of librosa version 0.10.0.\n",
      "\tIt will be removed in librosa version 1.0.\n",
      "  y, sr_native = __audioread_load(path, offset, duration, dtype)\n",
      "/var/folders/9b/646lmqp56b53pz1fqqr9x5gw0000gn/T/ipykernel_85422/370983470.py:16: UserWarning: PySoundFile failed. Trying audioread instead.\n",
      "  stem_audio, _ = librosa.load(f\"{path}/stems/{stem}.wav\", sr=None)\n",
      "/Users/mariapolak/miniconda3/envs/mlme/lib/python3.11/site-packages/librosa/core/audio.py:184: FutureWarning: librosa.core.audio.__audioread_load\n",
      "\tDeprecated as of librosa version 0.10.0.\n",
      "\tIt will be removed in librosa version 1.0.\n",
      "  y, sr_native = __audioread_load(path, offset, duration, dtype)\n"
     ]
    },
    {
     "name": "stdout",
     "output_type": "stream",
     "text": [
      "Error reading S05\n",
      "Error reading S05\n"
     ]
    },
    {
     "name": "stderr",
     "output_type": "stream",
     "text": [
      "/var/folders/9b/646lmqp56b53pz1fqqr9x5gw0000gn/T/ipykernel_85422/370983470.py:16: UserWarning: PySoundFile failed. Trying audioread instead.\n",
      "  stem_audio, _ = librosa.load(f\"{path}/stems/{stem}.wav\", sr=None)\n",
      "/Users/mariapolak/miniconda3/envs/mlme/lib/python3.11/site-packages/librosa/core/audio.py:184: FutureWarning: librosa.core.audio.__audioread_load\n",
      "\tDeprecated as of librosa version 0.10.0.\n",
      "\tIt will be removed in librosa version 1.0.\n",
      "  y, sr_native = __audioread_load(path, offset, duration, dtype)\n",
      "/var/folders/9b/646lmqp56b53pz1fqqr9x5gw0000gn/T/ipykernel_85422/370983470.py:16: UserWarning: PySoundFile failed. Trying audioread instead.\n",
      "  stem_audio, _ = librosa.load(f\"{path}/stems/{stem}.wav\", sr=None)\n",
      "/Users/mariapolak/miniconda3/envs/mlme/lib/python3.11/site-packages/librosa/core/audio.py:184: FutureWarning: librosa.core.audio.__audioread_load\n",
      "\tDeprecated as of librosa version 0.10.0.\n",
      "\tIt will be removed in librosa version 1.0.\n",
      "  y, sr_native = __audioread_load(path, offset, duration, dtype)\n"
     ]
    },
    {
     "name": "stdout",
     "output_type": "stream",
     "text": [
      "Error reading S05\n",
      "Error reading S05\n"
     ]
    },
    {
     "name": "stderr",
     "output_type": "stream",
     "text": [
      "/var/folders/9b/646lmqp56b53pz1fqqr9x5gw0000gn/T/ipykernel_85422/370983470.py:16: UserWarning: PySoundFile failed. Trying audioread instead.\n",
      "  stem_audio, _ = librosa.load(f\"{path}/stems/{stem}.wav\", sr=None)\n",
      "/Users/mariapolak/miniconda3/envs/mlme/lib/python3.11/site-packages/librosa/core/audio.py:184: FutureWarning: librosa.core.audio.__audioread_load\n",
      "\tDeprecated as of librosa version 0.10.0.\n",
      "\tIt will be removed in librosa version 1.0.\n",
      "  y, sr_native = __audioread_load(path, offset, duration, dtype)\n",
      "/var/folders/9b/646lmqp56b53pz1fqqr9x5gw0000gn/T/ipykernel_85422/370983470.py:16: UserWarning: PySoundFile failed. Trying audioread instead.\n",
      "  stem_audio, _ = librosa.load(f\"{path}/stems/{stem}.wav\", sr=None)\n",
      "/Users/mariapolak/miniconda3/envs/mlme/lib/python3.11/site-packages/librosa/core/audio.py:184: FutureWarning: librosa.core.audio.__audioread_load\n",
      "\tDeprecated as of librosa version 0.10.0.\n",
      "\tIt will be removed in librosa version 1.0.\n",
      "  y, sr_native = __audioread_load(path, offset, duration, dtype)\n"
     ]
    },
    {
     "name": "stdout",
     "output_type": "stream",
     "text": [
      "Error reading S05\n",
      "Error reading S05\n"
     ]
    },
    {
     "name": "stderr",
     "output_type": "stream",
     "text": [
      "/var/folders/9b/646lmqp56b53pz1fqqr9x5gw0000gn/T/ipykernel_85422/370983470.py:16: UserWarning: PySoundFile failed. Trying audioread instead.\n",
      "  stem_audio, _ = librosa.load(f\"{path}/stems/{stem}.wav\", sr=None)\n",
      "/Users/mariapolak/miniconda3/envs/mlme/lib/python3.11/site-packages/librosa/core/audio.py:184: FutureWarning: librosa.core.audio.__audioread_load\n",
      "\tDeprecated as of librosa version 0.10.0.\n",
      "\tIt will be removed in librosa version 1.0.\n",
      "  y, sr_native = __audioread_load(path, offset, duration, dtype)\n"
     ]
    },
    {
     "name": "stdout",
     "output_type": "stream",
     "text": [
      "Error reading S05\n"
     ]
    },
    {
     "name": "stderr",
     "output_type": "stream",
     "text": [
      "/var/folders/9b/646lmqp56b53pz1fqqr9x5gw0000gn/T/ipykernel_85422/370983470.py:16: UserWarning: PySoundFile failed. Trying audioread instead.\n",
      "  stem_audio, _ = librosa.load(f\"{path}/stems/{stem}.wav\", sr=None)\n",
      "/Users/mariapolak/miniconda3/envs/mlme/lib/python3.11/site-packages/librosa/core/audio.py:184: FutureWarning: librosa.core.audio.__audioread_load\n",
      "\tDeprecated as of librosa version 0.10.0.\n",
      "\tIt will be removed in librosa version 1.0.\n",
      "  y, sr_native = __audioread_load(path, offset, duration, dtype)\n",
      "/var/folders/9b/646lmqp56b53pz1fqqr9x5gw0000gn/T/ipykernel_85422/370983470.py:16: UserWarning: PySoundFile failed. Trying audioread instead.\n",
      "  stem_audio, _ = librosa.load(f\"{path}/stems/{stem}.wav\", sr=None)\n",
      "/Users/mariapolak/miniconda3/envs/mlme/lib/python3.11/site-packages/librosa/core/audio.py:184: FutureWarning: librosa.core.audio.__audioread_load\n",
      "\tDeprecated as of librosa version 0.10.0.\n",
      "\tIt will be removed in librosa version 1.0.\n",
      "  y, sr_native = __audioread_load(path, offset, duration, dtype)\n"
     ]
    },
    {
     "name": "stdout",
     "output_type": "stream",
     "text": [
      "Error reading S05\n",
      "Error reading S05\n"
     ]
    },
    {
     "name": "stderr",
     "output_type": "stream",
     "text": [
      "/var/folders/9b/646lmqp56b53pz1fqqr9x5gw0000gn/T/ipykernel_85422/370983470.py:16: UserWarning: PySoundFile failed. Trying audioread instead.\n",
      "  stem_audio, _ = librosa.load(f\"{path}/stems/{stem}.wav\", sr=None)\n",
      "/Users/mariapolak/miniconda3/envs/mlme/lib/python3.11/site-packages/librosa/core/audio.py:184: FutureWarning: librosa.core.audio.__audioread_load\n",
      "\tDeprecated as of librosa version 0.10.0.\n",
      "\tIt will be removed in librosa version 1.0.\n",
      "  y, sr_native = __audioread_load(path, offset, duration, dtype)\n",
      "/var/folders/9b/646lmqp56b53pz1fqqr9x5gw0000gn/T/ipykernel_85422/370983470.py:16: UserWarning: PySoundFile failed. Trying audioread instead.\n",
      "  stem_audio, _ = librosa.load(f\"{path}/stems/{stem}.wav\", sr=None)\n",
      "/Users/mariapolak/miniconda3/envs/mlme/lib/python3.11/site-packages/librosa/core/audio.py:184: FutureWarning: librosa.core.audio.__audioread_load\n",
      "\tDeprecated as of librosa version 0.10.0.\n",
      "\tIt will be removed in librosa version 1.0.\n",
      "  y, sr_native = __audioread_load(path, offset, duration, dtype)\n"
     ]
    },
    {
     "name": "stdout",
     "output_type": "stream",
     "text": [
      "Error reading S05\n",
      "Error reading S05\n"
     ]
    },
    {
     "name": "stderr",
     "output_type": "stream",
     "text": [
      "/var/folders/9b/646lmqp56b53pz1fqqr9x5gw0000gn/T/ipykernel_85422/370983470.py:16: UserWarning: PySoundFile failed. Trying audioread instead.\n",
      "  stem_audio, _ = librosa.load(f\"{path}/stems/{stem}.wav\", sr=None)\n",
      "/Users/mariapolak/miniconda3/envs/mlme/lib/python3.11/site-packages/librosa/core/audio.py:184: FutureWarning: librosa.core.audio.__audioread_load\n",
      "\tDeprecated as of librosa version 0.10.0.\n",
      "\tIt will be removed in librosa version 1.0.\n",
      "  y, sr_native = __audioread_load(path, offset, duration, dtype)\n"
     ]
    },
    {
     "name": "stdout",
     "output_type": "stream",
     "text": [
      "Error reading S05\n"
     ]
    },
    {
     "name": "stderr",
     "output_type": "stream",
     "text": [
      "/var/folders/9b/646lmqp56b53pz1fqqr9x5gw0000gn/T/ipykernel_85422/370983470.py:16: UserWarning: PySoundFile failed. Trying audioread instead.\n",
      "  stem_audio, _ = librosa.load(f\"{path}/stems/{stem}.wav\", sr=None)\n",
      "/Users/mariapolak/miniconda3/envs/mlme/lib/python3.11/site-packages/librosa/core/audio.py:184: FutureWarning: librosa.core.audio.__audioread_load\n",
      "\tDeprecated as of librosa version 0.10.0.\n",
      "\tIt will be removed in librosa version 1.0.\n",
      "  y, sr_native = __audioread_load(path, offset, duration, dtype)\n",
      "/var/folders/9b/646lmqp56b53pz1fqqr9x5gw0000gn/T/ipykernel_85422/370983470.py:16: UserWarning: PySoundFile failed. Trying audioread instead.\n",
      "  stem_audio, _ = librosa.load(f\"{path}/stems/{stem}.wav\", sr=None)\n",
      "/Users/mariapolak/miniconda3/envs/mlme/lib/python3.11/site-packages/librosa/core/audio.py:184: FutureWarning: librosa.core.audio.__audioread_load\n",
      "\tDeprecated as of librosa version 0.10.0.\n",
      "\tIt will be removed in librosa version 1.0.\n",
      "  y, sr_native = __audioread_load(path, offset, duration, dtype)\n"
     ]
    },
    {
     "name": "stdout",
     "output_type": "stream",
     "text": [
      "Error reading S05\n",
      "Error reading S05\n"
     ]
    },
    {
     "name": "stderr",
     "output_type": "stream",
     "text": [
      "/var/folders/9b/646lmqp56b53pz1fqqr9x5gw0000gn/T/ipykernel_85422/370983470.py:16: UserWarning: PySoundFile failed. Trying audioread instead.\n",
      "  stem_audio, _ = librosa.load(f\"{path}/stems/{stem}.wav\", sr=None)\n",
      "/Users/mariapolak/miniconda3/envs/mlme/lib/python3.11/site-packages/librosa/core/audio.py:184: FutureWarning: librosa.core.audio.__audioread_load\n",
      "\tDeprecated as of librosa version 0.10.0.\n",
      "\tIt will be removed in librosa version 1.0.\n",
      "  y, sr_native = __audioread_load(path, offset, duration, dtype)\n",
      "/var/folders/9b/646lmqp56b53pz1fqqr9x5gw0000gn/T/ipykernel_85422/370983470.py:16: UserWarning: PySoundFile failed. Trying audioread instead.\n",
      "  stem_audio, _ = librosa.load(f\"{path}/stems/{stem}.wav\", sr=None)\n",
      "/Users/mariapolak/miniconda3/envs/mlme/lib/python3.11/site-packages/librosa/core/audio.py:184: FutureWarning: librosa.core.audio.__audioread_load\n",
      "\tDeprecated as of librosa version 0.10.0.\n",
      "\tIt will be removed in librosa version 1.0.\n",
      "  y, sr_native = __audioread_load(path, offset, duration, dtype)\n"
     ]
    },
    {
     "name": "stdout",
     "output_type": "stream",
     "text": [
      "Error reading S05\n",
      "Error reading S05\n"
     ]
    },
    {
     "name": "stderr",
     "output_type": "stream",
     "text": [
      "/var/folders/9b/646lmqp56b53pz1fqqr9x5gw0000gn/T/ipykernel_85422/370983470.py:16: UserWarning: PySoundFile failed. Trying audioread instead.\n",
      "  stem_audio, _ = librosa.load(f\"{path}/stems/{stem}.wav\", sr=None)\n",
      "/Users/mariapolak/miniconda3/envs/mlme/lib/python3.11/site-packages/librosa/core/audio.py:184: FutureWarning: librosa.core.audio.__audioread_load\n",
      "\tDeprecated as of librosa version 0.10.0.\n",
      "\tIt will be removed in librosa version 1.0.\n",
      "  y, sr_native = __audioread_load(path, offset, duration, dtype)\n",
      "/var/folders/9b/646lmqp56b53pz1fqqr9x5gw0000gn/T/ipykernel_85422/370983470.py:16: UserWarning: PySoundFile failed. Trying audioread instead.\n",
      "  stem_audio, _ = librosa.load(f\"{path}/stems/{stem}.wav\", sr=None)\n",
      "/Users/mariapolak/miniconda3/envs/mlme/lib/python3.11/site-packages/librosa/core/audio.py:184: FutureWarning: librosa.core.audio.__audioread_load\n",
      "\tDeprecated as of librosa version 0.10.0.\n",
      "\tIt will be removed in librosa version 1.0.\n",
      "  y, sr_native = __audioread_load(path, offset, duration, dtype)\n"
     ]
    },
    {
     "name": "stdout",
     "output_type": "stream",
     "text": [
      "Error reading S05\n",
      "Error reading S05\n"
     ]
    },
    {
     "name": "stderr",
     "output_type": "stream",
     "text": [
      "/var/folders/9b/646lmqp56b53pz1fqqr9x5gw0000gn/T/ipykernel_85422/370983470.py:16: UserWarning: PySoundFile failed. Trying audioread instead.\n",
      "  stem_audio, _ = librosa.load(f\"{path}/stems/{stem}.wav\", sr=None)\n",
      "/Users/mariapolak/miniconda3/envs/mlme/lib/python3.11/site-packages/librosa/core/audio.py:184: FutureWarning: librosa.core.audio.__audioread_load\n",
      "\tDeprecated as of librosa version 0.10.0.\n",
      "\tIt will be removed in librosa version 1.0.\n",
      "  y, sr_native = __audioread_load(path, offset, duration, dtype)\n",
      "/var/folders/9b/646lmqp56b53pz1fqqr9x5gw0000gn/T/ipykernel_85422/370983470.py:16: UserWarning: PySoundFile failed. Trying audioread instead.\n",
      "  stem_audio, _ = librosa.load(f\"{path}/stems/{stem}.wav\", sr=None)\n",
      "/Users/mariapolak/miniconda3/envs/mlme/lib/python3.11/site-packages/librosa/core/audio.py:184: FutureWarning: librosa.core.audio.__audioread_load\n",
      "\tDeprecated as of librosa version 0.10.0.\n",
      "\tIt will be removed in librosa version 1.0.\n",
      "  y, sr_native = __audioread_load(path, offset, duration, dtype)\n"
     ]
    },
    {
     "name": "stdout",
     "output_type": "stream",
     "text": [
      "Error reading S05\n",
      "Error reading S05\n",
      "Processing: datasets/babyslakh_16k/Track00010\n",
      "Processing: datasets/babyslakh_16k/Track00017\n",
      "Error reading S04\n"
     ]
    },
    {
     "name": "stderr",
     "output_type": "stream",
     "text": [
      "/var/folders/9b/646lmqp56b53pz1fqqr9x5gw0000gn/T/ipykernel_85422/370983470.py:16: UserWarning: PySoundFile failed. Trying audioread instead.\n",
      "  stem_audio, _ = librosa.load(f\"{path}/stems/{stem}.wav\", sr=None)\n",
      "/Users/mariapolak/miniconda3/envs/mlme/lib/python3.11/site-packages/librosa/core/audio.py:184: FutureWarning: librosa.core.audio.__audioread_load\n",
      "\tDeprecated as of librosa version 0.10.0.\n",
      "\tIt will be removed in librosa version 1.0.\n",
      "  y, sr_native = __audioread_load(path, offset, duration, dtype)\n",
      "/var/folders/9b/646lmqp56b53pz1fqqr9x5gw0000gn/T/ipykernel_85422/370983470.py:16: UserWarning: PySoundFile failed. Trying audioread instead.\n",
      "  stem_audio, _ = librosa.load(f\"{path}/stems/{stem}.wav\", sr=None)\n",
      "/Users/mariapolak/miniconda3/envs/mlme/lib/python3.11/site-packages/librosa/core/audio.py:184: FutureWarning: librosa.core.audio.__audioread_load\n",
      "\tDeprecated as of librosa version 0.10.0.\n",
      "\tIt will be removed in librosa version 1.0.\n",
      "  y, sr_native = __audioread_load(path, offset, duration, dtype)\n"
     ]
    },
    {
     "name": "stdout",
     "output_type": "stream",
     "text": [
      "Error reading S04\n"
     ]
    },
    {
     "name": "stderr",
     "output_type": "stream",
     "text": [
      "/var/folders/9b/646lmqp56b53pz1fqqr9x5gw0000gn/T/ipykernel_85422/370983470.py:16: UserWarning: PySoundFile failed. Trying audioread instead.\n",
      "  stem_audio, _ = librosa.load(f\"{path}/stems/{stem}.wav\", sr=None)\n",
      "/Users/mariapolak/miniconda3/envs/mlme/lib/python3.11/site-packages/librosa/core/audio.py:184: FutureWarning: librosa.core.audio.__audioread_load\n",
      "\tDeprecated as of librosa version 0.10.0.\n",
      "\tIt will be removed in librosa version 1.0.\n",
      "  y, sr_native = __audioread_load(path, offset, duration, dtype)\n"
     ]
    },
    {
     "name": "stdout",
     "output_type": "stream",
     "text": [
      "Error reading S04\n"
     ]
    },
    {
     "name": "stderr",
     "output_type": "stream",
     "text": [
      "/var/folders/9b/646lmqp56b53pz1fqqr9x5gw0000gn/T/ipykernel_85422/370983470.py:16: UserWarning: PySoundFile failed. Trying audioread instead.\n",
      "  stem_audio, _ = librosa.load(f\"{path}/stems/{stem}.wav\", sr=None)\n",
      "/Users/mariapolak/miniconda3/envs/mlme/lib/python3.11/site-packages/librosa/core/audio.py:184: FutureWarning: librosa.core.audio.__audioread_load\n",
      "\tDeprecated as of librosa version 0.10.0.\n",
      "\tIt will be removed in librosa version 1.0.\n",
      "  y, sr_native = __audioread_load(path, offset, duration, dtype)\n"
     ]
    },
    {
     "name": "stdout",
     "output_type": "stream",
     "text": [
      "Error reading S04\n"
     ]
    },
    {
     "name": "stderr",
     "output_type": "stream",
     "text": [
      "/var/folders/9b/646lmqp56b53pz1fqqr9x5gw0000gn/T/ipykernel_85422/370983470.py:16: UserWarning: PySoundFile failed. Trying audioread instead.\n",
      "  stem_audio, _ = librosa.load(f\"{path}/stems/{stem}.wav\", sr=None)\n",
      "/Users/mariapolak/miniconda3/envs/mlme/lib/python3.11/site-packages/librosa/core/audio.py:184: FutureWarning: librosa.core.audio.__audioread_load\n",
      "\tDeprecated as of librosa version 0.10.0.\n",
      "\tIt will be removed in librosa version 1.0.\n",
      "  y, sr_native = __audioread_load(path, offset, duration, dtype)\n",
      "/var/folders/9b/646lmqp56b53pz1fqqr9x5gw0000gn/T/ipykernel_85422/370983470.py:16: UserWarning: PySoundFile failed. Trying audioread instead.\n",
      "  stem_audio, _ = librosa.load(f\"{path}/stems/{stem}.wav\", sr=None)\n",
      "/Users/mariapolak/miniconda3/envs/mlme/lib/python3.11/site-packages/librosa/core/audio.py:184: FutureWarning: librosa.core.audio.__audioread_load\n",
      "\tDeprecated as of librosa version 0.10.0.\n",
      "\tIt will be removed in librosa version 1.0.\n",
      "  y, sr_native = __audioread_load(path, offset, duration, dtype)\n"
     ]
    },
    {
     "name": "stdout",
     "output_type": "stream",
     "text": [
      "Error reading S04\n",
      "Error reading S04\n"
     ]
    },
    {
     "name": "stderr",
     "output_type": "stream",
     "text": [
      "/var/folders/9b/646lmqp56b53pz1fqqr9x5gw0000gn/T/ipykernel_85422/370983470.py:16: UserWarning: PySoundFile failed. Trying audioread instead.\n",
      "  stem_audio, _ = librosa.load(f\"{path}/stems/{stem}.wav\", sr=None)\n",
      "/Users/mariapolak/miniconda3/envs/mlme/lib/python3.11/site-packages/librosa/core/audio.py:184: FutureWarning: librosa.core.audio.__audioread_load\n",
      "\tDeprecated as of librosa version 0.10.0.\n",
      "\tIt will be removed in librosa version 1.0.\n",
      "  y, sr_native = __audioread_load(path, offset, duration, dtype)\n"
     ]
    },
    {
     "name": "stdout",
     "output_type": "stream",
     "text": [
      "Error reading S04\n"
     ]
    },
    {
     "name": "stderr",
     "output_type": "stream",
     "text": [
      "/var/folders/9b/646lmqp56b53pz1fqqr9x5gw0000gn/T/ipykernel_85422/370983470.py:16: UserWarning: PySoundFile failed. Trying audioread instead.\n",
      "  stem_audio, _ = librosa.load(f\"{path}/stems/{stem}.wav\", sr=None)\n",
      "/Users/mariapolak/miniconda3/envs/mlme/lib/python3.11/site-packages/librosa/core/audio.py:184: FutureWarning: librosa.core.audio.__audioread_load\n",
      "\tDeprecated as of librosa version 0.10.0.\n",
      "\tIt will be removed in librosa version 1.0.\n",
      "  y, sr_native = __audioread_load(path, offset, duration, dtype)\n",
      "/var/folders/9b/646lmqp56b53pz1fqqr9x5gw0000gn/T/ipykernel_85422/370983470.py:16: UserWarning: PySoundFile failed. Trying audioread instead.\n",
      "  stem_audio, _ = librosa.load(f\"{path}/stems/{stem}.wav\", sr=None)\n",
      "/Users/mariapolak/miniconda3/envs/mlme/lib/python3.11/site-packages/librosa/core/audio.py:184: FutureWarning: librosa.core.audio.__audioread_load\n",
      "\tDeprecated as of librosa version 0.10.0.\n",
      "\tIt will be removed in librosa version 1.0.\n",
      "  y, sr_native = __audioread_load(path, offset, duration, dtype)\n"
     ]
    },
    {
     "name": "stdout",
     "output_type": "stream",
     "text": [
      "Error reading S04\n",
      "Error reading S04\n"
     ]
    },
    {
     "name": "stderr",
     "output_type": "stream",
     "text": [
      "/var/folders/9b/646lmqp56b53pz1fqqr9x5gw0000gn/T/ipykernel_85422/370983470.py:16: UserWarning: PySoundFile failed. Trying audioread instead.\n",
      "  stem_audio, _ = librosa.load(f\"{path}/stems/{stem}.wav\", sr=None)\n",
      "/Users/mariapolak/miniconda3/envs/mlme/lib/python3.11/site-packages/librosa/core/audio.py:184: FutureWarning: librosa.core.audio.__audioread_load\n",
      "\tDeprecated as of librosa version 0.10.0.\n",
      "\tIt will be removed in librosa version 1.0.\n",
      "  y, sr_native = __audioread_load(path, offset, duration, dtype)\n",
      "/var/folders/9b/646lmqp56b53pz1fqqr9x5gw0000gn/T/ipykernel_85422/370983470.py:16: UserWarning: PySoundFile failed. Trying audioread instead.\n",
      "  stem_audio, _ = librosa.load(f\"{path}/stems/{stem}.wav\", sr=None)\n",
      "/Users/mariapolak/miniconda3/envs/mlme/lib/python3.11/site-packages/librosa/core/audio.py:184: FutureWarning: librosa.core.audio.__audioread_load\n",
      "\tDeprecated as of librosa version 0.10.0.\n",
      "\tIt will be removed in librosa version 1.0.\n",
      "  y, sr_native = __audioread_load(path, offset, duration, dtype)\n"
     ]
    },
    {
     "name": "stdout",
     "output_type": "stream",
     "text": [
      "Error reading S04\n",
      "Error reading S04\n"
     ]
    },
    {
     "name": "stderr",
     "output_type": "stream",
     "text": [
      "/var/folders/9b/646lmqp56b53pz1fqqr9x5gw0000gn/T/ipykernel_85422/370983470.py:16: UserWarning: PySoundFile failed. Trying audioread instead.\n",
      "  stem_audio, _ = librosa.load(f\"{path}/stems/{stem}.wav\", sr=None)\n",
      "/Users/mariapolak/miniconda3/envs/mlme/lib/python3.11/site-packages/librosa/core/audio.py:184: FutureWarning: librosa.core.audio.__audioread_load\n",
      "\tDeprecated as of librosa version 0.10.0.\n",
      "\tIt will be removed in librosa version 1.0.\n",
      "  y, sr_native = __audioread_load(path, offset, duration, dtype)\n"
     ]
    },
    {
     "name": "stdout",
     "output_type": "stream",
     "text": [
      "Error reading S04\n"
     ]
    },
    {
     "name": "stderr",
     "output_type": "stream",
     "text": [
      "/var/folders/9b/646lmqp56b53pz1fqqr9x5gw0000gn/T/ipykernel_85422/370983470.py:16: UserWarning: PySoundFile failed. Trying audioread instead.\n",
      "  stem_audio, _ = librosa.load(f\"{path}/stems/{stem}.wav\", sr=None)\n",
      "/Users/mariapolak/miniconda3/envs/mlme/lib/python3.11/site-packages/librosa/core/audio.py:184: FutureWarning: librosa.core.audio.__audioread_load\n",
      "\tDeprecated as of librosa version 0.10.0.\n",
      "\tIt will be removed in librosa version 1.0.\n",
      "  y, sr_native = __audioread_load(path, offset, duration, dtype)\n",
      "/var/folders/9b/646lmqp56b53pz1fqqr9x5gw0000gn/T/ipykernel_85422/370983470.py:16: UserWarning: PySoundFile failed. Trying audioread instead.\n",
      "  stem_audio, _ = librosa.load(f\"{path}/stems/{stem}.wav\", sr=None)\n",
      "/Users/mariapolak/miniconda3/envs/mlme/lib/python3.11/site-packages/librosa/core/audio.py:184: FutureWarning: librosa.core.audio.__audioread_load\n",
      "\tDeprecated as of librosa version 0.10.0.\n",
      "\tIt will be removed in librosa version 1.0.\n",
      "  y, sr_native = __audioread_load(path, offset, duration, dtype)\n"
     ]
    },
    {
     "name": "stdout",
     "output_type": "stream",
     "text": [
      "Error reading S04\n",
      "Error reading S04\n"
     ]
    },
    {
     "name": "stderr",
     "output_type": "stream",
     "text": [
      "/var/folders/9b/646lmqp56b53pz1fqqr9x5gw0000gn/T/ipykernel_85422/370983470.py:16: UserWarning: PySoundFile failed. Trying audioread instead.\n",
      "  stem_audio, _ = librosa.load(f\"{path}/stems/{stem}.wav\", sr=None)\n",
      "/Users/mariapolak/miniconda3/envs/mlme/lib/python3.11/site-packages/librosa/core/audio.py:184: FutureWarning: librosa.core.audio.__audioread_load\n",
      "\tDeprecated as of librosa version 0.10.0.\n",
      "\tIt will be removed in librosa version 1.0.\n",
      "  y, sr_native = __audioread_load(path, offset, duration, dtype)\n"
     ]
    },
    {
     "name": "stdout",
     "output_type": "stream",
     "text": [
      "Error reading S04\n"
     ]
    },
    {
     "name": "stderr",
     "output_type": "stream",
     "text": [
      "/var/folders/9b/646lmqp56b53pz1fqqr9x5gw0000gn/T/ipykernel_85422/370983470.py:16: UserWarning: PySoundFile failed. Trying audioread instead.\n",
      "  stem_audio, _ = librosa.load(f\"{path}/stems/{stem}.wav\", sr=None)\n",
      "/Users/mariapolak/miniconda3/envs/mlme/lib/python3.11/site-packages/librosa/core/audio.py:184: FutureWarning: librosa.core.audio.__audioread_load\n",
      "\tDeprecated as of librosa version 0.10.0.\n",
      "\tIt will be removed in librosa version 1.0.\n",
      "  y, sr_native = __audioread_load(path, offset, duration, dtype)\n",
      "/var/folders/9b/646lmqp56b53pz1fqqr9x5gw0000gn/T/ipykernel_85422/370983470.py:16: UserWarning: PySoundFile failed. Trying audioread instead.\n",
      "  stem_audio, _ = librosa.load(f\"{path}/stems/{stem}.wav\", sr=None)\n",
      "/Users/mariapolak/miniconda3/envs/mlme/lib/python3.11/site-packages/librosa/core/audio.py:184: FutureWarning: librosa.core.audio.__audioread_load\n",
      "\tDeprecated as of librosa version 0.10.0.\n",
      "\tIt will be removed in librosa version 1.0.\n",
      "  y, sr_native = __audioread_load(path, offset, duration, dtype)\n"
     ]
    },
    {
     "name": "stdout",
     "output_type": "stream",
     "text": [
      "Error reading S04\n",
      "Error reading S04\n"
     ]
    },
    {
     "name": "stderr",
     "output_type": "stream",
     "text": [
      "/var/folders/9b/646lmqp56b53pz1fqqr9x5gw0000gn/T/ipykernel_85422/370983470.py:16: UserWarning: PySoundFile failed. Trying audioread instead.\n",
      "  stem_audio, _ = librosa.load(f\"{path}/stems/{stem}.wav\", sr=None)\n",
      "/Users/mariapolak/miniconda3/envs/mlme/lib/python3.11/site-packages/librosa/core/audio.py:184: FutureWarning: librosa.core.audio.__audioread_load\n",
      "\tDeprecated as of librosa version 0.10.0.\n",
      "\tIt will be removed in librosa version 1.0.\n",
      "  y, sr_native = __audioread_load(path, offset, duration, dtype)\n",
      "/var/folders/9b/646lmqp56b53pz1fqqr9x5gw0000gn/T/ipykernel_85422/370983470.py:16: UserWarning: PySoundFile failed. Trying audioread instead.\n",
      "  stem_audio, _ = librosa.load(f\"{path}/stems/{stem}.wav\", sr=None)\n",
      "/Users/mariapolak/miniconda3/envs/mlme/lib/python3.11/site-packages/librosa/core/audio.py:184: FutureWarning: librosa.core.audio.__audioread_load\n",
      "\tDeprecated as of librosa version 0.10.0.\n",
      "\tIt will be removed in librosa version 1.0.\n",
      "  y, sr_native = __audioread_load(path, offset, duration, dtype)\n"
     ]
    },
    {
     "name": "stdout",
     "output_type": "stream",
     "text": [
      "Error reading S04\n",
      "Error reading S04\n"
     ]
    },
    {
     "name": "stderr",
     "output_type": "stream",
     "text": [
      "/var/folders/9b/646lmqp56b53pz1fqqr9x5gw0000gn/T/ipykernel_85422/370983470.py:16: UserWarning: PySoundFile failed. Trying audioread instead.\n",
      "  stem_audio, _ = librosa.load(f\"{path}/stems/{stem}.wav\", sr=None)\n",
      "/Users/mariapolak/miniconda3/envs/mlme/lib/python3.11/site-packages/librosa/core/audio.py:184: FutureWarning: librosa.core.audio.__audioread_load\n",
      "\tDeprecated as of librosa version 0.10.0.\n",
      "\tIt will be removed in librosa version 1.0.\n",
      "  y, sr_native = __audioread_load(path, offset, duration, dtype)\n",
      "/var/folders/9b/646lmqp56b53pz1fqqr9x5gw0000gn/T/ipykernel_85422/370983470.py:16: UserWarning: PySoundFile failed. Trying audioread instead.\n",
      "  stem_audio, _ = librosa.load(f\"{path}/stems/{stem}.wav\", sr=None)\n",
      "/Users/mariapolak/miniconda3/envs/mlme/lib/python3.11/site-packages/librosa/core/audio.py:184: FutureWarning: librosa.core.audio.__audioread_load\n",
      "\tDeprecated as of librosa version 0.10.0.\n",
      "\tIt will be removed in librosa version 1.0.\n",
      "  y, sr_native = __audioread_load(path, offset, duration, dtype)\n"
     ]
    },
    {
     "name": "stdout",
     "output_type": "stream",
     "text": [
      "Error reading S04\n",
      "Error reading S04\n"
     ]
    },
    {
     "name": "stderr",
     "output_type": "stream",
     "text": [
      "/var/folders/9b/646lmqp56b53pz1fqqr9x5gw0000gn/T/ipykernel_85422/370983470.py:16: UserWarning: PySoundFile failed. Trying audioread instead.\n",
      "  stem_audio, _ = librosa.load(f\"{path}/stems/{stem}.wav\", sr=None)\n",
      "/Users/mariapolak/miniconda3/envs/mlme/lib/python3.11/site-packages/librosa/core/audio.py:184: FutureWarning: librosa.core.audio.__audioread_load\n",
      "\tDeprecated as of librosa version 0.10.0.\n",
      "\tIt will be removed in librosa version 1.0.\n",
      "  y, sr_native = __audioread_load(path, offset, duration, dtype)\n",
      "/var/folders/9b/646lmqp56b53pz1fqqr9x5gw0000gn/T/ipykernel_85422/370983470.py:16: UserWarning: PySoundFile failed. Trying audioread instead.\n",
      "  stem_audio, _ = librosa.load(f\"{path}/stems/{stem}.wav\", sr=None)\n",
      "/Users/mariapolak/miniconda3/envs/mlme/lib/python3.11/site-packages/librosa/core/audio.py:184: FutureWarning: librosa.core.audio.__audioread_load\n",
      "\tDeprecated as of librosa version 0.10.0.\n",
      "\tIt will be removed in librosa version 1.0.\n",
      "  y, sr_native = __audioread_load(path, offset, duration, dtype)\n"
     ]
    },
    {
     "name": "stdout",
     "output_type": "stream",
     "text": [
      "Error reading S04\n",
      "Error reading S04\n"
     ]
    },
    {
     "name": "stderr",
     "output_type": "stream",
     "text": [
      "/var/folders/9b/646lmqp56b53pz1fqqr9x5gw0000gn/T/ipykernel_85422/370983470.py:16: UserWarning: PySoundFile failed. Trying audioread instead.\n",
      "  stem_audio, _ = librosa.load(f\"{path}/stems/{stem}.wav\", sr=None)\n",
      "/Users/mariapolak/miniconda3/envs/mlme/lib/python3.11/site-packages/librosa/core/audio.py:184: FutureWarning: librosa.core.audio.__audioread_load\n",
      "\tDeprecated as of librosa version 0.10.0.\n",
      "\tIt will be removed in librosa version 1.0.\n",
      "  y, sr_native = __audioread_load(path, offset, duration, dtype)\n",
      "/var/folders/9b/646lmqp56b53pz1fqqr9x5gw0000gn/T/ipykernel_85422/370983470.py:16: UserWarning: PySoundFile failed. Trying audioread instead.\n",
      "  stem_audio, _ = librosa.load(f\"{path}/stems/{stem}.wav\", sr=None)\n",
      "/Users/mariapolak/miniconda3/envs/mlme/lib/python3.11/site-packages/librosa/core/audio.py:184: FutureWarning: librosa.core.audio.__audioread_load\n",
      "\tDeprecated as of librosa version 0.10.0.\n",
      "\tIt will be removed in librosa version 1.0.\n",
      "  y, sr_native = __audioread_load(path, offset, duration, dtype)\n"
     ]
    },
    {
     "name": "stdout",
     "output_type": "stream",
     "text": [
      "Error reading S04\n",
      "Error reading S04\n"
     ]
    },
    {
     "name": "stderr",
     "output_type": "stream",
     "text": [
      "/var/folders/9b/646lmqp56b53pz1fqqr9x5gw0000gn/T/ipykernel_85422/370983470.py:16: UserWarning: PySoundFile failed. Trying audioread instead.\n",
      "  stem_audio, _ = librosa.load(f\"{path}/stems/{stem}.wav\", sr=None)\n",
      "/Users/mariapolak/miniconda3/envs/mlme/lib/python3.11/site-packages/librosa/core/audio.py:184: FutureWarning: librosa.core.audio.__audioread_load\n",
      "\tDeprecated as of librosa version 0.10.0.\n",
      "\tIt will be removed in librosa version 1.0.\n",
      "  y, sr_native = __audioread_load(path, offset, duration, dtype)\n",
      "/var/folders/9b/646lmqp56b53pz1fqqr9x5gw0000gn/T/ipykernel_85422/370983470.py:16: UserWarning: PySoundFile failed. Trying audioread instead.\n",
      "  stem_audio, _ = librosa.load(f\"{path}/stems/{stem}.wav\", sr=None)\n",
      "/Users/mariapolak/miniconda3/envs/mlme/lib/python3.11/site-packages/librosa/core/audio.py:184: FutureWarning: librosa.core.audio.__audioread_load\n",
      "\tDeprecated as of librosa version 0.10.0.\n",
      "\tIt will be removed in librosa version 1.0.\n",
      "  y, sr_native = __audioread_load(path, offset, duration, dtype)\n"
     ]
    },
    {
     "name": "stdout",
     "output_type": "stream",
     "text": [
      "Error reading S04\n",
      "Error reading S04\n"
     ]
    },
    {
     "name": "stderr",
     "output_type": "stream",
     "text": [
      "/var/folders/9b/646lmqp56b53pz1fqqr9x5gw0000gn/T/ipykernel_85422/370983470.py:16: UserWarning: PySoundFile failed. Trying audioread instead.\n",
      "  stem_audio, _ = librosa.load(f\"{path}/stems/{stem}.wav\", sr=None)\n",
      "/Users/mariapolak/miniconda3/envs/mlme/lib/python3.11/site-packages/librosa/core/audio.py:184: FutureWarning: librosa.core.audio.__audioread_load\n",
      "\tDeprecated as of librosa version 0.10.0.\n",
      "\tIt will be removed in librosa version 1.0.\n",
      "  y, sr_native = __audioread_load(path, offset, duration, dtype)\n",
      "/var/folders/9b/646lmqp56b53pz1fqqr9x5gw0000gn/T/ipykernel_85422/370983470.py:16: UserWarning: PySoundFile failed. Trying audioread instead.\n",
      "  stem_audio, _ = librosa.load(f\"{path}/stems/{stem}.wav\", sr=None)\n",
      "/Users/mariapolak/miniconda3/envs/mlme/lib/python3.11/site-packages/librosa/core/audio.py:184: FutureWarning: librosa.core.audio.__audioread_load\n",
      "\tDeprecated as of librosa version 0.10.0.\n",
      "\tIt will be removed in librosa version 1.0.\n",
      "  y, sr_native = __audioread_load(path, offset, duration, dtype)\n"
     ]
    },
    {
     "name": "stdout",
     "output_type": "stream",
     "text": [
      "Error reading S04\n",
      "Error reading S04\n"
     ]
    },
    {
     "name": "stderr",
     "output_type": "stream",
     "text": [
      "/var/folders/9b/646lmqp56b53pz1fqqr9x5gw0000gn/T/ipykernel_85422/370983470.py:16: UserWarning: PySoundFile failed. Trying audioread instead.\n",
      "  stem_audio, _ = librosa.load(f\"{path}/stems/{stem}.wav\", sr=None)\n",
      "/Users/mariapolak/miniconda3/envs/mlme/lib/python3.11/site-packages/librosa/core/audio.py:184: FutureWarning: librosa.core.audio.__audioread_load\n",
      "\tDeprecated as of librosa version 0.10.0.\n",
      "\tIt will be removed in librosa version 1.0.\n",
      "  y, sr_native = __audioread_load(path, offset, duration, dtype)\n"
     ]
    },
    {
     "name": "stdout",
     "output_type": "stream",
     "text": [
      "Error reading S04\n"
     ]
    },
    {
     "name": "stderr",
     "output_type": "stream",
     "text": [
      "/var/folders/9b/646lmqp56b53pz1fqqr9x5gw0000gn/T/ipykernel_85422/370983470.py:16: UserWarning: PySoundFile failed. Trying audioread instead.\n",
      "  stem_audio, _ = librosa.load(f\"{path}/stems/{stem}.wav\", sr=None)\n",
      "/Users/mariapolak/miniconda3/envs/mlme/lib/python3.11/site-packages/librosa/core/audio.py:184: FutureWarning: librosa.core.audio.__audioread_load\n",
      "\tDeprecated as of librosa version 0.10.0.\n",
      "\tIt will be removed in librosa version 1.0.\n",
      "  y, sr_native = __audioread_load(path, offset, duration, dtype)\n",
      "/var/folders/9b/646lmqp56b53pz1fqqr9x5gw0000gn/T/ipykernel_85422/370983470.py:16: UserWarning: PySoundFile failed. Trying audioread instead.\n",
      "  stem_audio, _ = librosa.load(f\"{path}/stems/{stem}.wav\", sr=None)\n",
      "/Users/mariapolak/miniconda3/envs/mlme/lib/python3.11/site-packages/librosa/core/audio.py:184: FutureWarning: librosa.core.audio.__audioread_load\n",
      "\tDeprecated as of librosa version 0.10.0.\n",
      "\tIt will be removed in librosa version 1.0.\n",
      "  y, sr_native = __audioread_load(path, offset, duration, dtype)\n"
     ]
    },
    {
     "name": "stdout",
     "output_type": "stream",
     "text": [
      "Error reading S04\n",
      "Error reading S04\n"
     ]
    },
    {
     "name": "stderr",
     "output_type": "stream",
     "text": [
      "/var/folders/9b/646lmqp56b53pz1fqqr9x5gw0000gn/T/ipykernel_85422/370983470.py:16: UserWarning: PySoundFile failed. Trying audioread instead.\n",
      "  stem_audio, _ = librosa.load(f\"{path}/stems/{stem}.wav\", sr=None)\n",
      "/Users/mariapolak/miniconda3/envs/mlme/lib/python3.11/site-packages/librosa/core/audio.py:184: FutureWarning: librosa.core.audio.__audioread_load\n",
      "\tDeprecated as of librosa version 0.10.0.\n",
      "\tIt will be removed in librosa version 1.0.\n",
      "  y, sr_native = __audioread_load(path, offset, duration, dtype)\n",
      "/var/folders/9b/646lmqp56b53pz1fqqr9x5gw0000gn/T/ipykernel_85422/370983470.py:16: UserWarning: PySoundFile failed. Trying audioread instead.\n",
      "  stem_audio, _ = librosa.load(f\"{path}/stems/{stem}.wav\", sr=None)\n",
      "/Users/mariapolak/miniconda3/envs/mlme/lib/python3.11/site-packages/librosa/core/audio.py:184: FutureWarning: librosa.core.audio.__audioread_load\n",
      "\tDeprecated as of librosa version 0.10.0.\n",
      "\tIt will be removed in librosa version 1.0.\n",
      "  y, sr_native = __audioread_load(path, offset, duration, dtype)\n"
     ]
    },
    {
     "name": "stdout",
     "output_type": "stream",
     "text": [
      "Error reading S04\n",
      "Error reading S04\n"
     ]
    },
    {
     "name": "stderr",
     "output_type": "stream",
     "text": [
      "/var/folders/9b/646lmqp56b53pz1fqqr9x5gw0000gn/T/ipykernel_85422/370983470.py:16: UserWarning: PySoundFile failed. Trying audioread instead.\n",
      "  stem_audio, _ = librosa.load(f\"{path}/stems/{stem}.wav\", sr=None)\n",
      "/Users/mariapolak/miniconda3/envs/mlme/lib/python3.11/site-packages/librosa/core/audio.py:184: FutureWarning: librosa.core.audio.__audioread_load\n",
      "\tDeprecated as of librosa version 0.10.0.\n",
      "\tIt will be removed in librosa version 1.0.\n",
      "  y, sr_native = __audioread_load(path, offset, duration, dtype)\n",
      "/var/folders/9b/646lmqp56b53pz1fqqr9x5gw0000gn/T/ipykernel_85422/370983470.py:16: UserWarning: PySoundFile failed. Trying audioread instead.\n",
      "  stem_audio, _ = librosa.load(f\"{path}/stems/{stem}.wav\", sr=None)\n",
      "/Users/mariapolak/miniconda3/envs/mlme/lib/python3.11/site-packages/librosa/core/audio.py:184: FutureWarning: librosa.core.audio.__audioread_load\n",
      "\tDeprecated as of librosa version 0.10.0.\n",
      "\tIt will be removed in librosa version 1.0.\n",
      "  y, sr_native = __audioread_load(path, offset, duration, dtype)\n"
     ]
    },
    {
     "name": "stdout",
     "output_type": "stream",
     "text": [
      "Error reading S04\n",
      "Error reading S04\n"
     ]
    },
    {
     "name": "stderr",
     "output_type": "stream",
     "text": [
      "/var/folders/9b/646lmqp56b53pz1fqqr9x5gw0000gn/T/ipykernel_85422/370983470.py:16: UserWarning: PySoundFile failed. Trying audioread instead.\n",
      "  stem_audio, _ = librosa.load(f\"{path}/stems/{stem}.wav\", sr=None)\n",
      "/Users/mariapolak/miniconda3/envs/mlme/lib/python3.11/site-packages/librosa/core/audio.py:184: FutureWarning: librosa.core.audio.__audioread_load\n",
      "\tDeprecated as of librosa version 0.10.0.\n",
      "\tIt will be removed in librosa version 1.0.\n",
      "  y, sr_native = __audioread_load(path, offset, duration, dtype)\n"
     ]
    },
    {
     "name": "stdout",
     "output_type": "stream",
     "text": [
      "Error reading S04\n"
     ]
    },
    {
     "name": "stderr",
     "output_type": "stream",
     "text": [
      "/var/folders/9b/646lmqp56b53pz1fqqr9x5gw0000gn/T/ipykernel_85422/370983470.py:16: UserWarning: PySoundFile failed. Trying audioread instead.\n",
      "  stem_audio, _ = librosa.load(f\"{path}/stems/{stem}.wav\", sr=None)\n",
      "/Users/mariapolak/miniconda3/envs/mlme/lib/python3.11/site-packages/librosa/core/audio.py:184: FutureWarning: librosa.core.audio.__audioread_load\n",
      "\tDeprecated as of librosa version 0.10.0.\n",
      "\tIt will be removed in librosa version 1.0.\n",
      "  y, sr_native = __audioread_load(path, offset, duration, dtype)\n"
     ]
    },
    {
     "name": "stdout",
     "output_type": "stream",
     "text": [
      "Error reading S04\n"
     ]
    },
    {
     "name": "stderr",
     "output_type": "stream",
     "text": [
      "/var/folders/9b/646lmqp56b53pz1fqqr9x5gw0000gn/T/ipykernel_85422/370983470.py:16: UserWarning: PySoundFile failed. Trying audioread instead.\n",
      "  stem_audio, _ = librosa.load(f\"{path}/stems/{stem}.wav\", sr=None)\n",
      "/Users/mariapolak/miniconda3/envs/mlme/lib/python3.11/site-packages/librosa/core/audio.py:184: FutureWarning: librosa.core.audio.__audioread_load\n",
      "\tDeprecated as of librosa version 0.10.0.\n",
      "\tIt will be removed in librosa version 1.0.\n",
      "  y, sr_native = __audioread_load(path, offset, duration, dtype)\n"
     ]
    },
    {
     "name": "stdout",
     "output_type": "stream",
     "text": [
      "Error reading S04\n"
     ]
    },
    {
     "name": "stderr",
     "output_type": "stream",
     "text": [
      "/var/folders/9b/646lmqp56b53pz1fqqr9x5gw0000gn/T/ipykernel_85422/370983470.py:16: UserWarning: PySoundFile failed. Trying audioread instead.\n",
      "  stem_audio, _ = librosa.load(f\"{path}/stems/{stem}.wav\", sr=None)\n",
      "/Users/mariapolak/miniconda3/envs/mlme/lib/python3.11/site-packages/librosa/core/audio.py:184: FutureWarning: librosa.core.audio.__audioread_load\n",
      "\tDeprecated as of librosa version 0.10.0.\n",
      "\tIt will be removed in librosa version 1.0.\n",
      "  y, sr_native = __audioread_load(path, offset, duration, dtype)\n",
      "/var/folders/9b/646lmqp56b53pz1fqqr9x5gw0000gn/T/ipykernel_85422/370983470.py:16: UserWarning: PySoundFile failed. Trying audioread instead.\n",
      "  stem_audio, _ = librosa.load(f\"{path}/stems/{stem}.wav\", sr=None)\n",
      "/Users/mariapolak/miniconda3/envs/mlme/lib/python3.11/site-packages/librosa/core/audio.py:184: FutureWarning: librosa.core.audio.__audioread_load\n",
      "\tDeprecated as of librosa version 0.10.0.\n",
      "\tIt will be removed in librosa version 1.0.\n",
      "  y, sr_native = __audioread_load(path, offset, duration, dtype)\n"
     ]
    },
    {
     "name": "stdout",
     "output_type": "stream",
     "text": [
      "Error reading S04\n",
      "Error reading S04\n"
     ]
    },
    {
     "name": "stderr",
     "output_type": "stream",
     "text": [
      "/var/folders/9b/646lmqp56b53pz1fqqr9x5gw0000gn/T/ipykernel_85422/370983470.py:16: UserWarning: PySoundFile failed. Trying audioread instead.\n",
      "  stem_audio, _ = librosa.load(f\"{path}/stems/{stem}.wav\", sr=None)\n",
      "/Users/mariapolak/miniconda3/envs/mlme/lib/python3.11/site-packages/librosa/core/audio.py:184: FutureWarning: librosa.core.audio.__audioread_load\n",
      "\tDeprecated as of librosa version 0.10.0.\n",
      "\tIt will be removed in librosa version 1.0.\n",
      "  y, sr_native = __audioread_load(path, offset, duration, dtype)\n",
      "/var/folders/9b/646lmqp56b53pz1fqqr9x5gw0000gn/T/ipykernel_85422/370983470.py:16: UserWarning: PySoundFile failed. Trying audioread instead.\n",
      "  stem_audio, _ = librosa.load(f\"{path}/stems/{stem}.wav\", sr=None)\n",
      "/Users/mariapolak/miniconda3/envs/mlme/lib/python3.11/site-packages/librosa/core/audio.py:184: FutureWarning: librosa.core.audio.__audioread_load\n",
      "\tDeprecated as of librosa version 0.10.0.\n",
      "\tIt will be removed in librosa version 1.0.\n",
      "  y, sr_native = __audioread_load(path, offset, duration, dtype)\n"
     ]
    },
    {
     "name": "stdout",
     "output_type": "stream",
     "text": [
      "Error reading S04\n",
      "Error reading S04\n"
     ]
    },
    {
     "name": "stderr",
     "output_type": "stream",
     "text": [
      "/var/folders/9b/646lmqp56b53pz1fqqr9x5gw0000gn/T/ipykernel_85422/370983470.py:16: UserWarning: PySoundFile failed. Trying audioread instead.\n",
      "  stem_audio, _ = librosa.load(f\"{path}/stems/{stem}.wav\", sr=None)\n",
      "/Users/mariapolak/miniconda3/envs/mlme/lib/python3.11/site-packages/librosa/core/audio.py:184: FutureWarning: librosa.core.audio.__audioread_load\n",
      "\tDeprecated as of librosa version 0.10.0.\n",
      "\tIt will be removed in librosa version 1.0.\n",
      "  y, sr_native = __audioread_load(path, offset, duration, dtype)\n"
     ]
    },
    {
     "name": "stdout",
     "output_type": "stream",
     "text": [
      "Error reading S04\n"
     ]
    },
    {
     "name": "stderr",
     "output_type": "stream",
     "text": [
      "/var/folders/9b/646lmqp56b53pz1fqqr9x5gw0000gn/T/ipykernel_85422/370983470.py:16: UserWarning: PySoundFile failed. Trying audioread instead.\n",
      "  stem_audio, _ = librosa.load(f\"{path}/stems/{stem}.wav\", sr=None)\n",
      "/Users/mariapolak/miniconda3/envs/mlme/lib/python3.11/site-packages/librosa/core/audio.py:184: FutureWarning: librosa.core.audio.__audioread_load\n",
      "\tDeprecated as of librosa version 0.10.0.\n",
      "\tIt will be removed in librosa version 1.0.\n",
      "  y, sr_native = __audioread_load(path, offset, duration, dtype)\n",
      "/var/folders/9b/646lmqp56b53pz1fqqr9x5gw0000gn/T/ipykernel_85422/370983470.py:16: UserWarning: PySoundFile failed. Trying audioread instead.\n",
      "  stem_audio, _ = librosa.load(f\"{path}/stems/{stem}.wav\", sr=None)\n",
      "/Users/mariapolak/miniconda3/envs/mlme/lib/python3.11/site-packages/librosa/core/audio.py:184: FutureWarning: librosa.core.audio.__audioread_load\n",
      "\tDeprecated as of librosa version 0.10.0.\n",
      "\tIt will be removed in librosa version 1.0.\n",
      "  y, sr_native = __audioread_load(path, offset, duration, dtype)\n"
     ]
    },
    {
     "name": "stdout",
     "output_type": "stream",
     "text": [
      "Error reading S04\n",
      "Error reading S04\n"
     ]
    },
    {
     "name": "stderr",
     "output_type": "stream",
     "text": [
      "/var/folders/9b/646lmqp56b53pz1fqqr9x5gw0000gn/T/ipykernel_85422/370983470.py:16: UserWarning: PySoundFile failed. Trying audioread instead.\n",
      "  stem_audio, _ = librosa.load(f\"{path}/stems/{stem}.wav\", sr=None)\n",
      "/Users/mariapolak/miniconda3/envs/mlme/lib/python3.11/site-packages/librosa/core/audio.py:184: FutureWarning: librosa.core.audio.__audioread_load\n",
      "\tDeprecated as of librosa version 0.10.0.\n",
      "\tIt will be removed in librosa version 1.0.\n",
      "  y, sr_native = __audioread_load(path, offset, duration, dtype)\n",
      "/var/folders/9b/646lmqp56b53pz1fqqr9x5gw0000gn/T/ipykernel_85422/370983470.py:16: UserWarning: PySoundFile failed. Trying audioread instead.\n",
      "  stem_audio, _ = librosa.load(f\"{path}/stems/{stem}.wav\", sr=None)\n",
      "/Users/mariapolak/miniconda3/envs/mlme/lib/python3.11/site-packages/librosa/core/audio.py:184: FutureWarning: librosa.core.audio.__audioread_load\n",
      "\tDeprecated as of librosa version 0.10.0.\n",
      "\tIt will be removed in librosa version 1.0.\n",
      "  y, sr_native = __audioread_load(path, offset, duration, dtype)\n"
     ]
    },
    {
     "name": "stdout",
     "output_type": "stream",
     "text": [
      "Error reading S04\n",
      "Error reading S04\n"
     ]
    },
    {
     "name": "stderr",
     "output_type": "stream",
     "text": [
      "/var/folders/9b/646lmqp56b53pz1fqqr9x5gw0000gn/T/ipykernel_85422/370983470.py:16: UserWarning: PySoundFile failed. Trying audioread instead.\n",
      "  stem_audio, _ = librosa.load(f\"{path}/stems/{stem}.wav\", sr=None)\n",
      "/Users/mariapolak/miniconda3/envs/mlme/lib/python3.11/site-packages/librosa/core/audio.py:184: FutureWarning: librosa.core.audio.__audioread_load\n",
      "\tDeprecated as of librosa version 0.10.0.\n",
      "\tIt will be removed in librosa version 1.0.\n",
      "  y, sr_native = __audioread_load(path, offset, duration, dtype)\n",
      "/var/folders/9b/646lmqp56b53pz1fqqr9x5gw0000gn/T/ipykernel_85422/370983470.py:16: UserWarning: PySoundFile failed. Trying audioread instead.\n",
      "  stem_audio, _ = librosa.load(f\"{path}/stems/{stem}.wav\", sr=None)\n",
      "/Users/mariapolak/miniconda3/envs/mlme/lib/python3.11/site-packages/librosa/core/audio.py:184: FutureWarning: librosa.core.audio.__audioread_load\n",
      "\tDeprecated as of librosa version 0.10.0.\n",
      "\tIt will be removed in librosa version 1.0.\n",
      "  y, sr_native = __audioread_load(path, offset, duration, dtype)\n"
     ]
    },
    {
     "name": "stdout",
     "output_type": "stream",
     "text": [
      "Error reading S04\n",
      "Error reading S04\n"
     ]
    },
    {
     "name": "stderr",
     "output_type": "stream",
     "text": [
      "/var/folders/9b/646lmqp56b53pz1fqqr9x5gw0000gn/T/ipykernel_85422/370983470.py:16: UserWarning: PySoundFile failed. Trying audioread instead.\n",
      "  stem_audio, _ = librosa.load(f\"{path}/stems/{stem}.wav\", sr=None)\n",
      "/Users/mariapolak/miniconda3/envs/mlme/lib/python3.11/site-packages/librosa/core/audio.py:184: FutureWarning: librosa.core.audio.__audioread_load\n",
      "\tDeprecated as of librosa version 0.10.0.\n",
      "\tIt will be removed in librosa version 1.0.\n",
      "  y, sr_native = __audioread_load(path, offset, duration, dtype)\n",
      "/var/folders/9b/646lmqp56b53pz1fqqr9x5gw0000gn/T/ipykernel_85422/370983470.py:16: UserWarning: PySoundFile failed. Trying audioread instead.\n",
      "  stem_audio, _ = librosa.load(f\"{path}/stems/{stem}.wav\", sr=None)\n",
      "/Users/mariapolak/miniconda3/envs/mlme/lib/python3.11/site-packages/librosa/core/audio.py:184: FutureWarning: librosa.core.audio.__audioread_load\n",
      "\tDeprecated as of librosa version 0.10.0.\n",
      "\tIt will be removed in librosa version 1.0.\n",
      "  y, sr_native = __audioread_load(path, offset, duration, dtype)\n"
     ]
    },
    {
     "name": "stdout",
     "output_type": "stream",
     "text": [
      "Error reading S04\n",
      "Error reading S04\n"
     ]
    },
    {
     "name": "stderr",
     "output_type": "stream",
     "text": [
      "/var/folders/9b/646lmqp56b53pz1fqqr9x5gw0000gn/T/ipykernel_85422/370983470.py:16: UserWarning: PySoundFile failed. Trying audioread instead.\n",
      "  stem_audio, _ = librosa.load(f\"{path}/stems/{stem}.wav\", sr=None)\n",
      "/Users/mariapolak/miniconda3/envs/mlme/lib/python3.11/site-packages/librosa/core/audio.py:184: FutureWarning: librosa.core.audio.__audioread_load\n",
      "\tDeprecated as of librosa version 0.10.0.\n",
      "\tIt will be removed in librosa version 1.0.\n",
      "  y, sr_native = __audioread_load(path, offset, duration, dtype)\n",
      "/var/folders/9b/646lmqp56b53pz1fqqr9x5gw0000gn/T/ipykernel_85422/370983470.py:16: UserWarning: PySoundFile failed. Trying audioread instead.\n",
      "  stem_audio, _ = librosa.load(f\"{path}/stems/{stem}.wav\", sr=None)\n",
      "/Users/mariapolak/miniconda3/envs/mlme/lib/python3.11/site-packages/librosa/core/audio.py:184: FutureWarning: librosa.core.audio.__audioread_load\n",
      "\tDeprecated as of librosa version 0.10.0.\n",
      "\tIt will be removed in librosa version 1.0.\n",
      "  y, sr_native = __audioread_load(path, offset, duration, dtype)\n"
     ]
    },
    {
     "name": "stdout",
     "output_type": "stream",
     "text": [
      "Error reading S04\n",
      "Error reading S04\n"
     ]
    },
    {
     "name": "stderr",
     "output_type": "stream",
     "text": [
      "/var/folders/9b/646lmqp56b53pz1fqqr9x5gw0000gn/T/ipykernel_85422/370983470.py:16: UserWarning: PySoundFile failed. Trying audioread instead.\n",
      "  stem_audio, _ = librosa.load(f\"{path}/stems/{stem}.wav\", sr=None)\n",
      "/Users/mariapolak/miniconda3/envs/mlme/lib/python3.11/site-packages/librosa/core/audio.py:184: FutureWarning: librosa.core.audio.__audioread_load\n",
      "\tDeprecated as of librosa version 0.10.0.\n",
      "\tIt will be removed in librosa version 1.0.\n",
      "  y, sr_native = __audioread_load(path, offset, duration, dtype)\n",
      "/var/folders/9b/646lmqp56b53pz1fqqr9x5gw0000gn/T/ipykernel_85422/370983470.py:16: UserWarning: PySoundFile failed. Trying audioread instead.\n",
      "  stem_audio, _ = librosa.load(f\"{path}/stems/{stem}.wav\", sr=None)\n",
      "/Users/mariapolak/miniconda3/envs/mlme/lib/python3.11/site-packages/librosa/core/audio.py:184: FutureWarning: librosa.core.audio.__audioread_load\n",
      "\tDeprecated as of librosa version 0.10.0.\n",
      "\tIt will be removed in librosa version 1.0.\n",
      "  y, sr_native = __audioread_load(path, offset, duration, dtype)\n"
     ]
    },
    {
     "name": "stdout",
     "output_type": "stream",
     "text": [
      "Error reading S04\n",
      "Error reading S04\n"
     ]
    },
    {
     "name": "stderr",
     "output_type": "stream",
     "text": [
      "/var/folders/9b/646lmqp56b53pz1fqqr9x5gw0000gn/T/ipykernel_85422/370983470.py:16: UserWarning: PySoundFile failed. Trying audioread instead.\n",
      "  stem_audio, _ = librosa.load(f\"{path}/stems/{stem}.wav\", sr=None)\n",
      "/Users/mariapolak/miniconda3/envs/mlme/lib/python3.11/site-packages/librosa/core/audio.py:184: FutureWarning: librosa.core.audio.__audioread_load\n",
      "\tDeprecated as of librosa version 0.10.0.\n",
      "\tIt will be removed in librosa version 1.0.\n",
      "  y, sr_native = __audioread_load(path, offset, duration, dtype)\n",
      "/var/folders/9b/646lmqp56b53pz1fqqr9x5gw0000gn/T/ipykernel_85422/370983470.py:16: UserWarning: PySoundFile failed. Trying audioread instead.\n",
      "  stem_audio, _ = librosa.load(f\"{path}/stems/{stem}.wav\", sr=None)\n",
      "/Users/mariapolak/miniconda3/envs/mlme/lib/python3.11/site-packages/librosa/core/audio.py:184: FutureWarning: librosa.core.audio.__audioread_load\n",
      "\tDeprecated as of librosa version 0.10.0.\n",
      "\tIt will be removed in librosa version 1.0.\n",
      "  y, sr_native = __audioread_load(path, offset, duration, dtype)\n"
     ]
    },
    {
     "name": "stdout",
     "output_type": "stream",
     "text": [
      "Error reading S04\n",
      "Error reading S04\n"
     ]
    },
    {
     "name": "stderr",
     "output_type": "stream",
     "text": [
      "/var/folders/9b/646lmqp56b53pz1fqqr9x5gw0000gn/T/ipykernel_85422/370983470.py:16: UserWarning: PySoundFile failed. Trying audioread instead.\n",
      "  stem_audio, _ = librosa.load(f\"{path}/stems/{stem}.wav\", sr=None)\n",
      "/Users/mariapolak/miniconda3/envs/mlme/lib/python3.11/site-packages/librosa/core/audio.py:184: FutureWarning: librosa.core.audio.__audioread_load\n",
      "\tDeprecated as of librosa version 0.10.0.\n",
      "\tIt will be removed in librosa version 1.0.\n",
      "  y, sr_native = __audioread_load(path, offset, duration, dtype)\n",
      "/var/folders/9b/646lmqp56b53pz1fqqr9x5gw0000gn/T/ipykernel_85422/370983470.py:16: UserWarning: PySoundFile failed. Trying audioread instead.\n",
      "  stem_audio, _ = librosa.load(f\"{path}/stems/{stem}.wav\", sr=None)\n",
      "/Users/mariapolak/miniconda3/envs/mlme/lib/python3.11/site-packages/librosa/core/audio.py:184: FutureWarning: librosa.core.audio.__audioread_load\n",
      "\tDeprecated as of librosa version 0.10.0.\n",
      "\tIt will be removed in librosa version 1.0.\n",
      "  y, sr_native = __audioread_load(path, offset, duration, dtype)\n"
     ]
    },
    {
     "name": "stdout",
     "output_type": "stream",
     "text": [
      "Error reading S04\n",
      "Error reading S04\n"
     ]
    },
    {
     "name": "stderr",
     "output_type": "stream",
     "text": [
      "/var/folders/9b/646lmqp56b53pz1fqqr9x5gw0000gn/T/ipykernel_85422/370983470.py:16: UserWarning: PySoundFile failed. Trying audioread instead.\n",
      "  stem_audio, _ = librosa.load(f\"{path}/stems/{stem}.wav\", sr=None)\n",
      "/Users/mariapolak/miniconda3/envs/mlme/lib/python3.11/site-packages/librosa/core/audio.py:184: FutureWarning: librosa.core.audio.__audioread_load\n",
      "\tDeprecated as of librosa version 0.10.0.\n",
      "\tIt will be removed in librosa version 1.0.\n",
      "  y, sr_native = __audioread_load(path, offset, duration, dtype)\n"
     ]
    },
    {
     "name": "stdout",
     "output_type": "stream",
     "text": [
      "Error reading S04\n"
     ]
    },
    {
     "name": "stderr",
     "output_type": "stream",
     "text": [
      "/var/folders/9b/646lmqp56b53pz1fqqr9x5gw0000gn/T/ipykernel_85422/370983470.py:16: UserWarning: PySoundFile failed. Trying audioread instead.\n",
      "  stem_audio, _ = librosa.load(f\"{path}/stems/{stem}.wav\", sr=None)\n",
      "/Users/mariapolak/miniconda3/envs/mlme/lib/python3.11/site-packages/librosa/core/audio.py:184: FutureWarning: librosa.core.audio.__audioread_load\n",
      "\tDeprecated as of librosa version 0.10.0.\n",
      "\tIt will be removed in librosa version 1.0.\n",
      "  y, sr_native = __audioread_load(path, offset, duration, dtype)\n",
      "/var/folders/9b/646lmqp56b53pz1fqqr9x5gw0000gn/T/ipykernel_85422/1757295214.py:2: RuntimeWarning: invalid value encountered in divide\n",
      "  X_std = (X - X.min()) / (X.max() - X.min())\n",
      "/var/folders/9b/646lmqp56b53pz1fqqr9x5gw0000gn/T/ipykernel_85422/1757295214.py:8: RuntimeWarning: invalid value encountered in cast\n",
      "  img = scale_minmax(spectrogram, 0, 255).astype(np.uint8)\n",
      "/var/folders/9b/646lmqp56b53pz1fqqr9x5gw0000gn/T/ipykernel_85422/1757295214.py:13: UserWarning: datasets/custom/Track00016_0.png is a low contrast image\n",
      "  skimage.io.imsave(path, img)\n"
     ]
    },
    {
     "name": "stdout",
     "output_type": "stream",
     "text": [
      "Error reading S04\n",
      "Processing: datasets/babyslakh_16k/Track00016\n"
     ]
    },
    {
     "name": "stderr",
     "output_type": "stream",
     "text": [
      "/var/folders/9b/646lmqp56b53pz1fqqr9x5gw0000gn/T/ipykernel_85422/370983470.py:16: UserWarning: PySoundFile failed. Trying audioread instead.\n",
      "  stem_audio, _ = librosa.load(f\"{path}/stems/{stem}.wav\", sr=None)\n",
      "/Users/mariapolak/miniconda3/envs/mlme/lib/python3.11/site-packages/librosa/core/audio.py:184: FutureWarning: librosa.core.audio.__audioread_load\n",
      "\tDeprecated as of librosa version 0.10.0.\n",
      "\tIt will be removed in librosa version 1.0.\n",
      "  y, sr_native = __audioread_load(path, offset, duration, dtype)\n"
     ]
    },
    {
     "name": "stdout",
     "output_type": "stream",
     "text": [
      "Error reading S12\n",
      "Error reading S13\n",
      "Error reading S14\n"
     ]
    },
    {
     "name": "stderr",
     "output_type": "stream",
     "text": [
      "/var/folders/9b/646lmqp56b53pz1fqqr9x5gw0000gn/T/ipykernel_85422/370983470.py:16: UserWarning: PySoundFile failed. Trying audioread instead.\n",
      "  stem_audio, _ = librosa.load(f\"{path}/stems/{stem}.wav\", sr=None)\n",
      "/Users/mariapolak/miniconda3/envs/mlme/lib/python3.11/site-packages/librosa/core/audio.py:184: FutureWarning: librosa.core.audio.__audioread_load\n",
      "\tDeprecated as of librosa version 0.10.0.\n",
      "\tIt will be removed in librosa version 1.0.\n",
      "  y, sr_native = __audioread_load(path, offset, duration, dtype)\n",
      "/var/folders/9b/646lmqp56b53pz1fqqr9x5gw0000gn/T/ipykernel_85422/370983470.py:16: UserWarning: PySoundFile failed. Trying audioread instead.\n",
      "  stem_audio, _ = librosa.load(f\"{path}/stems/{stem}.wav\", sr=None)\n",
      "/Users/mariapolak/miniconda3/envs/mlme/lib/python3.11/site-packages/librosa/core/audio.py:184: FutureWarning: librosa.core.audio.__audioread_load\n",
      "\tDeprecated as of librosa version 0.10.0.\n",
      "\tIt will be removed in librosa version 1.0.\n",
      "  y, sr_native = __audioread_load(path, offset, duration, dtype)\n"
     ]
    },
    {
     "name": "stdout",
     "output_type": "stream",
     "text": [
      "Error reading S12\n",
      "Error reading S13\n",
      "Error reading S14\n",
      "Error reading S12\n",
      "Error reading S13\n",
      "Error reading S14\n"
     ]
    },
    {
     "name": "stderr",
     "output_type": "stream",
     "text": [
      "/var/folders/9b/646lmqp56b53pz1fqqr9x5gw0000gn/T/ipykernel_85422/370983470.py:16: UserWarning: PySoundFile failed. Trying audioread instead.\n",
      "  stem_audio, _ = librosa.load(f\"{path}/stems/{stem}.wav\", sr=None)\n",
      "/Users/mariapolak/miniconda3/envs/mlme/lib/python3.11/site-packages/librosa/core/audio.py:184: FutureWarning: librosa.core.audio.__audioread_load\n",
      "\tDeprecated as of librosa version 0.10.0.\n",
      "\tIt will be removed in librosa version 1.0.\n",
      "  y, sr_native = __audioread_load(path, offset, duration, dtype)\n",
      "/var/folders/9b/646lmqp56b53pz1fqqr9x5gw0000gn/T/ipykernel_85422/370983470.py:16: UserWarning: PySoundFile failed. Trying audioread instead.\n",
      "  stem_audio, _ = librosa.load(f\"{path}/stems/{stem}.wav\", sr=None)\n",
      "/Users/mariapolak/miniconda3/envs/mlme/lib/python3.11/site-packages/librosa/core/audio.py:184: FutureWarning: librosa.core.audio.__audioread_load\n",
      "\tDeprecated as of librosa version 0.10.0.\n",
      "\tIt will be removed in librosa version 1.0.\n",
      "  y, sr_native = __audioread_load(path, offset, duration, dtype)\n"
     ]
    },
    {
     "name": "stdout",
     "output_type": "stream",
     "text": [
      "Error reading S12\n",
      "Error reading S13\n",
      "Error reading S14\n",
      "Error reading S12\n",
      "Error reading S13\n",
      "Error reading S14\n"
     ]
    },
    {
     "name": "stderr",
     "output_type": "stream",
     "text": [
      "/var/folders/9b/646lmqp56b53pz1fqqr9x5gw0000gn/T/ipykernel_85422/370983470.py:16: UserWarning: PySoundFile failed. Trying audioread instead.\n",
      "  stem_audio, _ = librosa.load(f\"{path}/stems/{stem}.wav\", sr=None)\n",
      "/Users/mariapolak/miniconda3/envs/mlme/lib/python3.11/site-packages/librosa/core/audio.py:184: FutureWarning: librosa.core.audio.__audioread_load\n",
      "\tDeprecated as of librosa version 0.10.0.\n",
      "\tIt will be removed in librosa version 1.0.\n",
      "  y, sr_native = __audioread_load(path, offset, duration, dtype)\n",
      "/var/folders/9b/646lmqp56b53pz1fqqr9x5gw0000gn/T/ipykernel_85422/370983470.py:16: UserWarning: PySoundFile failed. Trying audioread instead.\n",
      "  stem_audio, _ = librosa.load(f\"{path}/stems/{stem}.wav\", sr=None)\n",
      "/Users/mariapolak/miniconda3/envs/mlme/lib/python3.11/site-packages/librosa/core/audio.py:184: FutureWarning: librosa.core.audio.__audioread_load\n",
      "\tDeprecated as of librosa version 0.10.0.\n",
      "\tIt will be removed in librosa version 1.0.\n",
      "  y, sr_native = __audioread_load(path, offset, duration, dtype)\n"
     ]
    },
    {
     "name": "stdout",
     "output_type": "stream",
     "text": [
      "Error reading S12\n",
      "Error reading S13\n",
      "Error reading S14\n",
      "Error reading S12\n",
      "Error reading S13\n",
      "Error reading S14\n"
     ]
    },
    {
     "name": "stderr",
     "output_type": "stream",
     "text": [
      "/var/folders/9b/646lmqp56b53pz1fqqr9x5gw0000gn/T/ipykernel_85422/370983470.py:16: UserWarning: PySoundFile failed. Trying audioread instead.\n",
      "  stem_audio, _ = librosa.load(f\"{path}/stems/{stem}.wav\", sr=None)\n",
      "/Users/mariapolak/miniconda3/envs/mlme/lib/python3.11/site-packages/librosa/core/audio.py:184: FutureWarning: librosa.core.audio.__audioread_load\n",
      "\tDeprecated as of librosa version 0.10.0.\n",
      "\tIt will be removed in librosa version 1.0.\n",
      "  y, sr_native = __audioread_load(path, offset, duration, dtype)\n",
      "/var/folders/9b/646lmqp56b53pz1fqqr9x5gw0000gn/T/ipykernel_85422/370983470.py:16: UserWarning: PySoundFile failed. Trying audioread instead.\n",
      "  stem_audio, _ = librosa.load(f\"{path}/stems/{stem}.wav\", sr=None)\n",
      "/Users/mariapolak/miniconda3/envs/mlme/lib/python3.11/site-packages/librosa/core/audio.py:184: FutureWarning: librosa.core.audio.__audioread_load\n",
      "\tDeprecated as of librosa version 0.10.0.\n",
      "\tIt will be removed in librosa version 1.0.\n",
      "  y, sr_native = __audioread_load(path, offset, duration, dtype)\n"
     ]
    },
    {
     "name": "stdout",
     "output_type": "stream",
     "text": [
      "Error reading S12\n",
      "Error reading S13\n",
      "Error reading S14\n",
      "Error reading S12\n",
      "Error reading S13\n",
      "Error reading S14\n"
     ]
    },
    {
     "name": "stderr",
     "output_type": "stream",
     "text": [
      "/var/folders/9b/646lmqp56b53pz1fqqr9x5gw0000gn/T/ipykernel_85422/370983470.py:16: UserWarning: PySoundFile failed. Trying audioread instead.\n",
      "  stem_audio, _ = librosa.load(f\"{path}/stems/{stem}.wav\", sr=None)\n",
      "/Users/mariapolak/miniconda3/envs/mlme/lib/python3.11/site-packages/librosa/core/audio.py:184: FutureWarning: librosa.core.audio.__audioread_load\n",
      "\tDeprecated as of librosa version 0.10.0.\n",
      "\tIt will be removed in librosa version 1.0.\n",
      "  y, sr_native = __audioread_load(path, offset, duration, dtype)\n",
      "/var/folders/9b/646lmqp56b53pz1fqqr9x5gw0000gn/T/ipykernel_85422/370983470.py:16: UserWarning: PySoundFile failed. Trying audioread instead.\n",
      "  stem_audio, _ = librosa.load(f\"{path}/stems/{stem}.wav\", sr=None)\n",
      "/Users/mariapolak/miniconda3/envs/mlme/lib/python3.11/site-packages/librosa/core/audio.py:184: FutureWarning: librosa.core.audio.__audioread_load\n",
      "\tDeprecated as of librosa version 0.10.0.\n",
      "\tIt will be removed in librosa version 1.0.\n",
      "  y, sr_native = __audioread_load(path, offset, duration, dtype)\n"
     ]
    },
    {
     "name": "stdout",
     "output_type": "stream",
     "text": [
      "Error reading S12\n",
      "Error reading S13\n",
      "Error reading S14\n",
      "Error reading S12\n",
      "Error reading S13\n",
      "Error reading S14\n"
     ]
    },
    {
     "name": "stderr",
     "output_type": "stream",
     "text": [
      "/var/folders/9b/646lmqp56b53pz1fqqr9x5gw0000gn/T/ipykernel_85422/370983470.py:16: UserWarning: PySoundFile failed. Trying audioread instead.\n",
      "  stem_audio, _ = librosa.load(f\"{path}/stems/{stem}.wav\", sr=None)\n",
      "/Users/mariapolak/miniconda3/envs/mlme/lib/python3.11/site-packages/librosa/core/audio.py:184: FutureWarning: librosa.core.audio.__audioread_load\n",
      "\tDeprecated as of librosa version 0.10.0.\n",
      "\tIt will be removed in librosa version 1.0.\n",
      "  y, sr_native = __audioread_load(path, offset, duration, dtype)\n",
      "/var/folders/9b/646lmqp56b53pz1fqqr9x5gw0000gn/T/ipykernel_85422/370983470.py:16: UserWarning: PySoundFile failed. Trying audioread instead.\n",
      "  stem_audio, _ = librosa.load(f\"{path}/stems/{stem}.wav\", sr=None)\n",
      "/Users/mariapolak/miniconda3/envs/mlme/lib/python3.11/site-packages/librosa/core/audio.py:184: FutureWarning: librosa.core.audio.__audioread_load\n",
      "\tDeprecated as of librosa version 0.10.0.\n",
      "\tIt will be removed in librosa version 1.0.\n",
      "  y, sr_native = __audioread_load(path, offset, duration, dtype)\n"
     ]
    },
    {
     "name": "stdout",
     "output_type": "stream",
     "text": [
      "Error reading S12\n",
      "Error reading S13\n",
      "Error reading S14\n",
      "Error reading S12\n",
      "Error reading S13\n",
      "Error reading S14\n"
     ]
    },
    {
     "name": "stderr",
     "output_type": "stream",
     "text": [
      "/var/folders/9b/646lmqp56b53pz1fqqr9x5gw0000gn/T/ipykernel_85422/370983470.py:16: UserWarning: PySoundFile failed. Trying audioread instead.\n",
      "  stem_audio, _ = librosa.load(f\"{path}/stems/{stem}.wav\", sr=None)\n",
      "/Users/mariapolak/miniconda3/envs/mlme/lib/python3.11/site-packages/librosa/core/audio.py:184: FutureWarning: librosa.core.audio.__audioread_load\n",
      "\tDeprecated as of librosa version 0.10.0.\n",
      "\tIt will be removed in librosa version 1.0.\n",
      "  y, sr_native = __audioread_load(path, offset, duration, dtype)\n",
      "/var/folders/9b/646lmqp56b53pz1fqqr9x5gw0000gn/T/ipykernel_85422/370983470.py:16: UserWarning: PySoundFile failed. Trying audioread instead.\n",
      "  stem_audio, _ = librosa.load(f\"{path}/stems/{stem}.wav\", sr=None)\n",
      "/Users/mariapolak/miniconda3/envs/mlme/lib/python3.11/site-packages/librosa/core/audio.py:184: FutureWarning: librosa.core.audio.__audioread_load\n",
      "\tDeprecated as of librosa version 0.10.0.\n",
      "\tIt will be removed in librosa version 1.0.\n",
      "  y, sr_native = __audioread_load(path, offset, duration, dtype)\n"
     ]
    },
    {
     "name": "stdout",
     "output_type": "stream",
     "text": [
      "Error reading S12\n",
      "Error reading S13\n",
      "Error reading S14\n",
      "Error reading S12\n",
      "Error reading S13\n",
      "Error reading S14\n"
     ]
    },
    {
     "name": "stderr",
     "output_type": "stream",
     "text": [
      "/var/folders/9b/646lmqp56b53pz1fqqr9x5gw0000gn/T/ipykernel_85422/370983470.py:16: UserWarning: PySoundFile failed. Trying audioread instead.\n",
      "  stem_audio, _ = librosa.load(f\"{path}/stems/{stem}.wav\", sr=None)\n",
      "/Users/mariapolak/miniconda3/envs/mlme/lib/python3.11/site-packages/librosa/core/audio.py:184: FutureWarning: librosa.core.audio.__audioread_load\n",
      "\tDeprecated as of librosa version 0.10.0.\n",
      "\tIt will be removed in librosa version 1.0.\n",
      "  y, sr_native = __audioread_load(path, offset, duration, dtype)\n",
      "/var/folders/9b/646lmqp56b53pz1fqqr9x5gw0000gn/T/ipykernel_85422/370983470.py:16: UserWarning: PySoundFile failed. Trying audioread instead.\n",
      "  stem_audio, _ = librosa.load(f\"{path}/stems/{stem}.wav\", sr=None)\n",
      "/Users/mariapolak/miniconda3/envs/mlme/lib/python3.11/site-packages/librosa/core/audio.py:184: FutureWarning: librosa.core.audio.__audioread_load\n",
      "\tDeprecated as of librosa version 0.10.0.\n",
      "\tIt will be removed in librosa version 1.0.\n",
      "  y, sr_native = __audioread_load(path, offset, duration, dtype)\n"
     ]
    },
    {
     "name": "stdout",
     "output_type": "stream",
     "text": [
      "Error reading S12\n",
      "Error reading S13\n",
      "Error reading S14\n",
      "Error reading S12\n",
      "Error reading S13\n",
      "Error reading S14\n"
     ]
    },
    {
     "name": "stderr",
     "output_type": "stream",
     "text": [
      "/var/folders/9b/646lmqp56b53pz1fqqr9x5gw0000gn/T/ipykernel_85422/370983470.py:16: UserWarning: PySoundFile failed. Trying audioread instead.\n",
      "  stem_audio, _ = librosa.load(f\"{path}/stems/{stem}.wav\", sr=None)\n",
      "/Users/mariapolak/miniconda3/envs/mlme/lib/python3.11/site-packages/librosa/core/audio.py:184: FutureWarning: librosa.core.audio.__audioread_load\n",
      "\tDeprecated as of librosa version 0.10.0.\n",
      "\tIt will be removed in librosa version 1.0.\n",
      "  y, sr_native = __audioread_load(path, offset, duration, dtype)\n",
      "/var/folders/9b/646lmqp56b53pz1fqqr9x5gw0000gn/T/ipykernel_85422/370983470.py:16: UserWarning: PySoundFile failed. Trying audioread instead.\n",
      "  stem_audio, _ = librosa.load(f\"{path}/stems/{stem}.wav\", sr=None)\n",
      "/Users/mariapolak/miniconda3/envs/mlme/lib/python3.11/site-packages/librosa/core/audio.py:184: FutureWarning: librosa.core.audio.__audioread_load\n",
      "\tDeprecated as of librosa version 0.10.0.\n",
      "\tIt will be removed in librosa version 1.0.\n",
      "  y, sr_native = __audioread_load(path, offset, duration, dtype)\n"
     ]
    },
    {
     "name": "stdout",
     "output_type": "stream",
     "text": [
      "Error reading S12\n",
      "Error reading S13\n",
      "Error reading S14\n",
      "Error reading S12\n",
      "Error reading S13\n",
      "Error reading S14\n"
     ]
    },
    {
     "name": "stderr",
     "output_type": "stream",
     "text": [
      "/var/folders/9b/646lmqp56b53pz1fqqr9x5gw0000gn/T/ipykernel_85422/370983470.py:16: UserWarning: PySoundFile failed. Trying audioread instead.\n",
      "  stem_audio, _ = librosa.load(f\"{path}/stems/{stem}.wav\", sr=None)\n",
      "/Users/mariapolak/miniconda3/envs/mlme/lib/python3.11/site-packages/librosa/core/audio.py:184: FutureWarning: librosa.core.audio.__audioread_load\n",
      "\tDeprecated as of librosa version 0.10.0.\n",
      "\tIt will be removed in librosa version 1.0.\n",
      "  y, sr_native = __audioread_load(path, offset, duration, dtype)\n",
      "/var/folders/9b/646lmqp56b53pz1fqqr9x5gw0000gn/T/ipykernel_85422/370983470.py:16: UserWarning: PySoundFile failed. Trying audioread instead.\n",
      "  stem_audio, _ = librosa.load(f\"{path}/stems/{stem}.wav\", sr=None)\n",
      "/Users/mariapolak/miniconda3/envs/mlme/lib/python3.11/site-packages/librosa/core/audio.py:184: FutureWarning: librosa.core.audio.__audioread_load\n",
      "\tDeprecated as of librosa version 0.10.0.\n",
      "\tIt will be removed in librosa version 1.0.\n",
      "  y, sr_native = __audioread_load(path, offset, duration, dtype)\n"
     ]
    },
    {
     "name": "stdout",
     "output_type": "stream",
     "text": [
      "Error reading S12\n",
      "Error reading S13\n",
      "Error reading S14\n",
      "Error reading S12\n",
      "Error reading S13\n",
      "Error reading S14\n"
     ]
    },
    {
     "name": "stderr",
     "output_type": "stream",
     "text": [
      "/var/folders/9b/646lmqp56b53pz1fqqr9x5gw0000gn/T/ipykernel_85422/370983470.py:16: UserWarning: PySoundFile failed. Trying audioread instead.\n",
      "  stem_audio, _ = librosa.load(f\"{path}/stems/{stem}.wav\", sr=None)\n",
      "/Users/mariapolak/miniconda3/envs/mlme/lib/python3.11/site-packages/librosa/core/audio.py:184: FutureWarning: librosa.core.audio.__audioread_load\n",
      "\tDeprecated as of librosa version 0.10.0.\n",
      "\tIt will be removed in librosa version 1.0.\n",
      "  y, sr_native = __audioread_load(path, offset, duration, dtype)\n",
      "/var/folders/9b/646lmqp56b53pz1fqqr9x5gw0000gn/T/ipykernel_85422/370983470.py:16: UserWarning: PySoundFile failed. Trying audioread instead.\n",
      "  stem_audio, _ = librosa.load(f\"{path}/stems/{stem}.wav\", sr=None)\n",
      "/Users/mariapolak/miniconda3/envs/mlme/lib/python3.11/site-packages/librosa/core/audio.py:184: FutureWarning: librosa.core.audio.__audioread_load\n",
      "\tDeprecated as of librosa version 0.10.0.\n",
      "\tIt will be removed in librosa version 1.0.\n",
      "  y, sr_native = __audioread_load(path, offset, duration, dtype)\n"
     ]
    },
    {
     "name": "stdout",
     "output_type": "stream",
     "text": [
      "Error reading S12\n",
      "Error reading S13\n",
      "Error reading S14\n",
      "Error reading S12\n",
      "Error reading S13\n",
      "Error reading S14\n"
     ]
    },
    {
     "name": "stderr",
     "output_type": "stream",
     "text": [
      "/var/folders/9b/646lmqp56b53pz1fqqr9x5gw0000gn/T/ipykernel_85422/370983470.py:16: UserWarning: PySoundFile failed. Trying audioread instead.\n",
      "  stem_audio, _ = librosa.load(f\"{path}/stems/{stem}.wav\", sr=None)\n",
      "/Users/mariapolak/miniconda3/envs/mlme/lib/python3.11/site-packages/librosa/core/audio.py:184: FutureWarning: librosa.core.audio.__audioread_load\n",
      "\tDeprecated as of librosa version 0.10.0.\n",
      "\tIt will be removed in librosa version 1.0.\n",
      "  y, sr_native = __audioread_load(path, offset, duration, dtype)\n",
      "/var/folders/9b/646lmqp56b53pz1fqqr9x5gw0000gn/T/ipykernel_85422/370983470.py:16: UserWarning: PySoundFile failed. Trying audioread instead.\n",
      "  stem_audio, _ = librosa.load(f\"{path}/stems/{stem}.wav\", sr=None)\n",
      "/Users/mariapolak/miniconda3/envs/mlme/lib/python3.11/site-packages/librosa/core/audio.py:184: FutureWarning: librosa.core.audio.__audioread_load\n",
      "\tDeprecated as of librosa version 0.10.0.\n",
      "\tIt will be removed in librosa version 1.0.\n",
      "  y, sr_native = __audioread_load(path, offset, duration, dtype)\n"
     ]
    },
    {
     "name": "stdout",
     "output_type": "stream",
     "text": [
      "Error reading S12\n",
      "Error reading S13\n",
      "Error reading S14\n",
      "Error reading S12\n",
      "Error reading S13\n",
      "Error reading S14\n"
     ]
    },
    {
     "name": "stderr",
     "output_type": "stream",
     "text": [
      "/var/folders/9b/646lmqp56b53pz1fqqr9x5gw0000gn/T/ipykernel_85422/370983470.py:16: UserWarning: PySoundFile failed. Trying audioread instead.\n",
      "  stem_audio, _ = librosa.load(f\"{path}/stems/{stem}.wav\", sr=None)\n",
      "/Users/mariapolak/miniconda3/envs/mlme/lib/python3.11/site-packages/librosa/core/audio.py:184: FutureWarning: librosa.core.audio.__audioread_load\n",
      "\tDeprecated as of librosa version 0.10.0.\n",
      "\tIt will be removed in librosa version 1.0.\n",
      "  y, sr_native = __audioread_load(path, offset, duration, dtype)\n",
      "/var/folders/9b/646lmqp56b53pz1fqqr9x5gw0000gn/T/ipykernel_85422/370983470.py:16: UserWarning: PySoundFile failed. Trying audioread instead.\n",
      "  stem_audio, _ = librosa.load(f\"{path}/stems/{stem}.wav\", sr=None)\n",
      "/Users/mariapolak/miniconda3/envs/mlme/lib/python3.11/site-packages/librosa/core/audio.py:184: FutureWarning: librosa.core.audio.__audioread_load\n",
      "\tDeprecated as of librosa version 0.10.0.\n",
      "\tIt will be removed in librosa version 1.0.\n",
      "  y, sr_native = __audioread_load(path, offset, duration, dtype)\n"
     ]
    },
    {
     "name": "stdout",
     "output_type": "stream",
     "text": [
      "Error reading S12\n",
      "Error reading S13\n",
      "Error reading S14\n",
      "Error reading S12\n",
      "Error reading S13\n",
      "Error reading S14\n"
     ]
    },
    {
     "name": "stderr",
     "output_type": "stream",
     "text": [
      "/var/folders/9b/646lmqp56b53pz1fqqr9x5gw0000gn/T/ipykernel_85422/370983470.py:16: UserWarning: PySoundFile failed. Trying audioread instead.\n",
      "  stem_audio, _ = librosa.load(f\"{path}/stems/{stem}.wav\", sr=None)\n",
      "/Users/mariapolak/miniconda3/envs/mlme/lib/python3.11/site-packages/librosa/core/audio.py:184: FutureWarning: librosa.core.audio.__audioread_load\n",
      "\tDeprecated as of librosa version 0.10.0.\n",
      "\tIt will be removed in librosa version 1.0.\n",
      "  y, sr_native = __audioread_load(path, offset, duration, dtype)\n",
      "/var/folders/9b/646lmqp56b53pz1fqqr9x5gw0000gn/T/ipykernel_85422/370983470.py:16: UserWarning: PySoundFile failed. Trying audioread instead.\n",
      "  stem_audio, _ = librosa.load(f\"{path}/stems/{stem}.wav\", sr=None)\n",
      "/Users/mariapolak/miniconda3/envs/mlme/lib/python3.11/site-packages/librosa/core/audio.py:184: FutureWarning: librosa.core.audio.__audioread_load\n",
      "\tDeprecated as of librosa version 0.10.0.\n",
      "\tIt will be removed in librosa version 1.0.\n",
      "  y, sr_native = __audioread_load(path, offset, duration, dtype)\n"
     ]
    },
    {
     "name": "stdout",
     "output_type": "stream",
     "text": [
      "Error reading S12\n",
      "Error reading S13\n",
      "Error reading S14\n",
      "Error reading S12\n",
      "Error reading S13\n",
      "Error reading S14\n"
     ]
    },
    {
     "name": "stderr",
     "output_type": "stream",
     "text": [
      "/var/folders/9b/646lmqp56b53pz1fqqr9x5gw0000gn/T/ipykernel_85422/370983470.py:16: UserWarning: PySoundFile failed. Trying audioread instead.\n",
      "  stem_audio, _ = librosa.load(f\"{path}/stems/{stem}.wav\", sr=None)\n",
      "/Users/mariapolak/miniconda3/envs/mlme/lib/python3.11/site-packages/librosa/core/audio.py:184: FutureWarning: librosa.core.audio.__audioread_load\n",
      "\tDeprecated as of librosa version 0.10.0.\n",
      "\tIt will be removed in librosa version 1.0.\n",
      "  y, sr_native = __audioread_load(path, offset, duration, dtype)\n",
      "/var/folders/9b/646lmqp56b53pz1fqqr9x5gw0000gn/T/ipykernel_85422/370983470.py:16: UserWarning: PySoundFile failed. Trying audioread instead.\n",
      "  stem_audio, _ = librosa.load(f\"{path}/stems/{stem}.wav\", sr=None)\n",
      "/Users/mariapolak/miniconda3/envs/mlme/lib/python3.11/site-packages/librosa/core/audio.py:184: FutureWarning: librosa.core.audio.__audioread_load\n",
      "\tDeprecated as of librosa version 0.10.0.\n",
      "\tIt will be removed in librosa version 1.0.\n",
      "  y, sr_native = __audioread_load(path, offset, duration, dtype)\n"
     ]
    },
    {
     "name": "stdout",
     "output_type": "stream",
     "text": [
      "Error reading S12\n",
      "Error reading S13\n",
      "Error reading S14\n",
      "Error reading S12\n",
      "Error reading S13\n",
      "Error reading S14\n"
     ]
    },
    {
     "name": "stderr",
     "output_type": "stream",
     "text": [
      "/var/folders/9b/646lmqp56b53pz1fqqr9x5gw0000gn/T/ipykernel_85422/370983470.py:16: UserWarning: PySoundFile failed. Trying audioread instead.\n",
      "  stem_audio, _ = librosa.load(f\"{path}/stems/{stem}.wav\", sr=None)\n",
      "/Users/mariapolak/miniconda3/envs/mlme/lib/python3.11/site-packages/librosa/core/audio.py:184: FutureWarning: librosa.core.audio.__audioread_load\n",
      "\tDeprecated as of librosa version 0.10.0.\n",
      "\tIt will be removed in librosa version 1.0.\n",
      "  y, sr_native = __audioread_load(path, offset, duration, dtype)\n",
      "/var/folders/9b/646lmqp56b53pz1fqqr9x5gw0000gn/T/ipykernel_85422/370983470.py:16: UserWarning: PySoundFile failed. Trying audioread instead.\n",
      "  stem_audio, _ = librosa.load(f\"{path}/stems/{stem}.wav\", sr=None)\n",
      "/Users/mariapolak/miniconda3/envs/mlme/lib/python3.11/site-packages/librosa/core/audio.py:184: FutureWarning: librosa.core.audio.__audioread_load\n",
      "\tDeprecated as of librosa version 0.10.0.\n",
      "\tIt will be removed in librosa version 1.0.\n",
      "  y, sr_native = __audioread_load(path, offset, duration, dtype)\n"
     ]
    },
    {
     "name": "stdout",
     "output_type": "stream",
     "text": [
      "Error reading S12\n",
      "Error reading S13\n",
      "Error reading S14\n",
      "Error reading S12\n",
      "Error reading S13\n",
      "Error reading S14\n"
     ]
    },
    {
     "name": "stderr",
     "output_type": "stream",
     "text": [
      "/var/folders/9b/646lmqp56b53pz1fqqr9x5gw0000gn/T/ipykernel_85422/370983470.py:16: UserWarning: PySoundFile failed. Trying audioread instead.\n",
      "  stem_audio, _ = librosa.load(f\"{path}/stems/{stem}.wav\", sr=None)\n",
      "/Users/mariapolak/miniconda3/envs/mlme/lib/python3.11/site-packages/librosa/core/audio.py:184: FutureWarning: librosa.core.audio.__audioread_load\n",
      "\tDeprecated as of librosa version 0.10.0.\n",
      "\tIt will be removed in librosa version 1.0.\n",
      "  y, sr_native = __audioread_load(path, offset, duration, dtype)\n",
      "/var/folders/9b/646lmqp56b53pz1fqqr9x5gw0000gn/T/ipykernel_85422/370983470.py:16: UserWarning: PySoundFile failed. Trying audioread instead.\n",
      "  stem_audio, _ = librosa.load(f\"{path}/stems/{stem}.wav\", sr=None)\n",
      "/Users/mariapolak/miniconda3/envs/mlme/lib/python3.11/site-packages/librosa/core/audio.py:184: FutureWarning: librosa.core.audio.__audioread_load\n",
      "\tDeprecated as of librosa version 0.10.0.\n",
      "\tIt will be removed in librosa version 1.0.\n",
      "  y, sr_native = __audioread_load(path, offset, duration, dtype)\n"
     ]
    },
    {
     "name": "stdout",
     "output_type": "stream",
     "text": [
      "Error reading S12\n",
      "Error reading S13\n",
      "Error reading S14\n",
      "Error reading S12\n",
      "Error reading S13\n",
      "Error reading S14\n"
     ]
    },
    {
     "name": "stderr",
     "output_type": "stream",
     "text": [
      "/var/folders/9b/646lmqp56b53pz1fqqr9x5gw0000gn/T/ipykernel_85422/370983470.py:16: UserWarning: PySoundFile failed. Trying audioread instead.\n",
      "  stem_audio, _ = librosa.load(f\"{path}/stems/{stem}.wav\", sr=None)\n",
      "/Users/mariapolak/miniconda3/envs/mlme/lib/python3.11/site-packages/librosa/core/audio.py:184: FutureWarning: librosa.core.audio.__audioread_load\n",
      "\tDeprecated as of librosa version 0.10.0.\n",
      "\tIt will be removed in librosa version 1.0.\n",
      "  y, sr_native = __audioread_load(path, offset, duration, dtype)\n",
      "/var/folders/9b/646lmqp56b53pz1fqqr9x5gw0000gn/T/ipykernel_85422/370983470.py:16: UserWarning: PySoundFile failed. Trying audioread instead.\n",
      "  stem_audio, _ = librosa.load(f\"{path}/stems/{stem}.wav\", sr=None)\n",
      "/Users/mariapolak/miniconda3/envs/mlme/lib/python3.11/site-packages/librosa/core/audio.py:184: FutureWarning: librosa.core.audio.__audioread_load\n",
      "\tDeprecated as of librosa version 0.10.0.\n",
      "\tIt will be removed in librosa version 1.0.\n",
      "  y, sr_native = __audioread_load(path, offset, duration, dtype)\n"
     ]
    },
    {
     "name": "stdout",
     "output_type": "stream",
     "text": [
      "Error reading S12\n",
      "Error reading S13\n",
      "Error reading S14\n",
      "Error reading S12\n",
      "Error reading S13\n",
      "Error reading S14\n"
     ]
    },
    {
     "name": "stderr",
     "output_type": "stream",
     "text": [
      "/var/folders/9b/646lmqp56b53pz1fqqr9x5gw0000gn/T/ipykernel_85422/370983470.py:16: UserWarning: PySoundFile failed. Trying audioread instead.\n",
      "  stem_audio, _ = librosa.load(f\"{path}/stems/{stem}.wav\", sr=None)\n",
      "/Users/mariapolak/miniconda3/envs/mlme/lib/python3.11/site-packages/librosa/core/audio.py:184: FutureWarning: librosa.core.audio.__audioread_load\n",
      "\tDeprecated as of librosa version 0.10.0.\n",
      "\tIt will be removed in librosa version 1.0.\n",
      "  y, sr_native = __audioread_load(path, offset, duration, dtype)\n"
     ]
    },
    {
     "name": "stdout",
     "output_type": "stream",
     "text": [
      "Error reading S12\n",
      "Error reading S13\n",
      "Error reading S14\n"
     ]
    },
    {
     "name": "stderr",
     "output_type": "stream",
     "text": [
      "/var/folders/9b/646lmqp56b53pz1fqqr9x5gw0000gn/T/ipykernel_85422/370983470.py:16: UserWarning: PySoundFile failed. Trying audioread instead.\n",
      "  stem_audio, _ = librosa.load(f\"{path}/stems/{stem}.wav\", sr=None)\n",
      "/Users/mariapolak/miniconda3/envs/mlme/lib/python3.11/site-packages/librosa/core/audio.py:184: FutureWarning: librosa.core.audio.__audioread_load\n",
      "\tDeprecated as of librosa version 0.10.0.\n",
      "\tIt will be removed in librosa version 1.0.\n",
      "  y, sr_native = __audioread_load(path, offset, duration, dtype)\n"
     ]
    },
    {
     "name": "stdout",
     "output_type": "stream",
     "text": [
      "Error reading S12\n",
      "Error reading S13\n",
      "Error reading S14\n"
     ]
    },
    {
     "name": "stderr",
     "output_type": "stream",
     "text": [
      "/var/folders/9b/646lmqp56b53pz1fqqr9x5gw0000gn/T/ipykernel_85422/370983470.py:16: UserWarning: PySoundFile failed. Trying audioread instead.\n",
      "  stem_audio, _ = librosa.load(f\"{path}/stems/{stem}.wav\", sr=None)\n",
      "/Users/mariapolak/miniconda3/envs/mlme/lib/python3.11/site-packages/librosa/core/audio.py:184: FutureWarning: librosa.core.audio.__audioread_load\n",
      "\tDeprecated as of librosa version 0.10.0.\n",
      "\tIt will be removed in librosa version 1.0.\n",
      "  y, sr_native = __audioread_load(path, offset, duration, dtype)\n"
     ]
    },
    {
     "name": "stdout",
     "output_type": "stream",
     "text": [
      "Error reading S12\n",
      "Error reading S13\n",
      "Error reading S14\n",
      "Processing: datasets/babyslakh_16k/Track00011\n",
      "Processing: datasets/babyslakh_16k/Track00018\n"
     ]
    },
    {
     "name": "stderr",
     "output_type": "stream",
     "text": [
      "/var/folders/9b/646lmqp56b53pz1fqqr9x5gw0000gn/T/ipykernel_85422/370983470.py:16: UserWarning: PySoundFile failed. Trying audioread instead.\n",
      "  stem_audio, _ = librosa.load(f\"{path}/stems/{stem}.wav\", sr=None)\n",
      "/Users/mariapolak/miniconda3/envs/mlme/lib/python3.11/site-packages/librosa/core/audio.py:184: FutureWarning: librosa.core.audio.__audioread_load\n",
      "\tDeprecated as of librosa version 0.10.0.\n",
      "\tIt will be removed in librosa version 1.0.\n",
      "  y, sr_native = __audioread_load(path, offset, duration, dtype)\n"
     ]
    },
    {
     "name": "stdout",
     "output_type": "stream",
     "text": [
      "Error reading S12\n",
      "Error reading S13\n"
     ]
    },
    {
     "name": "stderr",
     "output_type": "stream",
     "text": [
      "/var/folders/9b/646lmqp56b53pz1fqqr9x5gw0000gn/T/ipykernel_85422/370983470.py:16: UserWarning: PySoundFile failed. Trying audioread instead.\n",
      "  stem_audio, _ = librosa.load(f\"{path}/stems/{stem}.wav\", sr=None)\n",
      "/Users/mariapolak/miniconda3/envs/mlme/lib/python3.11/site-packages/librosa/core/audio.py:184: FutureWarning: librosa.core.audio.__audioread_load\n",
      "\tDeprecated as of librosa version 0.10.0.\n",
      "\tIt will be removed in librosa version 1.0.\n",
      "  y, sr_native = __audioread_load(path, offset, duration, dtype)\n"
     ]
    },
    {
     "name": "stdout",
     "output_type": "stream",
     "text": [
      "Error reading S12\n",
      "Error reading S13\n"
     ]
    },
    {
     "name": "stderr",
     "output_type": "stream",
     "text": [
      "/var/folders/9b/646lmqp56b53pz1fqqr9x5gw0000gn/T/ipykernel_85422/370983470.py:16: UserWarning: PySoundFile failed. Trying audioread instead.\n",
      "  stem_audio, _ = librosa.load(f\"{path}/stems/{stem}.wav\", sr=None)\n",
      "/Users/mariapolak/miniconda3/envs/mlme/lib/python3.11/site-packages/librosa/core/audio.py:184: FutureWarning: librosa.core.audio.__audioread_load\n",
      "\tDeprecated as of librosa version 0.10.0.\n",
      "\tIt will be removed in librosa version 1.0.\n",
      "  y, sr_native = __audioread_load(path, offset, duration, dtype)\n"
     ]
    },
    {
     "name": "stdout",
     "output_type": "stream",
     "text": [
      "Error reading S12\n",
      "Error reading S13\n"
     ]
    },
    {
     "name": "stderr",
     "output_type": "stream",
     "text": [
      "/var/folders/9b/646lmqp56b53pz1fqqr9x5gw0000gn/T/ipykernel_85422/370983470.py:16: UserWarning: PySoundFile failed. Trying audioread instead.\n",
      "  stem_audio, _ = librosa.load(f\"{path}/stems/{stem}.wav\", sr=None)\n",
      "/Users/mariapolak/miniconda3/envs/mlme/lib/python3.11/site-packages/librosa/core/audio.py:184: FutureWarning: librosa.core.audio.__audioread_load\n",
      "\tDeprecated as of librosa version 0.10.0.\n",
      "\tIt will be removed in librosa version 1.0.\n",
      "  y, sr_native = __audioread_load(path, offset, duration, dtype)\n"
     ]
    },
    {
     "name": "stdout",
     "output_type": "stream",
     "text": [
      "Error reading S12\n",
      "Error reading S13\n"
     ]
    },
    {
     "name": "stderr",
     "output_type": "stream",
     "text": [
      "/var/folders/9b/646lmqp56b53pz1fqqr9x5gw0000gn/T/ipykernel_85422/370983470.py:16: UserWarning: PySoundFile failed. Trying audioread instead.\n",
      "  stem_audio, _ = librosa.load(f\"{path}/stems/{stem}.wav\", sr=None)\n",
      "/Users/mariapolak/miniconda3/envs/mlme/lib/python3.11/site-packages/librosa/core/audio.py:184: FutureWarning: librosa.core.audio.__audioread_load\n",
      "\tDeprecated as of librosa version 0.10.0.\n",
      "\tIt will be removed in librosa version 1.0.\n",
      "  y, sr_native = __audioread_load(path, offset, duration, dtype)\n"
     ]
    },
    {
     "name": "stdout",
     "output_type": "stream",
     "text": [
      "Error reading S12\n",
      "Error reading S13\n"
     ]
    },
    {
     "name": "stderr",
     "output_type": "stream",
     "text": [
      "/var/folders/9b/646lmqp56b53pz1fqqr9x5gw0000gn/T/ipykernel_85422/370983470.py:16: UserWarning: PySoundFile failed. Trying audioread instead.\n",
      "  stem_audio, _ = librosa.load(f\"{path}/stems/{stem}.wav\", sr=None)\n",
      "/Users/mariapolak/miniconda3/envs/mlme/lib/python3.11/site-packages/librosa/core/audio.py:184: FutureWarning: librosa.core.audio.__audioread_load\n",
      "\tDeprecated as of librosa version 0.10.0.\n",
      "\tIt will be removed in librosa version 1.0.\n",
      "  y, sr_native = __audioread_load(path, offset, duration, dtype)\n"
     ]
    },
    {
     "name": "stdout",
     "output_type": "stream",
     "text": [
      "Error reading S12\n",
      "Error reading S13\n"
     ]
    },
    {
     "name": "stderr",
     "output_type": "stream",
     "text": [
      "/var/folders/9b/646lmqp56b53pz1fqqr9x5gw0000gn/T/ipykernel_85422/370983470.py:16: UserWarning: PySoundFile failed. Trying audioread instead.\n",
      "  stem_audio, _ = librosa.load(f\"{path}/stems/{stem}.wav\", sr=None)\n",
      "/Users/mariapolak/miniconda3/envs/mlme/lib/python3.11/site-packages/librosa/core/audio.py:184: FutureWarning: librosa.core.audio.__audioread_load\n",
      "\tDeprecated as of librosa version 0.10.0.\n",
      "\tIt will be removed in librosa version 1.0.\n",
      "  y, sr_native = __audioread_load(path, offset, duration, dtype)\n"
     ]
    },
    {
     "name": "stdout",
     "output_type": "stream",
     "text": [
      "Error reading S12\n",
      "Error reading S13\n"
     ]
    },
    {
     "name": "stderr",
     "output_type": "stream",
     "text": [
      "/var/folders/9b/646lmqp56b53pz1fqqr9x5gw0000gn/T/ipykernel_85422/370983470.py:16: UserWarning: PySoundFile failed. Trying audioread instead.\n",
      "  stem_audio, _ = librosa.load(f\"{path}/stems/{stem}.wav\", sr=None)\n",
      "/Users/mariapolak/miniconda3/envs/mlme/lib/python3.11/site-packages/librosa/core/audio.py:184: FutureWarning: librosa.core.audio.__audioread_load\n",
      "\tDeprecated as of librosa version 0.10.0.\n",
      "\tIt will be removed in librosa version 1.0.\n",
      "  y, sr_native = __audioread_load(path, offset, duration, dtype)\n"
     ]
    },
    {
     "name": "stdout",
     "output_type": "stream",
     "text": [
      "Error reading S12\n",
      "Error reading S13\n"
     ]
    },
    {
     "name": "stderr",
     "output_type": "stream",
     "text": [
      "/var/folders/9b/646lmqp56b53pz1fqqr9x5gw0000gn/T/ipykernel_85422/370983470.py:16: UserWarning: PySoundFile failed. Trying audioread instead.\n",
      "  stem_audio, _ = librosa.load(f\"{path}/stems/{stem}.wav\", sr=None)\n",
      "/Users/mariapolak/miniconda3/envs/mlme/lib/python3.11/site-packages/librosa/core/audio.py:184: FutureWarning: librosa.core.audio.__audioread_load\n",
      "\tDeprecated as of librosa version 0.10.0.\n",
      "\tIt will be removed in librosa version 1.0.\n",
      "  y, sr_native = __audioread_load(path, offset, duration, dtype)\n"
     ]
    },
    {
     "name": "stdout",
     "output_type": "stream",
     "text": [
      "Error reading S12\n",
      "Error reading S13\n"
     ]
    },
    {
     "name": "stderr",
     "output_type": "stream",
     "text": [
      "/var/folders/9b/646lmqp56b53pz1fqqr9x5gw0000gn/T/ipykernel_85422/370983470.py:16: UserWarning: PySoundFile failed. Trying audioread instead.\n",
      "  stem_audio, _ = librosa.load(f\"{path}/stems/{stem}.wav\", sr=None)\n",
      "/Users/mariapolak/miniconda3/envs/mlme/lib/python3.11/site-packages/librosa/core/audio.py:184: FutureWarning: librosa.core.audio.__audioread_load\n",
      "\tDeprecated as of librosa version 0.10.0.\n",
      "\tIt will be removed in librosa version 1.0.\n",
      "  y, sr_native = __audioread_load(path, offset, duration, dtype)\n"
     ]
    },
    {
     "name": "stdout",
     "output_type": "stream",
     "text": [
      "Error reading S12\n",
      "Error reading S13\n"
     ]
    },
    {
     "name": "stderr",
     "output_type": "stream",
     "text": [
      "/var/folders/9b/646lmqp56b53pz1fqqr9x5gw0000gn/T/ipykernel_85422/370983470.py:16: UserWarning: PySoundFile failed. Trying audioread instead.\n",
      "  stem_audio, _ = librosa.load(f\"{path}/stems/{stem}.wav\", sr=None)\n",
      "/Users/mariapolak/miniconda3/envs/mlme/lib/python3.11/site-packages/librosa/core/audio.py:184: FutureWarning: librosa.core.audio.__audioread_load\n",
      "\tDeprecated as of librosa version 0.10.0.\n",
      "\tIt will be removed in librosa version 1.0.\n",
      "  y, sr_native = __audioread_load(path, offset, duration, dtype)\n"
     ]
    },
    {
     "name": "stdout",
     "output_type": "stream",
     "text": [
      "Error reading S12\n",
      "Error reading S13\n"
     ]
    },
    {
     "name": "stderr",
     "output_type": "stream",
     "text": [
      "/var/folders/9b/646lmqp56b53pz1fqqr9x5gw0000gn/T/ipykernel_85422/370983470.py:16: UserWarning: PySoundFile failed. Trying audioread instead.\n",
      "  stem_audio, _ = librosa.load(f\"{path}/stems/{stem}.wav\", sr=None)\n",
      "/Users/mariapolak/miniconda3/envs/mlme/lib/python3.11/site-packages/librosa/core/audio.py:184: FutureWarning: librosa.core.audio.__audioread_load\n",
      "\tDeprecated as of librosa version 0.10.0.\n",
      "\tIt will be removed in librosa version 1.0.\n",
      "  y, sr_native = __audioread_load(path, offset, duration, dtype)\n"
     ]
    },
    {
     "name": "stdout",
     "output_type": "stream",
     "text": [
      "Error reading S12\n",
      "Error reading S13\n"
     ]
    },
    {
     "name": "stderr",
     "output_type": "stream",
     "text": [
      "/var/folders/9b/646lmqp56b53pz1fqqr9x5gw0000gn/T/ipykernel_85422/370983470.py:16: UserWarning: PySoundFile failed. Trying audioread instead.\n",
      "  stem_audio, _ = librosa.load(f\"{path}/stems/{stem}.wav\", sr=None)\n",
      "/Users/mariapolak/miniconda3/envs/mlme/lib/python3.11/site-packages/librosa/core/audio.py:184: FutureWarning: librosa.core.audio.__audioread_load\n",
      "\tDeprecated as of librosa version 0.10.0.\n",
      "\tIt will be removed in librosa version 1.0.\n",
      "  y, sr_native = __audioread_load(path, offset, duration, dtype)\n"
     ]
    },
    {
     "name": "stdout",
     "output_type": "stream",
     "text": [
      "Error reading S12\n",
      "Error reading S13\n"
     ]
    },
    {
     "name": "stderr",
     "output_type": "stream",
     "text": [
      "/var/folders/9b/646lmqp56b53pz1fqqr9x5gw0000gn/T/ipykernel_85422/370983470.py:16: UserWarning: PySoundFile failed. Trying audioread instead.\n",
      "  stem_audio, _ = librosa.load(f\"{path}/stems/{stem}.wav\", sr=None)\n",
      "/Users/mariapolak/miniconda3/envs/mlme/lib/python3.11/site-packages/librosa/core/audio.py:184: FutureWarning: librosa.core.audio.__audioread_load\n",
      "\tDeprecated as of librosa version 0.10.0.\n",
      "\tIt will be removed in librosa version 1.0.\n",
      "  y, sr_native = __audioread_load(path, offset, duration, dtype)\n"
     ]
    },
    {
     "name": "stdout",
     "output_type": "stream",
     "text": [
      "Error reading S12\n",
      "Error reading S13\n"
     ]
    },
    {
     "name": "stderr",
     "output_type": "stream",
     "text": [
      "/var/folders/9b/646lmqp56b53pz1fqqr9x5gw0000gn/T/ipykernel_85422/370983470.py:16: UserWarning: PySoundFile failed. Trying audioread instead.\n",
      "  stem_audio, _ = librosa.load(f\"{path}/stems/{stem}.wav\", sr=None)\n",
      "/Users/mariapolak/miniconda3/envs/mlme/lib/python3.11/site-packages/librosa/core/audio.py:184: FutureWarning: librosa.core.audio.__audioread_load\n",
      "\tDeprecated as of librosa version 0.10.0.\n",
      "\tIt will be removed in librosa version 1.0.\n",
      "  y, sr_native = __audioread_load(path, offset, duration, dtype)\n"
     ]
    },
    {
     "name": "stdout",
     "output_type": "stream",
     "text": [
      "Error reading S12\n",
      "Error reading S13\n"
     ]
    },
    {
     "name": "stderr",
     "output_type": "stream",
     "text": [
      "/var/folders/9b/646lmqp56b53pz1fqqr9x5gw0000gn/T/ipykernel_85422/370983470.py:16: UserWarning: PySoundFile failed. Trying audioread instead.\n",
      "  stem_audio, _ = librosa.load(f\"{path}/stems/{stem}.wav\", sr=None)\n",
      "/Users/mariapolak/miniconda3/envs/mlme/lib/python3.11/site-packages/librosa/core/audio.py:184: FutureWarning: librosa.core.audio.__audioread_load\n",
      "\tDeprecated as of librosa version 0.10.0.\n",
      "\tIt will be removed in librosa version 1.0.\n",
      "  y, sr_native = __audioread_load(path, offset, duration, dtype)\n"
     ]
    },
    {
     "name": "stdout",
     "output_type": "stream",
     "text": [
      "Error reading S12\n",
      "Error reading S13\n"
     ]
    },
    {
     "name": "stderr",
     "output_type": "stream",
     "text": [
      "/var/folders/9b/646lmqp56b53pz1fqqr9x5gw0000gn/T/ipykernel_85422/370983470.py:16: UserWarning: PySoundFile failed. Trying audioread instead.\n",
      "  stem_audio, _ = librosa.load(f\"{path}/stems/{stem}.wav\", sr=None)\n",
      "/Users/mariapolak/miniconda3/envs/mlme/lib/python3.11/site-packages/librosa/core/audio.py:184: FutureWarning: librosa.core.audio.__audioread_load\n",
      "\tDeprecated as of librosa version 0.10.0.\n",
      "\tIt will be removed in librosa version 1.0.\n",
      "  y, sr_native = __audioread_load(path, offset, duration, dtype)\n"
     ]
    },
    {
     "name": "stdout",
     "output_type": "stream",
     "text": [
      "Error reading S12\n",
      "Error reading S13\n"
     ]
    },
    {
     "name": "stderr",
     "output_type": "stream",
     "text": [
      "/var/folders/9b/646lmqp56b53pz1fqqr9x5gw0000gn/T/ipykernel_85422/370983470.py:16: UserWarning: PySoundFile failed. Trying audioread instead.\n",
      "  stem_audio, _ = librosa.load(f\"{path}/stems/{stem}.wav\", sr=None)\n",
      "/Users/mariapolak/miniconda3/envs/mlme/lib/python3.11/site-packages/librosa/core/audio.py:184: FutureWarning: librosa.core.audio.__audioread_load\n",
      "\tDeprecated as of librosa version 0.10.0.\n",
      "\tIt will be removed in librosa version 1.0.\n",
      "  y, sr_native = __audioread_load(path, offset, duration, dtype)\n"
     ]
    },
    {
     "name": "stdout",
     "output_type": "stream",
     "text": [
      "Error reading S12\n",
      "Error reading S13\n"
     ]
    },
    {
     "name": "stderr",
     "output_type": "stream",
     "text": [
      "/var/folders/9b/646lmqp56b53pz1fqqr9x5gw0000gn/T/ipykernel_85422/370983470.py:16: UserWarning: PySoundFile failed. Trying audioread instead.\n",
      "  stem_audio, _ = librosa.load(f\"{path}/stems/{stem}.wav\", sr=None)\n",
      "/Users/mariapolak/miniconda3/envs/mlme/lib/python3.11/site-packages/librosa/core/audio.py:184: FutureWarning: librosa.core.audio.__audioread_load\n",
      "\tDeprecated as of librosa version 0.10.0.\n",
      "\tIt will be removed in librosa version 1.0.\n",
      "  y, sr_native = __audioread_load(path, offset, duration, dtype)\n"
     ]
    },
    {
     "name": "stdout",
     "output_type": "stream",
     "text": [
      "Error reading S12\n",
      "Error reading S13\n"
     ]
    },
    {
     "name": "stderr",
     "output_type": "stream",
     "text": [
      "/var/folders/9b/646lmqp56b53pz1fqqr9x5gw0000gn/T/ipykernel_85422/370983470.py:16: UserWarning: PySoundFile failed. Trying audioread instead.\n",
      "  stem_audio, _ = librosa.load(f\"{path}/stems/{stem}.wav\", sr=None)\n",
      "/Users/mariapolak/miniconda3/envs/mlme/lib/python3.11/site-packages/librosa/core/audio.py:184: FutureWarning: librosa.core.audio.__audioread_load\n",
      "\tDeprecated as of librosa version 0.10.0.\n",
      "\tIt will be removed in librosa version 1.0.\n",
      "  y, sr_native = __audioread_load(path, offset, duration, dtype)\n"
     ]
    },
    {
     "name": "stdout",
     "output_type": "stream",
     "text": [
      "Error reading S12\n",
      "Error reading S13\n"
     ]
    },
    {
     "name": "stderr",
     "output_type": "stream",
     "text": [
      "/var/folders/9b/646lmqp56b53pz1fqqr9x5gw0000gn/T/ipykernel_85422/370983470.py:16: UserWarning: PySoundFile failed. Trying audioread instead.\n",
      "  stem_audio, _ = librosa.load(f\"{path}/stems/{stem}.wav\", sr=None)\n",
      "/Users/mariapolak/miniconda3/envs/mlme/lib/python3.11/site-packages/librosa/core/audio.py:184: FutureWarning: librosa.core.audio.__audioread_load\n",
      "\tDeprecated as of librosa version 0.10.0.\n",
      "\tIt will be removed in librosa version 1.0.\n",
      "  y, sr_native = __audioread_load(path, offset, duration, dtype)\n"
     ]
    },
    {
     "name": "stdout",
     "output_type": "stream",
     "text": [
      "Error reading S12\n",
      "Error reading S13\n"
     ]
    },
    {
     "name": "stderr",
     "output_type": "stream",
     "text": [
      "/var/folders/9b/646lmqp56b53pz1fqqr9x5gw0000gn/T/ipykernel_85422/370983470.py:16: UserWarning: PySoundFile failed. Trying audioread instead.\n",
      "  stem_audio, _ = librosa.load(f\"{path}/stems/{stem}.wav\", sr=None)\n",
      "/Users/mariapolak/miniconda3/envs/mlme/lib/python3.11/site-packages/librosa/core/audio.py:184: FutureWarning: librosa.core.audio.__audioread_load\n",
      "\tDeprecated as of librosa version 0.10.0.\n",
      "\tIt will be removed in librosa version 1.0.\n",
      "  y, sr_native = __audioread_load(path, offset, duration, dtype)\n"
     ]
    },
    {
     "name": "stdout",
     "output_type": "stream",
     "text": [
      "Error reading S12\n",
      "Error reading S13\n"
     ]
    },
    {
     "name": "stderr",
     "output_type": "stream",
     "text": [
      "/var/folders/9b/646lmqp56b53pz1fqqr9x5gw0000gn/T/ipykernel_85422/370983470.py:16: UserWarning: PySoundFile failed. Trying audioread instead.\n",
      "  stem_audio, _ = librosa.load(f\"{path}/stems/{stem}.wav\", sr=None)\n",
      "/Users/mariapolak/miniconda3/envs/mlme/lib/python3.11/site-packages/librosa/core/audio.py:184: FutureWarning: librosa.core.audio.__audioread_load\n",
      "\tDeprecated as of librosa version 0.10.0.\n",
      "\tIt will be removed in librosa version 1.0.\n",
      "  y, sr_native = __audioread_load(path, offset, duration, dtype)\n"
     ]
    },
    {
     "name": "stdout",
     "output_type": "stream",
     "text": [
      "Error reading S12\n",
      "Error reading S13\n"
     ]
    },
    {
     "name": "stderr",
     "output_type": "stream",
     "text": [
      "/var/folders/9b/646lmqp56b53pz1fqqr9x5gw0000gn/T/ipykernel_85422/370983470.py:16: UserWarning: PySoundFile failed. Trying audioread instead.\n",
      "  stem_audio, _ = librosa.load(f\"{path}/stems/{stem}.wav\", sr=None)\n",
      "/Users/mariapolak/miniconda3/envs/mlme/lib/python3.11/site-packages/librosa/core/audio.py:184: FutureWarning: librosa.core.audio.__audioread_load\n",
      "\tDeprecated as of librosa version 0.10.0.\n",
      "\tIt will be removed in librosa version 1.0.\n",
      "  y, sr_native = __audioread_load(path, offset, duration, dtype)\n"
     ]
    },
    {
     "name": "stdout",
     "output_type": "stream",
     "text": [
      "Error reading S12\n",
      "Error reading S13\n"
     ]
    },
    {
     "name": "stderr",
     "output_type": "stream",
     "text": [
      "/var/folders/9b/646lmqp56b53pz1fqqr9x5gw0000gn/T/ipykernel_85422/370983470.py:16: UserWarning: PySoundFile failed. Trying audioread instead.\n",
      "  stem_audio, _ = librosa.load(f\"{path}/stems/{stem}.wav\", sr=None)\n",
      "/Users/mariapolak/miniconda3/envs/mlme/lib/python3.11/site-packages/librosa/core/audio.py:184: FutureWarning: librosa.core.audio.__audioread_load\n",
      "\tDeprecated as of librosa version 0.10.0.\n",
      "\tIt will be removed in librosa version 1.0.\n",
      "  y, sr_native = __audioread_load(path, offset, duration, dtype)\n"
     ]
    },
    {
     "name": "stdout",
     "output_type": "stream",
     "text": [
      "Error reading S12\n",
      "Error reading S13\n"
     ]
    },
    {
     "name": "stderr",
     "output_type": "stream",
     "text": [
      "/var/folders/9b/646lmqp56b53pz1fqqr9x5gw0000gn/T/ipykernel_85422/370983470.py:16: UserWarning: PySoundFile failed. Trying audioread instead.\n",
      "  stem_audio, _ = librosa.load(f\"{path}/stems/{stem}.wav\", sr=None)\n",
      "/Users/mariapolak/miniconda3/envs/mlme/lib/python3.11/site-packages/librosa/core/audio.py:184: FutureWarning: librosa.core.audio.__audioread_load\n",
      "\tDeprecated as of librosa version 0.10.0.\n",
      "\tIt will be removed in librosa version 1.0.\n",
      "  y, sr_native = __audioread_load(path, offset, duration, dtype)\n"
     ]
    },
    {
     "name": "stdout",
     "output_type": "stream",
     "text": [
      "Error reading S12\n",
      "Error reading S13\n"
     ]
    },
    {
     "name": "stderr",
     "output_type": "stream",
     "text": [
      "/var/folders/9b/646lmqp56b53pz1fqqr9x5gw0000gn/T/ipykernel_85422/370983470.py:16: UserWarning: PySoundFile failed. Trying audioread instead.\n",
      "  stem_audio, _ = librosa.load(f\"{path}/stems/{stem}.wav\", sr=None)\n",
      "/Users/mariapolak/miniconda3/envs/mlme/lib/python3.11/site-packages/librosa/core/audio.py:184: FutureWarning: librosa.core.audio.__audioread_load\n",
      "\tDeprecated as of librosa version 0.10.0.\n",
      "\tIt will be removed in librosa version 1.0.\n",
      "  y, sr_native = __audioread_load(path, offset, duration, dtype)\n"
     ]
    },
    {
     "name": "stdout",
     "output_type": "stream",
     "text": [
      "Error reading S12\n",
      "Error reading S13\n"
     ]
    },
    {
     "name": "stderr",
     "output_type": "stream",
     "text": [
      "/var/folders/9b/646lmqp56b53pz1fqqr9x5gw0000gn/T/ipykernel_85422/370983470.py:16: UserWarning: PySoundFile failed. Trying audioread instead.\n",
      "  stem_audio, _ = librosa.load(f\"{path}/stems/{stem}.wav\", sr=None)\n",
      "/Users/mariapolak/miniconda3/envs/mlme/lib/python3.11/site-packages/librosa/core/audio.py:184: FutureWarning: librosa.core.audio.__audioread_load\n",
      "\tDeprecated as of librosa version 0.10.0.\n",
      "\tIt will be removed in librosa version 1.0.\n",
      "  y, sr_native = __audioread_load(path, offset, duration, dtype)\n"
     ]
    },
    {
     "name": "stdout",
     "output_type": "stream",
     "text": [
      "Error reading S12\n",
      "Error reading S13\n"
     ]
    },
    {
     "name": "stderr",
     "output_type": "stream",
     "text": [
      "/var/folders/9b/646lmqp56b53pz1fqqr9x5gw0000gn/T/ipykernel_85422/370983470.py:16: UserWarning: PySoundFile failed. Trying audioread instead.\n",
      "  stem_audio, _ = librosa.load(f\"{path}/stems/{stem}.wav\", sr=None)\n",
      "/Users/mariapolak/miniconda3/envs/mlme/lib/python3.11/site-packages/librosa/core/audio.py:184: FutureWarning: librosa.core.audio.__audioread_load\n",
      "\tDeprecated as of librosa version 0.10.0.\n",
      "\tIt will be removed in librosa version 1.0.\n",
      "  y, sr_native = __audioread_load(path, offset, duration, dtype)\n"
     ]
    },
    {
     "name": "stdout",
     "output_type": "stream",
     "text": [
      "Error reading S12\n",
      "Error reading S13\n"
     ]
    },
    {
     "name": "stderr",
     "output_type": "stream",
     "text": [
      "/var/folders/9b/646lmqp56b53pz1fqqr9x5gw0000gn/T/ipykernel_85422/370983470.py:16: UserWarning: PySoundFile failed. Trying audioread instead.\n",
      "  stem_audio, _ = librosa.load(f\"{path}/stems/{stem}.wav\", sr=None)\n",
      "/Users/mariapolak/miniconda3/envs/mlme/lib/python3.11/site-packages/librosa/core/audio.py:184: FutureWarning: librosa.core.audio.__audioread_load\n",
      "\tDeprecated as of librosa version 0.10.0.\n",
      "\tIt will be removed in librosa version 1.0.\n",
      "  y, sr_native = __audioread_load(path, offset, duration, dtype)\n"
     ]
    },
    {
     "name": "stdout",
     "output_type": "stream",
     "text": [
      "Error reading S12\n",
      "Error reading S13\n"
     ]
    },
    {
     "name": "stderr",
     "output_type": "stream",
     "text": [
      "/var/folders/9b/646lmqp56b53pz1fqqr9x5gw0000gn/T/ipykernel_85422/370983470.py:16: UserWarning: PySoundFile failed. Trying audioread instead.\n",
      "  stem_audio, _ = librosa.load(f\"{path}/stems/{stem}.wav\", sr=None)\n",
      "/Users/mariapolak/miniconda3/envs/mlme/lib/python3.11/site-packages/librosa/core/audio.py:184: FutureWarning: librosa.core.audio.__audioread_load\n",
      "\tDeprecated as of librosa version 0.10.0.\n",
      "\tIt will be removed in librosa version 1.0.\n",
      "  y, sr_native = __audioread_load(path, offset, duration, dtype)\n"
     ]
    },
    {
     "name": "stdout",
     "output_type": "stream",
     "text": [
      "Error reading S12\n",
      "Error reading S13\n"
     ]
    },
    {
     "name": "stderr",
     "output_type": "stream",
     "text": [
      "/var/folders/9b/646lmqp56b53pz1fqqr9x5gw0000gn/T/ipykernel_85422/370983470.py:16: UserWarning: PySoundFile failed. Trying audioread instead.\n",
      "  stem_audio, _ = librosa.load(f\"{path}/stems/{stem}.wav\", sr=None)\n",
      "/Users/mariapolak/miniconda3/envs/mlme/lib/python3.11/site-packages/librosa/core/audio.py:184: FutureWarning: librosa.core.audio.__audioread_load\n",
      "\tDeprecated as of librosa version 0.10.0.\n",
      "\tIt will be removed in librosa version 1.0.\n",
      "  y, sr_native = __audioread_load(path, offset, duration, dtype)\n"
     ]
    },
    {
     "name": "stdout",
     "output_type": "stream",
     "text": [
      "Error reading S12\n",
      "Error reading S13\n"
     ]
    },
    {
     "name": "stderr",
     "output_type": "stream",
     "text": [
      "/var/folders/9b/646lmqp56b53pz1fqqr9x5gw0000gn/T/ipykernel_85422/370983470.py:16: UserWarning: PySoundFile failed. Trying audioread instead.\n",
      "  stem_audio, _ = librosa.load(f\"{path}/stems/{stem}.wav\", sr=None)\n",
      "/Users/mariapolak/miniconda3/envs/mlme/lib/python3.11/site-packages/librosa/core/audio.py:184: FutureWarning: librosa.core.audio.__audioread_load\n",
      "\tDeprecated as of librosa version 0.10.0.\n",
      "\tIt will be removed in librosa version 1.0.\n",
      "  y, sr_native = __audioread_load(path, offset, duration, dtype)\n"
     ]
    },
    {
     "name": "stdout",
     "output_type": "stream",
     "text": [
      "Error reading S12\n",
      "Error reading S13\n"
     ]
    },
    {
     "name": "stderr",
     "output_type": "stream",
     "text": [
      "/var/folders/9b/646lmqp56b53pz1fqqr9x5gw0000gn/T/ipykernel_85422/370983470.py:16: UserWarning: PySoundFile failed. Trying audioread instead.\n",
      "  stem_audio, _ = librosa.load(f\"{path}/stems/{stem}.wav\", sr=None)\n",
      "/Users/mariapolak/miniconda3/envs/mlme/lib/python3.11/site-packages/librosa/core/audio.py:184: FutureWarning: librosa.core.audio.__audioread_load\n",
      "\tDeprecated as of librosa version 0.10.0.\n",
      "\tIt will be removed in librosa version 1.0.\n",
      "  y, sr_native = __audioread_load(path, offset, duration, dtype)\n",
      "/var/folders/9b/646lmqp56b53pz1fqqr9x5gw0000gn/T/ipykernel_85422/370983470.py:16: UserWarning: PySoundFile failed. Trying audioread instead.\n",
      "  stem_audio, _ = librosa.load(f\"{path}/stems/{stem}.wav\", sr=None)\n",
      "/Users/mariapolak/miniconda3/envs/mlme/lib/python3.11/site-packages/librosa/core/audio.py:184: FutureWarning: librosa.core.audio.__audioread_load\n",
      "\tDeprecated as of librosa version 0.10.0.\n",
      "\tIt will be removed in librosa version 1.0.\n",
      "  y, sr_native = __audioread_load(path, offset, duration, dtype)\n"
     ]
    },
    {
     "name": "stdout",
     "output_type": "stream",
     "text": [
      "Error reading S12\n",
      "Error reading S13\n",
      "Error reading S12\n",
      "Error reading S13\n"
     ]
    },
    {
     "name": "stderr",
     "output_type": "stream",
     "text": [
      "/var/folders/9b/646lmqp56b53pz1fqqr9x5gw0000gn/T/ipykernel_85422/370983470.py:16: UserWarning: PySoundFile failed. Trying audioread instead.\n",
      "  stem_audio, _ = librosa.load(f\"{path}/stems/{stem}.wav\", sr=None)\n",
      "/Users/mariapolak/miniconda3/envs/mlme/lib/python3.11/site-packages/librosa/core/audio.py:184: FutureWarning: librosa.core.audio.__audioread_load\n",
      "\tDeprecated as of librosa version 0.10.0.\n",
      "\tIt will be removed in librosa version 1.0.\n",
      "  y, sr_native = __audioread_load(path, offset, duration, dtype)\n"
     ]
    },
    {
     "name": "stdout",
     "output_type": "stream",
     "text": [
      "Error reading S12\n",
      "Error reading S13\n"
     ]
    },
    {
     "name": "stderr",
     "output_type": "stream",
     "text": [
      "/var/folders/9b/646lmqp56b53pz1fqqr9x5gw0000gn/T/ipykernel_85422/370983470.py:16: UserWarning: PySoundFile failed. Trying audioread instead.\n",
      "  stem_audio, _ = librosa.load(f\"{path}/stems/{stem}.wav\", sr=None)\n",
      "/Users/mariapolak/miniconda3/envs/mlme/lib/python3.11/site-packages/librosa/core/audio.py:184: FutureWarning: librosa.core.audio.__audioread_load\n",
      "\tDeprecated as of librosa version 0.10.0.\n",
      "\tIt will be removed in librosa version 1.0.\n",
      "  y, sr_native = __audioread_load(path, offset, duration, dtype)\n"
     ]
    },
    {
     "name": "stdout",
     "output_type": "stream",
     "text": [
      "Error reading S12\n",
      "Error reading S13\n"
     ]
    },
    {
     "name": "stderr",
     "output_type": "stream",
     "text": [
      "/var/folders/9b/646lmqp56b53pz1fqqr9x5gw0000gn/T/ipykernel_85422/370983470.py:16: UserWarning: PySoundFile failed. Trying audioread instead.\n",
      "  stem_audio, _ = librosa.load(f\"{path}/stems/{stem}.wav\", sr=None)\n",
      "/Users/mariapolak/miniconda3/envs/mlme/lib/python3.11/site-packages/librosa/core/audio.py:184: FutureWarning: librosa.core.audio.__audioread_load\n",
      "\tDeprecated as of librosa version 0.10.0.\n",
      "\tIt will be removed in librosa version 1.0.\n",
      "  y, sr_native = __audioread_load(path, offset, duration, dtype)\n"
     ]
    },
    {
     "name": "stdout",
     "output_type": "stream",
     "text": [
      "Error reading S12\n",
      "Error reading S13\n"
     ]
    },
    {
     "name": "stderr",
     "output_type": "stream",
     "text": [
      "/var/folders/9b/646lmqp56b53pz1fqqr9x5gw0000gn/T/ipykernel_85422/370983470.py:16: UserWarning: PySoundFile failed. Trying audioread instead.\n",
      "  stem_audio, _ = librosa.load(f\"{path}/stems/{stem}.wav\", sr=None)\n",
      "/Users/mariapolak/miniconda3/envs/mlme/lib/python3.11/site-packages/librosa/core/audio.py:184: FutureWarning: librosa.core.audio.__audioread_load\n",
      "\tDeprecated as of librosa version 0.10.0.\n",
      "\tIt will be removed in librosa version 1.0.\n",
      "  y, sr_native = __audioread_load(path, offset, duration, dtype)\n"
     ]
    },
    {
     "name": "stdout",
     "output_type": "stream",
     "text": [
      "Error reading S12\n",
      "Error reading S13\n"
     ]
    },
    {
     "name": "stderr",
     "output_type": "stream",
     "text": [
      "/var/folders/9b/646lmqp56b53pz1fqqr9x5gw0000gn/T/ipykernel_85422/370983470.py:16: UserWarning: PySoundFile failed. Trying audioread instead.\n",
      "  stem_audio, _ = librosa.load(f\"{path}/stems/{stem}.wav\", sr=None)\n",
      "/Users/mariapolak/miniconda3/envs/mlme/lib/python3.11/site-packages/librosa/core/audio.py:184: FutureWarning: librosa.core.audio.__audioread_load\n",
      "\tDeprecated as of librosa version 0.10.0.\n",
      "\tIt will be removed in librosa version 1.0.\n",
      "  y, sr_native = __audioread_load(path, offset, duration, dtype)\n"
     ]
    },
    {
     "name": "stdout",
     "output_type": "stream",
     "text": [
      "Error reading S12\n",
      "Error reading S13\n"
     ]
    },
    {
     "name": "stderr",
     "output_type": "stream",
     "text": [
      "/var/folders/9b/646lmqp56b53pz1fqqr9x5gw0000gn/T/ipykernel_85422/370983470.py:16: UserWarning: PySoundFile failed. Trying audioread instead.\n",
      "  stem_audio, _ = librosa.load(f\"{path}/stems/{stem}.wav\", sr=None)\n",
      "/Users/mariapolak/miniconda3/envs/mlme/lib/python3.11/site-packages/librosa/core/audio.py:184: FutureWarning: librosa.core.audio.__audioread_load\n",
      "\tDeprecated as of librosa version 0.10.0.\n",
      "\tIt will be removed in librosa version 1.0.\n",
      "  y, sr_native = __audioread_load(path, offset, duration, dtype)\n"
     ]
    },
    {
     "name": "stdout",
     "output_type": "stream",
     "text": [
      "Error reading S12\n",
      "Error reading S13\n"
     ]
    },
    {
     "name": "stderr",
     "output_type": "stream",
     "text": [
      "/var/folders/9b/646lmqp56b53pz1fqqr9x5gw0000gn/T/ipykernel_85422/370983470.py:16: UserWarning: PySoundFile failed. Trying audioread instead.\n",
      "  stem_audio, _ = librosa.load(f\"{path}/stems/{stem}.wav\", sr=None)\n",
      "/Users/mariapolak/miniconda3/envs/mlme/lib/python3.11/site-packages/librosa/core/audio.py:184: FutureWarning: librosa.core.audio.__audioread_load\n",
      "\tDeprecated as of librosa version 0.10.0.\n",
      "\tIt will be removed in librosa version 1.0.\n",
      "  y, sr_native = __audioread_load(path, offset, duration, dtype)\n"
     ]
    },
    {
     "name": "stdout",
     "output_type": "stream",
     "text": [
      "Error reading S12\n",
      "Error reading S13\n"
     ]
    },
    {
     "name": "stderr",
     "output_type": "stream",
     "text": [
      "/var/folders/9b/646lmqp56b53pz1fqqr9x5gw0000gn/T/ipykernel_85422/370983470.py:16: UserWarning: PySoundFile failed. Trying audioread instead.\n",
      "  stem_audio, _ = librosa.load(f\"{path}/stems/{stem}.wav\", sr=None)\n",
      "/Users/mariapolak/miniconda3/envs/mlme/lib/python3.11/site-packages/librosa/core/audio.py:184: FutureWarning: librosa.core.audio.__audioread_load\n",
      "\tDeprecated as of librosa version 0.10.0.\n",
      "\tIt will be removed in librosa version 1.0.\n",
      "  y, sr_native = __audioread_load(path, offset, duration, dtype)\n"
     ]
    },
    {
     "name": "stdout",
     "output_type": "stream",
     "text": [
      "Error reading S12\n",
      "Error reading S13\n"
     ]
    },
    {
     "name": "stderr",
     "output_type": "stream",
     "text": [
      "/var/folders/9b/646lmqp56b53pz1fqqr9x5gw0000gn/T/ipykernel_85422/370983470.py:16: UserWarning: PySoundFile failed. Trying audioread instead.\n",
      "  stem_audio, _ = librosa.load(f\"{path}/stems/{stem}.wav\", sr=None)\n",
      "/Users/mariapolak/miniconda3/envs/mlme/lib/python3.11/site-packages/librosa/core/audio.py:184: FutureWarning: librosa.core.audio.__audioread_load\n",
      "\tDeprecated as of librosa version 0.10.0.\n",
      "\tIt will be removed in librosa version 1.0.\n",
      "  y, sr_native = __audioread_load(path, offset, duration, dtype)\n"
     ]
    },
    {
     "name": "stdout",
     "output_type": "stream",
     "text": [
      "Error reading S12\n",
      "Error reading S13\n"
     ]
    },
    {
     "name": "stderr",
     "output_type": "stream",
     "text": [
      "/var/folders/9b/646lmqp56b53pz1fqqr9x5gw0000gn/T/ipykernel_85422/370983470.py:16: UserWarning: PySoundFile failed. Trying audioread instead.\n",
      "  stem_audio, _ = librosa.load(f\"{path}/stems/{stem}.wav\", sr=None)\n",
      "/Users/mariapolak/miniconda3/envs/mlme/lib/python3.11/site-packages/librosa/core/audio.py:184: FutureWarning: librosa.core.audio.__audioread_load\n",
      "\tDeprecated as of librosa version 0.10.0.\n",
      "\tIt will be removed in librosa version 1.0.\n",
      "  y, sr_native = __audioread_load(path, offset, duration, dtype)\n"
     ]
    },
    {
     "name": "stdout",
     "output_type": "stream",
     "text": [
      "Error reading S12\n",
      "Error reading S13\n"
     ]
    },
    {
     "name": "stderr",
     "output_type": "stream",
     "text": [
      "/var/folders/9b/646lmqp56b53pz1fqqr9x5gw0000gn/T/ipykernel_85422/370983470.py:16: UserWarning: PySoundFile failed. Trying audioread instead.\n",
      "  stem_audio, _ = librosa.load(f\"{path}/stems/{stem}.wav\", sr=None)\n",
      "/Users/mariapolak/miniconda3/envs/mlme/lib/python3.11/site-packages/librosa/core/audio.py:184: FutureWarning: librosa.core.audio.__audioread_load\n",
      "\tDeprecated as of librosa version 0.10.0.\n",
      "\tIt will be removed in librosa version 1.0.\n",
      "  y, sr_native = __audioread_load(path, offset, duration, dtype)\n"
     ]
    },
    {
     "name": "stdout",
     "output_type": "stream",
     "text": [
      "Error reading S12\n",
      "Error reading S13\n"
     ]
    },
    {
     "name": "stderr",
     "output_type": "stream",
     "text": [
      "/var/folders/9b/646lmqp56b53pz1fqqr9x5gw0000gn/T/ipykernel_85422/370983470.py:16: UserWarning: PySoundFile failed. Trying audioread instead.\n",
      "  stem_audio, _ = librosa.load(f\"{path}/stems/{stem}.wav\", sr=None)\n",
      "/Users/mariapolak/miniconda3/envs/mlme/lib/python3.11/site-packages/librosa/core/audio.py:184: FutureWarning: librosa.core.audio.__audioread_load\n",
      "\tDeprecated as of librosa version 0.10.0.\n",
      "\tIt will be removed in librosa version 1.0.\n",
      "  y, sr_native = __audioread_load(path, offset, duration, dtype)\n"
     ]
    },
    {
     "name": "stdout",
     "output_type": "stream",
     "text": [
      "Error reading S12\n",
      "Error reading S13\n"
     ]
    },
    {
     "name": "stderr",
     "output_type": "stream",
     "text": [
      "/var/folders/9b/646lmqp56b53pz1fqqr9x5gw0000gn/T/ipykernel_85422/370983470.py:16: UserWarning: PySoundFile failed. Trying audioread instead.\n",
      "  stem_audio, _ = librosa.load(f\"{path}/stems/{stem}.wav\", sr=None)\n",
      "/Users/mariapolak/miniconda3/envs/mlme/lib/python3.11/site-packages/librosa/core/audio.py:184: FutureWarning: librosa.core.audio.__audioread_load\n",
      "\tDeprecated as of librosa version 0.10.0.\n",
      "\tIt will be removed in librosa version 1.0.\n",
      "  y, sr_native = __audioread_load(path, offset, duration, dtype)\n"
     ]
    },
    {
     "name": "stdout",
     "output_type": "stream",
     "text": [
      "Error reading S12\n",
      "Error reading S13\n"
     ]
    },
    {
     "name": "stderr",
     "output_type": "stream",
     "text": [
      "/var/folders/9b/646lmqp56b53pz1fqqr9x5gw0000gn/T/ipykernel_85422/370983470.py:16: UserWarning: PySoundFile failed. Trying audioread instead.\n",
      "  stem_audio, _ = librosa.load(f\"{path}/stems/{stem}.wav\", sr=None)\n",
      "/Users/mariapolak/miniconda3/envs/mlme/lib/python3.11/site-packages/librosa/core/audio.py:184: FutureWarning: librosa.core.audio.__audioread_load\n",
      "\tDeprecated as of librosa version 0.10.0.\n",
      "\tIt will be removed in librosa version 1.0.\n",
      "  y, sr_native = __audioread_load(path, offset, duration, dtype)\n"
     ]
    },
    {
     "name": "stdout",
     "output_type": "stream",
     "text": [
      "Error reading S12\n",
      "Error reading S13\n"
     ]
    },
    {
     "name": "stderr",
     "output_type": "stream",
     "text": [
      "/var/folders/9b/646lmqp56b53pz1fqqr9x5gw0000gn/T/ipykernel_85422/370983470.py:16: UserWarning: PySoundFile failed. Trying audioread instead.\n",
      "  stem_audio, _ = librosa.load(f\"{path}/stems/{stem}.wav\", sr=None)\n",
      "/Users/mariapolak/miniconda3/envs/mlme/lib/python3.11/site-packages/librosa/core/audio.py:184: FutureWarning: librosa.core.audio.__audioread_load\n",
      "\tDeprecated as of librosa version 0.10.0.\n",
      "\tIt will be removed in librosa version 1.0.\n",
      "  y, sr_native = __audioread_load(path, offset, duration, dtype)\n"
     ]
    },
    {
     "name": "stdout",
     "output_type": "stream",
     "text": [
      "Error reading S12\n",
      "Error reading S13\n"
     ]
    },
    {
     "name": "stderr",
     "output_type": "stream",
     "text": [
      "/var/folders/9b/646lmqp56b53pz1fqqr9x5gw0000gn/T/ipykernel_85422/370983470.py:16: UserWarning: PySoundFile failed. Trying audioread instead.\n",
      "  stem_audio, _ = librosa.load(f\"{path}/stems/{stem}.wav\", sr=None)\n",
      "/Users/mariapolak/miniconda3/envs/mlme/lib/python3.11/site-packages/librosa/core/audio.py:184: FutureWarning: librosa.core.audio.__audioread_load\n",
      "\tDeprecated as of librosa version 0.10.0.\n",
      "\tIt will be removed in librosa version 1.0.\n",
      "  y, sr_native = __audioread_load(path, offset, duration, dtype)\n"
     ]
    },
    {
     "name": "stdout",
     "output_type": "stream",
     "text": [
      "Error reading S12\n",
      "Error reading S13\n"
     ]
    },
    {
     "name": "stderr",
     "output_type": "stream",
     "text": [
      "/var/folders/9b/646lmqp56b53pz1fqqr9x5gw0000gn/T/ipykernel_85422/370983470.py:16: UserWarning: PySoundFile failed. Trying audioread instead.\n",
      "  stem_audio, _ = librosa.load(f\"{path}/stems/{stem}.wav\", sr=None)\n",
      "/Users/mariapolak/miniconda3/envs/mlme/lib/python3.11/site-packages/librosa/core/audio.py:184: FutureWarning: librosa.core.audio.__audioread_load\n",
      "\tDeprecated as of librosa version 0.10.0.\n",
      "\tIt will be removed in librosa version 1.0.\n",
      "  y, sr_native = __audioread_load(path, offset, duration, dtype)\n"
     ]
    },
    {
     "name": "stdout",
     "output_type": "stream",
     "text": [
      "Error reading S12\n",
      "Error reading S13\n"
     ]
    },
    {
     "name": "stderr",
     "output_type": "stream",
     "text": [
      "/var/folders/9b/646lmqp56b53pz1fqqr9x5gw0000gn/T/ipykernel_85422/370983470.py:16: UserWarning: PySoundFile failed. Trying audioread instead.\n",
      "  stem_audio, _ = librosa.load(f\"{path}/stems/{stem}.wav\", sr=None)\n",
      "/Users/mariapolak/miniconda3/envs/mlme/lib/python3.11/site-packages/librosa/core/audio.py:184: FutureWarning: librosa.core.audio.__audioread_load\n",
      "\tDeprecated as of librosa version 0.10.0.\n",
      "\tIt will be removed in librosa version 1.0.\n",
      "  y, sr_native = __audioread_load(path, offset, duration, dtype)\n"
     ]
    },
    {
     "name": "stdout",
     "output_type": "stream",
     "text": [
      "Error reading S12\n",
      "Error reading S13\n"
     ]
    },
    {
     "name": "stderr",
     "output_type": "stream",
     "text": [
      "/var/folders/9b/646lmqp56b53pz1fqqr9x5gw0000gn/T/ipykernel_85422/370983470.py:16: UserWarning: PySoundFile failed. Trying audioread instead.\n",
      "  stem_audio, _ = librosa.load(f\"{path}/stems/{stem}.wav\", sr=None)\n",
      "/Users/mariapolak/miniconda3/envs/mlme/lib/python3.11/site-packages/librosa/core/audio.py:184: FutureWarning: librosa.core.audio.__audioread_load\n",
      "\tDeprecated as of librosa version 0.10.0.\n",
      "\tIt will be removed in librosa version 1.0.\n",
      "  y, sr_native = __audioread_load(path, offset, duration, dtype)\n"
     ]
    },
    {
     "name": "stdout",
     "output_type": "stream",
     "text": [
      "Error reading S12\n",
      "Error reading S13\n"
     ]
    },
    {
     "name": "stderr",
     "output_type": "stream",
     "text": [
      "/var/folders/9b/646lmqp56b53pz1fqqr9x5gw0000gn/T/ipykernel_85422/370983470.py:16: UserWarning: PySoundFile failed. Trying audioread instead.\n",
      "  stem_audio, _ = librosa.load(f\"{path}/stems/{stem}.wav\", sr=None)\n",
      "/Users/mariapolak/miniconda3/envs/mlme/lib/python3.11/site-packages/librosa/core/audio.py:184: FutureWarning: librosa.core.audio.__audioread_load\n",
      "\tDeprecated as of librosa version 0.10.0.\n",
      "\tIt will be removed in librosa version 1.0.\n",
      "  y, sr_native = __audioread_load(path, offset, duration, dtype)\n"
     ]
    },
    {
     "name": "stdout",
     "output_type": "stream",
     "text": [
      "Error reading S12\n",
      "Error reading S13\n"
     ]
    },
    {
     "name": "stderr",
     "output_type": "stream",
     "text": [
      "/var/folders/9b/646lmqp56b53pz1fqqr9x5gw0000gn/T/ipykernel_85422/370983470.py:16: UserWarning: PySoundFile failed. Trying audioread instead.\n",
      "  stem_audio, _ = librosa.load(f\"{path}/stems/{stem}.wav\", sr=None)\n",
      "/Users/mariapolak/miniconda3/envs/mlme/lib/python3.11/site-packages/librosa/core/audio.py:184: FutureWarning: librosa.core.audio.__audioread_load\n",
      "\tDeprecated as of librosa version 0.10.0.\n",
      "\tIt will be removed in librosa version 1.0.\n",
      "  y, sr_native = __audioread_load(path, offset, duration, dtype)\n"
     ]
    },
    {
     "name": "stdout",
     "output_type": "stream",
     "text": [
      "Error reading S12\n",
      "Error reading S13\n"
     ]
    },
    {
     "name": "stderr",
     "output_type": "stream",
     "text": [
      "/var/folders/9b/646lmqp56b53pz1fqqr9x5gw0000gn/T/ipykernel_85422/370983470.py:16: UserWarning: PySoundFile failed. Trying audioread instead.\n",
      "  stem_audio, _ = librosa.load(f\"{path}/stems/{stem}.wav\", sr=None)\n",
      "/Users/mariapolak/miniconda3/envs/mlme/lib/python3.11/site-packages/librosa/core/audio.py:184: FutureWarning: librosa.core.audio.__audioread_load\n",
      "\tDeprecated as of librosa version 0.10.0.\n",
      "\tIt will be removed in librosa version 1.0.\n",
      "  y, sr_native = __audioread_load(path, offset, duration, dtype)\n"
     ]
    },
    {
     "name": "stdout",
     "output_type": "stream",
     "text": [
      "Error reading S12\n",
      "Error reading S13\n"
     ]
    },
    {
     "name": "stderr",
     "output_type": "stream",
     "text": [
      "/var/folders/9b/646lmqp56b53pz1fqqr9x5gw0000gn/T/ipykernel_85422/370983470.py:16: UserWarning: PySoundFile failed. Trying audioread instead.\n",
      "  stem_audio, _ = librosa.load(f\"{path}/stems/{stem}.wav\", sr=None)\n",
      "/Users/mariapolak/miniconda3/envs/mlme/lib/python3.11/site-packages/librosa/core/audio.py:184: FutureWarning: librosa.core.audio.__audioread_load\n",
      "\tDeprecated as of librosa version 0.10.0.\n",
      "\tIt will be removed in librosa version 1.0.\n",
      "  y, sr_native = __audioread_load(path, offset, duration, dtype)\n"
     ]
    },
    {
     "name": "stdout",
     "output_type": "stream",
     "text": [
      "Error reading S12\n",
      "Error reading S13\n"
     ]
    },
    {
     "name": "stderr",
     "output_type": "stream",
     "text": [
      "/var/folders/9b/646lmqp56b53pz1fqqr9x5gw0000gn/T/ipykernel_85422/370983470.py:16: UserWarning: PySoundFile failed. Trying audioread instead.\n",
      "  stem_audio, _ = librosa.load(f\"{path}/stems/{stem}.wav\", sr=None)\n",
      "/Users/mariapolak/miniconda3/envs/mlme/lib/python3.11/site-packages/librosa/core/audio.py:184: FutureWarning: librosa.core.audio.__audioread_load\n",
      "\tDeprecated as of librosa version 0.10.0.\n",
      "\tIt will be removed in librosa version 1.0.\n",
      "  y, sr_native = __audioread_load(path, offset, duration, dtype)\n"
     ]
    },
    {
     "name": "stdout",
     "output_type": "stream",
     "text": [
      "Error reading S12\n",
      "Error reading S13\n",
      "Processing: datasets/babyslakh_16k/Track00020\n"
     ]
    }
   ],
   "source": [
    "directory = 'datasets/babyslakh_16k/'\n",
    "subdirs = [x[1] for x in os.walk(directory)][0]\n",
    "\n",
    "# For each subdir: load mix.wav, metadata.yaml \n",
    "df = pd.DataFrame(columns=['png_path', 'label'])\n",
    "\n",
    "for subdir in subdirs:\n",
    "    path = directory + subdir\n",
    "    print(\"Processing: \" + path)\n",
    "    \n",
    "\n",
    "    mix, sr = librosa.load(path + '/mix.wav', sr=None) # Load the mix\n",
    "    metadata = read_metadata(path + '/metadata.yaml') # read yaml file\n",
    "\n",
    "    df = process_mix(df, metadata, mix, sr, path=path, name=subdir)\n",
    "\n",
    "df.to_csv(f\"datasets/custom/data.csv\", index=False)"
   ]
  },
  {
   "cell_type": "code",
   "execution_count": null,
   "metadata": {},
   "outputs": [],
   "source": [
    "    \n",
    "# Load the one-hot encoding and the mix\n",
    "# Create a model that takes the mix as input and outputs the one-hot encoding\n",
    "# Train the model\n",
    "# Save the model\n",
    "# Load the model\n",
    "# Test the model\n",
    "# Save the test results\n",
    "# Load the test results\n",
    "# Plot"
   ]
  },
  {
   "cell_type": "code",
   "execution_count": null,
   "metadata": {},
   "outputs": [],
   "source": [
    "import pandas as pd\n",
    "\n",
    "# Load labels from a CSV file\n",
    "labels_df = pd.read_csv('path/to/your/labels.csv')\n",
    "\n",
    "# Example structure of labels_df\n",
    "# | filename         | guitar | piano | vocals | drums | violin |\n",
    "# |------------------|--------|-------|--------|-------|--------|\n",
    "# | file1.wav        | 1      | 0     | 1      | 0     | 0      |\n",
    "# | file2.wav        | 0      | 1     | 0      | 1     | 0      |\n"
   ]
  },
  {
   "cell_type": "markdown",
   "metadata": {},
   "source": [
    "Code from copilot"
   ]
  },
  {
   "cell_type": "code",
   "execution_count": null,
   "metadata": {},
   "outputs": [],
   "source": [
    "import os\n",
    "import numpy as np\n",
    "import pandas as pd\n",
    "import librosa\n",
    "\n",
    "# Function to load an audio file and convert it to a spectrogram\n",
    "def load_audio_file(file_path):\n",
    "    y, sr = librosa.load(file_path, sr=None)\n",
    "    S = librosa.feature.melspectrogram(y, sr=sr)\n",
    "    S_dB = librosa.power_to_db(S, ref=np.max)\n",
    "    return S_dB\n",
    "\n",
    "# Load labels from a CSV file\n",
    "labels_df = pd.read_csv('path/to/your/labels.csv')\n",
    "\n",
    "# Directory containing audio files\n",
    "audio_dir = 'path/to/your/audio/files'\n",
    "\n",
    "# Initialize lists to hold data and labels\n",
    "data = []\n",
    "labels = []\n",
    "\n",
    "# Iterate over each row in the labels DataFrame\n",
    "for index, row in labels_df.iterrows():\n",
    "    file_path = os.path.join(audio_dir, row['filename'])\n",
    "    spectrogram = load_audio_file(file_path)\n",
    "    data.append(spectrogram)\n",
    "    labels.append(row[1:].values)\n",
    "\n",
    "# Convert lists to numpy arrays\n",
    "data = np.array(data)\n",
    "labels = np.array(labels)\n",
    "\n",
    "# Reshape data to add a channel dimension\n",
    "data = data[..., np.newaxis]\n",
    "\n",
    "# Example shapes\n",
    "print(data.shape)  # (num_samples, height, width, 1)\n",
    "print(labels.shape)  # (num_samples, num_classes)\n"
   ]
  }
 ],
 "metadata": {
  "kernelspec": {
   "display_name": "mlme",
   "language": "python",
   "name": "python3"
  },
  "language_info": {
   "codemirror_mode": {
    "name": "ipython",
    "version": 3
   },
   "file_extension": ".py",
   "mimetype": "text/x-python",
   "name": "python",
   "nbconvert_exporter": "python",
   "pygments_lexer": "ipython3",
   "version": "3.11.10"
  }
 },
 "nbformat": 4,
 "nbformat_minor": 2
}
